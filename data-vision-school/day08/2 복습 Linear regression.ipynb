{
 "cells": [
  {
   "cell_type": "markdown",
   "metadata": {},
   "source": [
    "import np,pd,plt"
   ]
  },
  {
   "cell_type": "code",
   "execution_count": 1,
   "metadata": {},
   "outputs": [],
   "source": [
    "import numpy as np\n",
    "import pandas as pd\n",
    "import matplotlib.pyplot as plt\n"
   ]
  },
  {
   "cell_type": "code",
   "execution_count": 60,
   "metadata": {},
   "outputs": [],
   "source": [
    "df = pd.read_csv('Data.csv')"
   ]
  },
  {
   "cell_type": "code",
   "execution_count": 3,
   "metadata": {},
   "outputs": [
    {
     "data": {
      "text/html": "<div>\n<style scoped>\n    .dataframe tbody tr th:only-of-type {\n        vertical-align: middle;\n    }\n\n    .dataframe tbody tr th {\n        vertical-align: top;\n    }\n\n    .dataframe thead th {\n        text-align: right;\n    }\n</style>\n<table border=\"1\" class=\"dataframe\">\n  <thead>\n    <tr style=\"text-align: right;\">\n      <th></th>\n      <th>Country</th>\n      <th>Age</th>\n      <th>Salary</th>\n      <th>Purchased</th>\n    </tr>\n  </thead>\n  <tbody>\n    <tr>\n      <th>0</th>\n      <td>France</td>\n      <td>44.0</td>\n      <td>72000.0</td>\n      <td>No</td>\n    </tr>\n    <tr>\n      <th>1</th>\n      <td>Spain</td>\n      <td>27.0</td>\n      <td>48000.0</td>\n      <td>Yes</td>\n    </tr>\n    <tr>\n      <th>2</th>\n      <td>Germany</td>\n      <td>30.0</td>\n      <td>54000.0</td>\n      <td>No</td>\n    </tr>\n    <tr>\n      <th>3</th>\n      <td>Spain</td>\n      <td>38.0</td>\n      <td>61000.0</td>\n      <td>No</td>\n    </tr>\n    <tr>\n      <th>4</th>\n      <td>Germany</td>\n      <td>40.0</td>\n      <td>NaN</td>\n      <td>Yes</td>\n    </tr>\n    <tr>\n      <th>5</th>\n      <td>France</td>\n      <td>35.0</td>\n      <td>58000.0</td>\n      <td>Yes</td>\n    </tr>\n    <tr>\n      <th>6</th>\n      <td>Spain</td>\n      <td>NaN</td>\n      <td>52000.0</td>\n      <td>No</td>\n    </tr>\n    <tr>\n      <th>7</th>\n      <td>France</td>\n      <td>48.0</td>\n      <td>79000.0</td>\n      <td>Yes</td>\n    </tr>\n    <tr>\n      <th>8</th>\n      <td>Germany</td>\n      <td>50.0</td>\n      <td>83000.0</td>\n      <td>No</td>\n    </tr>\n    <tr>\n      <th>9</th>\n      <td>France</td>\n      <td>37.0</td>\n      <td>67000.0</td>\n      <td>Yes</td>\n    </tr>\n  </tbody>\n</table>\n</div>",
      "text/plain": "   Country   Age   Salary Purchased\n0   France  44.0  72000.0        No\n1    Spain  27.0  48000.0       Yes\n2  Germany  30.0  54000.0        No\n3    Spain  38.0  61000.0        No\n4  Germany  40.0      NaN       Yes\n5   France  35.0  58000.0       Yes\n6    Spain   NaN  52000.0        No\n7   France  48.0  79000.0       Yes\n8  Germany  50.0  83000.0        No\n9   France  37.0  67000.0       Yes"
     },
     "execution_count": 3,
     "metadata": {},
     "output_type": "execute_result"
    }
   ],
   "source": [
    "df\n",
    "# 여기에서 Country 컬럼이 categorical 데이터임을 확인"
   ]
  },
  {
   "cell_type": "markdown",
   "metadata": {},
   "source": [
    "1. NaN데이터 처리 isna()"
   ]
  },
  {
   "cell_type": "code",
   "execution_count": 61,
   "metadata": {},
   "outputs": [
    {
     "data": {
      "text/plain": "Country      0\nAge          1\nSalary       1\nPurchased    0\ndtype: int64"
     },
     "execution_count": 61,
     "metadata": {},
     "output_type": "execute_result"
    }
   ],
   "source": [
    "df.isna().sum()"
   ]
  },
  {
   "cell_type": "markdown",
   "metadata": {},
   "source": [
    "1-1 dropna() 컬럼으로 하면 안됨axis=1"
   ]
  },
  {
   "cell_type": "code",
   "execution_count": 59,
   "metadata": {},
   "outputs": [
    {
     "data": {
      "text/html": "<div>\n<style scoped>\n    .dataframe tbody tr th:only-of-type {\n        vertical-align: middle;\n    }\n\n    .dataframe tbody tr th {\n        vertical-align: top;\n    }\n\n    .dataframe thead th {\n        text-align: right;\n    }\n</style>\n<table border=\"1\" class=\"dataframe\">\n  <thead>\n    <tr style=\"text-align: right;\">\n      <th></th>\n      <th>Country</th>\n      <th>Age</th>\n      <th>Salary</th>\n      <th>Purchased</th>\n    </tr>\n  </thead>\n  <tbody>\n    <tr>\n      <th>0</th>\n      <td>France</td>\n      <td>44.0</td>\n      <td>72000.0</td>\n      <td>No</td>\n    </tr>\n    <tr>\n      <th>1</th>\n      <td>Spain</td>\n      <td>27.0</td>\n      <td>48000.0</td>\n      <td>Yes</td>\n    </tr>\n    <tr>\n      <th>2</th>\n      <td>Germany</td>\n      <td>30.0</td>\n      <td>54000.0</td>\n      <td>No</td>\n    </tr>\n    <tr>\n      <th>3</th>\n      <td>Spain</td>\n      <td>38.0</td>\n      <td>61000.0</td>\n      <td>No</td>\n    </tr>\n    <tr>\n      <th>5</th>\n      <td>France</td>\n      <td>35.0</td>\n      <td>58000.0</td>\n      <td>Yes</td>\n    </tr>\n    <tr>\n      <th>7</th>\n      <td>France</td>\n      <td>48.0</td>\n      <td>79000.0</td>\n      <td>Yes</td>\n    </tr>\n    <tr>\n      <th>8</th>\n      <td>Germany</td>\n      <td>50.0</td>\n      <td>83000.0</td>\n      <td>No</td>\n    </tr>\n    <tr>\n      <th>9</th>\n      <td>France</td>\n      <td>37.0</td>\n      <td>67000.0</td>\n      <td>Yes</td>\n    </tr>\n  </tbody>\n</table>\n</div>",
      "text/plain": "   Country   Age   Salary Purchased\n0   France  44.0  72000.0        No\n1    Spain  27.0  48000.0       Yes\n2  Germany  30.0  54000.0        No\n3    Spain  38.0  61000.0        No\n5   France  35.0  58000.0       Yes\n7   France  48.0  79000.0       Yes\n8  Germany  50.0  83000.0        No\n9   France  37.0  67000.0       Yes"
     },
     "execution_count": 59,
     "metadata": {},
     "output_type": "execute_result"
    }
   ],
   "source": [
    "df.dropna(axis = 0)\n",
    "# 행으로만 지우기"
   ]
  },
  {
   "cell_type": "markdown",
   "metadata": {},
   "source": [
    "1-2 fillna() 채우기 mean()활용"
   ]
  },
  {
   "cell_type": "code",
   "execution_count": 6,
   "metadata": {},
   "outputs": [
    {
     "data": {
      "text/plain": "Age          38.777778\nSalary    63777.777778\ndtype: float64"
     },
     "execution_count": 6,
     "metadata": {},
     "output_type": "execute_result"
    }
   ],
   "source": [
    "#평균값으로 채우기\n",
    "df.mean()"
   ]
  },
  {
   "cell_type": "code",
   "execution_count": 62,
   "metadata": {},
   "outputs": [],
   "source": [
    "df.fillna(df.mean(), inplace=True)"
   ]
  },
  {
   "cell_type": "markdown",
   "metadata": {},
   "source": [
    "2. X,y 데이터 분리"
   ]
  },
  {
   "cell_type": "code",
   "execution_count": 8,
   "metadata": {},
   "outputs": [],
   "source": [
    "#df에서 Country컬럼과 Age, Salary은 학습시킬 데이터가 된다\n",
    "# x가 됨\n",
    "\n",
    "#df 에서 Purchased 컬럼을 학습 (예측)결과로 사용할 것임\n",
    "# y가 된다. 레이블링 변수라고도 함"
   ]
  },
  {
   "cell_type": "code",
   "execution_count": 63,
   "metadata": {},
   "outputs": [],
   "source": [
    "X = df.iloc[ :, 0:2+1]  #뒤의 슬라이싱은 포함안하므로 +1\n"
   ]
  },
  {
   "cell_type": "code",
   "execution_count": 10,
   "metadata": {},
   "outputs": [
    {
     "data": {
      "text/html": "<div>\n<style scoped>\n    .dataframe tbody tr th:only-of-type {\n        vertical-align: middle;\n    }\n\n    .dataframe tbody tr th {\n        vertical-align: top;\n    }\n\n    .dataframe thead th {\n        text-align: right;\n    }\n</style>\n<table border=\"1\" class=\"dataframe\">\n  <thead>\n    <tr style=\"text-align: right;\">\n      <th></th>\n      <th>Country</th>\n      <th>Age</th>\n      <th>Salary</th>\n    </tr>\n  </thead>\n  <tbody>\n    <tr>\n      <th>0</th>\n      <td>France</td>\n      <td>44.0</td>\n      <td>72000.0</td>\n    </tr>\n    <tr>\n      <th>1</th>\n      <td>Spain</td>\n      <td>27.0</td>\n      <td>48000.0</td>\n    </tr>\n  </tbody>\n</table>\n</div>",
      "text/plain": "  Country   Age   Salary\n0  France  44.0  72000.0\n1   Spain  27.0  48000.0"
     },
     "execution_count": 10,
     "metadata": {},
     "output_type": "execute_result"
    }
   ],
   "source": [
    "X.head(2)"
   ]
  },
  {
   "cell_type": "code",
   "execution_count": 64,
   "metadata": {},
   "outputs": [],
   "source": [
    "y = df.iloc[ :, -1]"
   ]
  },
  {
   "cell_type": "code",
   "execution_count": 12,
   "metadata": {},
   "outputs": [
    {
     "data": {
      "text/plain": "0     No\n1    Yes\nName: Purchased, dtype: object"
     },
     "execution_count": 12,
     "metadata": {},
     "output_type": "execute_result"
    }
   ],
   "source": [
    "y.head(2)"
   ]
  },
  {
   "cell_type": "markdown",
   "metadata": {},
   "source": [
    "3. covert from string to number 컴퓨터가 이해할 수 있게 문자열에서 숫자로 바꾸기\n",
    "Label Encoding"
   ]
  },
  {
   "cell_type": "markdown",
   "metadata": {},
   "source": [
    "3-1 Label Encoding"
   ]
  },
  {
   "cell_type": "code",
   "execution_count": 13,
   "metadata": {},
   "outputs": [],
   "source": [
    "# 먼저 Label Encoding 방식으로 숫자로 바꿔줌\n",
    "# 숫자가 아닌 데이터 중 (문자열) 카테고리컬 문자를 숫자로 바꿔줌"
   ]
  },
  {
   "cell_type": "markdown",
   "metadata": {},
   "source": [
    "LabelEncoder, OneHotEncoder 불러오기"
   ]
  },
  {
   "cell_type": "code",
   "execution_count": 14,
   "metadata": {},
   "outputs": [],
   "source": [
    "from sklearn.preprocessing import LabelEncoder, OneHotEncoder"
   ]
  },
  {
   "cell_type": "code",
   "execution_count": 65,
   "metadata": {},
   "outputs": [],
   "source": [
    "# 인스턴스\n",
    "label_X = LabelEncoder()"
   ]
  },
  {
   "cell_type": "markdown",
   "metadata": {},
   "source": [
    "fit_transform( X[컬럼]) Label Encoding"
   ]
  },
  {
   "cell_type": "code",
   "execution_count": 66,
   "metadata": {},
   "outputs": [
    {
     "data": {
      "text/plain": "array([0, 2, 1, 2, 1, 0, 2, 0, 1, 0])"
     },
     "execution_count": 66,
     "metadata": {},
     "output_type": "execute_result"
    }
   ],
   "source": [
    "# 위에서 data학습용으로 만든 X에서 Country컬럼만 바꿔주기\n",
    "label_X.fit_transform( X['Country'] )"
   ]
  },
  {
   "cell_type": "code",
   "execution_count": 17,
   "metadata": {},
   "outputs": [
    {
     "data": {
      "text/plain": "array(['France', 'Spain', 'Germany'], dtype=object)"
     },
     "execution_count": 17,
     "metadata": {},
     "output_type": "execute_result"
    }
   ],
   "source": [
    "#위에 결과에 보면 숫자로 바뀐것을 알 수 있음\n",
    "# 알파벳 순으로 바뀜\n",
    "# 원래 컬럼과 비교\n",
    "df['Country'].unique()"
   ]
  },
  {
   "cell_type": "code",
   "execution_count": 67,
   "metadata": {},
   "outputs": [],
   "source": [
    "# X의 컬럼 업데이트\n",
    "X['Country'] = label_X.fit_transform( X['Country'])"
   ]
  },
  {
   "cell_type": "code",
   "execution_count": 19,
   "metadata": {},
   "outputs": [
    {
     "data": {
      "text/html": "<div>\n<style scoped>\n    .dataframe tbody tr th:only-of-type {\n        vertical-align: middle;\n    }\n\n    .dataframe tbody tr th {\n        vertical-align: top;\n    }\n\n    .dataframe thead th {\n        text-align: right;\n    }\n</style>\n<table border=\"1\" class=\"dataframe\">\n  <thead>\n    <tr style=\"text-align: right;\">\n      <th></th>\n      <th>Country</th>\n      <th>Age</th>\n      <th>Salary</th>\n    </tr>\n  </thead>\n  <tbody>\n    <tr>\n      <th>0</th>\n      <td>0</td>\n      <td>44.0</td>\n      <td>72000.0</td>\n    </tr>\n    <tr>\n      <th>1</th>\n      <td>2</td>\n      <td>27.0</td>\n      <td>48000.0</td>\n    </tr>\n    <tr>\n      <th>2</th>\n      <td>1</td>\n      <td>30.0</td>\n      <td>54000.0</td>\n    </tr>\n  </tbody>\n</table>\n</div>",
      "text/plain": "   Country   Age   Salary\n0        0  44.0  72000.0\n1        2  27.0  48000.0\n2        1  30.0  54000.0"
     },
     "execution_count": 19,
     "metadata": {},
     "output_type": "execute_result"
    }
   ],
   "source": [
    "X.head(3)"
   ]
  },
  {
   "cell_type": "code",
   "execution_count": 20,
   "metadata": {},
   "outputs": [],
   "source": [
    "# 하지만 이런 숫자로 바뀐 것도 학습에는 적합하지 않다고 함\n",
    "# 그래서 One Hot Encoding을 해줘야 함\n",
    "# 숫자를 해당컬럼을 unique한 갯수만큼 컬럼을 늘려서\n",
    "# 해당하는 컬럼에만 1을 주고, 나머지는 0이 입력됨\n",
    "\n",
    "# 이게 머신러닝 학습이 잘 되서 One Hot Encoding을 한다고 함\n",
    "# 예:\n",
    "# 애플    치킨    브로컬리\n",
    "# 1   0   0\n",
    "# 0   1   0\n",
    "# 0   0   1\n"
   ]
  },
  {
   "cell_type": "markdown",
   "metadata": {},
   "source": [
    "ColumnTransformer 불러오기 (OneHotEncoder를 하기위함)"
   ]
  },
  {
   "cell_type": "code",
   "execution_count": 21,
   "metadata": {},
   "outputs": [],
   "source": [
    "# One Hot Encoder를 하기 위한 ColumnTransformer 불러오기\n",
    "from sklearn.compose import ColumnTransformer"
   ]
  },
  {
   "cell_type": "code",
   "execution_count": 68,
   "metadata": {},
   "outputs": [],
   "source": [
    "# [('one_hot_encoder', OneHotEncoder(), [0])] \n",
    "# 여기에서 [0]번째의 의미는 DataFrame에서 바꿀 컬럼 'Country'컬럼이 0번째 이므로 그 컬럼만 바꾸라는 의미\n",
    "# 다른 데이터에서는 상황에 맞게 바꿔 줘야함\n",
    "# remainder='passthrough'----> 다른 컬럼은 바꾸지 않는다\n",
    "\n",
    "# ct 생성, 0번째가 OneHotEncoder() 클래스?를 사용하는 놈으로 생성, 미리 셋팅 한다고 생각\n",
    "ct = ColumnTransformer( [ ('one_hot_encoder', OneHotEncoder(), [0]) ], remainder='passthrough' )"
   ]
  },
  {
   "cell_type": "markdown",
   "metadata": {},
   "source": [
    "fit_transform(X)사용하기"
   ]
  },
  {
   "cell_type": "code",
   "execution_count": 69,
   "metadata": {},
   "outputs": [
    {
     "data": {
      "text/plain": "array([[1.00000000e+00, 0.00000000e+00, 0.00000000e+00, 4.40000000e+01,\n        7.20000000e+04],\n       [0.00000000e+00, 0.00000000e+00, 1.00000000e+00, 2.70000000e+01,\n        4.80000000e+04],\n       [0.00000000e+00, 1.00000000e+00, 0.00000000e+00, 3.00000000e+01,\n        5.40000000e+04],\n       [0.00000000e+00, 0.00000000e+00, 1.00000000e+00, 3.80000000e+01,\n        6.10000000e+04],\n       [0.00000000e+00, 1.00000000e+00, 0.00000000e+00, 4.00000000e+01,\n        6.37777778e+04],\n       [1.00000000e+00, 0.00000000e+00, 0.00000000e+00, 3.50000000e+01,\n        5.80000000e+04],\n       [0.00000000e+00, 0.00000000e+00, 1.00000000e+00, 3.87777778e+01,\n        5.20000000e+04],\n       [1.00000000e+00, 0.00000000e+00, 0.00000000e+00, 4.80000000e+01,\n        7.90000000e+04],\n       [0.00000000e+00, 1.00000000e+00, 0.00000000e+00, 5.00000000e+01,\n        8.30000000e+04],\n       [1.00000000e+00, 0.00000000e+00, 0.00000000e+00, 3.70000000e+01,\n        6.70000000e+04]])"
     },
     "execution_count": 69,
     "metadata": {},
     "output_type": "execute_result"
    }
   ],
   "source": [
    "# X 학습할 데이터를 fit_transform()메소드를 사용해서 사용함\n",
    "ct.fit_transform(X)"
   ]
  },
  {
   "cell_type": "code",
   "execution_count": 24,
   "metadata": {},
   "outputs": [],
   "source": [
    "# 위에서 보면 fit_transform() 메소드를 사용하면\n",
    "# OneHotEncoder()를 해서 컬럼이 3개가 늘어 남\n",
    "# 원래는 컨츄리, 에이지, 샐러리 인데 \n",
    "# 컨츄리 부분이 0 0 0 으로 늘어난것을 알 수 있음\n",
    "# 0번째 row의 0번째 컬럼이 1로 셋팅된것을 알 수 있음\n",
    "\n",
    "# France에 해당하면 1 0 0 \n",
    "# Spane에 해당되면 0 1 0\n",
    "# Germany에 해당하면 0 0 1 이런식으로... 3개 컬럼이 만들어 짐\n",
    "# 이게 바로 One Hoe Encoding"
   ]
  },
  {
   "cell_type": "code",
   "execution_count": 70,
   "metadata": {},
   "outputs": [],
   "source": [
    "# 생성된 결과를 X로 넣어주기\n",
    "X = ct.fit_transform(X)"
   ]
  },
  {
   "cell_type": "markdown",
   "metadata": {},
   "source": [
    "결과 값 y도 Label Encoding"
   ]
  },
  {
   "cell_type": "code",
   "execution_count": 71,
   "metadata": {},
   "outputs": [],
   "source": [
    "#학습정답인 y는 라벨 인코딩만 시켜준다\n",
    "# 인스턴스 생성\n",
    "label_y  = LabelEncoder()"
   ]
  },
  {
   "cell_type": "code",
   "execution_count": 72,
   "metadata": {},
   "outputs": [
    {
     "data": {
      "text/plain": "array([0, 1, 0, 0, 1, 1, 0, 1, 0, 1])"
     },
     "execution_count": 72,
     "metadata": {},
     "output_type": "execute_result"
    }
   ],
   "source": [
    "# y는 purchased 가 문자열이 숫자로 바뀌는 것\n",
    "label_y.fit_transform(y)"
   ]
  },
  {
   "cell_type": "code",
   "execution_count": 73,
   "metadata": {},
   "outputs": [],
   "source": [
    "# 라벨 인코딩한 것 y에 저장\n",
    "y = label_y.fit_transform(y)"
   ]
  },
  {
   "cell_type": "markdown",
   "metadata": {},
   "source": [
    "4. dataSet을 Train과 Test로 나누기 "
   ]
  },
  {
   "cell_type": "code",
   "execution_count": 29,
   "metadata": {},
   "outputs": [],
   "source": [
    "#Train은 훈련용\n",
    "#Test는 예측용\n"
   ]
  },
  {
   "cell_type": "markdown",
   "metadata": {},
   "source": [
    "train_test_split 불러오기"
   ]
  },
  {
   "cell_type": "code",
   "execution_count": 30,
   "metadata": {},
   "outputs": [],
   "source": [
    "from sklearn.model_selection import train_test_split"
   ]
  },
  {
   "cell_type": "code",
   "execution_count": 74,
   "metadata": {},
   "outputs": [
    {
     "data": {
      "text/plain": "[array([[1.00000000e+00, 0.00000000e+00, 0.00000000e+00, 4.80000000e+01,\n         7.90000000e+04],\n        [1.00000000e+00, 0.00000000e+00, 0.00000000e+00, 3.50000000e+01,\n         5.80000000e+04],\n        [0.00000000e+00, 1.00000000e+00, 0.00000000e+00, 5.00000000e+01,\n         8.30000000e+04],\n        [0.00000000e+00, 0.00000000e+00, 1.00000000e+00, 3.80000000e+01,\n         6.10000000e+04],\n        [0.00000000e+00, 0.00000000e+00, 1.00000000e+00, 2.70000000e+01,\n         4.80000000e+04],\n        [0.00000000e+00, 0.00000000e+00, 1.00000000e+00, 3.87777778e+01,\n         5.20000000e+04],\n        [1.00000000e+00, 0.00000000e+00, 0.00000000e+00, 3.70000000e+01,\n         6.70000000e+04],\n        [0.00000000e+00, 1.00000000e+00, 0.00000000e+00, 3.00000000e+01,\n         5.40000000e+04]]),\n array([[0.00000000e+00, 1.00000000e+00, 0.00000000e+00, 4.00000000e+01,\n         6.37777778e+04],\n        [1.00000000e+00, 0.00000000e+00, 0.00000000e+00, 4.40000000e+01,\n         7.20000000e+04]]),\n array([1, 1, 0, 0, 1, 0, 1, 0]),\n array([1, 0])]"
     },
     "execution_count": 74,
     "metadata": {},
     "output_type": "execute_result"
    }
   ],
   "source": [
    "#train_test_split(  X(학습데이터), y(정답데이터), test_size=, random_state=)\n",
    "\n",
    "# train 80%, test 20% 정도 할당\n",
    "# test_size 파라미터는 1이 최대치 \n",
    "# 그래서 test_size는 0.2\n",
    "# random_state = seed값을 주는 것 \n",
    "# 다른 사람도 결과가 같게 나옴\n",
    "\n",
    "train_test_split(X, y, test_size=0.2, random_state = 123)\n"
   ]
  },
  {
   "cell_type": "code",
   "execution_count": 75,
   "metadata": {},
   "outputs": [],
   "source": [
    "# train_test_split()을 하면 알아서 훈련용과 예측test용이 나눠진다\n",
    "# 4개로 나눠짐\n",
    "# 4개의 변수로 저장\n",
    "X_train, X_test, y_train, y_test = train_test_split(X, y, test_size=0.2, random_state=123)\n",
    "# 여기서 X_train 학습의 정답은 y_train\n",
    "# x_test 예측용 데이터의 정답은 y_test가 된다"
   ]
  },
  {
   "cell_type": "markdown",
   "metadata": {},
   "source": [
    "5. Feature Scaling 하기 (2가지방법)\n",
    "둘 중의 하나로 선택 (standardization과 normalization 중 하나만 선택, 비슷하다고 함)"
   ]
  },
  {
   "cell_type": "markdown",
   "metadata": {},
   "source": [
    "StandardScaler사용 (Standardization) "
   ]
  },
  {
   "cell_type": "code",
   "execution_count": 33,
   "metadata": {},
   "outputs": [],
   "source": [
    "#Standardisation / Normalisation 중 \n",
    "#1. Standardisation 방법 (StandardScaler)\n"
   ]
  },
  {
   "cell_type": "code",
   "execution_count": 34,
   "metadata": {},
   "outputs": [],
   "source": [
    "from sklearn.preprocessing import StandardScaler"
   ]
  },
  {
   "cell_type": "code",
   "execution_count": 76,
   "metadata": {},
   "outputs": [],
   "source": [
    "#인스턴스\n",
    "sc_X = StandardScaler()"
   ]
  },
  {
   "cell_type": "code",
   "execution_count": 77,
   "metadata": {},
   "outputs": [
    {
     "data": {
      "text/plain": "array([[ 1.29099445, -0.57735027, -0.77459667,  1.35276221,  1.36880027],\n       [ 1.29099445, -0.57735027, -0.77459667, -0.40095722, -0.40011085],\n       [-0.77459667,  1.73205081, -0.77459667,  1.6225652 ,  1.70573573],\n       [-0.77459667, -0.57735027,  1.29099445,  0.00374726, -0.14740926],\n       [-0.77459667, -0.57735027,  1.29099445, -1.48016918, -1.24244948],\n       [-0.77459667, -0.57735027,  1.29099445,  0.10867065, -0.90551403],\n       [ 1.29099445, -0.57735027, -0.77459667, -0.13115423,  0.35799392],\n       [-0.77459667,  1.73205081, -0.77459667, -1.07546469, -0.7370463 ]])"
     },
     "execution_count": 77,
     "metadata": {},
     "output_type": "execute_result"
    }
   ],
   "source": [
    "#훈련용 데이터를 Standardisation 하기\n",
    "# Standardisation의 공식대로 대입해서 변환해줌\n",
    "sc_X.fit_transform(X_train)"
   ]
  },
  {
   "cell_type": "code",
   "execution_count": 78,
   "metadata": {},
   "outputs": [],
   "source": [
    "#저장\n",
    "X_train = sc_X.fit_transform(X_train)"
   ]
  },
  {
   "cell_type": "code",
   "execution_count": 79,
   "metadata": {},
   "outputs": [],
   "source": [
    "#test용도 저장\n",
    "X_test = sc_X.fit_transform(X_test)"
   ]
  },
  {
   "cell_type": "code",
   "execution_count": 39,
   "metadata": {},
   "outputs": [],
   "source": [
    "#2. Normalisation 방법 (MinMaxScaler)"
   ]
  },
  {
   "cell_type": "markdown",
   "metadata": {},
   "source": [
    "MinMaxScaler() Normalization"
   ]
  },
  {
   "cell_type": "code",
   "execution_count": 40,
   "metadata": {},
   "outputs": [],
   "source": [
    "from sklearn.preprocessing import MinMaxScaler"
   ]
  },
  {
   "cell_type": "code",
   "execution_count": 41,
   "metadata": {},
   "outputs": [],
   "source": [
    "mm_X = MinMaxScaler()"
   ]
  },
  {
   "cell_type": "code",
   "execution_count": 42,
   "metadata": {},
   "outputs": [],
   "source": [
    "# 위에서 X_train을 standardisation방법으로 feature scaling을 했기 때문에 \n",
    "# X_train데이터를 다시 만들어 줘야한다\n"
   ]
  },
  {
   "cell_type": "code",
   "execution_count": 43,
   "metadata": {},
   "outputs": [
    {
     "data": {
      "text/plain": "[array([[1.00000000e+00, 0.00000000e+00, 0.00000000e+00, 4.80000000e+01,\n         7.90000000e+04],\n        [1.00000000e+00, 0.00000000e+00, 0.00000000e+00, 3.50000000e+01,\n         5.80000000e+04],\n        [0.00000000e+00, 1.00000000e+00, 0.00000000e+00, 5.00000000e+01,\n         8.30000000e+04],\n        [0.00000000e+00, 0.00000000e+00, 1.00000000e+00, 3.80000000e+01,\n         6.10000000e+04],\n        [0.00000000e+00, 0.00000000e+00, 1.00000000e+00, 2.70000000e+01,\n         4.80000000e+04],\n        [0.00000000e+00, 0.00000000e+00, 1.00000000e+00, 3.87777778e+01,\n         5.20000000e+04],\n        [1.00000000e+00, 0.00000000e+00, 0.00000000e+00, 3.70000000e+01,\n         6.70000000e+04],\n        [0.00000000e+00, 1.00000000e+00, 0.00000000e+00, 3.00000000e+01,\n         5.40000000e+04]]),\n array([[0.00000000e+00, 1.00000000e+00, 0.00000000e+00, 4.00000000e+01,\n         6.37777778e+04],\n        [1.00000000e+00, 0.00000000e+00, 0.00000000e+00, 4.40000000e+01,\n         7.20000000e+04]]),\n 7    Yes\n 5    Yes\n 8     No\n 3     No\n 1    Yes\n 6     No\n 9    Yes\n 2     No\n Name: Purchased, dtype: object,\n 4    Yes\n 0     No\n Name: Purchased, dtype: object]"
     },
     "execution_count": 43,
     "metadata": {},
     "output_type": "execute_result"
    }
   ],
   "source": [
    "# 바로 이코드를 다시 해야함\n",
    "train_test_split(X, y, test_size=0.2, random_state=123)"
   ]
  },
  {
   "cell_type": "code",
   "execution_count": 44,
   "metadata": {},
   "outputs": [],
   "source": [
    "X_train, X_test, y_train, y_test = train_test_split(X, y, test_size=0.2, random_state=123)"
   ]
  },
  {
   "cell_type": "code",
   "execution_count": 45,
   "metadata": {},
   "outputs": [
    {
     "data": {
      "text/plain": "array([[1.        , 0.        , 0.        , 0.91304348, 0.88571429],\n       [1.        , 0.        , 0.        , 0.34782609, 0.28571429],\n       [0.        , 1.        , 0.        , 1.        , 1.        ],\n       [0.        , 0.        , 1.        , 0.47826087, 0.37142857],\n       [0.        , 0.        , 1.        , 0.        , 0.        ],\n       [0.        , 0.        , 1.        , 0.51207729, 0.11428571],\n       [1.        , 0.        , 0.        , 0.43478261, 0.54285714],\n       [0.        , 1.        , 0.        , 0.13043478, 0.17142857]])"
     },
     "execution_count": 45,
     "metadata": {},
     "output_type": "execute_result"
    }
   ],
   "source": [
    "# normalisation하기 , X_train과 X_test \n",
    "# normalisation은 1,0으로 만듬\n",
    "\n",
    "mm_X.fit_transform(X_train)"
   ]
  },
  {
   "cell_type": "code",
   "execution_count": 46,
   "metadata": {},
   "outputs": [
    {
     "data": {
      "text/plain": "array([[0., 1., 0., 0., 0.],\n       [1., 0., 0., 1., 1.]])"
     },
     "execution_count": 46,
     "metadata": {},
     "output_type": "execute_result"
    }
   ],
   "source": [
    "mm_X.fit_transform(X_test)"
   ]
  },
  {
   "cell_type": "code",
   "execution_count": 47,
   "metadata": {},
   "outputs": [],
   "source": [
    "# 위의 MinMaxScaler를 이용해서 normalization을 하려면\n",
    "# 각각 X_train, X_test에 저장해줘야함"
   ]
  },
  {
   "cell_type": "code",
   "execution_count": 48,
   "metadata": {},
   "outputs": [],
   "source": [
    "X_train = mm_X.fit_transform(X_train)"
   ]
  },
  {
   "cell_type": "code",
   "execution_count": 49,
   "metadata": {},
   "outputs": [],
   "source": [
    "X_test = mm_X.fit_transform(X_test)"
   ]
  },
  {
   "cell_type": "code",
   "execution_count": null,
   "metadata": {},
   "outputs": [],
   "source": []
  },
  {
   "cell_type": "markdown",
   "metadata": {},
   "source": [
    "학습시키기 regressor"
   ]
  },
  {
   "cell_type": "code",
   "execution_count": 50,
   "metadata": {},
   "outputs": [],
   "source": [
    "from sklearn.linear_model import LinearRegression"
   ]
  },
  {
   "cell_type": "code",
   "execution_count": 80,
   "metadata": {},
   "outputs": [
    {
     "data": {
      "text/plain": "(8, 5)"
     },
     "execution_count": 80,
     "metadata": {},
     "output_type": "execute_result"
    }
   ],
   "source": [
    "X_train.shape"
   ]
  },
  {
   "cell_type": "code",
   "execution_count": 81,
   "metadata": {},
   "outputs": [
    {
     "data": {
      "text/plain": "(8,)"
     },
     "execution_count": 81,
     "metadata": {},
     "output_type": "execute_result"
    }
   ],
   "source": [
    "y_train.shape"
   ]
  },
  {
   "cell_type": "code",
   "execution_count": 82,
   "metadata": {},
   "outputs": [],
   "source": [
    "# 인스턴스 생성\n",
    "regressor = LinearRegression()"
   ]
  },
  {
   "cell_type": "markdown",
   "metadata": {},
   "source": [
    "인공지능객체.fit"
   ]
  },
  {
   "cell_type": "code",
   "execution_count": 83,
   "metadata": {},
   "outputs": [
    {
     "data": {
      "text/plain": "LinearRegression()"
     },
     "execution_count": 83,
     "metadata": {},
     "output_type": "execute_result"
    }
   ],
   "source": [
    "regressor.fit(X_train, y_train)"
   ]
  },
  {
   "cell_type": "markdown",
   "metadata": {},
   "source": [
    "인공지능객체.predict(X_test)"
   ]
  },
  {
   "cell_type": "code",
   "execution_count": 85,
   "metadata": {},
   "outputs": [],
   "source": [
    "y_pred = regressor.predict(X_test)"
   ]
  },
  {
   "cell_type": "code",
   "execution_count": 86,
   "metadata": {},
   "outputs": [
    {
     "data": {
      "text/plain": "array([0.08618669, 0.91381331])"
     },
     "execution_count": 86,
     "metadata": {},
     "output_type": "execute_result"
    }
   ],
   "source": [
    "y_pred"
   ]
  },
  {
   "cell_type": "code",
   "execution_count": 87,
   "metadata": {},
   "outputs": [
    {
     "data": {
      "text/plain": "array([ 0.91381331, -0.91381331])"
     },
     "execution_count": 87,
     "metadata": {},
     "output_type": "execute_result"
    }
   ],
   "source": [
    "y_test - y_pred"
   ]
  },
  {
   "cell_type": "code",
   "execution_count": 89,
   "metadata": {},
   "outputs": [
    {
     "data": {
      "text/plain": "(2, 5)"
     },
     "execution_count": 89,
     "metadata": {},
     "output_type": "execute_result"
    }
   ],
   "source": [
    "X_test.shape"
   ]
  },
  {
   "cell_type": "code",
   "execution_count": 90,
   "metadata": {},
   "outputs": [
    {
     "data": {
      "text/plain": "(2,)"
     },
     "execution_count": 90,
     "metadata": {},
     "output_type": "execute_result"
    }
   ],
   "source": [
    "y_test.shape"
   ]
  },
  {
   "cell_type": "code",
   "execution_count": 94,
   "metadata": {},
   "outputs": [],
   "source": [
    "# y_test를 2차원으로 만들기\n",
    "y_test1 = y_test.reshape(-1, 1)"
   ]
  },
  {
   "cell_type": "code",
   "execution_count": 97,
   "metadata": {},
   "outputs": [
    {
     "data": {
      "text/plain": "(2, 1)"
     },
     "execution_count": 97,
     "metadata": {},
     "output_type": "execute_result"
    }
   ],
   "source": [
    "y_test1.shape"
   ]
  },
  {
   "cell_type": "code",
   "execution_count": null,
   "metadata": {},
   "outputs": [],
   "source": []
  }
 ],
 "metadata": {
  "kernelspec": {
   "display_name": "Python 3",
   "language": "python",
   "name": "python3"
  },
  "language_info": {
   "codemirror_mode": {
    "name": "ipython",
    "version": 3
   },
   "file_extension": ".py",
   "mimetype": "text/x-python",
   "name": "python",
   "nbconvert_exporter": "python",
   "pygments_lexer": "ipython3",
   "version": "3.9.1"
  },
  "orig_nbformat": 2
 },
 "nbformat": 4,
 "nbformat_minor": 2
}