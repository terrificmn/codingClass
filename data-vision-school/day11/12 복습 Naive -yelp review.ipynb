{
 "cells": [
  {
   "cell_type": "code",
   "execution_count": 1,
   "metadata": {},
   "outputs": [],
   "source": [
    "import pandas as pd\n",
    "import numpy as np\n",
    "import matplotlib.pyplot as plt\n",
    "import seaborn as sb\n",
    "%matplotlib inline"
   ]
  },
  {
   "cell_type": "code",
   "execution_count": 2,
   "metadata": {},
   "outputs": [],
   "source": [
    "df = pd.read_csv('yelp.csv')"
   ]
  },
  {
   "cell_type": "code",
   "execution_count": 3,
   "metadata": {},
   "outputs": [
    {
     "data": {
      "text/html": "<div>\n<style scoped>\n    .dataframe tbody tr th:only-of-type {\n        vertical-align: middle;\n    }\n\n    .dataframe tbody tr th {\n        vertical-align: top;\n    }\n\n    .dataframe thead th {\n        text-align: right;\n    }\n</style>\n<table border=\"1\" class=\"dataframe\">\n  <thead>\n    <tr style=\"text-align: right;\">\n      <th></th>\n      <th>business_id</th>\n      <th>date</th>\n      <th>review_id</th>\n      <th>stars</th>\n      <th>text</th>\n      <th>type</th>\n      <th>user_id</th>\n      <th>cool</th>\n      <th>useful</th>\n      <th>funny</th>\n    </tr>\n  </thead>\n  <tbody>\n    <tr>\n      <th>0</th>\n      <td>9yKzy9PApeiPPOUJEtnvkg</td>\n      <td>2011-01-26</td>\n      <td>fWKvX83p0-ka4JS3dc6E5A</td>\n      <td>5</td>\n      <td>My wife took me here on my birthday for breakf...</td>\n      <td>review</td>\n      <td>rLtl8ZkDX5vH5nAx9C3q5Q</td>\n      <td>2</td>\n      <td>5</td>\n      <td>0</td>\n    </tr>\n  </tbody>\n</table>\n</div>",
      "text/plain": "              business_id        date               review_id  stars  \\\n0  9yKzy9PApeiPPOUJEtnvkg  2011-01-26  fWKvX83p0-ka4JS3dc6E5A      5   \n\n                                                text    type  \\\n0  My wife took me here on my birthday for breakf...  review   \n\n                  user_id  cool  useful  funny  \n0  rLtl8ZkDX5vH5nAx9C3q5Q     2       5      0  "
     },
     "execution_count": 3,
     "metadata": {},
     "output_type": "execute_result"
    }
   ],
   "source": [
    "df.head(1)"
   ]
  },
  {
   "cell_type": "code",
   "execution_count": 5,
   "metadata": {},
   "outputs": [
    {
     "data": {
      "image/png": "[encoded data removed]",
      "text/plain": "<Figure size 432x288 with 1 Axes>"
     },
     "metadata": {
      "needs_background": "light",
      "transient": {}
     },
     "output_type": "display_data"
    }
   ],
   "source": [
    "sb.countplot(data=df, x='cool')\n",
    "plt.show()"
   ]
  },
  {
   "cell_type": "code",
   "execution_count": null,
   "metadata": {},
   "outputs": [],
   "source": [
    "# 새로운 text컬럼 길이 구해서 length 컬럼 만들기"
   ]
  },
  {
   "cell_type": "code",
   "execution_count": 9,
   "metadata": {},
   "outputs": [],
   "source": [
    "df.text.str.len() \n",
    "#또는 \n",
    "df['length'] = df.text.apply(len)"
   ]
  },
  {
   "cell_type": "code",
   "execution_count": null,
   "metadata": {},
   "outputs": [],
   "source": [
    "# 리뷰 length를 히스토그램으로 나타내기"
   ]
  },
  {
   "cell_type": "code",
   "execution_count": 10,
   "metadata": {},
   "outputs": [
    {
     "data": {
      "image/png": "[encoded data removed]",
      "text/plain": "<Figure size 432x288 with 1 Axes>"
     },
     "metadata": {
      "needs_background": "light",
      "transient": {}
     },
     "output_type": "display_data"
    }
   ],
   "source": [
    "df.length.plot(kind='hist', bins=25)\n",
    "plt.xlabel('text\\'s length')\n",
    "plt.show()"
   ]
  },
  {
   "cell_type": "code",
   "execution_count": null,
   "metadata": {},
   "outputs": [],
   "source": []
  },
  {
   "cell_type": "code",
   "execution_count": null,
   "metadata": {},
   "outputs": [],
   "source": [
    "# 별점 별로 리뷰 몇개씩 있는지 차트 그리기"
   ]
  },
  {
   "cell_type": "code",
   "execution_count": 14,
   "metadata": {},
   "outputs": [
    {
     "data": {
      "image/png": "[encoded data removed]",
      "text/plain": "<Figure size 432x288 with 1 Axes>"
     },
     "metadata": {
      "needs_background": "light",
      "transient": {}
     },
     "output_type": "display_data"
    }
   ],
   "source": [
    "sb.countplot(data=df, x='stars')\n",
    "plt.show()"
   ]
  },
  {
   "cell_type": "code",
   "execution_count": null,
   "metadata": {},
   "outputs": [],
   "source": [
    "# 위의 처럼만 하면 정렬이 안됨\n",
    "# 정렬은 order= 파라미터를 지정\n",
    "# stars 컬럼을 value_counts()를 하면\n",
    "# 카운트가 정렬되는데 이때의 인덱스를 활용하면 좋다\n",
    "# 변수에 저장하거나, .index속성을 사용"
   ]
  },
  {
   "cell_type": "code",
   "execution_count": 18,
   "metadata": {},
   "outputs": [],
   "source": [
    "stars_vc_index = df.stars.value_counts().index"
   ]
  },
  {
   "cell_type": "code",
   "execution_count": 19,
   "metadata": {},
   "outputs": [
    {
     "data": {
      "image/png": "[encoded data removed]",
      "text/plain": "<Figure size 432x288 with 1 Axes>"
     },
     "metadata": {
      "needs_background": "light",
      "transient": {}
     },
     "output_type": "display_data"
    }
   ],
   "source": [
    "sb.countplot(data=df, x='stars', order=stars_vc_index)\n",
    "plt.show()"
   ]
  },
  {
   "cell_type": "code",
   "execution_count": null,
   "metadata": {},
   "outputs": [],
   "source": []
  },
  {
   "cell_type": "code",
   "execution_count": null,
   "metadata": {},
   "outputs": [],
   "source": [
    "# 별점 1점과 5점 짜리만 데이터 프레임으로 만들기\n",
    "# 일단 2,3,4점은 애매해서 학습하기 어렵다\n",
    "# 1점은 부정, 5점은 긍정의 의미로 학습"
   ]
  },
  {
   "cell_type": "code",
   "execution_count": 21,
   "metadata": {},
   "outputs": [
    {
     "data": {
      "text/html": "<div>\n<style scoped>\n    .dataframe tbody tr th:only-of-type {\n        vertical-align: middle;\n    }\n\n    .dataframe tbody tr th {\n        vertical-align: top;\n    }\n\n    .dataframe thead th {\n        text-align: right;\n    }\n</style>\n<table border=\"1\" class=\"dataframe\">\n  <thead>\n    <tr style=\"text-align: right;\">\n      <th></th>\n      <th>business_id</th>\n      <th>date</th>\n      <th>review_id</th>\n      <th>stars</th>\n      <th>text</th>\n      <th>type</th>\n      <th>user_id</th>\n      <th>cool</th>\n      <th>useful</th>\n      <th>funny</th>\n      <th>length</th>\n    </tr>\n  </thead>\n  <tbody>\n    <tr>\n      <th>0</th>\n      <td>9yKzy9PApeiPPOUJEtnvkg</td>\n      <td>2011-01-26</td>\n      <td>fWKvX83p0-ka4JS3dc6E5A</td>\n      <td>5</td>\n      <td>My wife took me here on my birthday for breakf...</td>\n      <td>review</td>\n      <td>rLtl8ZkDX5vH5nAx9C3q5Q</td>\n      <td>2</td>\n      <td>5</td>\n      <td>0</td>\n      <td>889</td>\n    </tr>\n  </tbody>\n</table>\n</div>",
      "text/plain": "              business_id        date               review_id  stars  \\\n0  9yKzy9PApeiPPOUJEtnvkg  2011-01-26  fWKvX83p0-ka4JS3dc6E5A      5   \n\n                                                text    type  \\\n0  My wife took me here on my birthday for breakf...  review   \n\n                  user_id  cool  useful  funny  length  \n0  rLtl8ZkDX5vH5nAx9C3q5Q     2       5      0     889  "
     },
     "execution_count": 21,
     "metadata": {},
     "output_type": "execute_result"
    }
   ],
   "source": [
    "df.head(1)"
   ]
  },
  {
   "cell_type": "code",
   "execution_count": 24,
   "metadata": {},
   "outputs": [],
   "source": [
    "# star 1\n",
    "df1 = df.loc[ df.stars == 1 , ]"
   ]
  },
  {
   "cell_type": "code",
   "execution_count": 26,
   "metadata": {},
   "outputs": [],
   "source": [
    "df1 = df1.iloc[:, [3,4,7,8,9, 10] ]"
   ]
  },
  {
   "cell_type": "code",
   "execution_count": 27,
   "metadata": {},
   "outputs": [],
   "source": [
    "# stars 5\n",
    "df5 = df.loc[ df.stars == 5 , ]"
   ]
  },
  {
   "cell_type": "code",
   "execution_count": 28,
   "metadata": {},
   "outputs": [],
   "source": [
    "df5 = df5.iloc[:, [3,4,7,8,9, 10] ]"
   ]
  },
  {
   "cell_type": "code",
   "execution_count": null,
   "metadata": {},
   "outputs": [],
   "source": []
  },
  {
   "cell_type": "markdown",
   "metadata": {},
   "source": [
    "concat() 두개df를 위아래로 합침 (컬럼이 같은 경우)"
   ]
  },
  {
   "cell_type": "code",
   "execution_count": null,
   "metadata": {},
   "outputs": [],
   "source": [
    "# 데이터프레임 합치기"
   ]
  },
  {
   "cell_type": "code",
   "execution_count": 31,
   "metadata": {},
   "outputs": [],
   "source": [
    "df_1_5 = pd.concat( [df1, df5] )"
   ]
  },
  {
   "cell_type": "code",
   "execution_count": 32,
   "metadata": {},
   "outputs": [
    {
     "data": {
      "text/html": "<div>\n<style scoped>\n    .dataframe tbody tr th:only-of-type {\n        vertical-align: middle;\n    }\n\n    .dataframe tbody tr th {\n        vertical-align: top;\n    }\n\n    .dataframe thead th {\n        text-align: right;\n    }\n</style>\n<table border=\"1\" class=\"dataframe\">\n  <thead>\n    <tr style=\"text-align: right;\">\n      <th></th>\n      <th>stars</th>\n      <th>text</th>\n      <th>cool</th>\n      <th>useful</th>\n      <th>funny</th>\n      <th>length</th>\n    </tr>\n  </thead>\n  <tbody>\n    <tr>\n      <th>23</th>\n      <td>1</td>\n      <td>U can go there n check the car out. If u wanna...</td>\n      <td>0</td>\n      <td>1</td>\n      <td>1</td>\n      <td>594</td>\n    </tr>\n    <tr>\n      <th>31</th>\n      <td>1</td>\n      <td>Disgusting!  Had a Groupon so my daughter and ...</td>\n      <td>0</td>\n      <td>1</td>\n      <td>0</td>\n      <td>361</td>\n    </tr>\n    <tr>\n      <th>35</th>\n      <td>1</td>\n      <td>I've eaten here many times, but none as bad as...</td>\n      <td>0</td>\n      <td>4</td>\n      <td>3</td>\n      <td>1198</td>\n    </tr>\n    <tr>\n      <th>61</th>\n      <td>1</td>\n      <td>I have always been a fan of Burlington's deals...</td>\n      <td>0</td>\n      <td>0</td>\n      <td>0</td>\n      <td>569</td>\n    </tr>\n    <tr>\n      <th>64</th>\n      <td>1</td>\n      <td>Another night meeting friends here.  I have to...</td>\n      <td>0</td>\n      <td>1</td>\n      <td>2</td>\n      <td>498</td>\n    </tr>\n    <tr>\n      <th>...</th>\n      <td>...</td>\n      <td>...</td>\n      <td>...</td>\n      <td>...</td>\n      <td>...</td>\n      <td>...</td>\n    </tr>\n    <tr>\n      <th>9990</th>\n      <td>5</td>\n      <td>Yes I do rock the hipster joints.  I dig this ...</td>\n      <td>1</td>\n      <td>1</td>\n      <td>1</td>\n      <td>263</td>\n    </tr>\n    <tr>\n      <th>9991</th>\n      <td>5</td>\n      <td>Only 4 stars? \\n\\n(A few notes: The folks that...</td>\n      <td>1</td>\n      <td>1</td>\n      <td>0</td>\n      <td>908</td>\n    </tr>\n    <tr>\n      <th>9992</th>\n      <td>5</td>\n      <td>I'm not normally one to jump at reviewing a ch...</td>\n      <td>2</td>\n      <td>3</td>\n      <td>2</td>\n      <td>1326</td>\n    </tr>\n    <tr>\n      <th>9994</th>\n      <td>5</td>\n      <td>Let's see...what is there NOT to like about Su...</td>\n      <td>1</td>\n      <td>2</td>\n      <td>1</td>\n      <td>1968</td>\n    </tr>\n    <tr>\n      <th>9999</th>\n      <td>5</td>\n      <td>4-5 locations.. all 4.5 star average.. I think...</td>\n      <td>0</td>\n      <td>0</td>\n      <td>0</td>\n      <td>461</td>\n    </tr>\n  </tbody>\n</table>\n<p>4086 rows × 6 columns</p>\n</div>",
      "text/plain": "      stars                                               text  cool  useful  \\\n23        1  U can go there n check the car out. If u wanna...     0       1   \n31        1  Disgusting!  Had a Groupon so my daughter and ...     0       1   \n35        1  I've eaten here many times, but none as bad as...     0       4   \n61        1  I have always been a fan of Burlington's deals...     0       0   \n64        1  Another night meeting friends here.  I have to...     0       1   \n...     ...                                                ...   ...     ...   \n9990      5  Yes I do rock the hipster joints.  I dig this ...     1       1   \n9991      5  Only 4 stars? \\n\\n(A few notes: The folks that...     1       1   \n9992      5  I'm not normally one to jump at reviewing a ch...     2       3   \n9994      5  Let's see...what is there NOT to like about Su...     1       2   \n9999      5  4-5 locations.. all 4.5 star average.. I think...     0       0   \n\n      funny  length  \n23        1     594  \n31        0     361  \n35        3    1198  \n61        0     569  \n64        2     498  \n...     ...     ...  \n9990      1     263  \n9991      0     908  \n9992      2    1326  \n9994      1    1968  \n9999      0     461  \n\n[4086 rows x 6 columns]"
     },
     "execution_count": 32,
     "metadata": {},
     "output_type": "execute_result"
    }
   ],
   "source": [
    "df_1_5"
   ]
  },
  {
   "cell_type": "code",
   "execution_count": null,
   "metadata": {},
   "outputs": [],
   "source": [
    "# 별점 시각화하기"
   ]
  },
  {
   "cell_type": "code",
   "execution_count": 33,
   "metadata": {},
   "outputs": [
    {
     "data": {
      "image/png": "[encoded data removed]",
      "text/plain": "<Figure size 432x288 with 1 Axes>"
     },
     "metadata": {
      "needs_background": "light",
      "transient": {}
     },
     "output_type": "display_data"
    }
   ],
   "source": [
    "sb.countplot(data=df_1_5, x='stars')\n",
    "plt.show()"
   ]
  },
  {
   "cell_type": "code",
   "execution_count": null,
   "metadata": {},
   "outputs": [],
   "source": [
    "# 별점 비율 퍼센트 화기\n",
    "# pie차트 그리기\n",
    "# 먼저 시리즈 데이터로 만들어 줘야한다 \n",
    "# 변수에 만들거나 데이터프레임.컬럼.value_counts() 로 plt.pie()에서 입력"
   ]
  },
  {
   "cell_type": "code",
   "execution_count": 36,
   "metadata": {},
   "outputs": [],
   "source": [
    "pie_chart = df_1_5.stars.value_counts()"
   ]
  },
  {
   "cell_type": "code",
   "execution_count": 37,
   "metadata": {},
   "outputs": [
    {
     "data": {
      "text/plain": "(2,)"
     },
     "execution_count": 37,
     "metadata": {},
     "output_type": "execute_result"
    }
   ],
   "source": [
    "pie_chart.shape"
   ]
  },
  {
   "cell_type": "code",
   "execution_count": 39,
   "metadata": {},
   "outputs": [
    {
     "data": {
      "image/png": "[encoded data removed]",
      "text/plain": "<Figure size 432x288 with 1 Axes>"
     },
     "metadata": {
      "transient": {}
     },
     "output_type": "display_data"
    }
   ],
   "source": [
    "plt.pie(pie_chart, autopct='%.1f', labels=['Great', 'Bad'])\n",
    "plt.show()"
   ]
  },
  {
   "cell_type": "code",
   "execution_count": null,
   "metadata": {},
   "outputs": [],
   "source": []
  },
  {
   "cell_type": "code",
   "execution_count": null,
   "metadata": {},
   "outputs": [],
   "source": [
    "# 구두점 제거, 불용어 가능 사용자 함수 만들기\n",
    "# 위의 관련된 라이브러리 import"
   ]
  },
  {
   "cell_type": "code",
   "execution_count": 40,
   "metadata": {},
   "outputs": [],
   "source": [
    "import string"
   ]
  },
  {
   "cell_type": "code",
   "execution_count": 42,
   "metadata": {},
   "outputs": [
    {
     "data": {
      "text/plain": "'!\"#$%&\\'()*+,-./:;<=>?@[\\\\]^_`{|}~'"
     },
     "execution_count": 42,
     "metadata": {},
     "output_type": "execute_result"
    }
   ],
   "source": [
    "string.punctuation"
   ]
  },
  {
   "cell_type": "code",
   "execution_count": 43,
   "metadata": {},
   "outputs": [],
   "source": [
    "import nltk"
   ]
  },
  {
   "cell_type": "code",
   "execution_count": 45,
   "metadata": {},
   "outputs": [
    {
     "name": "stderr",
     "output_type": "stream",
     "text": [
      "[nltk_data] Downloading package stopwords to\n",
      "[nltk_data]     /home/sgtocta/nltk_data...\n",
      "[nltk_data]   Package stopwords is already up-to-date!\n"
     ]
    },
    {
     "data": {
      "text/plain": "True"
     },
     "execution_count": 45,
     "metadata": {},
     "output_type": "execute_result"
    }
   ],
   "source": [
    "# nltk의 불용어 다운로드\n",
    "nltk.download('stopwords')"
   ]
  },
  {
   "cell_type": "code",
   "execution_count": 46,
   "metadata": {},
   "outputs": [],
   "source": [
    "from nltk.corpus import stopwords"
   ]
  },
  {
   "cell_type": "code",
   "execution_count": 47,
   "metadata": {},
   "outputs": [],
   "source": [
    "# 불용어 사전\n",
    "stopList = stopwords.words('english')"
   ]
  },
  {
   "cell_type": "markdown",
   "metadata": {},
   "source": [
    "사용자 함수 msg_cleaning()"
   ]
  },
  {
   "cell_type": "code",
   "execution_count": 52,
   "metadata": {},
   "outputs": [],
   "source": [
    "def msg_cleaning(message):\n",
    "    punc_removed = [ char for char in message if char not in string.punctuation ]\n",
    "    punc_removed_join = ''.join(punc_removed)\n",
    "    punc_removed_join_clean = [ word for word in punc_removed_join.split() if word.lower() not in stopList ]\n",
    "    return punc_removed_join_clean"
   ]
  },
  {
   "cell_type": "code",
   "execution_count": 53,
   "metadata": {},
   "outputs": [
    {
     "data": {
      "text/plain": "['test', 'tset', 'b', '!!,', 't2']"
     },
     "execution_count": 53,
     "metadata": {},
     "output_type": "execute_result"
    }
   ],
   "source": [
    "# test\n",
    "msg_cleaning(['this the test tset a b !!, t2'])"
   ]
  },
  {
   "cell_type": "code",
   "execution_count": null,
   "metadata": {},
   "outputs": [],
   "source": []
  },
  {
   "cell_type": "markdown",
   "metadata": {},
   "source": [
    "CountVectorizer() 불러오기"
   ]
  },
  {
   "cell_type": "code",
   "execution_count": 54,
   "metadata": {},
   "outputs": [],
   "source": [
    "from sklearn.feature_extraction.text import CountVectorizer"
   ]
  },
  {
   "cell_type": "markdown",
   "metadata": {},
   "source": [
    "CountVectorizer() anlyzer= 사용"
   ]
  },
  {
   "cell_type": "code",
   "execution_count": 56,
   "metadata": {},
   "outputs": [],
   "source": [
    "# vectorizer는 문자를 숫자화 해준다. 컬럼이 늘어남\n",
    "# vectorizer를 사용하기 전에 anlyzer가 지정되어 있으면 먼저 수행한다\n",
    "# 즉, 여기에서 사용자함수 msg_cleaning을 호출해서\n",
    "# 구두점 및 불용어를 제거한다\n",
    "vectorizer = CountVectorizer( analyzer= msg_cleaning)"
   ]
  },
  {
   "cell_type": "code",
   "execution_count": 57,
   "metadata": {},
   "outputs": [],
   "source": [
    "# df_1_5 에서 'text'컬럼을 vectorize 한다 (구두점,불용어제거 포함)\n",
    "X = vectorizer.fit_transform(df_1_5.text)"
   ]
  },
  {
   "cell_type": "code",
   "execution_count": 60,
   "metadata": {},
   "outputs": [
    {
     "data": {
      "text/plain": "(4086, 26435)"
     },
     "execution_count": 60,
     "metadata": {},
     "output_type": "execute_result"
    }
   ],
   "source": [
    "#toarray() 메소드\n",
    "# array 형태로 보여준다\n",
    "X.toarray()"
   ]
  },
  {
   "cell_type": "code",
   "execution_count": null,
   "metadata": {},
   "outputs": [],
   "source": []
  },
  {
   "cell_type": "markdown",
   "metadata": {},
   "source": [
    "train, test 셋 만들기 "
   ]
  },
  {
   "cell_type": "code",
   "execution_count": 61,
   "metadata": {},
   "outputs": [],
   "source": [
    "from sklearn.model_selection import train_test_split"
   ]
  },
  {
   "cell_type": "code",
   "execution_count": 62,
   "metadata": {},
   "outputs": [],
   "source": [
    "# y지정 (정답: stars컬럼)\n",
    "y = df_1_5.stars"
   ]
  },
  {
   "cell_type": "code",
   "execution_count": 73,
   "metadata": {},
   "outputs": [],
   "source": [
    "X_train, X_test, y_train, y_test = train_test_split(X, y, test_size=0.2, random_state=0)"
   ]
  },
  {
   "cell_type": "code",
   "execution_count": null,
   "metadata": {},
   "outputs": [],
   "source": []
  },
  {
   "cell_type": "markdown",
   "metadata": {},
   "source": [
    "학습 Naive_bayes 로 학습 시키기"
   ]
  },
  {
   "cell_type": "code",
   "execution_count": 64,
   "metadata": {},
   "outputs": [],
   "source": [
    "from sklearn.naive_bayes import MultinomialNB"
   ]
  },
  {
   "cell_type": "code",
   "execution_count": 74,
   "metadata": {},
   "outputs": [],
   "source": [
    "classifier = MultinomialNB()"
   ]
  },
  {
   "cell_type": "code",
   "execution_count": 75,
   "metadata": {},
   "outputs": [
    {
     "data": {
      "text/plain": "MultinomialNB()"
     },
     "execution_count": 75,
     "metadata": {},
     "output_type": "execute_result"
    }
   ],
   "source": [
    "classifier.fit(X_train, y_train)"
   ]
  },
  {
   "cell_type": "code",
   "execution_count": 76,
   "metadata": {},
   "outputs": [],
   "source": [
    "y_pred_nb = classifier.predict(X_test)"
   ]
  },
  {
   "cell_type": "code",
   "execution_count": null,
   "metadata": {},
   "outputs": [],
   "source": []
  },
  {
   "cell_type": "markdown",
   "metadata": {},
   "source": [
    "confusion_matrix 테스트셋 모델 평가"
   ]
  },
  {
   "cell_type": "code",
   "execution_count": 69,
   "metadata": {},
   "outputs": [],
   "source": [
    "from sklearn.metrics import confusion_matrix"
   ]
  },
  {
   "cell_type": "code",
   "execution_count": 77,
   "metadata": {},
   "outputs": [],
   "source": [
    "cm = confusion_matrix(y_test, y_pred_nb)"
   ]
  },
  {
   "cell_type": "code",
   "execution_count": 78,
   "metadata": {},
   "outputs": [
    {
     "data": {
      "text/plain": "array([[120,  53],\n       [ 17, 628]])"
     },
     "execution_count": 78,
     "metadata": {},
     "output_type": "execute_result"
    }
   ],
   "source": [
    "cm"
   ]
  },
  {
   "cell_type": "code",
   "execution_count": 79,
   "metadata": {},
   "outputs": [
    {
     "data": {
      "text/plain": "0.9144254278728606"
     },
     "execution_count": 79,
     "metadata": {},
     "output_type": "execute_result"
    }
   ],
   "source": [
    "(120+628) / cm.sum()"
   ]
  },
  {
   "cell_type": "code",
   "execution_count": null,
   "metadata": {},
   "outputs": [],
   "source": []
  },
  {
   "cell_type": "markdown",
   "metadata": {},
   "source": [
    "새로운 문자 긍정인지 부정인 예측1"
   ]
  },
  {
   "cell_type": "code",
   "execution_count": null,
   "metadata": {},
   "outputs": [],
   "source": [
    "# 1.'amazing food! highly recommmended'\n",
    "# 2.'shit food, made me sick'\n",
    "# 리스트화 해야함\n",
    "# vectorize 해야함"
   ]
  },
  {
   "cell_type": "code",
   "execution_count": 80,
   "metadata": {},
   "outputs": [],
   "source": [
    "test1 = ['amazing food! highly recommmended']"
   ]
  },
  {
   "cell_type": "markdown",
   "metadata": {},
   "source": [
    "transform() 학습을 마친 후에 새로운 예측할 때"
   ]
  },
  {
   "cell_type": "code",
   "execution_count": 81,
   "metadata": {},
   "outputs": [],
   "source": [
    "# 벡터라이징  fit_transform()이 아닌\n",
    "# transform()을 한다\n",
    "test_count_vectorizer = vectorizer.transform(test1)"
   ]
  },
  {
   "cell_type": "code",
   "execution_count": 83,
   "metadata": {},
   "outputs": [],
   "source": [
    "# naive_ 모델링\n",
    "test1_pred = classifier.predict(test_count_vectorizer)"
   ]
  },
  {
   "cell_type": "code",
   "execution_count": 85,
   "metadata": {},
   "outputs": [
    {
     "data": {
      "text/plain": "array([5])"
     },
     "execution_count": 85,
     "metadata": {},
     "output_type": "execute_result"
    }
   ],
   "source": [
    "# 예측은 5 -- 별점 5점\n",
    "test1_pred"
   ]
  },
  {
   "cell_type": "code",
   "execution_count": null,
   "metadata": {},
   "outputs": [],
   "source": []
  },
  {
   "cell_type": "code",
   "execution_count": 87,
   "metadata": {},
   "outputs": [
    {
     "data": {
      "text/plain": "array([1])"
     },
     "execution_count": 87,
     "metadata": {},
     "output_type": "execute_result"
    }
   ],
   "source": [
    "test2 = ['shit food, made me sick']\n",
    "test_count_vectorizer2 = vectorizer.transform(test2)\n",
    "test2_pred = classifier.predict(test_count_vectorizer2)\n",
    "test2_pred"
   ]
  },
  {
   "cell_type": "code",
   "execution_count": null,
   "metadata": {},
   "outputs": [],
   "source": []
  }
 ],
 "metadata": {
  "kernelspec": {
   "display_name": "Python 3.8.5 64-bit ('base': conda)",
   "metadata": {
    "interpreter": {
     "hash": "b0b79975b685ef0f460f0aab3ac7a902bdabc3384cbf48ecd087441c63d17a83"
    }
   },
   "name": "python3"
  },
  "language_info": {
   "codemirror_mode": {
    "name": "ipython",
    "version": 3
   },
   "file_extension": ".py",
   "mimetype": "text/x-python",
   "name": "python",
   "nbconvert_exporter": "python",
   "pygments_lexer": "ipython3",
   "version": "3.8.5"
  },
  "orig_nbformat": 2
 },
 "nbformat": 4,
 "nbformat_minor": 2
}