{
 "cells": [
  {
   "cell_type": "markdown",
   "metadata": {},
   "source": [
    "# PYTHON PROGRAMMING\n"
   ]
  },
  {
   "cell_type": "code",
   "execution_count": 21,
   "metadata": {},
   "outputs": [],
   "source": [
    "import numpy as np\n",
    "import pandas as pd\n",
    "import matplotlib.pyplot as plt\n",
    "import seaborn as sb\n",
    "\n",
    "import platform\n",
    "\n",
    "from matplotlib import font_manager, rc\n",
    "plt.rcParams['axes.unicode_minus'] = False\n",
    "\n",
    "if platform.system() == 'Darwin':\n",
    "    rc('font', family='AppleGothic')\n",
    "elif platform.system() == 'Windows':\n",
    "    path = \"c:/Windows/Fonts/malgun.ttf\"\n",
    "    font_name = font_manager.FontProperties(fname=path).get_name()\n",
    "    rc('font', family=font_name)\n",
    "else:\n",
    "    print('Unknown system... sorry~~~~')\n",
    "\n",
    "#plt.style.use('dark_background')\n",
    "%matplotlib inline"
   ]
  },
  {
   "cell_type": "markdown",
   "metadata": {},
   "source": [
    "## subwayfee.csv 파일을 통한 지하철 유무임별 이용현황 데이터 분석"
   ]
  },
  {
   "cell_type": "markdown",
   "metadata": {},
   "source": [
    "- 자료출처 : t-money.co.kr 에서 자료를 제공함."
   ]
  },
  {
   "cell_type": "code",
   "execution_count": 91,
   "metadata": {},
   "outputs": [],
   "source": [
    "#plt.style.available"
   ]
  },
  {
   "cell_type": "code",
   "execution_count": 2,
   "metadata": {},
   "outputs": [],
   "source": [
    "df = pd.read_csv('subwayfee.csv', encoding='cp949')\n",
    "\n"
   ]
  },
  {
   "cell_type": "code",
   "execution_count": 6,
   "metadata": {},
   "outputs": [],
   "source": [
    "df.head()"
   ]
  },
  {
   "cell_type": "code",
   "execution_count": 8,
   "metadata": {},
   "outputs": [],
   "source": [
    "df['사용월'].unique()"
   ]
  },
  {
   "cell_type": "code",
   "execution_count": 9,
   "metadata": {},
   "outputs": [],
   "source": [
    "df.shape"
   ]
  },
  {
   "cell_type": "code",
   "execution_count": 10,
   "metadata": {},
   "outputs": [],
   "source": [
    "df.describe()"
   ]
  },
  {
   "cell_type": "markdown",
   "metadata": {},
   "source": [
    "## 실습 0. 유임승차, 유임하차, 무임승차, 무임하차 4가지 별로,  각각 가장 많은 역을 찾아보세요."
   ]
  },
  {
   "cell_type": "code",
   "execution_count": 3,
   "metadata": {},
   "outputs": [],
   "source": [
    "df['유임승차'].max() == df['유임승차']"
   ]
  },
  {
   "cell_type": "code",
   "execution_count": 4,
   "metadata": {},
   "outputs": [],
   "source": [
    "paidOn = df.loc[ df['유임승차'] == df['유임승차'].max() , ]\n",
    "paidOn['지하철역']"
   ]
  },
  {
   "cell_type": "code",
   "execution_count": 5,
   "metadata": {},
   "outputs": [],
   "source": [
    "paidOff = df.loc[ df['유임하차'] == df['유임하차'].max() , ]\n",
    "paidOff['지하철역']"
   ]
  },
  {
   "cell_type": "code",
   "execution_count": 7,
   "metadata": {},
   "outputs": [],
   "source": [
    "unpaidOn = df.loc[ df['무임승차'] == df['무임승차'].max() , ]\n",
    "unpaidOn['지하철역']"
   ]
  },
  {
   "cell_type": "code",
   "execution_count": 8,
   "metadata": {},
   "outputs": [],
   "source": [
    "unpaidOff = df.loc[ df['무임하차'] == df['무임하차'].max() , ]\n",
    "unpaidOff['지하철역']"
   ]
  },
  {
   "cell_type": "markdown",
   "metadata": {},
   "source": [
    "## 실습 1. 무임승차 대비 유임승차 비율이 가장 높은 역은 어디입니까?"
   ]
  },
  {
   "cell_type": "code",
   "execution_count": 28,
   "metadata": {},
   "outputs": [],
   "source": [
    "df.head(2)"
   ]
  },
  {
   "cell_type": "code",
   "execution_count": 98,
   "metadata": {},
   "outputs": [],
   "source": [
    "# 비율은 유임승차에서 무임승차를 나누기 \n",
    "\n",
    "df['무임승차_유임승차_비율'] = (df['유임승차'] / df['무임승차'])"
   ]
  },
  {
   "cell_type": "code",
   "execution_count": 101,
   "metadata": {},
   "outputs": [],
   "source": [
    "#df['무임승차_유임승차_비율'].max()"
   ]
  },
  {
   "cell_type": "code",
   "execution_count": 103,
   "metadata": {},
   "outputs": [],
   "source": [
    "#결과값이 inf 무한반복이라는 뜻\n",
    "# 그래서 0인 데이터를 찾아봐야함\n",
    "# 비율 구할 때 0으로 나눴을 때 inf가 나옴\n",
    "df.loc[ df['무임승차'] == 0, ]"
   ]
  },
  {
   "cell_type": "code",
   "execution_count": 11,
   "metadata": {},
   "outputs": [],
   "source": [
    "# 무임승차 컬럼이 0이 아닌 데이터를 가져와서 하자  \n",
    "# .copu()메소드를 사용해서 뒤에 넣어준다 . 그래야 원래 df DataFrame이 변경이 안된다 \n",
    "#.copy()\n",
    "notZero = df.loc[ df['무임승차'] != 0 , ].copy()"
   ]
  },
  {
   "cell_type": "code",
   "execution_count": 12,
   "metadata": {},
   "outputs": [],
   "source": [
    "notZero.loc[ notZero['무임승차_유임승차_비율'] == notZero['무임승차_유임승차_비율'].max() , ]"
   ]
  },
  {
   "cell_type": "code",
   "execution_count": null,
   "metadata": {},
   "outputs": [],
   "source": []
  },
  {
   "cell_type": "code",
   "execution_count": null,
   "metadata": {},
   "outputs": [],
   "source": []
  },
  {
   "cell_type": "markdown",
   "metadata": {},
   "source": [
    "## 실습 2. 전체승차인원(유임+무임)이 만명이상인 역 중, 유임승차 비율이 가장 높은 역은 어디입니까?"
   ]
  },
  {
   "cell_type": "code",
   "execution_count": 42,
   "metadata": {},
   "outputs": [],
   "source": [
    "df.info()"
   ]
  },
  {
   "cell_type": "code",
   "execution_count": 43,
   "metadata": {},
   "outputs": [],
   "source": [
    "df['유임승차'] + df['무임승차'] >= 10000"
   ]
  },
  {
   "cell_type": "code",
   "execution_count": 127,
   "metadata": {},
   "outputs": [],
   "source": [
    "passenger = df.loc[ df['유임승차'] + df['무임승차'] >= 10000, ]"
   ]
  },
  {
   "cell_type": "code",
   "execution_count": 130,
   "metadata": {},
   "outputs": [],
   "source": [
    "passenger.loc [ passenger['무임승차_유임승차_비율'].max() == passenger['무임승차_유임승차_비율'], ]"
   ]
  },
  {
   "cell_type": "code",
   "execution_count": 131,
   "metadata": {},
   "outputs": [],
   "source": [
    "passenger.loc [ passenger['무임승차_유임승차_비율'].max() == passenger['무임승차_유임승차_비율'], ]['지하철역']"
   ]
  },
  {
   "cell_type": "code",
   "execution_count": null,
   "metadata": {},
   "outputs": [],
   "source": []
  },
  {
   "cell_type": "markdown",
   "metadata": {},
   "source": [
    "## 실습 3. 모든 역의 유임승차, 유임하차, 무임 승차, 무임하차, 총 4개를, 파이차트로 나타내세요."
   ]
  },
  {
   "cell_type": "code",
   "execution_count": 51,
   "metadata": {},
   "outputs": [],
   "source": [
    "df.head()"
   ]
  },
  {
   "cell_type": "code",
   "execution_count": 73,
   "metadata": {},
   "outputs": [],
   "source": [
    "#paidOn_station = df.groupby('지하철역')['유임승차'].value_counts()\n",
    "\n",
    "#df.groupby('지하철역')['유임승차'].value_counts()"
   ]
  },
  {
   "cell_type": "code",
   "execution_count": 75,
   "metadata": {},
   "outputs": [],
   "source": [
    "df['유임승차'].sum()\n",
    "df['유임하차'].sum()\n",
    "df['무임승차'].sum()\n",
    "df['무임하차'].sum()\n",
    "\n"
   ]
  },
  {
   "cell_type": "code",
   "execution_count": 80,
   "metadata": {},
   "outputs": [],
   "source": [
    "myData = [ \n",
    "    df['유임승차'].sum(),\n",
    "    df['유임하차'].sum(),\n",
    "    df['무임승차'].sum(),\n",
    "    df['무임하차'].sum()\n",
    "]\n",
    "allStations = pd.Series(data=myData, index=['유임승차', '유임하차', '무임승차', '무임하차'] )\n",
    "\n",
    "#pd.DataFrame()"
   ]
  },
  {
   "cell_type": "code",
   "execution_count": 81,
   "metadata": {},
   "outputs": [],
   "source": [
    "allStations"
   ]
  },
  {
   "cell_type": "code",
   "execution_count": 22,
   "metadata": {},
   "outputs": [],
   "source": [
    "plt.pie(allStations, labels=allStations.index, autopct='%.2f')\n",
    "plt.show()"
   ]
  },
  {
   "cell_type": "code",
   "execution_count": 134,
   "metadata": {},
   "outputs": [],
   "source": [
    "df.groupby('지하철역')['유임승차'].value_counts()"
   ]
  },
  {
   "cell_type": "code",
   "execution_count": 18,
   "metadata": {},
   "outputs": [],
   "source": [
    "#서울역의 데이터 받아오기 iloc\n",
    "\n",
    "allStations = df.iloc[ 0, 4: 7+1 ]"
   ]
  },
  {
   "cell_type": "code",
   "execution_count": 144,
   "metadata": {},
   "outputs": [],
   "source": []
  },
  {
   "cell_type": "code",
   "execution_count": 20,
   "metadata": {},
   "outputs": [],
   "source": [
    "plt.pie(allStations, labels=allStations.index, autopct='%.2f')\n",
    "plt.show()\n",
    "#plt.title( )\n",
    "\n",
    "#여기서 타이틀은 df에서 '지하철역' 컬럼을 불러오면 됨\n",
    "#위의 코드가 반복이 되는데 모든역을 불러와서 계속 반복시키면 모든 역을 볼 수 있다\n"
   ]
  },
  {
   "cell_type": "code",
   "execution_count": 139,
   "metadata": {},
   "outputs": [],
   "source": [
    "df.shape\n",
    "# shape 속성을 보면 튜플형태로 나오는데, 인덱스로 받아올 수 있음"
   ]
  },
  {
   "cell_type": "code",
   "execution_count": 140,
   "metadata": {},
   "outputs": [],
   "source": [
    "df.shape[0]"
   ]
  },
  {
   "cell_type": "code",
   "execution_count": 13,
   "metadata": {},
   "outputs": [],
   "source": [
    "# 이런식으로 하면 역 이름을 불러올 수 있고 plt.title()에 넣어주면 된다\n",
    "df.iloc[0, 3]"
   ]
  },
  {
   "cell_type": "code",
   "execution_count": 16,
   "metadata": {},
   "outputs": [],
   "source": [
    "i = 0\n",
    "while i < df.shape[0]:\n",
    "    allStations = df.iloc[ i, 4: 7+1 ]\n",
    "    plt.pie(allStations, labels=allStations.index, autopct='%.2f')\n",
    "    plt.title( df.iloc[i, 3])\n",
    "    plt.show()\n",
    "    i += 1\n",
    "    \n",
    "# for문으로 구성할려면 range()를 이용하면 된다\n",
    "#for i in range(0, df.shape[0]):"
   ]
  },
  {
   "cell_type": "code",
   "execution_count": null,
   "metadata": {},
   "outputs": [],
   "source": []
  },
  {
   "cell_type": "code",
   "execution_count": null,
   "metadata": {},
   "outputs": [],
   "source": []
  },
  {
   "cell_type": "code",
   "execution_count": null,
   "metadata": {},
   "outputs": [],
   "source": []
  },
  {
   "cell_type": "code",
   "execution_count": null,
   "metadata": {},
   "outputs": [],
   "source": []
  }
 ],
 "metadata": {
  "kernelspec": {
   "display_name": "Python 3",
   "language": "python",
   "name": "python3"
  },
  "language_info": {
   "codemirror_mode": {
    "name": "ipython",
    "version": 3
   },
   "file_extension": ".py",
   "mimetype": "text/x-python",
   "name": "python",
   "nbconvert_exporter": "python",
   "pygments_lexer": "ipython3",
   "version": "3.9.1"
  }
 },
 "nbformat": 4,
 "nbformat_minor": 2
}