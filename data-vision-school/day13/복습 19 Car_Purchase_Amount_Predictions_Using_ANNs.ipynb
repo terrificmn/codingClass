{
  "cells": [
    {
      "cell_type": "markdown",
      "metadata": {
        "id": "gD2TuCquRtMj"
      },
      "source": [
        "\n",
        "# 자동차 구매 가격 예측\n",
        "\n"
      ]
    },
    {
      "cell_type": "markdown",
      "metadata": {
        "id": "QRnoEP0pRtMp"
      },
      "source": [
        "# PROBLEM STATEMENT"
      ]
    },
    {
      "cell_type": "markdown",
      "metadata": {
        "id": "5rNFkL8VRtMq"
      },
      "source": [
        "다음과 같은 컬럼을 가지고 있는 데이터셋을 읽어서, 어떠한 고객이 있을때, 그 고객이 얼마정도의 차를 구매할 수 있을지를 예측하여, 그 사람에게 맞는 자동차를 보여주려 한다. \n",
        "\n",
        "- Customer Name\n",
        "- Customer e-mail\n",
        "- Country\n",
        "- Gender\n",
        "- Age\n",
        "- Annual Salary \n",
        "- Credit Card Debt \n",
        "- Net Worth (순자산)\n",
        "\n",
        "예측하고자 하는 값 : \n",
        "- Car Purchase Amount "
      ]
    },
    {
      "cell_type": "markdown",
      "metadata": {
        "id": "emqhj28LRtMq"
      },
      "source": [
        "# STEP #0: 라이브러리 임포트 및 코랩 환경 설정\n",
        "\n",
        "[구글 드라이브 파일 읽기 참고](https://vision-ai.tistory.com/entry/%EC%BD%94%EB%9E%A9%EC%97%90%EC%84%9C-%EB%93%9C%EB%9D%BC%EC%9D%B4%EB%B8%8C%EC%9D%98-csv-%ED%8C%8C%EC%9D%BC-%EC%9D%BD%EA%B8%B0)\n"
      ]
    },
    {
      "cell_type": "code",
      "execution_count": 1,
      "metadata": {
        "id": "6UkIIBVDRtMq"
      },
      "outputs": [],
      "source": [
        "import pandas as pd\n",
        "import numpy as np\n",
        "import matplotlib.pyplot as plt\n",
        "import seaborn as sns"
      ]
    },
    {
      "cell_type": "markdown",
      "metadata": {
        "id": "g8b_k5HeStq9"
      },
      "source": [
        "### csv 파일을 읽기 위해, 구글 드라이브 마운트 하시오"
      ]
    },
    {
      "cell_type": "code",
      "execution_count": null,
      "metadata": {
        "id": "EhM6pyg-F1ai"
      },
      "outputs": [],
      "source": []
    },
    {
      "cell_type": "markdown",
      "metadata": {
        "id": "CNLSpzbX89lJ"
      },
      "source": [
        "### working directory 를, 현재의 파일이 속한 폴더로 셋팅하시오."
      ]
    },
    {
      "cell_type": "code",
      "execution_count": null,
      "metadata": {
        "id": "8jgYFjOBF2dp"
      },
      "outputs": [],
      "source": []
    },
    {
      "cell_type": "markdown",
      "metadata": {
        "id": "iaD06IN0RtMr"
      },
      "source": [
        "# STEP #1: IMPORT DATASET\n",
        "\n",
        "### Car_Purchasing_Data.csv 파일을 사용한다.  코랩의 경우 구글드라이브의 전체경로를 복사하여 파일 읽는다. \n",
        "\n",
        "### 인코딩은 다음처럼 한다. encoding='ISO-8859-1'"
      ]
    },
    {
      "cell_type": "code",
      "execution_count": 2,
      "metadata": {
        "id": "v_R7bKO1RtMr"
      },
      "outputs": [],
      "source": [
        "car_df = pd.read_csv('Car_Purchasing_Data.csv', encoding='ISO-8859-1')\n"
      ]
    },
    {
      "cell_type": "markdown",
      "metadata": {
        "id": "MSMajJ77Uz1I"
      },
      "source": [
        "### 컬럼을 확인하고\n",
        "\n",
        "### 기본 통계 데이터를 확인해 보자"
      ]
    },
    {
      "cell_type": "code",
      "execution_count": 3,
      "metadata": {
        "id": "7KI4ylVmF88r"
      },
      "outputs": [
        {
          "data": {
            "text/html": "<div>\n<style scoped>\n    .dataframe tbody tr th:only-of-type {\n        vertical-align: middle;\n    }\n\n    .dataframe tbody tr th {\n        vertical-align: top;\n    }\n\n    .dataframe thead th {\n        text-align: right;\n    }\n</style>\n<table border=\"1\" class=\"dataframe\">\n  <thead>\n    <tr style=\"text-align: right;\">\n      <th></th>\n      <th>Customer Name</th>\n      <th>Customer e-mail</th>\n      <th>Country</th>\n      <th>Gender</th>\n      <th>Age</th>\n      <th>Annual Salary</th>\n      <th>Credit Card Debt</th>\n      <th>Net Worth</th>\n      <th>Car Purchase Amount</th>\n    </tr>\n  </thead>\n  <tbody>\n    <tr>\n      <th>0</th>\n      <td>Martina Avila</td>\n      <td>cubilia.Curae.Phasellus@quisaccumsanconvallis.edu</td>\n      <td>Bulgaria</td>\n      <td>0</td>\n      <td>41.851720</td>\n      <td>62812.09301</td>\n      <td>11609.380910</td>\n      <td>238961.2505</td>\n      <td>35321.45877</td>\n    </tr>\n    <tr>\n      <th>1</th>\n      <td>Harlan Barnes</td>\n      <td>eu.dolor@diam.co.uk</td>\n      <td>Belize</td>\n      <td>0</td>\n      <td>40.870623</td>\n      <td>66646.89292</td>\n      <td>9572.957136</td>\n      <td>530973.9078</td>\n      <td>45115.52566</td>\n    </tr>\n    <tr>\n      <th>2</th>\n      <td>Naomi Rodriquez</td>\n      <td>vulputate.mauris.sagittis@ametconsectetueradip...</td>\n      <td>Algeria</td>\n      <td>1</td>\n      <td>43.152897</td>\n      <td>53798.55112</td>\n      <td>11160.355060</td>\n      <td>638467.1773</td>\n      <td>42925.70921</td>\n    </tr>\n    <tr>\n      <th>3</th>\n      <td>Jade Cunningham</td>\n      <td>malesuada@dignissim.com</td>\n      <td>Cook Islands</td>\n      <td>1</td>\n      <td>58.271369</td>\n      <td>79370.03798</td>\n      <td>14426.164850</td>\n      <td>548599.0524</td>\n      <td>67422.36313</td>\n    </tr>\n    <tr>\n      <th>4</th>\n      <td>Cedric Leach</td>\n      <td>felis.ullamcorper.viverra@egetmollislectus.net</td>\n      <td>Brazil</td>\n      <td>1</td>\n      <td>57.313749</td>\n      <td>59729.15130</td>\n      <td>5358.712177</td>\n      <td>560304.0671</td>\n      <td>55915.46248</td>\n    </tr>\n    <tr>\n      <th>...</th>\n      <td>...</td>\n      <td>...</td>\n      <td>...</td>\n      <td>...</td>\n      <td>...</td>\n      <td>...</td>\n      <td>...</td>\n      <td>...</td>\n      <td>...</td>\n    </tr>\n    <tr>\n      <th>495</th>\n      <td>Walter</td>\n      <td>ligula@Cumsociis.ca</td>\n      <td>Nepal</td>\n      <td>0</td>\n      <td>41.462515</td>\n      <td>71942.40291</td>\n      <td>6995.902524</td>\n      <td>541670.1016</td>\n      <td>48901.44342</td>\n    </tr>\n    <tr>\n      <th>496</th>\n      <td>Vanna</td>\n      <td>Cum.sociis.natoque@Sedmolestie.edu</td>\n      <td>Zimbabwe</td>\n      <td>1</td>\n      <td>37.642000</td>\n      <td>56039.49793</td>\n      <td>12301.456790</td>\n      <td>360419.0988</td>\n      <td>31491.41457</td>\n    </tr>\n    <tr>\n      <th>497</th>\n      <td>Pearl</td>\n      <td>penatibus.et@massanonante.com</td>\n      <td>Philippines</td>\n      <td>1</td>\n      <td>53.943497</td>\n      <td>68888.77805</td>\n      <td>10611.606860</td>\n      <td>764531.3203</td>\n      <td>64147.28888</td>\n    </tr>\n    <tr>\n      <th>498</th>\n      <td>Nell</td>\n      <td>Quisque.varius@arcuVivamussit.net</td>\n      <td>Botswana</td>\n      <td>1</td>\n      <td>59.160509</td>\n      <td>49811.99062</td>\n      <td>14013.034510</td>\n      <td>337826.6382</td>\n      <td>45442.15353</td>\n    </tr>\n    <tr>\n      <th>499</th>\n      <td>Marla</td>\n      <td>Camaron.marla@hotmail.com</td>\n      <td>marlal</td>\n      <td>1</td>\n      <td>46.731152</td>\n      <td>61370.67766</td>\n      <td>9391.341628</td>\n      <td>462946.4924</td>\n      <td>45107.22566</td>\n    </tr>\n  </tbody>\n</table>\n<p>500 rows × 9 columns</p>\n</div>",
            "text/plain": "       Customer Name                                    Customer e-mail  \\\n0      Martina Avila  cubilia.Curae.Phasellus@quisaccumsanconvallis.edu   \n1      Harlan Barnes                                eu.dolor@diam.co.uk   \n2    Naomi Rodriquez  vulputate.mauris.sagittis@ametconsectetueradip...   \n3    Jade Cunningham                            malesuada@dignissim.com   \n4       Cedric Leach     felis.ullamcorper.viverra@egetmollislectus.net   \n..               ...                                                ...   \n495           Walter                                ligula@Cumsociis.ca   \n496            Vanna                 Cum.sociis.natoque@Sedmolestie.edu   \n497            Pearl                      penatibus.et@massanonante.com   \n498             Nell                  Quisque.varius@arcuVivamussit.net   \n499            Marla                          Camaron.marla@hotmail.com   \n\n          Country  Gender        Age  Annual Salary  Credit Card Debt  \\\n0        Bulgaria       0  41.851720    62812.09301      11609.380910   \n1          Belize       0  40.870623    66646.89292       9572.957136   \n2         Algeria       1  43.152897    53798.55112      11160.355060   \n3    Cook Islands       1  58.271369    79370.03798      14426.164850   \n4          Brazil       1  57.313749    59729.15130       5358.712177   \n..            ...     ...        ...            ...               ...   \n495         Nepal       0  41.462515    71942.40291       6995.902524   \n496      Zimbabwe       1  37.642000    56039.49793      12301.456790   \n497   Philippines       1  53.943497    68888.77805      10611.606860   \n498      Botswana       1  59.160509    49811.99062      14013.034510   \n499        marlal       1  46.731152    61370.67766       9391.341628   \n\n       Net Worth  Car Purchase Amount  \n0    238961.2505          35321.45877  \n1    530973.9078          45115.52566  \n2    638467.1773          42925.70921  \n3    548599.0524          67422.36313  \n4    560304.0671          55915.46248  \n..           ...                  ...  \n495  541670.1016          48901.44342  \n496  360419.0988          31491.41457  \n497  764531.3203          64147.28888  \n498  337826.6382          45442.15353  \n499  462946.4924          45107.22566  \n\n[500 rows x 9 columns]"
          },
          "execution_count": 3,
          "metadata": {},
          "output_type": "execute_result"
        }
      ],
      "source": [
        "car_df"
      ]
    },
    {
      "cell_type": "code",
      "execution_count": null,
      "metadata": {
        "id": "Rfl0rO5mF8yv"
      },
      "outputs": [],
      "source": []
    },
    {
      "cell_type": "markdown",
      "metadata": {
        "id": "lS_Cb9X-VK2B"
      },
      "source": [
        "### 연봉이 가장 높은 사람은 누구인가"
      ]
    },
    {
      "cell_type": "code",
      "execution_count": 4,
      "metadata": {
        "id": "4woHSrv-F-pU"
      },
      "outputs": [
        {
          "data": {
            "text/html": "<div>\n<style scoped>\n    .dataframe tbody tr th:only-of-type {\n        vertical-align: middle;\n    }\n\n    .dataframe tbody tr th {\n        vertical-align: top;\n    }\n\n    .dataframe thead th {\n        text-align: right;\n    }\n</style>\n<table border=\"1\" class=\"dataframe\">\n  <thead>\n    <tr style=\"text-align: right;\">\n      <th></th>\n      <th>Customer Name</th>\n      <th>Customer e-mail</th>\n      <th>Country</th>\n      <th>Gender</th>\n      <th>Age</th>\n      <th>Annual Salary</th>\n      <th>Credit Card Debt</th>\n      <th>Net Worth</th>\n      <th>Car Purchase Amount</th>\n    </tr>\n  </thead>\n  <tbody>\n    <tr>\n      <th>28</th>\n      <td>Gemma Hendrix</td>\n      <td>lobortis@non.co.uk</td>\n      <td>Denmark</td>\n      <td>1</td>\n      <td>46.124036</td>\n      <td>100000.0</td>\n      <td>17452.92179</td>\n      <td>188032.0778</td>\n      <td>58350.31809</td>\n    </tr>\n  </tbody>\n</table>\n</div>",
            "text/plain": "    Customer Name     Customer e-mail  Country  Gender        Age  \\\n28  Gemma Hendrix  lobortis@non.co.uk  Denmark       1  46.124036   \n\n    Annual Salary  Credit Card Debt    Net Worth  Car Purchase Amount  \n28       100000.0       17452.92179  188032.0778          58350.31809  "
          },
          "execution_count": 4,
          "metadata": {},
          "output_type": "execute_result"
        }
      ],
      "source": [
        "car_df.loc[ car_df['Annual Salary'] == car_df['Annual Salary'].max(), ]"
      ]
    },
    {
      "cell_type": "markdown",
      "metadata": {
        "id": "m2CHsfoiVQfz"
      },
      "source": [
        "### 나이가 가장 어린 고객은, 연봉이 얼마인가"
      ]
    },
    {
      "cell_type": "code",
      "execution_count": 5,
      "metadata": {
        "id": "YivXbVo1V55m"
      },
      "outputs": [
        {
          "data": {
            "text/html": "<div>\n<style scoped>\n    .dataframe tbody tr th:only-of-type {\n        vertical-align: middle;\n    }\n\n    .dataframe tbody tr th {\n        vertical-align: top;\n    }\n\n    .dataframe thead th {\n        text-align: right;\n    }\n</style>\n<table border=\"1\" class=\"dataframe\">\n  <thead>\n    <tr style=\"text-align: right;\">\n      <th></th>\n      <th>Customer Name</th>\n      <th>Customer e-mail</th>\n      <th>Country</th>\n      <th>Gender</th>\n      <th>Age</th>\n      <th>Annual Salary</th>\n      <th>Credit Card Debt</th>\n      <th>Net Worth</th>\n      <th>Car Purchase Amount</th>\n    </tr>\n  </thead>\n  <tbody>\n    <tr>\n      <th>444</th>\n      <td>Camden</td>\n      <td>Aliquam.adipiscing.lobortis@loremut.net</td>\n      <td>Congo (Brazzaville)</td>\n      <td>1</td>\n      <td>20.0</td>\n      <td>70467.29492</td>\n      <td>100.0</td>\n      <td>494606.6334</td>\n      <td>28645.39425</td>\n    </tr>\n  </tbody>\n</table>\n</div>",
            "text/plain": "    Customer Name                          Customer e-mail  \\\n444        Camden  Aliquam.adipiscing.lobortis@loremut.net   \n\n                 Country  Gender   Age  Annual Salary  Credit Card Debt  \\\n444  Congo (Brazzaville)       1  20.0    70467.29492             100.0   \n\n       Net Worth  Car Purchase Amount  \n444  494606.6334          28645.39425  "
          },
          "execution_count": 5,
          "metadata": {},
          "output_type": "execute_result"
        }
      ],
      "source": [
        "car_df.loc[ car_df['Age'] == car_df['Age'].min(), ]"
      ]
    },
    {
      "cell_type": "code",
      "execution_count": null,
      "metadata": {
        "id": "U462pATrF__r"
      },
      "outputs": [],
      "source": []
    },
    {
      "cell_type": "markdown",
      "metadata": {
        "id": "GC2XKKZaRtMt"
      },
      "source": [
        "# STEP #2: VISUALIZE DATASET\n",
        "\n",
        "### 상관관계를 분석하기 위해, pairplot 을 그려보자."
      ]
    },
    {
      "cell_type": "code",
      "execution_count": null,
      "metadata": {
        "id": "EApRuTfGGClX"
      },
      "outputs": [],
      "source": []
    },
    {
      "cell_type": "markdown",
      "metadata": {
        "id": "hIp7mXXCRtMt"
      },
      "source": [
        "# STEP #3: CREATE TESTING AND TRAINING DATASET/DATA CLEANING\n",
        "\n",
        "\n"
      ]
    },
    {
      "cell_type": "markdown",
      "metadata": {
        "id": "iOqG1_TJWWbL"
      },
      "source": [
        "### NaN 값이 있으면, 이를 해결하시오."
      ]
    },
    {
      "cell_type": "code",
      "execution_count": 6,
      "metadata": {
        "id": "uxgGMPS9GDyM"
      },
      "outputs": [
        {
          "data": {
            "text/plain": "Customer Name          0\nCustomer e-mail        0\nCountry                0\nGender                 0\nAge                    0\nAnnual Salary          0\nCredit Card Debt       0\nNet Worth              0\nCar Purchase Amount    0\ndtype: int64"
          },
          "execution_count": 6,
          "metadata": {},
          "output_type": "execute_result"
        }
      ],
      "source": [
        "car_df.isna().sum()"
      ]
    },
    {
      "cell_type": "markdown",
      "metadata": {
        "id": "M6JnbJJtWcgN"
      },
      "source": [
        "### 학습을 위해 'Customer Name', 'Customer e-mail', 'Country', 'Car Purchase Amount' 컬럼을 제외한 컬럼만, X로 만드시오."
      ]
    },
    {
      "cell_type": "code",
      "execution_count": 7,
      "metadata": {},
      "outputs": [
        {
          "data": {
            "text/html": "<div>\n<style scoped>\n    .dataframe tbody tr th:only-of-type {\n        vertical-align: middle;\n    }\n\n    .dataframe tbody tr th {\n        vertical-align: top;\n    }\n\n    .dataframe thead th {\n        text-align: right;\n    }\n</style>\n<table border=\"1\" class=\"dataframe\">\n  <thead>\n    <tr style=\"text-align: right;\">\n      <th></th>\n      <th>Customer Name</th>\n      <th>Customer e-mail</th>\n      <th>Country</th>\n      <th>Gender</th>\n      <th>Age</th>\n      <th>Annual Salary</th>\n      <th>Credit Card Debt</th>\n      <th>Net Worth</th>\n      <th>Car Purchase Amount</th>\n    </tr>\n  </thead>\n  <tbody>\n    <tr>\n      <th>0</th>\n      <td>Martina Avila</td>\n      <td>cubilia.Curae.Phasellus@quisaccumsanconvallis.edu</td>\n      <td>Bulgaria</td>\n      <td>0</td>\n      <td>41.851720</td>\n      <td>62812.09301</td>\n      <td>11609.380910</td>\n      <td>238961.2505</td>\n      <td>35321.45877</td>\n    </tr>\n    <tr>\n      <th>1</th>\n      <td>Harlan Barnes</td>\n      <td>eu.dolor@diam.co.uk</td>\n      <td>Belize</td>\n      <td>0</td>\n      <td>40.870623</td>\n      <td>66646.89292</td>\n      <td>9572.957136</td>\n      <td>530973.9078</td>\n      <td>45115.52566</td>\n    </tr>\n    <tr>\n      <th>2</th>\n      <td>Naomi Rodriquez</td>\n      <td>vulputate.mauris.sagittis@ametconsectetueradip...</td>\n      <td>Algeria</td>\n      <td>1</td>\n      <td>43.152897</td>\n      <td>53798.55112</td>\n      <td>11160.355060</td>\n      <td>638467.1773</td>\n      <td>42925.70921</td>\n    </tr>\n    <tr>\n      <th>3</th>\n      <td>Jade Cunningham</td>\n      <td>malesuada@dignissim.com</td>\n      <td>Cook Islands</td>\n      <td>1</td>\n      <td>58.271369</td>\n      <td>79370.03798</td>\n      <td>14426.164850</td>\n      <td>548599.0524</td>\n      <td>67422.36313</td>\n    </tr>\n    <tr>\n      <th>4</th>\n      <td>Cedric Leach</td>\n      <td>felis.ullamcorper.viverra@egetmollislectus.net</td>\n      <td>Brazil</td>\n      <td>1</td>\n      <td>57.313749</td>\n      <td>59729.15130</td>\n      <td>5358.712177</td>\n      <td>560304.0671</td>\n      <td>55915.46248</td>\n    </tr>\n  </tbody>\n</table>\n</div>",
            "text/plain": "     Customer Name                                    Customer e-mail  \\\n0    Martina Avila  cubilia.Curae.Phasellus@quisaccumsanconvallis.edu   \n1    Harlan Barnes                                eu.dolor@diam.co.uk   \n2  Naomi Rodriquez  vulputate.mauris.sagittis@ametconsectetueradip...   \n3  Jade Cunningham                            malesuada@dignissim.com   \n4     Cedric Leach     felis.ullamcorper.viverra@egetmollislectus.net   \n\n        Country  Gender        Age  Annual Salary  Credit Card Debt  \\\n0      Bulgaria       0  41.851720    62812.09301      11609.380910   \n1        Belize       0  40.870623    66646.89292       9572.957136   \n2       Algeria       1  43.152897    53798.55112      11160.355060   \n3  Cook Islands       1  58.271369    79370.03798      14426.164850   \n4        Brazil       1  57.313749    59729.15130       5358.712177   \n\n     Net Worth  Car Purchase Amount  \n0  238961.2505          35321.45877  \n1  530973.9078          45115.52566  \n2  638467.1773          42925.70921  \n3  548599.0524          67422.36313  \n4  560304.0671          55915.46248  "
          },
          "execution_count": 7,
          "metadata": {},
          "output_type": "execute_result"
        }
      ],
      "source": [
        "car_df.head()"
      ]
    },
    {
      "cell_type": "code",
      "execution_count": 8,
      "metadata": {
        "id": "czv4afywRtMu"
      },
      "outputs": [],
      "source": [
        "X = car_df.iloc[ :, 4: -2+1]"
      ]
    },
    {
      "cell_type": "markdown",
      "metadata": {
        "id": "hmi3hhD8W5cE"
      },
      "source": [
        "### y 값은 'Car Purchase Amount' 컬럼으로 셋팅하시오."
      ]
    },
    {
      "cell_type": "code",
      "execution_count": 9,
      "metadata": {
        "id": "d_yCX1dYRtMu"
      },
      "outputs": [],
      "source": [
        "y = car_df['Car Purchase Amount']"
      ]
    },
    {
      "cell_type": "markdown",
      "metadata": {
        "id": "xDlscefZXCKM"
      },
      "source": [
        "### 피처 스케일링 하겠습니다. 정규화(normalization)를 사용합니다. MinMaxScaler 를 이용하시오."
      ]
    },
    {
      "cell_type": "code",
      "execution_count": 10,
      "metadata": {
        "id": "XhwGquGcGMFm"
      },
      "outputs": [],
      "source": [
        "from sklearn.preprocessing import MinMaxScaler"
      ]
    },
    {
      "cell_type": "code",
      "execution_count": 11,
      "metadata": {
        "id": "yt4lqYwYGL5_"
      },
      "outputs": [],
      "source": [
        "mm = MinMaxScaler()"
      ]
    },
    {
      "cell_type": "code",
      "execution_count": 12,
      "metadata": {
        "id": "75TWLi0LGLtW"
      },
      "outputs": [],
      "source": [
        "X = mm.fit_transform(X)"
      ]
    },
    {
      "cell_type": "code",
      "execution_count": null,
      "metadata": {
        "id": "cOY3z6B4GLZS"
      },
      "outputs": [],
      "source": []
    },
    {
      "cell_type": "markdown",
      "metadata": {
        "id": "ZV_ddN6vXbu-"
      },
      "source": [
        "### 학습을 위해서, y 의 shape 을 변경하시오."
      ]
    },
    {
      "cell_type": "code",
      "execution_count": 13,
      "metadata": {
        "id": "BtiGUumEGO9p"
      },
      "outputs": [
        {
          "data": {
            "text/plain": "(500,)"
          },
          "execution_count": 13,
          "metadata": {},
          "output_type": "execute_result"
        }
      ],
      "source": [
        "y.shape"
      ]
    },
    {
      "cell_type": "code",
      "execution_count": 14,
      "metadata": {
        "id": "9vZHypg0GO2G"
      },
      "outputs": [],
      "source": [
        "# 현재 y는 pandas.core.series.Series 인데 shape변경을 하려면\n",
        "# reshape를 해야하는데 이것은 판다스에 없다. numpy에 있으므로 \n",
        "# pandas 자체는 numpy로 되어 있기 때문에 \n",
        "# values 속성을 이용해서 값들도 다시 저장해주면 \n",
        "# 넘파이 배열이 되어서 numpy.ndarray\n",
        "# 드디어 reshape을 할 수 있음\n",
        "y = y.values"
      ]
    },
    {
      "cell_type": "code",
      "execution_count": 15,
      "metadata": {
        "id": "aJYqGV16GOsx"
      },
      "outputs": [
        {
          "data": {
            "text/plain": "numpy.ndarray"
          },
          "execution_count": 15,
          "metadata": {},
          "output_type": "execute_result"
        }
      ],
      "source": [
        "type(y)"
      ]
    },
    {
      "cell_type": "code",
      "execution_count": 16,
      "metadata": {},
      "outputs": [],
      "source": [
        "y = y.reshape(-1, 1)"
      ]
    },
    {
      "cell_type": "markdown",
      "metadata": {
        "id": "QL6cexP2Xlr9"
      },
      "source": [
        "### y 도 피처 스케일링 하겠습니다. X 처럼 y도 노멀라이징 하시오."
      ]
    },
    {
      "cell_type": "code",
      "execution_count": 17,
      "metadata": {
        "id": "pgq2-ThbGQe2"
      },
      "outputs": [],
      "source": [
        "mm_y = MinMaxScaler()"
      ]
    },
    {
      "cell_type": "code",
      "execution_count": 18,
      "metadata": {
        "id": "uP4b7L1LGQVM"
      },
      "outputs": [],
      "source": [
        "y = mm_y.fit_transform(y)"
      ]
    },
    {
      "cell_type": "code",
      "execution_count": null,
      "metadata": {
        "id": "eSpTKt7uGQLr"
      },
      "outputs": [],
      "source": []
    },
    {
      "cell_type": "markdown",
      "metadata": {
        "id": "tdIyXRRWRtMx"
      },
      "source": [
        "# STEP#4: TRAINING THE MODEL"
      ]
    },
    {
      "cell_type": "markdown",
      "metadata": {
        "id": "rJrL9OePX2QV"
      },
      "source": [
        "### 트레이닝셋과 테스트셋으로 분리하시오. (테스트 사이즈는 25%로 하며, 동일 결과를 위해 랜덤스테이트는 50 으로 셋팅하시오.)"
      ]
    },
    {
      "cell_type": "code",
      "execution_count": 19,
      "metadata": {
        "id": "EeRpttvUGSn9"
      },
      "outputs": [],
      "source": [
        "from sklearn.model_selection import train_test_split"
      ]
    },
    {
      "cell_type": "code",
      "execution_count": 20,
      "metadata": {
        "id": "yTiMT84WGSg7"
      },
      "outputs": [],
      "source": [
        "X_train, X_test, y_train, y_test = train_test_split(X, y, test_size=0.25, random_state=8282)"
      ]
    },
    {
      "cell_type": "markdown",
      "metadata": {
        "id": "CV0PTX7_Yo_-"
      },
      "source": [
        "### 아래 라이브러리를 임포트 하시오"
      ]
    },
    {
      "cell_type": "code",
      "execution_count": 21,
      "metadata": {
        "id": "QyL8e6JtYkvT"
      },
      "outputs": [],
      "source": [
        "import tensorflow.keras\n",
        "from keras.models import Sequential\n",
        "from keras.layers import Dense\n",
        "from sklearn.preprocessing import MinMaxScaler"
      ]
    },
    {
      "cell_type": "markdown",
      "metadata": {
        "id": "SJnGmrdTYMTX"
      },
      "source": [
        "### 딥러닝을 이용한 모델링을 하시오."
      ]
    },
    {
      "cell_type": "code",
      "execution_count": 22,
      "metadata": {
        "id": "euGsWXokGZ1O"
      },
      "outputs": [],
      "source": [
        "model = Sequential()"
      ]
    },
    {
      "cell_type": "code",
      "execution_count": 23,
      "metadata": {},
      "outputs": [
        {
          "data": {
            "text/plain": "(500, 4)"
          },
          "execution_count": 23,
          "metadata": {},
          "output_type": "execute_result"
        }
      ],
      "source": [
        "X.shape"
      ]
    },
    {
      "cell_type": "code",
      "execution_count": 24,
      "metadata": {
        "id": "Y9XKxOl1GZpc"
      },
      "outputs": [],
      "source": [
        "model.add( Dense( input_dim = 4, units = 4, activation='relu') )"
      ]
    },
    {
      "cell_type": "code",
      "execution_count": 25,
      "metadata": {},
      "outputs": [],
      "source": [
        "model.add( Dense( units=1, activation='sigmoid') ) "
      ]
    },
    {
      "cell_type": "code",
      "execution_count": null,
      "metadata": {},
      "outputs": [],
      "source": []
    },
    {
      "cell_type": "markdown",
      "metadata": {
        "id": "THd6-J7RYzOq"
      },
      "source": [
        "### 옵티마이저는 'adam' 으로 하고, 로스펑션은 'mean_squared_error' 로 셋팅하여 컴파일 하시오"
      ]
    },
    {
      "cell_type": "code",
      "execution_count": 26,
      "metadata": {
        "id": "y3fMGttkGam-"
      },
      "outputs": [],
      "source": [
        "#metrics=['accuracy'] 2개의 분류 일 때만 사용\n",
        "model.compile(loss='mean_squared_error', optimizer='adam', metrics=['accuracy'] )\n"
      ]
    },
    {
      "cell_type": "code",
      "execution_count": null,
      "metadata": {
        "id": "qa2UC8TfGaeX"
      },
      "outputs": [],
      "source": []
    },
    {
      "cell_type": "markdown",
      "metadata": {
        "id": "1M-Yb_mHY-Zw"
      },
      "source": [
        "### 학습을 진행하시오."
      ]
    },
    {
      "cell_type": "code",
      "execution_count": 29,
      "metadata": {
        "id": "Z1V1-Qo3GbvO"
      },
      "outputs": [
        {
          "name": "stdout",
          "output_type": "stream",
          "text": [
            "Epoch 1/20\n",
            "38/38 [==============================] - 0s 892us/step - loss: 0.0143 - accuracy: 0.0027\n",
            "Epoch 2/20\n",
            "38/38 [==============================] - 0s 898us/step - loss: 0.0140 - accuracy: 0.0027\n",
            "Epoch 3/20\n",
            "38/38 [==============================] - 0s 781us/step - loss: 0.0136 - accuracy: 0.0027\n",
            "Epoch 4/20\n",
            "38/38 [==============================] - 0s 800us/step - loss: 0.0133 - accuracy: 0.0027\n",
            "Epoch 5/20\n",
            "38/38 [==============================] - 0s 828us/step - loss: 0.0130 - accuracy: 0.0027\n",
            "Epoch 6/20\n",
            "38/38 [==============================] - 0s 860us/step - loss: 0.0127 - accuracy: 0.0027\n",
            "Epoch 7/20\n",
            "38/38 [==============================] - 0s 766us/step - loss: 0.0123 - accuracy: 0.0027\n",
            "Epoch 8/20\n",
            "38/38 [==============================] - 0s 796us/step - loss: 0.0120 - accuracy: 0.0027\n",
            "Epoch 9/20\n",
            "38/38 [==============================] - 0s 831us/step - loss: 0.0117 - accuracy: 0.0027\n",
            "Epoch 10/20\n",
            "38/38 [==============================] - 0s 888us/step - loss: 0.0114 - accuracy: 0.0027\n",
            "Epoch 11/20\n",
            "38/38 [==============================] - 0s 793us/step - loss: 0.0111 - accuracy: 0.0027\n",
            "Epoch 12/20\n",
            "38/38 [==============================] - 0s 834us/step - loss: 0.0108 - accuracy: 0.0027\n",
            "Epoch 13/20\n",
            "38/38 [==============================] - 0s 805us/step - loss: 0.0105 - accuracy: 0.0027\n",
            "Epoch 14/20\n",
            "38/38 [==============================] - 0s 883us/step - loss: 0.0102 - accuracy: 0.0027\n",
            "Epoch 15/20\n",
            "38/38 [==============================] - 0s 921us/step - loss: 0.0099 - accuracy: 0.0027\n",
            "Epoch 16/20\n",
            "38/38 [==============================] - 0s 779us/step - loss: 0.0096 - accuracy: 0.0027\n",
            "Epoch 17/20\n",
            "38/38 [==============================] - 0s 820us/step - loss: 0.0093 - accuracy: 0.0027\n",
            "Epoch 18/20\n",
            "38/38 [==============================] - 0s 863us/step - loss: 0.0090 - accuracy: 0.0027\n",
            "Epoch 19/20\n",
            "38/38 [==============================] - 0s 765us/step - loss: 0.0087 - accuracy: 0.0027\n",
            "Epoch 20/20\n",
            "38/38 [==============================] - 0s 768us/step - loss: 0.0085 - accuracy: 0.0027\n"
          ]
        }
      ],
      "source": [
        "epochs_hist = model.fit(X_train, y_train, epochs=20, batch_size=10)"
      ]
    },
    {
      "cell_type": "code",
      "execution_count": null,
      "metadata": {
        "id": "jvXuJ-khGbl5"
      },
      "outputs": [],
      "source": []
    },
    {
      "cell_type": "markdown",
      "metadata": {
        "id": "9LoAz60hRtMy"
      },
      "source": [
        "# STEP#5: EVALUATING THE MODEL "
      ]
    },
    {
      "cell_type": "code",
      "execution_count": 30,
      "metadata": {
        "id": "hn3P1uTuGg6D"
      },
      "outputs": [
        {
          "data": {
            "text/plain": "{'loss': [0.014305596239864826,\n  0.013974164612591267,\n  0.013646121136844158,\n  0.013310960493981838,\n  0.012983012944459915,\n  0.012660897336900234,\n  0.012347343377768993,\n  0.01202066894620657,\n  0.01170135848224163,\n  0.011405115947127342,\n  0.011109396815299988,\n  0.010792492888867855,\n  0.010482892394065857,\n  0.010182289406657219,\n  0.00990904588252306,\n  0.009607942774891853,\n  0.009288780391216278,\n  0.009024688974022865,\n  0.008748134598135948,\n  0.008477783761918545],\n 'accuracy': [0.0026666666381061077,\n  0.0026666666381061077,\n  0.0026666666381061077,\n  0.0026666666381061077,\n  0.0026666666381061077,\n  0.0026666666381061077,\n  0.0026666666381061077,\n  0.0026666666381061077,\n  0.0026666666381061077,\n  0.0026666666381061077,\n  0.0026666666381061077,\n  0.0026666666381061077,\n  0.0026666666381061077,\n  0.0026666666381061077,\n  0.0026666666381061077,\n  0.0026666666381061077,\n  0.0026666666381061077,\n  0.0026666666381061077,\n  0.0026666666381061077,\n  0.0026666666381061077]}"
          },
          "execution_count": 30,
          "metadata": {},
          "output_type": "execute_result"
        }
      ],
      "source": [
        "epochs_hist.history"
      ]
    },
    {
      "cell_type": "code",
      "execution_count": null,
      "metadata": {
        "id": "0_kjcAR6GgWu"
      },
      "outputs": [],
      "source": []
    },
    {
      "cell_type": "code",
      "execution_count": null,
      "metadata": {
        "id": "OndM-zcuGgKl"
      },
      "outputs": [],
      "source": []
    },
    {
      "cell_type": "markdown",
      "metadata": {
        "id": "v5Nz9chyZfgC"
      },
      "source": [
        "### 테스트셋으로 예측을 해 보시오."
      ]
    },
    {
      "cell_type": "code",
      "execution_count": 28,
      "metadata": {
        "id": "6PLVpHxoGh9N"
      },
      "outputs": [],
      "source": [
        "y_pred = model.predict(X_test)"
      ]
    },
    {
      "cell_type": "code",
      "execution_count": null,
      "metadata": {
        "id": "wlmn8d3jGh1z"
      },
      "outputs": [],
      "source": []
    },
    {
      "cell_type": "markdown",
      "metadata": {
        "id": "ajTZIActwmXl"
      },
      "source": [
        "### 실제값과 예측값을 plot 으로 나타내시오."
      ]
    },
    {
      "cell_type": "code",
      "execution_count": 31,
      "metadata": {
        "id": "WQQlDXtRGi6z"
      },
      "outputs": [
        {
          "data": {
            "image/png": "[encoded data removed]",
            "text/plain": "<Figure size 432x288 with 1 Axes>"
          },
          "metadata": {
            "needs_background": "light",
            "transient": {}
          },
          "output_type": "display_data"
        }
      ],
      "source": [
        "plt.plot(epochs_hist.history['loss'])\n",
        "plt.title('Loss Progression during Training')\n",
        "plt.xlabel('Epoch Number')\n",
        "plt.ylabel('Training Loss')\n",
        "plt.show()"
      ]
    },
    {
      "cell_type": "code",
      "execution_count": null,
      "metadata": {
        "id": "LxBLMUixGiyH"
      },
      "outputs": [],
      "source": [
        "# 예측 값을 data 프레임으로 만들어서 보기"
      ]
    },
    {
      "cell_type": "code",
      "execution_count": null,
      "metadata": {},
      "outputs": [],
      "source": [
        "# 한번 해보기 \n",
        "#ret_df = pd.DataFrame( {'실제값': y_test.reshape(-1, ), '예측값': y_pred.reshape(-1, ) } )"
      ]
    },
    {
      "cell_type": "code",
      "execution_count": null,
      "metadata": {},
      "outputs": [],
      "source": [
        "# 차트 그리기\n",
        "\n",
        "# plt.figure(figsize=(10,8))\n",
        "# plt.plot(ret_df['실제값'],'g-')\n",
        "# plt.plot(ret_df['예측값'],'b-')\n",
        "# plt.show()"
      ]
    },
    {
      "cell_type": "code",
      "execution_count": null,
      "metadata": {},
      "outputs": [],
      "source": []
    },
    {
      "cell_type": "code",
      "execution_count": null,
      "metadata": {},
      "outputs": [],
      "source": []
    },
    {
      "cell_type": "code",
      "execution_count": null,
      "metadata": {},
      "outputs": [],
      "source": []
    },
    {
      "cell_type": "markdown",
      "metadata": {
        "id": "jO7KgSTT4UFV"
      },
      "source": [
        "### MSE 를 계산하시오."
      ]
    },
    {
      "cell_type": "code",
      "execution_count": null,
      "metadata": {
        "id": "Uu-uRLK1GlQf"
      },
      "outputs": [],
      "source": [
        "# y_pred 의 결과는 0, 1 사이의 값만 나옴\n",
        "\n",
        "# 피쳐 스케일링을 했기 때문에 MinMaxScaler"
      ]
    },
    {
      "cell_type": "code",
      "execution_count": null,
      "metadata": {},
      "outputs": [],
      "source": [
        "#((y_test - y_pred) **2).mean()\n"
      ]
    },
    {
      "cell_type": "code",
      "execution_count": null,
      "metadata": {},
      "outputs": [],
      "source": []
    },
    {
      "cell_type": "markdown",
      "metadata": {
        "id": "dBvga-cMZop5"
      },
      "source": [
        "### 새로운 고객 데이터가 있습니다. 이 사람은 차량을 얼마정도 구매 가능한지 예측하시오.\n",
        "\n",
        "### 여자이고, 나이는 38, 연봉은 90000,  카드빚은 2000, 순자산은 500000 일때, 어느정도의 차량을 구매할 수 있을지 예측하시오."
      ]
    },
    {
      "cell_type": "code",
      "execution_count": null,
      "metadata": {
        "id": "7zNqna2jyxSE"
      },
      "outputs": [],
      "source": []
    },
    {
      "cell_type": "code",
      "execution_count": null,
      "metadata": {
        "id": "BACq6hFAGsed"
      },
      "outputs": [],
      "source": []
    },
    {
      "cell_type": "code",
      "execution_count": null,
      "metadata": {
        "id": "1vWoE_Ntys_9"
      },
      "outputs": [],
      "source": []
    }
  ],
  "metadata": {
    "colab": {
      "collapsed_sections": [],
      "name": "06. Car Purchase Amount Predictions Using ANNs.ipynb",
      "provenance": [],
      "toc_visible": true
    },
    "kernelspec": {
      "display_name": "Python 3",
      "language": "python",
      "name": "python3"
    },
    "language_info": {
      "codemirror_mode": {
        "name": "ipython",
        "version": 3
      },
      "file_extension": ".py",
      "mimetype": "text/x-python",
      "name": "python",
      "nbconvert_exporter": "python",
      "pygments_lexer": "ipython3",
      "version": "3.8.5"
    }
  },
  "nbformat": 4,
  "nbformat_minor": 0
}