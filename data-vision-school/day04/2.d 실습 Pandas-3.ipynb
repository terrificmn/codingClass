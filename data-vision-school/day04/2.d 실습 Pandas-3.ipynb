{
 "cells": [
  {
   "cell_type": "markdown",
   "metadata": {},
   "source": [
    "winemag-data.csv 파일을 reviews 로 읽는다."
   ]
  },
  {
   "cell_type": "code",
   "execution_count": 5,
   "metadata": {},
   "outputs": [],
   "source": [
    "import pandas as pd"
   ]
  },
  {
   "cell_type": "code",
   "execution_count": 6,
   "metadata": {},
   "outputs": [],
   "source": [
    "reviews =pd.read_csv('../big_csv_files/winemag-data.csv')"
   ]
  },
  {
   "cell_type": "code",
   "execution_count": null,
   "metadata": {},
   "outputs": [],
   "source": []
  },
  {
   "cell_type": "markdown",
   "metadata": {},
   "source": [
    "리뷰 데이터프레임에서 points 컬럼의  median 값은?"
   ]
  },
  {
   "cell_type": "code",
   "execution_count": 41,
   "metadata": {},
   "outputs": [
    {
     "data": {
      "text/plain": [
       "88.0"
      ]
     },
     "execution_count": 41,
     "metadata": {},
     "output_type": "execute_result"
    }
   ],
   "source": [
    "reviews['points'].median()"
   ]
  },
  {
   "cell_type": "code",
   "execution_count": 7,
   "metadata": {},
   "outputs": [
    {
     "data": {
      "text/html": "<div>\n<style scoped>\n    .dataframe tbody tr th:only-of-type {\n        vertical-align: middle;\n    }\n\n    .dataframe tbody tr th {\n        vertical-align: top;\n    }\n\n    .dataframe thead th {\n        text-align: right;\n    }\n</style>\n<table border=\"1\" class=\"dataframe\">\n  <thead>\n    <tr style=\"text-align: right;\">\n      <th></th>\n      <th>Unnamed: 0</th>\n      <th>points</th>\n      <th>price</th>\n    </tr>\n  </thead>\n  <tbody>\n    <tr>\n      <th>count</th>\n      <td>129971.000000</td>\n      <td>129971.000000</td>\n      <td>120975.000000</td>\n    </tr>\n    <tr>\n      <th>mean</th>\n      <td>64985.000000</td>\n      <td>88.447138</td>\n      <td>35.363389</td>\n    </tr>\n    <tr>\n      <th>std</th>\n      <td>37519.540256</td>\n      <td>3.039730</td>\n      <td>41.022218</td>\n    </tr>\n    <tr>\n      <th>min</th>\n      <td>0.000000</td>\n      <td>80.000000</td>\n      <td>4.000000</td>\n    </tr>\n    <tr>\n      <th>25%</th>\n      <td>32492.500000</td>\n      <td>86.000000</td>\n      <td>17.000000</td>\n    </tr>\n    <tr>\n      <th>50%</th>\n      <td>64985.000000</td>\n      <td>88.000000</td>\n      <td>25.000000</td>\n    </tr>\n    <tr>\n      <th>75%</th>\n      <td>97477.500000</td>\n      <td>91.000000</td>\n      <td>42.000000</td>\n    </tr>\n    <tr>\n      <th>max</th>\n      <td>129970.000000</td>\n      <td>100.000000</td>\n      <td>3300.000000</td>\n    </tr>\n  </tbody>\n</table>\n</div>",
      "text/plain": [
       "          Unnamed: 0         points          price\n",
       "count  129971.000000  129971.000000  120975.000000\n",
       "mean    64985.000000      88.447138      35.363389\n",
       "std     37519.540256       3.039730      41.022218\n",
       "min         0.000000      80.000000       4.000000\n",
       "25%     32492.500000      86.000000      17.000000\n",
       "50%     64985.000000      88.000000      25.000000\n",
       "75%     97477.500000      91.000000      42.000000\n",
       "max    129970.000000     100.000000    3300.000000"
      ]
     },
     "execution_count": 7,
     "metadata": {},
     "output_type": "execute_result"
    }
   ],
   "source": [
    "reviews.describe()"
   ]
  },
  {
   "cell_type": "code",
   "execution_count": 8,
   "metadata": {},
   "outputs": [],
   "source": [
    "# 50%\t64985.000000\t88.000000\t25.000000"
   ]
  },
  {
   "cell_type": "markdown",
   "metadata": {},
   "source": [
    "나라를 중복되지 않도록 가져와서 countries 변수에 저장하고, 화면에 출력하시오."
   ]
  },
  {
   "cell_type": "code",
   "execution_count": 9,
   "metadata": {},
   "outputs": [
    {
     "data": {
      "text/html": "<div>\n<style scoped>\n    .dataframe tbody tr th:only-of-type {\n        vertical-align: middle;\n    }\n\n    .dataframe tbody tr th {\n        vertical-align: top;\n    }\n\n    .dataframe thead th {\n        text-align: right;\n    }\n</style>\n<table border=\"1\" class=\"dataframe\">\n  <thead>\n    <tr style=\"text-align: right;\">\n      <th></th>\n      <th>Unnamed: 0</th>\n      <th>country</th>\n      <th>description</th>\n      <th>designation</th>\n      <th>points</th>\n      <th>price</th>\n      <th>province</th>\n      <th>region_1</th>\n      <th>region_2</th>\n      <th>taster_name</th>\n      <th>taster_twitter_handle</th>\n      <th>title</th>\n      <th>variety</th>\n      <th>winery</th>\n    </tr>\n  </thead>\n  <tbody>\n    <tr>\n      <th>0</th>\n      <td>0</td>\n      <td>Italy</td>\n      <td>Aromas include tropical fruit, broom, brimston...</td>\n      <td>Vulkà Bianco</td>\n      <td>87</td>\n      <td>NaN</td>\n      <td>Sicily &amp; Sardinia</td>\n      <td>Etna</td>\n      <td>NaN</td>\n      <td>Kerin O’Keefe</td>\n      <td>@kerinokeefe</td>\n      <td>Nicosia 2013 Vulkà Bianco  (Etna)</td>\n      <td>White Blend</td>\n      <td>Nicosia</td>\n    </tr>\n    <tr>\n      <th>1</th>\n      <td>1</td>\n      <td>Portugal</td>\n      <td>This is ripe and fruity, a wine that is smooth...</td>\n      <td>Avidagos</td>\n      <td>87</td>\n      <td>15.0</td>\n      <td>Douro</td>\n      <td>NaN</td>\n      <td>NaN</td>\n      <td>Roger Voss</td>\n      <td>@vossroger</td>\n      <td>Quinta dos Avidagos 2011 Avidagos Red (Douro)</td>\n      <td>Portuguese Red</td>\n      <td>Quinta dos Avidagos</td>\n    </tr>\n    <tr>\n      <th>2</th>\n      <td>2</td>\n      <td>US</td>\n      <td>Tart and snappy, the flavors of lime flesh and...</td>\n      <td>NaN</td>\n      <td>87</td>\n      <td>14.0</td>\n      <td>Oregon</td>\n      <td>Willamette Valley</td>\n      <td>Willamette Valley</td>\n      <td>Paul Gregutt</td>\n      <td>@paulgwine</td>\n      <td>Rainstorm 2013 Pinot Gris (Willamette Valley)</td>\n      <td>Pinot Gris</td>\n      <td>Rainstorm</td>\n    </tr>\n    <tr>\n      <th>3</th>\n      <td>3</td>\n      <td>US</td>\n      <td>Pineapple rind, lemon pith and orange blossom ...</td>\n      <td>Reserve Late Harvest</td>\n      <td>87</td>\n      <td>13.0</td>\n      <td>Michigan</td>\n      <td>Lake Michigan Shore</td>\n      <td>NaN</td>\n      <td>Alexander Peartree</td>\n      <td>NaN</td>\n      <td>St. Julian 2013 Reserve Late Harvest Riesling ...</td>\n      <td>Riesling</td>\n      <td>St. Julian</td>\n    </tr>\n    <tr>\n      <th>4</th>\n      <td>4</td>\n      <td>US</td>\n      <td>Much like the regular bottling from 2012, this...</td>\n      <td>Vintner's Reserve Wild Child Block</td>\n      <td>87</td>\n      <td>65.0</td>\n      <td>Oregon</td>\n      <td>Willamette Valley</td>\n      <td>Willamette Valley</td>\n      <td>Paul Gregutt</td>\n      <td>@paulgwine</td>\n      <td>Sweet Cheeks 2012 Vintner's Reserve Wild Child...</td>\n      <td>Pinot Noir</td>\n      <td>Sweet Cheeks</td>\n    </tr>\n  </tbody>\n</table>\n</div>",
      "text/plain": [
       "   Unnamed: 0   country                                        description  \\\n",
       "0           0     Italy  Aromas include tropical fruit, broom, brimston...   \n",
       "1           1  Portugal  This is ripe and fruity, a wine that is smooth...   \n",
       "2           2        US  Tart and snappy, the flavors of lime flesh and...   \n",
       "3           3        US  Pineapple rind, lemon pith and orange blossom ...   \n",
       "4           4        US  Much like the regular bottling from 2012, this...   \n",
       "\n",
       "                          designation  points  price           province  \\\n",
       "0                        Vulkà Bianco      87    NaN  Sicily & Sardinia   \n",
       "1                            Avidagos      87   15.0              Douro   \n",
       "2                                 NaN      87   14.0             Oregon   \n",
       "3                Reserve Late Harvest      87   13.0           Michigan   \n",
       "4  Vintner's Reserve Wild Child Block      87   65.0             Oregon   \n",
       "\n",
       "              region_1           region_2         taster_name  \\\n",
       "0                 Etna                NaN       Kerin O’Keefe   \n",
       "1                  NaN                NaN          Roger Voss   \n",
       "2    Willamette Valley  Willamette Valley        Paul Gregutt   \n",
       "3  Lake Michigan Shore                NaN  Alexander Peartree   \n",
       "4    Willamette Valley  Willamette Valley        Paul Gregutt   \n",
       "\n",
       "  taster_twitter_handle                                              title  \\\n",
       "0          @kerinokeefe                  Nicosia 2013 Vulkà Bianco  (Etna)   \n",
       "1            @vossroger      Quinta dos Avidagos 2011 Avidagos Red (Douro)   \n",
       "2           @paulgwine       Rainstorm 2013 Pinot Gris (Willamette Valley)   \n",
       "3                   NaN  St. Julian 2013 Reserve Late Harvest Riesling ...   \n",
       "4           @paulgwine   Sweet Cheeks 2012 Vintner's Reserve Wild Child...   \n",
       "\n",
       "          variety               winery  \n",
       "0     White Blend              Nicosia  \n",
       "1  Portuguese Red  Quinta dos Avidagos  \n",
       "2      Pinot Gris            Rainstorm  \n",
       "3        Riesling           St. Julian  \n",
       "4      Pinot Noir         Sweet Cheeks  "
      ]
     },
     "execution_count": 9,
     "metadata": {},
     "output_type": "execute_result"
    }
   ],
   "source": [
    "reviews.head()"
   ]
  },
  {
   "cell_type": "code",
   "execution_count": 10,
   "metadata": {},
   "outputs": [
    {
     "data": {
      "text/plain": [
       "0            Italy\n",
       "1         Portugal\n",
       "2               US\n",
       "3               US\n",
       "4               US\n",
       "            ...   \n",
       "129966     Germany\n",
       "129967          US\n",
       "129968      France\n",
       "129969      France\n",
       "129970      France\n",
       "Name: country, Length: 129971, dtype: object"
      ]
     },
     "execution_count": 10,
     "metadata": {},
     "output_type": "execute_result"
    }
   ],
   "source": [
    "reviews['country']"
   ]
  },
  {
   "cell_type": "code",
   "execution_count": 42,
   "metadata": {},
   "outputs": [
    {
     "data": {
      "text/plain": [
       "0            Italy\n",
       "1         Portugal\n",
       "2               US\n",
       "3               US\n",
       "4               US\n",
       "            ...   \n",
       "129966     Germany\n",
       "129967          US\n",
       "129968      France\n",
       "129969      France\n",
       "129970      France\n",
       "Name: country, Length: 129971, dtype: object"
      ]
     },
     "execution_count": 42,
     "metadata": {},
     "output_type": "execute_result"
    }
   ],
   "source": [
    "# 컬럼명으로도 접근할 수 있음, 마치 속성처럼 사용 (띄어쓰기가 있으면 안된다고 함)\n",
    "reviews.country"
   ]
  },
  {
   "cell_type": "code",
   "execution_count": 11,
   "metadata": {},
   "outputs": [],
   "source": [
    "countries = reviews['country'].unique()"
   ]
  },
  {
   "cell_type": "code",
   "execution_count": 44,
   "metadata": {},
   "outputs": [
    {
     "name": "stdout",
     "output_type": "stream",
     "text": [
      "['Italy' 'Portugal' 'US' 'Spain' 'France' 'Germany' 'Argentina' 'Chile'\n",
      " 'Australia' 'Austria' 'South Africa' 'New Zealand' 'Israel' 'Hungary'\n",
      " 'Greece' 'Romania' 'Mexico' 'Canada' nan 'Turkey' 'Czech Republic'\n",
      " 'Slovenia' 'Luxembourg' 'Croatia' 'Georgia' 'Uruguay' 'England' 'Lebanon'\n",
      " 'Serbia' 'Brazil' 'Moldova' 'Morocco' 'Peru' 'India' 'Bulgaria' 'Cyprus'\n",
      " 'Armenia' 'Switzerland' 'Bosnia and Herzegovina' 'Ukraine' 'Slovakia'\n",
      " 'Macedonia' 'China' 'Egypt']\n"
     ]
    }
   ],
   "source": [
    "print(countries)"
   ]
  },
  {
   "cell_type": "code",
   "execution_count": null,
   "metadata": {},
   "outputs": [],
   "source": []
  },
  {
   "cell_type": "markdown",
   "metadata": {},
   "source": [
    "각 국가별로는 몇개의 리뷰가 있는지, 각국가별 리뷰수를 구하시오."
   ]
  },
  {
   "cell_type": "code",
   "execution_count": 13,
   "metadata": {},
   "outputs": [
    {
     "data": {
      "text/plain": [
       "US                        54504\n",
       "France                    22093\n",
       "Italy                     19540\n",
       "Spain                      6645\n",
       "Portugal                   5691\n",
       "Chile                      4472\n",
       "Argentina                  3800\n",
       "Austria                    3345\n",
       "Australia                  2329\n",
       "Germany                    2165\n",
       "New Zealand                1419\n",
       "South Africa               1401\n",
       "Israel                      505\n",
       "Greece                      466\n",
       "Canada                      257\n",
       "Hungary                     146\n",
       "Bulgaria                    141\n",
       "Romania                     120\n",
       "Uruguay                     109\n",
       "Turkey                       90\n",
       "Slovenia                     87\n",
       "Georgia                      86\n",
       "England                      74\n",
       "Croatia                      73\n",
       "Mexico                       70\n",
       "Moldova                      59\n",
       "Brazil                       52\n",
       "Lebanon                      35\n",
       "Morocco                      28\n",
       "Peru                         16\n",
       "Ukraine                      14\n",
       "Serbia                       12\n",
       "Macedonia                    12\n",
       "Czech Republic               12\n",
       "Cyprus                       11\n",
       "India                         9\n",
       "Switzerland                   7\n",
       "Luxembourg                    6\n",
       "Armenia                       2\n",
       "Bosnia and Herzegovina        2\n",
       "China                         1\n",
       "Egypt                         1\n",
       "Slovakia                      1\n",
       "Name: country, dtype: int64"
      ]
     },
     "execution_count": 13,
     "metadata": {},
     "output_type": "execute_result"
    }
   ],
   "source": [
    "# value_counts() 정렬해서 보여줌\n",
    "reviews['country'].value_counts()"
   ]
  },
  {
   "cell_type": "code",
   "execution_count": 46,
   "metadata": {},
   "outputs": [
    {
     "data": {
      "text/plain": [
       "country\n",
       "US                        54504\n",
       "France                    22093\n",
       "Italy                     19540\n",
       "Spain                      6645\n",
       "Portugal                   5691\n",
       "Chile                      4472\n",
       "Argentina                  3800\n",
       "Austria                    3345\n",
       "Australia                  2329\n",
       "Germany                    2165\n",
       "New Zealand                1419\n",
       "South Africa               1401\n",
       "Israel                      505\n",
       "Greece                      466\n",
       "Canada                      257\n",
       "Hungary                     146\n",
       "Bulgaria                    141\n",
       "Romania                     120\n",
       "Uruguay                     109\n",
       "Turkey                       90\n",
       "Slovenia                     87\n",
       "Georgia                      86\n",
       "England                      74\n",
       "Croatia                      73\n",
       "Mexico                       70\n",
       "Moldova                      59\n",
       "Brazil                       52\n",
       "Lebanon                      35\n",
       "Morocco                      28\n",
       "Peru                         16\n",
       "Ukraine                      14\n",
       "Macedonia                    12\n",
       "Serbia                       12\n",
       "Czech Republic               12\n",
       "Cyprus                       11\n",
       "India                         9\n",
       "Switzerland                   7\n",
       "Luxembourg                    6\n",
       "Bosnia and Herzegovina        2\n",
       "Armenia                       2\n",
       "Egypt                         1\n",
       "Slovakia                      1\n",
       "China                         1\n",
       "Name: country, dtype: int64"
      ]
     },
     "execution_count": 46,
     "metadata": {},
     "output_type": "execute_result"
    }
   ],
   "source": [
    "# 두 번째 방법, groupby() 사용\n",
    "# 특정 컬럼의 같은 내용(같은 문자열)끼리 묶어 준다 \n",
    "# 대신 value_counts()와는 다르게 정렬은 못함. 따로 해야함 -- sort_values()를 사용 내림차순은 ascending=False\n",
    "reviews.groupby('country')['country'].count().sort_values(ascending=False)"
   ]
  },
  {
   "cell_type": "code",
   "execution_count": null,
   "metadata": {},
   "outputs": [],
   "source": []
  },
  {
   "cell_type": "markdown",
   "metadata": {},
   "source": [
    "리뷰 데이터프레임의 price 컬럼 값에서, price의 평균값을 뺀 값을, centered_price 라고 저장하시오."
   ]
  },
  {
   "cell_type": "code",
   "execution_count": 47,
   "metadata": {},
   "outputs": [],
   "source": [
    "centered_price = reviews['price'] - reviews['price'].mean()"
   ]
  },
  {
   "cell_type": "code",
   "execution_count": 48,
   "metadata": {},
   "outputs": [
    {
     "data": {
      "text/plain": [
       "0               NaN\n",
       "1        -20.363389\n",
       "2        -21.363389\n",
       "3        -22.363389\n",
       "4         29.636611\n",
       "            ...    \n",
       "129966    -7.363389\n",
       "129967    39.636611\n",
       "129968    -5.363389\n",
       "129969    -3.363389\n",
       "129970   -14.363389\n",
       "Name: price, Length: 129971, dtype: float64"
      ]
     },
     "execution_count": 48,
     "metadata": {},
     "output_type": "execute_result"
    }
   ],
   "source": [
    "centered_price"
   ]
  },
  {
   "cell_type": "code",
   "execution_count": null,
   "metadata": {},
   "outputs": [],
   "source": []
  },
  {
   "cell_type": "markdown",
   "metadata": {},
   "source": [
    "나는 경제적이므로, 가격대비 포인트가 가장 큰 와인을 사려한다. 해당 와인의 title은?"
   ]
  },
  {
   "cell_type": "code",
   "execution_count": null,
   "metadata": {},
   "outputs": [],
   "source": [
    "#답은 나누기를 해주면 됨\r\n",
    "# 포인트 / 가격\r\n",
    "# 높을 수록 가성비가 좋은 것이됨"
   ]
  },
  {
   "cell_type": "code",
   "execution_count": 50,
   "metadata": {},
   "outputs": [
    {
     "data": {
      "text/plain": [
       "0              NaN\n",
       "1         5.800000\n",
       "2         6.214286\n",
       "3         6.692308\n",
       "4         1.338462\n",
       "            ...   \n",
       "129966    3.214286\n",
       "129967    1.200000\n",
       "129968    3.000000\n",
       "129969    2.812500\n",
       "129970    4.285714\n",
       "Length: 129971, dtype: float64"
      ]
     },
     "execution_count": 50,
     "metadata": {},
     "output_type": "execute_result"
    }
   ],
   "source": [
    "# 개별의 데이터는 사용할 수가 없으므로 DataFrame에 컬럼으로 추가해서 넣어줘야한다\n",
    "# \n",
    "reviews.points / reviews.price"
   ]
  },
  {
   "cell_type": "code",
   "execution_count": 51,
   "metadata": {},
   "outputs": [],
   "source": [
    "reviews['가성비'] = reviews.points / reviews.price"
   ]
  },
  {
   "cell_type": "code",
   "execution_count": 52,
   "metadata": {},
   "outputs": [
    {
     "data": {
      "text/html": "<div>\n<style scoped>\n    .dataframe tbody tr th:only-of-type {\n        vertical-align: middle;\n    }\n\n    .dataframe tbody tr th {\n        vertical-align: top;\n    }\n\n    .dataframe thead th {\n        text-align: right;\n    }\n</style>\n<table border=\"1\" class=\"dataframe\">\n  <thead>\n    <tr style=\"text-align: right;\">\n      <th></th>\n      <th>Unnamed: 0</th>\n      <th>country</th>\n      <th>description</th>\n      <th>designation</th>\n      <th>points</th>\n      <th>price</th>\n      <th>province</th>\n      <th>region_1</th>\n      <th>region_2</th>\n      <th>taster_name</th>\n      <th>taster_twitter_handle</th>\n      <th>title</th>\n      <th>variety</th>\n      <th>winery</th>\n      <th>가성비</th>\n    </tr>\n  </thead>\n  <tbody>\n    <tr>\n      <th>0</th>\n      <td>0</td>\n      <td>Italy</td>\n      <td>Aromas include tropical fruit, broom, brimston...</td>\n      <td>Vulkà Bianco</td>\n      <td>87</td>\n      <td>NaN</td>\n      <td>Sicily &amp; Sardinia</td>\n      <td>Etna</td>\n      <td>NaN</td>\n      <td>Kerin O’Keefe</td>\n      <td>@kerinokeefe</td>\n      <td>Nicosia 2013 Vulkà Bianco  (Etna)</td>\n      <td>White Blend</td>\n      <td>Nicosia</td>\n      <td>NaN</td>\n    </tr>\n    <tr>\n      <th>1</th>\n      <td>1</td>\n      <td>Portugal</td>\n      <td>This is ripe and fruity, a wine that is smooth...</td>\n      <td>Avidagos</td>\n      <td>87</td>\n      <td>15.0</td>\n      <td>Douro</td>\n      <td>NaN</td>\n      <td>NaN</td>\n      <td>Roger Voss</td>\n      <td>@vossroger</td>\n      <td>Quinta dos Avidagos 2011 Avidagos Red (Douro)</td>\n      <td>Portuguese Red</td>\n      <td>Quinta dos Avidagos</td>\n      <td>5.8</td>\n    </tr>\n  </tbody>\n</table>\n</div>",
      "text/plain": [
       "   Unnamed: 0   country                                        description  \\\n",
       "0           0     Italy  Aromas include tropical fruit, broom, brimston...   \n",
       "1           1  Portugal  This is ripe and fruity, a wine that is smooth...   \n",
       "\n",
       "    designation  points  price           province region_1 region_2  \\\n",
       "0  Vulkà Bianco      87    NaN  Sicily & Sardinia     Etna      NaN   \n",
       "1      Avidagos      87   15.0              Douro      NaN      NaN   \n",
       "\n",
       "     taster_name taster_twitter_handle  \\\n",
       "0  Kerin O’Keefe          @kerinokeefe   \n",
       "1     Roger Voss            @vossroger   \n",
       "\n",
       "                                           title         variety  \\\n",
       "0              Nicosia 2013 Vulkà Bianco  (Etna)     White Blend   \n",
       "1  Quinta dos Avidagos 2011 Avidagos Red (Douro)  Portuguese Red   \n",
       "\n",
       "                winery  가성비  \n",
       "0              Nicosia  NaN  \n",
       "1  Quinta dos Avidagos  5.8  "
      ]
     },
     "execution_count": 52,
     "metadata": {},
     "output_type": "execute_result"
    }
   ],
   "source": [
    "reviews.head(2)"
   ]
  },
  {
   "cell_type": "code",
   "execution_count": null,
   "metadata": {},
   "outputs": [],
   "source": []
  },
  {
   "cell_type": "code",
   "execution_count": 56,
   "metadata": {},
   "outputs": [],
   "source": [
    "bargain_wine = reviews.sort_values(by='가성비', ascending=False)"
   ]
  },
  {
   "cell_type": "code",
   "execution_count": 61,
   "metadata": {},
   "outputs": [
    {
     "data": {
      "text/html": "<div>\n<style scoped>\n    .dataframe tbody tr th:only-of-type {\n        vertical-align: middle;\n    }\n\n    .dataframe tbody tr th {\n        vertical-align: top;\n    }\n\n    .dataframe thead th {\n        text-align: right;\n    }\n</style>\n<table border=\"1\" class=\"dataframe\">\n  <thead>\n    <tr style=\"text-align: right;\">\n      <th></th>\n      <th>Unnamed: 0</th>\n      <th>country</th>\n      <th>description</th>\n      <th>designation</th>\n      <th>points</th>\n      <th>price</th>\n      <th>province</th>\n      <th>region_1</th>\n      <th>region_2</th>\n      <th>taster_name</th>\n      <th>taster_twitter_handle</th>\n      <th>title</th>\n      <th>variety</th>\n      <th>winery</th>\n      <th>가성비</th>\n    </tr>\n  </thead>\n  <tbody>\n    <tr>\n      <th>64590</th>\n      <td>64590</td>\n      <td>US</td>\n      <td>There's a lot going on in this Merlot, which i...</td>\n      <td>NaN</td>\n      <td>86</td>\n      <td>4.0</td>\n      <td>California</td>\n      <td>California</td>\n      <td>California Other</td>\n      <td>NaN</td>\n      <td>NaN</td>\n      <td>Bandit NV Merlot (California)</td>\n      <td>Merlot</td>\n      <td>Bandit</td>\n      <td>21.50</td>\n    </tr>\n    <tr>\n      <th>126096</th>\n      <td>126096</td>\n      <td>Romania</td>\n      <td>Notes of sun-dried hay and green flower highli...</td>\n      <td>UnWineD</td>\n      <td>86</td>\n      <td>4.0</td>\n      <td>Viile Timisului</td>\n      <td>NaN</td>\n      <td>NaN</td>\n      <td>Anna Lee C. Iijima</td>\n      <td>NaN</td>\n      <td>Cramele Recas 2011 UnWineD Pinot Grigio (Viile...</td>\n      <td>Pinot Grigio</td>\n      <td>Cramele Recas</td>\n      <td>21.50</td>\n    </tr>\n    <tr>\n      <th>20484</th>\n      <td>20484</td>\n      <td>US</td>\n      <td>Fruity, soft and rather sweet, this wine smell...</td>\n      <td>NaN</td>\n      <td>85</td>\n      <td>4.0</td>\n      <td>California</td>\n      <td>Clarksburg</td>\n      <td>Central Valley</td>\n      <td>Jim Gordon</td>\n      <td>@gordone_cellars</td>\n      <td>Dancing Coyote 2015 White (Clarksburg)</td>\n      <td>White Blend</td>\n      <td>Dancing Coyote</td>\n      <td>21.25</td>\n    </tr>\n    <tr>\n      <th>1987</th>\n      <td>1987</td>\n      <td>Spain</td>\n      <td>Berry and cherry aromas are surprisingly sturd...</td>\n      <td>Flirty Bird</td>\n      <td>85</td>\n      <td>4.0</td>\n      <td>Central Spain</td>\n      <td>Vino de la Tierra de Castilla</td>\n      <td>NaN</td>\n      <td>Michael Schachner</td>\n      <td>@wineschach</td>\n      <td>Felix Solis 2013 Flirty Bird Syrah (Vino de la...</td>\n      <td>Syrah</td>\n      <td>Felix Solis</td>\n      <td>21.25</td>\n    </tr>\n    <tr>\n      <th>110255</th>\n      <td>110255</td>\n      <td>US</td>\n      <td>A good everyday Merlot, dry and rich in tannin...</td>\n      <td>NaN</td>\n      <td>84</td>\n      <td>4.0</td>\n      <td>California</td>\n      <td>California</td>\n      <td>California Other</td>\n      <td>NaN</td>\n      <td>NaN</td>\n      <td>Bandit NV Merlot (California)</td>\n      <td>Merlot</td>\n      <td>Bandit</td>\n      <td>21.00</td>\n    </tr>\n  </tbody>\n</table>\n</div>",
      "text/plain": [
       "        Unnamed: 0  country  \\\n",
       "64590        64590       US   \n",
       "126096      126096  Romania   \n",
       "20484        20484       US   \n",
       "1987          1987    Spain   \n",
       "110255      110255       US   \n",
       "\n",
       "                                              description  designation  \\\n",
       "64590   There's a lot going on in this Merlot, which i...          NaN   \n",
       "126096  Notes of sun-dried hay and green flower highli...      UnWineD   \n",
       "20484   Fruity, soft and rather sweet, this wine smell...          NaN   \n",
       "1987    Berry and cherry aromas are surprisingly sturd...  Flirty Bird   \n",
       "110255  A good everyday Merlot, dry and rich in tannin...          NaN   \n",
       "\n",
       "        points  price         province                       region_1  \\\n",
       "64590       86    4.0       California                     California   \n",
       "126096      86    4.0  Viile Timisului                            NaN   \n",
       "20484       85    4.0       California                     Clarksburg   \n",
       "1987        85    4.0    Central Spain  Vino de la Tierra de Castilla   \n",
       "110255      84    4.0       California                     California   \n",
       "\n",
       "                region_2         taster_name taster_twitter_handle  \\\n",
       "64590   California Other                 NaN                   NaN   \n",
       "126096               NaN  Anna Lee C. Iijima                   NaN   \n",
       "20484     Central Valley          Jim Gordon      @gordone_cellars   \n",
       "1987                 NaN   Michael Schachner           @wineschach   \n",
       "110255  California Other                 NaN                   NaN   \n",
       "\n",
       "                                                    title       variety  \\\n",
       "64590                       Bandit NV Merlot (California)        Merlot   \n",
       "126096  Cramele Recas 2011 UnWineD Pinot Grigio (Viile...  Pinot Grigio   \n",
       "20484              Dancing Coyote 2015 White (Clarksburg)   White Blend   \n",
       "1987    Felix Solis 2013 Flirty Bird Syrah (Vino de la...         Syrah   \n",
       "110255                      Bandit NV Merlot (California)        Merlot   \n",
       "\n",
       "                winery    가성비  \n",
       "64590           Bandit  21.50  \n",
       "126096   Cramele Recas  21.50  \n",
       "20484   Dancing Coyote  21.25  \n",
       "1987       Felix Solis  21.25  \n",
       "110255          Bandit  21.00  "
      ]
     },
     "execution_count": 61,
     "metadata": {},
     "output_type": "execute_result"
    }
   ],
   "source": [
    "bargain_wine.head()"
   ]
  },
  {
   "cell_type": "code",
   "execution_count": 63,
   "metadata": {},
   "outputs": [
    {
     "data": {
      "text/plain": [
       "64590                         Bandit NV Merlot (California)\n",
       "126096    Cramele Recas 2011 UnWineD Pinot Grigio (Viile...\n",
       "20484                Dancing Coyote 2015 White (Clarksburg)\n",
       "1987      Felix Solis 2013 Flirty Bird Syrah (Vino de la...\n",
       "110255                        Bandit NV Merlot (California)\n",
       "Name: title, dtype: object"
      ]
     },
     "execution_count": 63,
     "metadata": {},
     "output_type": "execute_result"
    }
   ],
   "source": [
    "#title 만 가져오기 \n",
    "# iloc[]로 접근\n",
    "\n",
    "bargain_wine.iloc[0:4+1, 11]"
   ]
  },
  {
   "cell_type": "code",
   "execution_count": 65,
   "metadata": {},
   "outputs": [
    {
     "data": {
      "text/plain": [
       "64590                         Bandit NV Merlot (California)\n",
       "126096    Cramele Recas 2011 UnWineD Pinot Grigio (Viile...\n",
       "20484                Dancing Coyote 2015 White (Clarksburg)\n",
       "1987      Felix Solis 2013 Flirty Bird Syrah (Vino de la...\n",
       "110255                        Bandit NV Merlot (California)\n",
       "                                ...                        \n",
       "129844    Caparzo 2006 Doga delle Clavule  (Morellino di...\n",
       "129860    Quinta da Pacheca 2013 Pacheca Superior Red (D...\n",
       "129863                      Seacampo 2011 Reserva Red (Dão)\n",
       "129893     Le Mandolare 2015 Corte Menini  (Soave Classico)\n",
       "129964    Domaine Ehrhart 2013 Domaine Saint-Rémy Herren...\n",
       "Name: title, Length: 129971, dtype: object"
      ]
     },
     "execution_count": 65,
     "metadata": {},
     "output_type": "execute_result"
    }
   ],
   "source": [
    "# 또는 title 컬럼으로 가져오기\n",
    "bargain_wine.title"
   ]
  },
  {
   "cell_type": "code",
   "execution_count": null,
   "metadata": {},
   "outputs": [],
   "source": []
  },
  {
   "cell_type": "markdown",
   "metadata": {},
   "source": [
    "사람들이 어떤와인을 더 많이 거론했는지 보려한다.\n",
    "\n",
    "\"tropical\" 이 들어있는 리뷰의 갯수를 세고, \"fruity\" 라고 들어있는 리뷰의 갯수를 세어서\n",
    "\n",
    "판다스 시리즈로 descriptor_counts 변수로 만들어 보자."
   ]
  },
  {
   "cell_type": "code",
   "execution_count": 66,
   "metadata": {},
   "outputs": [
    {
     "data": {
      "text/plain": [
       "\"Aromas include tropical fruit, broom, brimstone and dried herb. The palate isn't overly expressive, offering unripened apple, citrus and dried sage alongside brisk acidity.\""
      ]
     },
     "execution_count": 66,
     "metadata": {},
     "output_type": "execute_result"
    }
   ],
   "source": [
    "reviews['description'][0]"
   ]
  },
  {
   "cell_type": "code",
   "execution_count": 67,
   "metadata": {},
   "outputs": [
    {
     "data": {
      "text/plain": [
       "<pandas.core.strings.StringMethods at 0x25d153978e0>"
      ]
     },
     "execution_count": 67,
     "metadata": {},
     "output_type": "execute_result"
    }
   ],
   "source": [
    "# 데이터 컬럼안의 문자열을 다룰려면 str 속성을 이용한다\n",
    "# 그러면 문자열 관련 함수들을 사용할 수 있다\n",
    "# split, find, rfind, 등등..\n",
    "# 여기에서는 contains() 함수를 사용한다\n",
    "\n",
    "reviews.description.str"
   ]
  },
  {
   "cell_type": "code",
   "execution_count": null,
   "metadata": {},
   "outputs": [],
   "source": []
  },
  {
   "cell_type": "code",
   "execution_count": 69,
   "metadata": {},
   "outputs": [],
   "source": [
    "n_tropical = reviews['description'].str.contains('tropical').sum()"
   ]
  },
  {
   "cell_type": "code",
   "execution_count": 71,
   "metadata": {},
   "outputs": [],
   "source": [
    "n_fruity = reviews['description'].str.contains('fruity').sum()\n"
   ]
  },
  {
   "cell_type": "code",
   "execution_count": null,
   "metadata": {},
   "outputs": [],
   "source": [
    "descriptor_counts =  reviews['description'].str.contains('tropical').sum() "
   ]
  },
  {
   "cell_type": "code",
   "execution_count": 74,
   "metadata": {},
   "outputs": [],
   "source": [
    "# 판다스 Series로 만들기\n",
    "descriptor_counts = pd.Series(data = [n_tropical, n_fruity], index = ['tropical', 'fruity'] )"
   ]
  },
  {
   "cell_type": "code",
   "execution_count": 75,
   "metadata": {},
   "outputs": [
    {
     "data": {
      "text/plain": [
       "tropical    3607\n",
       "fruity      9090\n",
       "dtype: int64"
      ]
     },
     "execution_count": 75,
     "metadata": {},
     "output_type": "execute_result"
    }
   ],
   "source": [
    "descriptor_counts"
   ]
  },
  {
   "cell_type": "code",
   "execution_count": null,
   "metadata": {},
   "outputs": [],
   "source": []
  },
  {
   "cell_type": "markdown",
   "metadata": {},
   "source": [
    "별점 시스템을 만들려고 한다. 따라서 별점에 대한 데이터가 필요하다.\n",
    "\n",
    "별점은 1,2,3 즉 3개로 만들것이다.\n",
    "\n",
    "포인트가 95점 이상이면 3점, 85점 이상이면 2점, 나머지는 1점으로 할 것이다. \n",
    "\n",
    "리뷰데이터를 통해 각 데이터의 별점을 구하시오."
   ]
  },
  {
   "cell_type": "code",
   "execution_count": 77,
   "metadata": {},
   "outputs": [
    {
     "data": {
      "text/html": "<div>\n<style scoped>\n    .dataframe tbody tr th:only-of-type {\n        vertical-align: middle;\n    }\n\n    .dataframe tbody tr th {\n        vertical-align: top;\n    }\n\n    .dataframe thead th {\n        text-align: right;\n    }\n</style>\n<table border=\"1\" class=\"dataframe\">\n  <thead>\n    <tr style=\"text-align: right;\">\n      <th></th>\n      <th>Unnamed: 0</th>\n      <th>country</th>\n      <th>description</th>\n      <th>designation</th>\n      <th>points</th>\n      <th>price</th>\n      <th>province</th>\n      <th>region_1</th>\n      <th>region_2</th>\n      <th>taster_name</th>\n      <th>taster_twitter_handle</th>\n      <th>title</th>\n      <th>variety</th>\n      <th>winery</th>\n      <th>가성비</th>\n    </tr>\n  </thead>\n  <tbody>\n    <tr>\n      <th>0</th>\n      <td>0</td>\n      <td>Italy</td>\n      <td>Aromas include tropical fruit, broom, brimston...</td>\n      <td>Vulkà Bianco</td>\n      <td>87</td>\n      <td>NaN</td>\n      <td>Sicily &amp; Sardinia</td>\n      <td>Etna</td>\n      <td>NaN</td>\n      <td>Kerin O’Keefe</td>\n      <td>@kerinokeefe</td>\n      <td>Nicosia 2013 Vulkà Bianco  (Etna)</td>\n      <td>White Blend</td>\n      <td>Nicosia</td>\n      <td>NaN</td>\n    </tr>\n    <tr>\n      <th>1</th>\n      <td>1</td>\n      <td>Portugal</td>\n      <td>This is ripe and fruity, a wine that is smooth...</td>\n      <td>Avidagos</td>\n      <td>87</td>\n      <td>15.0</td>\n      <td>Douro</td>\n      <td>NaN</td>\n      <td>NaN</td>\n      <td>Roger Voss</td>\n      <td>@vossroger</td>\n      <td>Quinta dos Avidagos 2011 Avidagos Red (Douro)</td>\n      <td>Portuguese Red</td>\n      <td>Quinta dos Avidagos</td>\n      <td>5.8</td>\n    </tr>\n  </tbody>\n</table>\n</div>",
      "text/plain": [
       "   Unnamed: 0   country                                        description  \\\n",
       "0           0     Italy  Aromas include tropical fruit, broom, brimston...   \n",
       "1           1  Portugal  This is ripe and fruity, a wine that is smooth...   \n",
       "\n",
       "    designation  points  price           province region_1 region_2  \\\n",
       "0  Vulkà Bianco      87    NaN  Sicily & Sardinia     Etna      NaN   \n",
       "1      Avidagos      87   15.0              Douro      NaN      NaN   \n",
       "\n",
       "     taster_name taster_twitter_handle  \\\n",
       "0  Kerin O’Keefe          @kerinokeefe   \n",
       "1     Roger Voss            @vossroger   \n",
       "\n",
       "                                           title         variety  \\\n",
       "0              Nicosia 2013 Vulkà Bianco  (Etna)     White Blend   \n",
       "1  Quinta dos Avidagos 2011 Avidagos Red (Douro)  Portuguese Red   \n",
       "\n",
       "                winery  가성비  \n",
       "0              Nicosia  NaN  \n",
       "1  Quinta dos Avidagos  5.8  "
      ]
     },
     "execution_count": 77,
     "metadata": {},
     "output_type": "execute_result"
    }
   ],
   "source": [
    "reviews.head(2)"
   ]
  },
  {
   "cell_type": "code",
   "execution_count": 89,
   "metadata": {},
   "outputs": [
    {
     "data": {
      "text/plain": [
       "3"
      ]
     },
     "execution_count": 89,
     "metadata": {},
     "output_type": "execute_result"
    }
   ],
   "source": [
    "def put_star(point) :\n",
    "    if point >= 95:\n",
    "        return 3\n",
    "    elif point >= 85:\n",
    "        return 2\n",
    "    else:\n",
    "        return 1\n",
    "\n",
    "put_star(95)"
   ]
  },
  {
   "cell_type": "code",
   "execution_count": null,
   "metadata": {},
   "outputs": [],
   "source": [
    "# 참고!!!!\n",
    "# 함수 단위로 테스트 하는 것을 unit test 라고 함\n",
    "# Unit Test (단위 테스트)  ==> 이력서에 적기\n",
    "# 예: 저는 unit test를 했습니다. "
   ]
  },
  {
   "cell_type": "code",
   "execution_count": 90,
   "metadata": {},
   "outputs": [
    {
     "data": {
      "text/plain": [
       "3"
      ]
     },
     "execution_count": 90,
     "metadata": {},
     "output_type": "execute_result"
    }
   ],
   "source": [
    "put_star(100)"
   ]
  },
  {
   "cell_type": "code",
   "execution_count": 92,
   "metadata": {},
   "outputs": [
    {
     "data": {
      "text/plain": [
       "2"
      ]
     },
     "execution_count": 92,
     "metadata": {},
     "output_type": "execute_result"
    }
   ],
   "source": [
    "put_star(87)"
   ]
  },
  {
   "cell_type": "code",
   "execution_count": 93,
   "metadata": {},
   "outputs": [
    {
     "data": {
      "text/plain": [
       "0         2\n",
       "1         2\n",
       "2         2\n",
       "3         2\n",
       "4         2\n",
       "         ..\n",
       "129966    2\n",
       "129967    2\n",
       "129968    2\n",
       "129969    2\n",
       "129970    2\n",
       "Name: points, Length: 129971, dtype: int64"
      ]
     },
     "execution_count": 93,
     "metadata": {},
     "output_type": "execute_result"
    }
   ],
   "source": [
    "# ['points'] 컬럼명으로 접근해도 같음\n",
    "reviews.points.apply(put_star)"
   ]
  },
  {
   "cell_type": "code",
   "execution_count": 95,
   "metadata": {},
   "outputs": [],
   "source": [
    "reviews['ratings'] = reviews.points.apply(put_star)"
   ]
  },
  {
   "cell_type": "code",
   "execution_count": 100,
   "metadata": {},
   "outputs": [
    {
     "data": {
      "text/html": "<div>\n<style scoped>\n    .dataframe tbody tr th:only-of-type {\n        vertical-align: middle;\n    }\n\n    .dataframe tbody tr th {\n        vertical-align: top;\n    }\n\n    .dataframe thead th {\n        text-align: right;\n    }\n</style>\n<table border=\"1\" class=\"dataframe\">\n  <thead>\n    <tr style=\"text-align: right;\">\n      <th></th>\n      <th>Unnamed: 0</th>\n      <th>country</th>\n      <th>description</th>\n      <th>designation</th>\n      <th>points</th>\n      <th>price</th>\n      <th>province</th>\n      <th>region_1</th>\n      <th>region_2</th>\n      <th>taster_name</th>\n      <th>taster_twitter_handle</th>\n      <th>title</th>\n      <th>variety</th>\n      <th>winery</th>\n      <th>가성비</th>\n      <th>ratings</th>\n    </tr>\n  </thead>\n  <tbody>\n    <tr>\n      <th>0</th>\n      <td>0</td>\n      <td>Italy</td>\n      <td>Aromas include tropical fruit, broom, brimston...</td>\n      <td>Vulkà Bianco</td>\n      <td>87</td>\n      <td>NaN</td>\n      <td>Sicily &amp; Sardinia</td>\n      <td>Etna</td>\n      <td>NaN</td>\n      <td>Kerin O’Keefe</td>\n      <td>@kerinokeefe</td>\n      <td>Nicosia 2013 Vulkà Bianco  (Etna)</td>\n      <td>White Blend</td>\n      <td>Nicosia</td>\n      <td>NaN</td>\n      <td>2</td>\n    </tr>\n    <tr>\n      <th>1</th>\n      <td>1</td>\n      <td>Portugal</td>\n      <td>This is ripe and fruity, a wine that is smooth...</td>\n      <td>Avidagos</td>\n      <td>87</td>\n      <td>15.0</td>\n      <td>Douro</td>\n      <td>NaN</td>\n      <td>NaN</td>\n      <td>Roger Voss</td>\n      <td>@vossroger</td>\n      <td>Quinta dos Avidagos 2011 Avidagos Red (Douro)</td>\n      <td>Portuguese Red</td>\n      <td>Quinta dos Avidagos</td>\n      <td>5.800000</td>\n      <td>2</td>\n    </tr>\n    <tr>\n      <th>2</th>\n      <td>2</td>\n      <td>US</td>\n      <td>Tart and snappy, the flavors of lime flesh and...</td>\n      <td>NaN</td>\n      <td>87</td>\n      <td>14.0</td>\n      <td>Oregon</td>\n      <td>Willamette Valley</td>\n      <td>Willamette Valley</td>\n      <td>Paul Gregutt</td>\n      <td>@paulgwine</td>\n      <td>Rainstorm 2013 Pinot Gris (Willamette Valley)</td>\n      <td>Pinot Gris</td>\n      <td>Rainstorm</td>\n      <td>6.214286</td>\n      <td>2</td>\n    </tr>\n    <tr>\n      <th>3</th>\n      <td>3</td>\n      <td>US</td>\n      <td>Pineapple rind, lemon pith and orange blossom ...</td>\n      <td>Reserve Late Harvest</td>\n      <td>87</td>\n      <td>13.0</td>\n      <td>Michigan</td>\n      <td>Lake Michigan Shore</td>\n      <td>NaN</td>\n      <td>Alexander Peartree</td>\n      <td>NaN</td>\n      <td>St. Julian 2013 Reserve Late Harvest Riesling ...</td>\n      <td>Riesling</td>\n      <td>St. Julian</td>\n      <td>6.692308</td>\n      <td>2</td>\n    </tr>\n    <tr>\n      <th>4</th>\n      <td>4</td>\n      <td>US</td>\n      <td>Much like the regular bottling from 2012, this...</td>\n      <td>Vintner's Reserve Wild Child Block</td>\n      <td>87</td>\n      <td>65.0</td>\n      <td>Oregon</td>\n      <td>Willamette Valley</td>\n      <td>Willamette Valley</td>\n      <td>Paul Gregutt</td>\n      <td>@paulgwine</td>\n      <td>Sweet Cheeks 2012 Vintner's Reserve Wild Child...</td>\n      <td>Pinot Noir</td>\n      <td>Sweet Cheeks</td>\n      <td>1.338462</td>\n      <td>2</td>\n    </tr>\n    <tr>\n      <th>...</th>\n      <td>...</td>\n      <td>...</td>\n      <td>...</td>\n      <td>...</td>\n      <td>...</td>\n      <td>...</td>\n      <td>...</td>\n      <td>...</td>\n      <td>...</td>\n      <td>...</td>\n      <td>...</td>\n      <td>...</td>\n      <td>...</td>\n      <td>...</td>\n      <td>...</td>\n      <td>...</td>\n    </tr>\n    <tr>\n      <th>129966</th>\n      <td>129966</td>\n      <td>Germany</td>\n      <td>Notes of honeysuckle and cantaloupe sweeten th...</td>\n      <td>Brauneberger Juffer-Sonnenuhr Spätlese</td>\n      <td>90</td>\n      <td>28.0</td>\n      <td>Mosel</td>\n      <td>NaN</td>\n      <td>NaN</td>\n      <td>Anna Lee C. Iijima</td>\n      <td>NaN</td>\n      <td>Dr. H. Thanisch (Erben Müller-Burggraef) 2013 ...</td>\n      <td>Riesling</td>\n      <td>Dr. H. Thanisch (Erben Müller-Burggraef)</td>\n      <td>3.214286</td>\n      <td>2</td>\n    </tr>\n    <tr>\n      <th>129967</th>\n      <td>129967</td>\n      <td>US</td>\n      <td>Citation is given as much as a decade of bottl...</td>\n      <td>NaN</td>\n      <td>90</td>\n      <td>75.0</td>\n      <td>Oregon</td>\n      <td>Oregon</td>\n      <td>Oregon Other</td>\n      <td>Paul Gregutt</td>\n      <td>@paulgwine</td>\n      <td>Citation 2004 Pinot Noir (Oregon)</td>\n      <td>Pinot Noir</td>\n      <td>Citation</td>\n      <td>1.200000</td>\n      <td>2</td>\n    </tr>\n    <tr>\n      <th>129968</th>\n      <td>129968</td>\n      <td>France</td>\n      <td>Well-drained gravel soil gives this wine its c...</td>\n      <td>Kritt</td>\n      <td>90</td>\n      <td>30.0</td>\n      <td>Alsace</td>\n      <td>Alsace</td>\n      <td>NaN</td>\n      <td>Roger Voss</td>\n      <td>@vossroger</td>\n      <td>Domaine Gresser 2013 Kritt Gewurztraminer (Als...</td>\n      <td>Gewürztraminer</td>\n      <td>Domaine Gresser</td>\n      <td>3.000000</td>\n      <td>2</td>\n    </tr>\n    <tr>\n      <th>129969</th>\n      <td>129969</td>\n      <td>France</td>\n      <td>A dry style of Pinot Gris, this is crisp with ...</td>\n      <td>NaN</td>\n      <td>90</td>\n      <td>32.0</td>\n      <td>Alsace</td>\n      <td>Alsace</td>\n      <td>NaN</td>\n      <td>Roger Voss</td>\n      <td>@vossroger</td>\n      <td>Domaine Marcel Deiss 2012 Pinot Gris (Alsace)</td>\n      <td>Pinot Gris</td>\n      <td>Domaine Marcel Deiss</td>\n      <td>2.812500</td>\n      <td>2</td>\n    </tr>\n    <tr>\n      <th>129970</th>\n      <td>129970</td>\n      <td>France</td>\n      <td>Big, rich and off-dry, this is powered by inte...</td>\n      <td>Lieu-dit Harth Cuvée Caroline</td>\n      <td>90</td>\n      <td>21.0</td>\n      <td>Alsace</td>\n      <td>Alsace</td>\n      <td>NaN</td>\n      <td>Roger Voss</td>\n      <td>@vossroger</td>\n      <td>Domaine Schoffit 2012 Lieu-dit Harth Cuvée Car...</td>\n      <td>Gewürztraminer</td>\n      <td>Domaine Schoffit</td>\n      <td>4.285714</td>\n      <td>2</td>\n    </tr>\n  </tbody>\n</table>\n<p>129971 rows × 16 columns</p>\n</div>",
      "text/plain": [
       "        Unnamed: 0   country  \\\n",
       "0                0     Italy   \n",
       "1                1  Portugal   \n",
       "2                2        US   \n",
       "3                3        US   \n",
       "4                4        US   \n",
       "...            ...       ...   \n",
       "129966      129966   Germany   \n",
       "129967      129967        US   \n",
       "129968      129968    France   \n",
       "129969      129969    France   \n",
       "129970      129970    France   \n",
       "\n",
       "                                              description  \\\n",
       "0       Aromas include tropical fruit, broom, brimston...   \n",
       "1       This is ripe and fruity, a wine that is smooth...   \n",
       "2       Tart and snappy, the flavors of lime flesh and...   \n",
       "3       Pineapple rind, lemon pith and orange blossom ...   \n",
       "4       Much like the regular bottling from 2012, this...   \n",
       "...                                                   ...   \n",
       "129966  Notes of honeysuckle and cantaloupe sweeten th...   \n",
       "129967  Citation is given as much as a decade of bottl...   \n",
       "129968  Well-drained gravel soil gives this wine its c...   \n",
       "129969  A dry style of Pinot Gris, this is crisp with ...   \n",
       "129970  Big, rich and off-dry, this is powered by inte...   \n",
       "\n",
       "                                   designation  points  price  \\\n",
       "0                                 Vulkà Bianco      87    NaN   \n",
       "1                                     Avidagos      87   15.0   \n",
       "2                                          NaN      87   14.0   \n",
       "3                         Reserve Late Harvest      87   13.0   \n",
       "4           Vintner's Reserve Wild Child Block      87   65.0   \n",
       "...                                        ...     ...    ...   \n",
       "129966  Brauneberger Juffer-Sonnenuhr Spätlese      90   28.0   \n",
       "129967                                     NaN      90   75.0   \n",
       "129968                                   Kritt      90   30.0   \n",
       "129969                                     NaN      90   32.0   \n",
       "129970           Lieu-dit Harth Cuvée Caroline      90   21.0   \n",
       "\n",
       "                 province             region_1           region_2  \\\n",
       "0       Sicily & Sardinia                 Etna                NaN   \n",
       "1                   Douro                  NaN                NaN   \n",
       "2                  Oregon    Willamette Valley  Willamette Valley   \n",
       "3                Michigan  Lake Michigan Shore                NaN   \n",
       "4                  Oregon    Willamette Valley  Willamette Valley   \n",
       "...                   ...                  ...                ...   \n",
       "129966              Mosel                  NaN                NaN   \n",
       "129967             Oregon               Oregon       Oregon Other   \n",
       "129968             Alsace               Alsace                NaN   \n",
       "129969             Alsace               Alsace                NaN   \n",
       "129970             Alsace               Alsace                NaN   \n",
       "\n",
       "               taster_name taster_twitter_handle  \\\n",
       "0            Kerin O’Keefe          @kerinokeefe   \n",
       "1               Roger Voss            @vossroger   \n",
       "2             Paul Gregutt           @paulgwine    \n",
       "3       Alexander Peartree                   NaN   \n",
       "4             Paul Gregutt           @paulgwine    \n",
       "...                    ...                   ...   \n",
       "129966  Anna Lee C. Iijima                   NaN   \n",
       "129967        Paul Gregutt           @paulgwine    \n",
       "129968          Roger Voss            @vossroger   \n",
       "129969          Roger Voss            @vossroger   \n",
       "129970          Roger Voss            @vossroger   \n",
       "\n",
       "                                                    title         variety  \\\n",
       "0                       Nicosia 2013 Vulkà Bianco  (Etna)     White Blend   \n",
       "1           Quinta dos Avidagos 2011 Avidagos Red (Douro)  Portuguese Red   \n",
       "2           Rainstorm 2013 Pinot Gris (Willamette Valley)      Pinot Gris   \n",
       "3       St. Julian 2013 Reserve Late Harvest Riesling ...        Riesling   \n",
       "4       Sweet Cheeks 2012 Vintner's Reserve Wild Child...      Pinot Noir   \n",
       "...                                                   ...             ...   \n",
       "129966  Dr. H. Thanisch (Erben Müller-Burggraef) 2013 ...        Riesling   \n",
       "129967                  Citation 2004 Pinot Noir (Oregon)      Pinot Noir   \n",
       "129968  Domaine Gresser 2013 Kritt Gewurztraminer (Als...  Gewürztraminer   \n",
       "129969      Domaine Marcel Deiss 2012 Pinot Gris (Alsace)      Pinot Gris   \n",
       "129970  Domaine Schoffit 2012 Lieu-dit Harth Cuvée Car...  Gewürztraminer   \n",
       "\n",
       "                                          winery       가성비  ratings  \n",
       "0                                        Nicosia       NaN        2  \n",
       "1                            Quinta dos Avidagos  5.800000        2  \n",
       "2                                      Rainstorm  6.214286        2  \n",
       "3                                     St. Julian  6.692308        2  \n",
       "4                                   Sweet Cheeks  1.338462        2  \n",
       "...                                          ...       ...      ...  \n",
       "129966  Dr. H. Thanisch (Erben Müller-Burggraef)  3.214286        2  \n",
       "129967                                  Citation  1.200000        2  \n",
       "129968                           Domaine Gresser  3.000000        2  \n",
       "129969                      Domaine Marcel Deiss  2.812500        2  \n",
       "129970                          Domaine Schoffit  4.285714        2  \n",
       "\n",
       "[129971 rows x 16 columns]"
      ]
     },
     "execution_count": 100,
     "metadata": {},
     "output_type": "execute_result"
    }
   ],
   "source": [
    "reviews"
   ]
  },
  {
   "cell_type": "code",
   "execution_count": null,
   "metadata": {},
   "outputs": [],
   "source": []
  },
  {
   "cell_type": "markdown",
   "metadata": {},
   "source": [
    "리뷰의 region_2 컬럼에 데이터가 비어있는 경우에는, 'Unknown'으로 셋팅하자."
   ]
  },
  {
   "cell_type": "code",
   "execution_count": 103,
   "metadata": {},
   "outputs": [],
   "source": [
    "reviews.region_2.fillna('Unknown', inplace=True)"
   ]
  },
  {
   "cell_type": "code",
   "execution_count": 105,
   "metadata": {},
   "outputs": [
    {
     "data": {
      "text/html": "<div>\n<style scoped>\n    .dataframe tbody tr th:only-of-type {\n        vertical-align: middle;\n    }\n\n    .dataframe tbody tr th {\n        vertical-align: top;\n    }\n\n    .dataframe thead th {\n        text-align: right;\n    }\n</style>\n<table border=\"1\" class=\"dataframe\">\n  <thead>\n    <tr style=\"text-align: right;\">\n      <th></th>\n      <th>Unnamed: 0</th>\n      <th>country</th>\n      <th>description</th>\n      <th>designation</th>\n      <th>points</th>\n      <th>price</th>\n      <th>province</th>\n      <th>region_1</th>\n      <th>region_2</th>\n      <th>taster_name</th>\n      <th>taster_twitter_handle</th>\n      <th>title</th>\n      <th>variety</th>\n      <th>winery</th>\n      <th>가성비</th>\n      <th>ratings</th>\n    </tr>\n  </thead>\n  <tbody>\n    <tr>\n      <th>0</th>\n      <td>0</td>\n      <td>Italy</td>\n      <td>Aromas include tropical fruit, broom, brimston...</td>\n      <td>Vulkà Bianco</td>\n      <td>87</td>\n      <td>NaN</td>\n      <td>Sicily &amp; Sardinia</td>\n      <td>Etna</td>\n      <td>Unknown</td>\n      <td>Kerin O’Keefe</td>\n      <td>@kerinokeefe</td>\n      <td>Nicosia 2013 Vulkà Bianco  (Etna)</td>\n      <td>White Blend</td>\n      <td>Nicosia</td>\n      <td>NaN</td>\n      <td>2</td>\n    </tr>\n    <tr>\n      <th>1</th>\n      <td>1</td>\n      <td>Portugal</td>\n      <td>This is ripe and fruity, a wine that is smooth...</td>\n      <td>Avidagos</td>\n      <td>87</td>\n      <td>15.0</td>\n      <td>Douro</td>\n      <td>NaN</td>\n      <td>Unknown</td>\n      <td>Roger Voss</td>\n      <td>@vossroger</td>\n      <td>Quinta dos Avidagos 2011 Avidagos Red (Douro)</td>\n      <td>Portuguese Red</td>\n      <td>Quinta dos Avidagos</td>\n      <td>5.8</td>\n      <td>2</td>\n    </tr>\n  </tbody>\n</table>\n</div>",
      "text/plain": [
       "   Unnamed: 0   country                                        description  \\\n",
       "0           0     Italy  Aromas include tropical fruit, broom, brimston...   \n",
       "1           1  Portugal  This is ripe and fruity, a wine that is smooth...   \n",
       "\n",
       "    designation  points  price           province region_1 region_2  \\\n",
       "0  Vulkà Bianco      87    NaN  Sicily & Sardinia     Etna  Unknown   \n",
       "1      Avidagos      87   15.0              Douro      NaN  Unknown   \n",
       "\n",
       "     taster_name taster_twitter_handle  \\\n",
       "0  Kerin O’Keefe          @kerinokeefe   \n",
       "1     Roger Voss            @vossroger   \n",
       "\n",
       "                                           title         variety  \\\n",
       "0              Nicosia 2013 Vulkà Bianco  (Etna)     White Blend   \n",
       "1  Quinta dos Avidagos 2011 Avidagos Red (Douro)  Portuguese Red   \n",
       "\n",
       "                winery  가성비  ratings  \n",
       "0              Nicosia  NaN        2  \n",
       "1  Quinta dos Avidagos  5.8        2  "
      ]
     },
     "execution_count": 105,
     "metadata": {},
     "output_type": "execute_result"
    }
   ],
   "source": [
    "reviews.head(2)"
   ]
  },
  {
   "cell_type": "code",
   "execution_count": null,
   "metadata": {},
   "outputs": [],
   "source": []
  },
  {
   "cell_type": "markdown",
   "metadata": {},
   "source": [
    "포인트로 그룹바이하고, 몇개의 데이터가 있는지 카운팅"
   ]
  },
  {
   "cell_type": "code",
   "execution_count": 109,
   "metadata": {},
   "outputs": [
    {
     "data": {
      "text/plain": [
       "points\n",
       "100       19\n",
       "99        33\n",
       "98        77\n",
       "97       229\n",
       "80       397\n",
       "96       523\n",
       "81       692\n",
       "95      1535\n",
       "82      1836\n",
       "83      3025\n",
       "94      3758\n",
       "84      6480\n",
       "93      6489\n",
       "85      9530\n",
       "92      9613\n",
       "91     11359\n",
       "89     12226\n",
       "86     12600\n",
       "90     15410\n",
       "87     16933\n",
       "88     17207\n",
       "Name: points, dtype: int64"
      ]
     },
     "execution_count": 109,
     "metadata": {},
     "output_type": "execute_result"
    }
   ],
   "source": [
    "reviews.groupby('points').points.count().sort_values()"
   ]
  },
  {
   "cell_type": "code",
   "execution_count": 110,
   "metadata": {},
   "outputs": [
    {
     "data": {
      "text/plain": [
       "88     17207\n",
       "87     16933\n",
       "90     15410\n",
       "86     12600\n",
       "89     12226\n",
       "91     11359\n",
       "92      9613\n",
       "85      9530\n",
       "93      6489\n",
       "84      6480\n",
       "94      3758\n",
       "83      3025\n",
       "82      1836\n",
       "95      1535\n",
       "81       692\n",
       "96       523\n",
       "80       397\n",
       "97       229\n",
       "98        77\n",
       "99        33\n",
       "100       19\n",
       "Name: points, dtype: int64"
      ]
     },
     "execution_count": 110,
     "metadata": {},
     "output_type": "execute_result"
    }
   ],
   "source": [
    "# 좀 더 간단한 방법\n",
    "reviews.points.value_counts()"
   ]
  },
  {
   "cell_type": "code",
   "execution_count": null,
   "metadata": {},
   "outputs": [],
   "source": []
  },
  {
   "cell_type": "markdown",
   "metadata": {},
   "source": [
    "포인트별 가격의 최소값을 구해본다."
   ]
  },
  {
   "cell_type": "code",
   "execution_count": 111,
   "metadata": {},
   "outputs": [
    {
     "data": {
      "text/plain": [
       "points\n",
       "80      5.0\n",
       "81      5.0\n",
       "82      4.0\n",
       "83      4.0\n",
       "84      4.0\n",
       "85      4.0\n",
       "86      4.0\n",
       "87      5.0\n",
       "88      6.0\n",
       "89      7.0\n",
       "90      8.0\n",
       "91      7.0\n",
       "92     11.0\n",
       "93     12.0\n",
       "94     13.0\n",
       "95     20.0\n",
       "96     20.0\n",
       "97     35.0\n",
       "98     50.0\n",
       "99     44.0\n",
       "100    80.0\n",
       "Name: price, dtype: float64"
      ]
     },
     "execution_count": 111,
     "metadata": {},
     "output_type": "execute_result"
    }
   ],
   "source": [
    "# 포인트별로 그룹을 묶어 준다 groupby\n",
    "# 그후 price컬럼의 min() 최소값\n",
    "reviews.groupby('points').price.min()"
   ]
  },
  {
   "cell_type": "code",
   "execution_count": null,
   "metadata": {},
   "outputs": [],
   "source": []
  },
  {
   "cell_type": "markdown",
   "metadata": {},
   "source": [
    "각 국가별로, 가격의 최소값, 최대값 은?"
   ]
  },
  {
   "cell_type": "code",
   "execution_count": 123,
   "metadata": {},
   "outputs": [
    {
     "data": {
      "text/html": "<div>\n<style scoped>\n    .dataframe tbody tr th:only-of-type {\n        vertical-align: middle;\n    }\n\n    .dataframe tbody tr th {\n        vertical-align: top;\n    }\n\n    .dataframe thead th {\n        text-align: right;\n    }\n</style>\n<table border=\"1\" class=\"dataframe\">\n  <thead>\n    <tr style=\"text-align: right;\">\n      <th></th>\n      <th>points</th>\n      <th>price</th>\n      <th>가성비</th>\n      <th>ratings</th>\n    </tr>\n  </thead>\n  <tbody>\n    <tr>\n      <th>points</th>\n      <td>1.000000</td>\n      <td>0.416167</td>\n      <td>-0.547842</td>\n      <td>0.637724</td>\n    </tr>\n    <tr>\n      <th>price</th>\n      <td>0.416167</td>\n      <td>1.000000</td>\n      <td>-0.521180</td>\n      <td>0.258873</td>\n    </tr>\n    <tr>\n      <th>가성비</th>\n      <td>-0.547842</td>\n      <td>-0.521180</td>\n      <td>1.000000</td>\n      <td>-0.310189</td>\n    </tr>\n    <tr>\n      <th>ratings</th>\n      <td>0.637724</td>\n      <td>0.258873</td>\n      <td>-0.310189</td>\n      <td>1.000000</td>\n    </tr>\n  </tbody>\n</table>\n</div>",
      "text/plain": [
       "           points     price       가성비   ratings\n",
       "points   1.000000  0.416167 -0.547842  0.637724\n",
       "price    0.416167  1.000000 -0.521180  0.258873\n",
       "가성비     -0.547842 -0.521180  1.000000 -0.310189\n",
       "ratings  0.637724  0.258873 -0.310189  1.000000"
      ]
     },
     "execution_count": 123,
     "metadata": {},
     "output_type": "execute_result"
    }
   ],
   "source": [
    "# 데이터프레임에서 대각선은 의미없음: 자기자신이므로\n",
    "reviews.corr()\n"
   ]
  },
  {
   "cell_type": "code",
   "execution_count": 125,
   "metadata": {},
   "outputs": [
    {
     "data": {
      "text/html": "<div>\n<style scoped>\n    .dataframe tbody tr th:only-of-type {\n        vertical-align: middle;\n    }\n\n    .dataframe tbody tr th {\n        vertical-align: top;\n    }\n\n    .dataframe thead th {\n        text-align: right;\n    }\n</style>\n<table border=\"1\" class=\"dataframe\">\n  <thead>\n    <tr style=\"text-align: right;\">\n      <th></th>\n      <th>amin</th>\n      <th>amax</th>\n    </tr>\n    <tr>\n      <th>country</th>\n      <th></th>\n      <th></th>\n    </tr>\n  </thead>\n  <tbody>\n    <tr>\n      <th>Argentina</th>\n      <td>4.0</td>\n      <td>230.0</td>\n    </tr>\n    <tr>\n      <th>Armenia</th>\n      <td>14.0</td>\n      <td>15.0</td>\n    </tr>\n    <tr>\n      <th>Australia</th>\n      <td>5.0</td>\n      <td>850.0</td>\n    </tr>\n    <tr>\n      <th>Austria</th>\n      <td>7.0</td>\n      <td>1100.0</td>\n    </tr>\n    <tr>\n      <th>Bosnia and Herzegovina</th>\n      <td>12.0</td>\n      <td>13.0</td>\n    </tr>\n    <tr>\n      <th>Brazil</th>\n      <td>10.0</td>\n      <td>60.0</td>\n    </tr>\n    <tr>\n      <th>Bulgaria</th>\n      <td>8.0</td>\n      <td>100.0</td>\n    </tr>\n    <tr>\n      <th>Canada</th>\n      <td>12.0</td>\n      <td>120.0</td>\n    </tr>\n    <tr>\n      <th>Chile</th>\n      <td>5.0</td>\n      <td>400.0</td>\n    </tr>\n    <tr>\n      <th>China</th>\n      <td>18.0</td>\n      <td>18.0</td>\n    </tr>\n    <tr>\n      <th>Croatia</th>\n      <td>12.0</td>\n      <td>65.0</td>\n    </tr>\n    <tr>\n      <th>Cyprus</th>\n      <td>11.0</td>\n      <td>21.0</td>\n    </tr>\n    <tr>\n      <th>Czech Republic</th>\n      <td>15.0</td>\n      <td>45.0</td>\n    </tr>\n    <tr>\n      <th>Egypt</th>\n      <td>NaN</td>\n      <td>NaN</td>\n    </tr>\n    <tr>\n      <th>England</th>\n      <td>25.0</td>\n      <td>95.0</td>\n    </tr>\n    <tr>\n      <th>France</th>\n      <td>5.0</td>\n      <td>3300.0</td>\n    </tr>\n    <tr>\n      <th>Georgia</th>\n      <td>9.0</td>\n      <td>40.0</td>\n    </tr>\n    <tr>\n      <th>Germany</th>\n      <td>5.0</td>\n      <td>775.0</td>\n    </tr>\n    <tr>\n      <th>Greece</th>\n      <td>8.0</td>\n      <td>79.0</td>\n    </tr>\n    <tr>\n      <th>Hungary</th>\n      <td>10.0</td>\n      <td>764.0</td>\n    </tr>\n    <tr>\n      <th>India</th>\n      <td>10.0</td>\n      <td>20.0</td>\n    </tr>\n    <tr>\n      <th>Israel</th>\n      <td>8.0</td>\n      <td>150.0</td>\n    </tr>\n    <tr>\n      <th>Italy</th>\n      <td>5.0</td>\n      <td>900.0</td>\n    </tr>\n    <tr>\n      <th>Lebanon</th>\n      <td>13.0</td>\n      <td>75.0</td>\n    </tr>\n    <tr>\n      <th>Luxembourg</th>\n      <td>16.0</td>\n      <td>30.0</td>\n    </tr>\n    <tr>\n      <th>Macedonia</th>\n      <td>15.0</td>\n      <td>20.0</td>\n    </tr>\n    <tr>\n      <th>Mexico</th>\n      <td>8.0</td>\n      <td>108.0</td>\n    </tr>\n    <tr>\n      <th>Moldova</th>\n      <td>8.0</td>\n      <td>42.0</td>\n    </tr>\n    <tr>\n      <th>Morocco</th>\n      <td>14.0</td>\n      <td>40.0</td>\n    </tr>\n    <tr>\n      <th>New Zealand</th>\n      <td>7.0</td>\n      <td>130.0</td>\n    </tr>\n    <tr>\n      <th>Peru</th>\n      <td>10.0</td>\n      <td>68.0</td>\n    </tr>\n    <tr>\n      <th>Portugal</th>\n      <td>5.0</td>\n      <td>1000.0</td>\n    </tr>\n    <tr>\n      <th>Romania</th>\n      <td>4.0</td>\n      <td>320.0</td>\n    </tr>\n    <tr>\n      <th>Serbia</th>\n      <td>15.0</td>\n      <td>42.0</td>\n    </tr>\n    <tr>\n      <th>Slovakia</th>\n      <td>16.0</td>\n      <td>16.0</td>\n    </tr>\n    <tr>\n      <th>Slovenia</th>\n      <td>7.0</td>\n      <td>90.0</td>\n    </tr>\n    <tr>\n      <th>South Africa</th>\n      <td>5.0</td>\n      <td>330.0</td>\n    </tr>\n    <tr>\n      <th>Spain</th>\n      <td>4.0</td>\n      <td>770.0</td>\n    </tr>\n    <tr>\n      <th>Switzerland</th>\n      <td>21.0</td>\n      <td>160.0</td>\n    </tr>\n    <tr>\n      <th>Turkey</th>\n      <td>14.0</td>\n      <td>120.0</td>\n    </tr>\n    <tr>\n      <th>US</th>\n      <td>4.0</td>\n      <td>2013.0</td>\n    </tr>\n    <tr>\n      <th>Ukraine</th>\n      <td>6.0</td>\n      <td>13.0</td>\n    </tr>\n    <tr>\n      <th>Uruguay</th>\n      <td>10.0</td>\n      <td>130.0</td>\n    </tr>\n  </tbody>\n</table>\n</div>",
      "text/plain": [
       "                        amin    amax\n",
       "country                             \n",
       "Argentina                4.0   230.0\n",
       "Armenia                 14.0    15.0\n",
       "Australia                5.0   850.0\n",
       "Austria                  7.0  1100.0\n",
       "Bosnia and Herzegovina  12.0    13.0\n",
       "Brazil                  10.0    60.0\n",
       "Bulgaria                 8.0   100.0\n",
       "Canada                  12.0   120.0\n",
       "Chile                    5.0   400.0\n",
       "China                   18.0    18.0\n",
       "Croatia                 12.0    65.0\n",
       "Cyprus                  11.0    21.0\n",
       "Czech Republic          15.0    45.0\n",
       "Egypt                    NaN     NaN\n",
       "England                 25.0    95.0\n",
       "France                   5.0  3300.0\n",
       "Georgia                  9.0    40.0\n",
       "Germany                  5.0   775.0\n",
       "Greece                   8.0    79.0\n",
       "Hungary                 10.0   764.0\n",
       "India                   10.0    20.0\n",
       "Israel                   8.0   150.0\n",
       "Italy                    5.0   900.0\n",
       "Lebanon                 13.0    75.0\n",
       "Luxembourg              16.0    30.0\n",
       "Macedonia               15.0    20.0\n",
       "Mexico                   8.0   108.0\n",
       "Moldova                  8.0    42.0\n",
       "Morocco                 14.0    40.0\n",
       "New Zealand              7.0   130.0\n",
       "Peru                    10.0    68.0\n",
       "Portugal                 5.0  1000.0\n",
       "Romania                  4.0   320.0\n",
       "Serbia                  15.0    42.0\n",
       "Slovakia                16.0    16.0\n",
       "Slovenia                 7.0    90.0\n",
       "South Africa             5.0   330.0\n",
       "Spain                    4.0   770.0\n",
       "Switzerland             21.0   160.0\n",
       "Turkey                  14.0   120.0\n",
       "US                       4.0  2013.0\n",
       "Ukraine                  6.0    13.0\n",
       "Uruguay                 10.0   130.0"
      ]
     },
     "execution_count": 125,
     "metadata": {},
     "output_type": "execute_result"
    }
   ],
   "source": [
    "import numpy as np\r\n",
    "#각 국가별로, 가격의 최소값, 최대값 구하기\r\n",
    "\r\n",
    "#agg() \r\n",
    "# aggregate 집계하는 함수\r\n",
    "# 2개의 함수를 적용할 수 있게 해줌\r\n",
    "# 먼저 그룹바이를 해줌\r\n",
    "# 그다음 price 컬럼을  numpy의 min, max를 사용\r\n",
    "reviews.groupby('country').price.agg( [np.min, np.max] )"
   ]
  },
  {
   "cell_type": "code",
   "execution_count": 126,
   "metadata": {},
   "outputs": [
    {
     "data": {
      "text/html": "<div>\n<style scoped>\n    .dataframe tbody tr th:only-of-type {\n        vertical-align: middle;\n    }\n\n    .dataframe tbody tr th {\n        vertical-align: top;\n    }\n\n    .dataframe thead th {\n        text-align: right;\n    }\n</style>\n<table border=\"1\" class=\"dataframe\">\n  <thead>\n    <tr style=\"text-align: right;\">\n      <th></th>\n      <th>country</th>\n      <th>description</th>\n      <th>designation</th>\n      <th>points</th>\n      <th>price</th>\n      <th>province</th>\n      <th>region_1</th>\n      <th>region_2</th>\n      <th>taster_name</th>\n      <th>taster_twitter_handle</th>\n      <th>title</th>\n      <th>variety</th>\n      <th>winery</th>\n      <th>가성비</th>\n      <th>ratings</th>\n    </tr>\n  </thead>\n  <tbody>\n    <tr>\n      <th>0</th>\n      <td>Italy</td>\n      <td>Aromas include tropical fruit, broom, brimston...</td>\n      <td>Vulkà Bianco</td>\n      <td>87</td>\n      <td>NaN</td>\n      <td>Sicily &amp; Sardinia</td>\n      <td>Etna</td>\n      <td>Unknown</td>\n      <td>Kerin O’Keefe</td>\n      <td>@kerinokeefe</td>\n      <td>Nicosia 2013 Vulkà Bianco  (Etna)</td>\n      <td>White Blend</td>\n      <td>Nicosia</td>\n      <td>NaN</td>\n      <td>2</td>\n    </tr>\n    <tr>\n      <th>1</th>\n      <td>Portugal</td>\n      <td>This is ripe and fruity, a wine that is smooth...</td>\n      <td>Avidagos</td>\n      <td>87</td>\n      <td>15.0</td>\n      <td>Douro</td>\n      <td>NaN</td>\n      <td>Unknown</td>\n      <td>Roger Voss</td>\n      <td>@vossroger</td>\n      <td>Quinta dos Avidagos 2011 Avidagos Red (Douro)</td>\n      <td>Portuguese Red</td>\n      <td>Quinta dos Avidagos</td>\n      <td>5.8</td>\n      <td>2</td>\n    </tr>\n  </tbody>\n</table>\n</div>",
      "text/plain": [
       "    country                                        description   designation  \\\n",
       "0     Italy  Aromas include tropical fruit, broom, brimston...  Vulkà Bianco   \n",
       "1  Portugal  This is ripe and fruity, a wine that is smooth...      Avidagos   \n",
       "\n",
       "   points  price           province region_1 region_2    taster_name  \\\n",
       "0      87    NaN  Sicily & Sardinia     Etna  Unknown  Kerin O’Keefe   \n",
       "1      87   15.0              Douro      NaN  Unknown     Roger Voss   \n",
       "\n",
       "  taster_twitter_handle                                          title  \\\n",
       "0          @kerinokeefe              Nicosia 2013 Vulkà Bianco  (Etna)   \n",
       "1            @vossroger  Quinta dos Avidagos 2011 Avidagos Red (Douro)   \n",
       "\n",
       "          variety               winery  가성비  ratings  \n",
       "0     White Blend              Nicosia  NaN        2  \n",
       "1  Portuguese Red  Quinta dos Avidagos  5.8        2  "
      ]
     },
     "execution_count": 126,
     "metadata": {},
     "output_type": "execute_result"
    }
   ],
   "source": [
    "reviews.head(2)"
   ]
  },
  {
   "cell_type": "code",
   "execution_count": 129,
   "metadata": {},
   "outputs": [
    {
     "data": {
      "text/html": "<div>\n<style scoped>\n    .dataframe tbody tr th:only-of-type {\n        vertical-align: middle;\n    }\n\n    .dataframe tbody tr th {\n        vertical-align: top;\n    }\n\n    .dataframe thead th {\n        text-align: right;\n    }\n</style>\n<table border=\"1\" class=\"dataframe\">\n  <thead>\n    <tr style=\"text-align: right;\">\n      <th></th>\n      <th>country</th>\n      <th>description</th>\n      <th>designation</th>\n      <th>points</th>\n      <th>price</th>\n      <th>province</th>\n      <th>region_1</th>\n      <th>region_2</th>\n      <th>taster_name</th>\n      <th>taster_twitter_handle</th>\n      <th>title</th>\n      <th>variety</th>\n      <th>winery</th>\n      <th>가성비</th>\n      <th>ratings</th>\n    </tr>\n  </thead>\n  <tbody>\n    <tr>\n      <th>61144</th>\n      <td>Argentina</td>\n      <td>This immense Cabernet contains 3% Malbec, and ...</td>\n      <td>Volturno Marchiori Vineyard</td>\n      <td>91</td>\n      <td>230.0</td>\n      <td>Mendoza Province</td>\n      <td>Perdriel</td>\n      <td>Unknown</td>\n      <td>Michael Schachner</td>\n      <td>@wineschach</td>\n      <td>Viña Cobos 2012 Volturno Marchiori Vineyard Ca...</td>\n      <td>Cabernet Sauvignon</td>\n      <td>Viña Cobos</td>\n      <td>0.395652</td>\n      <td>2</td>\n    </tr>\n    <tr>\n      <th>87328</th>\n      <td>Argentina</td>\n      <td>Gritty berry aromas are solid but a bit underw...</td>\n      <td>Volturno</td>\n      <td>92</td>\n      <td>230.0</td>\n      <td>Mendoza Province</td>\n      <td>Perdriel</td>\n      <td>Unknown</td>\n      <td>Michael Schachner</td>\n      <td>@wineschach</td>\n      <td>Viña Cobos 2013 Volturno Cabernet Sauvignon (P...</td>\n      <td>Cabernet Sauvignon</td>\n      <td>Viña Cobos</td>\n      <td>0.400000</td>\n      <td>2</td>\n    </tr>\n    <tr>\n      <th>122027</th>\n      <td>Argentina</td>\n      <td>Price aside, this is absolutely wonderful Malb...</td>\n      <td>Cobos Marchiori Vineyard</td>\n      <td>95</td>\n      <td>225.0</td>\n      <td>Mendoza Province</td>\n      <td>Mendoza</td>\n      <td>Unknown</td>\n      <td>Michael Schachner</td>\n      <td>@wineschach</td>\n      <td>Viña Cobos 2010 Cobos Marchiori Vineyard Malbe...</td>\n      <td>Malbec</td>\n      <td>Viña Cobos</td>\n      <td>0.422222</td>\n      <td>3</td>\n    </tr>\n    <tr>\n      <th>284</th>\n      <td>Argentina</td>\n      <td>This huge Malbec defines jammy and concentrate...</td>\n      <td>Marchiori Vineyard Block C2</td>\n      <td>92</td>\n      <td>215.0</td>\n      <td>Mendoza Province</td>\n      <td>Perdriel</td>\n      <td>Unknown</td>\n      <td>Michael Schachner</td>\n      <td>@wineschach</td>\n      <td>Viña Cobos 2011 Marchiori Vineyard Block C2 Ma...</td>\n      <td>Malbec</td>\n      <td>Viña Cobos</td>\n      <td>0.427907</td>\n      <td>2</td>\n    </tr>\n    <tr>\n      <th>105092</th>\n      <td>Argentina</td>\n      <td>Jammy and reduced on the nose, this smells gri...</td>\n      <td>NaN</td>\n      <td>89</td>\n      <td>210.0</td>\n      <td>Mendoza Province</td>\n      <td>Perdriel</td>\n      <td>Unknown</td>\n      <td>Michael Schachner</td>\n      <td>@wineschach</td>\n      <td>Viña Cobos 2013 Malbec (Perdriel)</td>\n      <td>Malbec</td>\n      <td>Viña Cobos</td>\n      <td>0.423810</td>\n      <td>2</td>\n    </tr>\n    <tr>\n      <th>...</th>\n      <td>...</td>\n      <td>...</td>\n      <td>...</td>\n      <td>...</td>\n      <td>...</td>\n      <td>...</td>\n      <td>...</td>\n      <td>...</td>\n      <td>...</td>\n      <td>...</td>\n      <td>...</td>\n      <td>...</td>\n      <td>...</td>\n      <td>...</td>\n      <td>...</td>\n    </tr>\n    <tr>\n      <th>44851</th>\n      <td>NaN</td>\n      <td>This wine has aromas of honeysuckle and lemon ...</td>\n      <td>Royal</td>\n      <td>84</td>\n      <td>6.0</td>\n      <td>NaN</td>\n      <td>NaN</td>\n      <td>Unknown</td>\n      <td>Jeff Jenssen</td>\n      <td>@worldwineguys</td>\n      <td>Stone Castle 2015 Royal Riesling</td>\n      <td>Riesling</td>\n      <td>Stone Castle</td>\n      <td>14.000000</td>\n      <td>1</td>\n    </tr>\n    <tr>\n      <th>3131</th>\n      <td>NaN</td>\n      <td>Soft, fruity and juicy, this is a pleasant, si...</td>\n      <td>Partager</td>\n      <td>83</td>\n      <td>NaN</td>\n      <td>NaN</td>\n      <td>NaN</td>\n      <td>Unknown</td>\n      <td>Roger Voss</td>\n      <td>@vossroger</td>\n      <td>Barton &amp; Guestier NV Partager Red</td>\n      <td>Red Blend</td>\n      <td>Barton &amp; Guestier</td>\n      <td>NaN</td>\n      <td>1</td>\n    </tr>\n    <tr>\n      <th>11348</th>\n      <td>NaN</td>\n      <td>Light and fruity, this is a wine that has some...</td>\n      <td>Partager</td>\n      <td>82</td>\n      <td>NaN</td>\n      <td>NaN</td>\n      <td>NaN</td>\n      <td>Unknown</td>\n      <td>Roger Voss</td>\n      <td>@vossroger</td>\n      <td>Barton &amp; Guestier NV Partager White</td>\n      <td>White Blend</td>\n      <td>Barton &amp; Guestier</td>\n      <td>NaN</td>\n      <td>1</td>\n    </tr>\n    <tr>\n      <th>16749</th>\n      <td>NaN</td>\n      <td>Winemaker: Bartho Eksteen. This wooded Sauvy s...</td>\n      <td>Cape Winemakers Guild Vloekskoot Wooded</td>\n      <td>91</td>\n      <td>NaN</td>\n      <td>NaN</td>\n      <td>NaN</td>\n      <td>Unknown</td>\n      <td>Lauren Buzzeo</td>\n      <td>@laurbuzz</td>\n      <td>Bartho Eksteen 2016 Cape Winemakers Guild Vloe...</td>\n      <td>Sauvignon Blanc</td>\n      <td>Bartho Eksteen</td>\n      <td>NaN</td>\n      <td>2</td>\n    </tr>\n    <tr>\n      <th>57612</th>\n      <td>NaN</td>\n      <td>Winemaker: Gordon Newton Johnson. This is such...</td>\n      <td>Cape Winemakers Guild Windansea</td>\n      <td>92</td>\n      <td>NaN</td>\n      <td>NaN</td>\n      <td>NaN</td>\n      <td>Unknown</td>\n      <td>Lauren Buzzeo</td>\n      <td>@laurbuzz</td>\n      <td>Newton Johnson 2016 Cape Winemakers Guild Wind...</td>\n      <td>Pinot Noir</td>\n      <td>Newton Johnson</td>\n      <td>NaN</td>\n      <td>2</td>\n    </tr>\n  </tbody>\n</table>\n<p>129971 rows × 15 columns</p>\n</div>",
      "text/plain": [
       "          country                                        description  \\\n",
       "61144   Argentina  This immense Cabernet contains 3% Malbec, and ...   \n",
       "87328   Argentina  Gritty berry aromas are solid but a bit underw...   \n",
       "122027  Argentina  Price aside, this is absolutely wonderful Malb...   \n",
       "284     Argentina  This huge Malbec defines jammy and concentrate...   \n",
       "105092  Argentina  Jammy and reduced on the nose, this smells gri...   \n",
       "...           ...                                                ...   \n",
       "44851         NaN  This wine has aromas of honeysuckle and lemon ...   \n",
       "3131          NaN  Soft, fruity and juicy, this is a pleasant, si...   \n",
       "11348         NaN  Light and fruity, this is a wine that has some...   \n",
       "16749         NaN  Winemaker: Bartho Eksteen. This wooded Sauvy s...   \n",
       "57612         NaN  Winemaker: Gordon Newton Johnson. This is such...   \n",
       "\n",
       "                                    designation  points  price  \\\n",
       "61144               Volturno Marchiori Vineyard      91  230.0   \n",
       "87328                                  Volturno      92  230.0   \n",
       "122027                 Cobos Marchiori Vineyard      95  225.0   \n",
       "284                 Marchiori Vineyard Block C2      92  215.0   \n",
       "105092                                      NaN      89  210.0   \n",
       "...                                         ...     ...    ...   \n",
       "44851                                     Royal      84    6.0   \n",
       "3131                                   Partager      83    NaN   \n",
       "11348                                  Partager      82    NaN   \n",
       "16749   Cape Winemakers Guild Vloekskoot Wooded      91    NaN   \n",
       "57612           Cape Winemakers Guild Windansea      92    NaN   \n",
       "\n",
       "                province  region_1 region_2        taster_name  \\\n",
       "61144   Mendoza Province  Perdriel  Unknown  Michael Schachner   \n",
       "87328   Mendoza Province  Perdriel  Unknown  Michael Schachner   \n",
       "122027  Mendoza Province   Mendoza  Unknown  Michael Schachner   \n",
       "284     Mendoza Province  Perdriel  Unknown  Michael Schachner   \n",
       "105092  Mendoza Province  Perdriel  Unknown  Michael Schachner   \n",
       "...                  ...       ...      ...                ...   \n",
       "44851                NaN       NaN  Unknown       Jeff Jenssen   \n",
       "3131                 NaN       NaN  Unknown         Roger Voss   \n",
       "11348                NaN       NaN  Unknown         Roger Voss   \n",
       "16749                NaN       NaN  Unknown      Lauren Buzzeo   \n",
       "57612                NaN       NaN  Unknown      Lauren Buzzeo   \n",
       "\n",
       "       taster_twitter_handle  \\\n",
       "61144            @wineschach   \n",
       "87328            @wineschach   \n",
       "122027           @wineschach   \n",
       "284              @wineschach   \n",
       "105092           @wineschach   \n",
       "...                      ...   \n",
       "44851         @worldwineguys   \n",
       "3131              @vossroger   \n",
       "11348             @vossroger   \n",
       "16749              @laurbuzz   \n",
       "57612              @laurbuzz   \n",
       "\n",
       "                                                    title             variety  \\\n",
       "61144   Viña Cobos 2012 Volturno Marchiori Vineyard Ca...  Cabernet Sauvignon   \n",
       "87328   Viña Cobos 2013 Volturno Cabernet Sauvignon (P...  Cabernet Sauvignon   \n",
       "122027  Viña Cobos 2010 Cobos Marchiori Vineyard Malbe...              Malbec   \n",
       "284     Viña Cobos 2011 Marchiori Vineyard Block C2 Ma...              Malbec   \n",
       "105092                  Viña Cobos 2013 Malbec (Perdriel)              Malbec   \n",
       "...                                                   ...                 ...   \n",
       "44851                    Stone Castle 2015 Royal Riesling            Riesling   \n",
       "3131                    Barton & Guestier NV Partager Red           Red Blend   \n",
       "11348                 Barton & Guestier NV Partager White         White Blend   \n",
       "16749   Bartho Eksteen 2016 Cape Winemakers Guild Vloe...     Sauvignon Blanc   \n",
       "57612   Newton Johnson 2016 Cape Winemakers Guild Wind...          Pinot Noir   \n",
       "\n",
       "                   winery        가성비  ratings  \n",
       "61144          Viña Cobos   0.395652        2  \n",
       "87328          Viña Cobos   0.400000        2  \n",
       "122027         Viña Cobos   0.422222        3  \n",
       "284            Viña Cobos   0.427907        2  \n",
       "105092         Viña Cobos   0.423810        2  \n",
       "...                   ...        ...      ...  \n",
       "44851        Stone Castle  14.000000        1  \n",
       "3131    Barton & Guestier        NaN        1  \n",
       "11348   Barton & Guestier        NaN        1  \n",
       "16749      Bartho Eksteen        NaN        2  \n",
       "57612      Newton Johnson        NaN        2  \n",
       "\n",
       "[129971 rows x 15 columns]"
      ]
     },
     "execution_count": 129,
     "metadata": {},
     "output_type": "execute_result"
    }
   ],
   "source": [
    "# 2개의 이상의 오름차순을 따로따로 줄 때는 ascending= []리스트로 만들어서 각각 매칭해주면 된다\n",
    "# sort_values( by = )로 컬럼별로 정렬\n",
    "#reviews.sort_values(by= ['country', 'price'] ,ascending=False\n",
    "# 정렬방식이 내림차순인데, 정렬도 각각 해줄 수 있음\n",
    "reviews.sort_values(by= ['country', 'price'] ,ascending= [True, False])"
   ]
  },
  {
   "cell_type": "code",
   "execution_count": null,
   "metadata": {},
   "outputs": [],
   "source": []
  }
 ],
 "metadata": {
  "kernelspec": {
   "display_name": "Python 3",
   "language": "python",
   "name": "python3"
  },
  "language_info": {
   "codemirror_mode": {
    "name": "ipython",
    "version": 3
   },
   "file_extension": ".py",
   "mimetype": "text/x-python",
   "name": "python",
   "nbconvert_exporter": "python",
   "pygments_lexer": "ipython3",
   "version": "3.8.5"
  }
 },
 "nbformat": 4,
 "nbformat_minor": 2
}