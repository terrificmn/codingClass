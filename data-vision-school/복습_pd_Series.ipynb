{
 "metadata": {
  "language_info": {
   "codemirror_mode": {
    "name": "ipython",
    "version": 3
   },
   "file_extension": ".py",
   "mimetype": "text/x-python",
   "name": "python",
   "nbconvert_exporter": "python",
   "pygments_lexer": "ipython3",
   "version": "3.8.5"
  },
  "orig_nbformat": 2,
  "kernelspec": {
   "name": "python3",
   "display_name": "Python 3",
   "language": "python"
  }
 },
 "nbformat": 4,
 "nbformat_minor": 2,
 "cells": [
  {
   "cell_type": "code",
   "execution_count": null,
   "metadata": {},
   "outputs": [],
   "source": [
    "#실습 \n",
    "# distance_from_sun = 149.6, 1433.5, 227.9, 108.2, 778.6\n",
    "# planets = 'Earth','Saturn', 'Mars','Venus', 'Jupiter'\n",
    "# Pandas Series 만들기"
   ]
  },
  {
   "cell_type": "code",
   "execution_count": 3,
   "metadata": {},
   "outputs": [],
   "source": [
    "distance_from_sun = [149.6, 1433.5, 227.9, 108.2, 778.6]"
   ]
  },
  {
   "cell_type": "code",
   "execution_count": 5,
   "metadata": {},
   "outputs": [],
   "source": [
    "planets = ['Earth', 'Saturn', 'Mars', 'Venus', 'Jupiter']"
   ]
  },
  {
   "cell_type": "code",
   "execution_count": 6,
   "metadata": {},
   "outputs": [],
   "source": [
    "import pandas as pd"
   ]
  },
  {
   "cell_type": "code",
   "execution_count": 9,
   "metadata": {},
   "outputs": [],
   "source": [
    "# 1차원 벡터, pandas Series 만들기\n",
    "dist_planet = pd.Series(data = distance_from_sun, index = planets)"
   ]
  },
  {
   "cell_type": "code",
   "execution_count": 11,
   "metadata": {},
   "outputs": [],
   "source": [
    "# 거리를 빛의 상수 c( 18 ) 로 나눠서, 가는 시간이 얼마나 걸리는 지 계산하여 저장하세요\n",
    "# 계산은 바로 pandas Series 변수에 대입하면 됨\n",
    "time_light = dist_planet / 18"
   ]
  },
  {
   "cell_type": "code",
   "execution_count": 16,
   "metadata": {},
   "outputs": [],
   "source": [
    "#  Boolean indexing을 이용해서 가는 시간이 40분보다 작은것들만 셀렉트 하세요.\n",
    " # close_planets 에 넣은세요\n",
    "# 데이터를 가져올 때는 []를 이용\n",
    "close_planets = time_light[ time_light < 40 ]"
   ]
  },
  {
   "cell_type": "code",
   "execution_count": 17,
   "metadata": {},
   "outputs": [
    {
     "output_type": "execute_result",
     "data": {
      "text/plain": [
       "Earth     8.311111\n",
       "Mars     12.661111\n",
       "Venus     6.011111\n",
       "dtype: float64"
      ]
     },
     "metadata": {},
     "execution_count": 17
    }
   ],
   "source": [
    "close_planets"
   ]
  },
  {
   "cell_type": "code",
   "execution_count": 20,
   "metadata": {},
   "outputs": [],
   "source": [
    "#Pandas DataFrame 만들기\n",
    "# 먼저 딕셔너리 이용해서 판다스 Seriss로 만든다\n",
    "items = {\n",
    "    'Bob' : \n",
    "        pd.Series(data = [245, 25, 55], index = ['bike', 'pants', 'watch'] ),\n",
    "    'Alice' : \n",
    "        pd.Series(data = [40, 110, 500, 45], index= ['book', 'glasses', 'bike', 'pant'] )\n",
    "}\n"
   ]
  },
  {
   "cell_type": "code",
   "execution_count": 22,
   "metadata": {},
   "outputs": [
    {
     "output_type": "execute_result",
     "data": {
      "text/plain": [
       "           Bob  Alice\n",
       "bike     245.0  500.0\n",
       "book       NaN   40.0\n",
       "glasses    NaN  110.0\n",
       "pant       NaN   45.0\n",
       "pants     25.0    NaN\n",
       "watch     55.0    NaN"
      ],
      "text/html": "<div>\n<style scoped>\n    .dataframe tbody tr th:only-of-type {\n        vertical-align: middle;\n    }\n\n    .dataframe tbody tr th {\n        vertical-align: top;\n    }\n\n    .dataframe thead th {\n        text-align: right;\n    }\n</style>\n<table border=\"1\" class=\"dataframe\">\n  <thead>\n    <tr style=\"text-align: right;\">\n      <th></th>\n      <th>Bob</th>\n      <th>Alice</th>\n    </tr>\n  </thead>\n  <tbody>\n    <tr>\n      <th>bike</th>\n      <td>245.0</td>\n      <td>500.0</td>\n    </tr>\n    <tr>\n      <th>book</th>\n      <td>NaN</td>\n      <td>40.0</td>\n    </tr>\n    <tr>\n      <th>glasses</th>\n      <td>NaN</td>\n      <td>110.0</td>\n    </tr>\n    <tr>\n      <th>pant</th>\n      <td>NaN</td>\n      <td>45.0</td>\n    </tr>\n    <tr>\n      <th>pants</th>\n      <td>25.0</td>\n      <td>NaN</td>\n    </tr>\n    <tr>\n      <th>watch</th>\n      <td>55.0</td>\n      <td>NaN</td>\n    </tr>\n  </tbody>\n</table>\n</div>"
     },
     "metadata": {},
     "execution_count": 22
    }
   ],
   "source": [
    "# DataFrame() 메소드를 이용해서 \n",
    "pd.DataFrame(items)"
   ]
  },
  {
   "cell_type": "code",
   "execution_count": null,
   "metadata": {},
   "outputs": [],
   "source": [
    "# DataFrame()을 이용하면 2차원 배열로 만들어 줌"
   ]
  },
  {
   "source": [
    "# fruit_sales 를 데이터 프레임으로 만드시오\n",
    "#             Apples  Bananas\n",
    "# 2017 Sales    35        21\n",
    "# 2018 Sales    41        34"
   ],
   "cell_type": "code",
   "metadata": {},
   "execution_count": null,
   "outputs": []
  },
  {
   "cell_type": "code",
   "execution_count": 25,
   "metadata": {},
   "outputs": [
    {
     "output_type": "execute_result",
     "data": {
      "text/plain": [
       "2017 Sales    41\n",
       "2018 Sales    32\n",
       "dtype: int64"
      ]
     },
     "metadata": {},
     "execution_count": 25
    }
   ],
   "source": [
    "pd.Series(data=[35, 41], index=['2017 Sales', '2018 Sales'])\n",
    "pd.Series(data= [21, 34], index = ['2017 Sales', '2018 Sales'] )"
   ]
  },
  {
   "cell_type": "code",
   "execution_count": null,
   "metadata": {},
   "outputs": [],
   "source": [
    "#형태의 딕셔너리 형태로 만들어 준다\n",
    "# 1차원벡터 부분를 pandas.Series()로 만들어 주면 됨\n",
    "# {\n",
    "#     'Apple': 1차원 벡터\n",
    "#     ,\n",
    "#     'Bananas': 1차원 벡터\n",
    "# }"
   ]
  },
  {
   "cell_type": "code",
   "execution_count": 28,
   "metadata": {},
   "outputs": [
    {
     "output_type": "execute_result",
     "data": {
      "text/plain": [
       "            Apple  Bananas\n",
       "2017 Sales     35       21\n",
       "2018 Sales     41       34"
      ],
      "text/html": "<div>\n<style scoped>\n    .dataframe tbody tr th:only-of-type {\n        vertical-align: middle;\n    }\n\n    .dataframe tbody tr th {\n        vertical-align: top;\n    }\n\n    .dataframe thead th {\n        text-align: right;\n    }\n</style>\n<table border=\"1\" class=\"dataframe\">\n  <thead>\n    <tr style=\"text-align: right;\">\n      <th></th>\n      <th>Apple</th>\n      <th>Bananas</th>\n    </tr>\n  </thead>\n  <tbody>\n    <tr>\n      <th>2017 Sales</th>\n      <td>35</td>\n      <td>21</td>\n    </tr>\n    <tr>\n      <th>2018 Sales</th>\n      <td>41</td>\n      <td>34</td>\n    </tr>\n  </tbody>\n</table>\n</div>"
     },
     "metadata": {},
     "execution_count": 28
    }
   ],
   "source": [
    "items = {\n",
    "    'Apple': pd.Series(data=[35, 41], index=['2017 Sales', '2018 Sales']),\n",
    "    'Bananas': pd.Series(data= [21, 34], index = ['2017 Sales', '2018 Sales'] )\n",
    "}\n",
    "pd.DataFrame(items)"
   ]
  },
  {
   "cell_type": "code",
   "execution_count": 31,
   "metadata": {},
   "outputs": [
    {
     "output_type": "execute_result",
     "data": {
      "text/plain": [
       "{'bob': ['I liked it', 'It was awful.'], 'sue': ['Pretty good.', 'So so.']}"
      ]
     },
     "metadata": {},
     "execution_count": 31
    }
   ],
   "source": [
    "# DataFrame()의 2번째 방식\n",
    "# data 와 index를 넘겨준다\n",
    "#여기서 data는 딕셔너리 형태이고\n",
    "# index는 리스트 형태로 만든다\n",
    "\n",
    "# 여기서 딕셔너리 형태에서 하나의 key는 DataFrame으로 만들면 컬럼으로 표시가 된다\n",
    "my_data = { 'bob': ['I liked it', 'It was awful.'],\n",
    " 'sue': ['Pretty good.', 'So so.']\n",
    "}\n",
    "my_data"
   ]
  },
  {
   "cell_type": "code",
   "execution_count": 33,
   "metadata": {},
   "outputs": [
    {
     "output_type": "execute_result",
     "data": {
      "text/plain": [
       "['Product A', 'Product B']"
      ]
     },
     "metadata": {},
     "execution_count": 33
    }
   ],
   "source": [
    "my_index = ['Product A', 'Product B']\n",
    "my_index"
   ]
  },
  {
   "cell_type": "code",
   "execution_count": 35,
   "metadata": {},
   "outputs": [],
   "source": [
    "review = pd.DataFrame(data= my_data, index= my_index)"
   ]
  },
  {
   "cell_type": "code",
   "execution_count": 36,
   "metadata": {},
   "outputs": [
    {
     "output_type": "execute_result",
     "data": {
      "text/plain": [
       "                     bob           sue\n",
       "Product A     I liked it  Pretty good.\n",
       "Product B  It was awful.        So so."
      ],
      "text/html": "<div>\n<style scoped>\n    .dataframe tbody tr th:only-of-type {\n        vertical-align: middle;\n    }\n\n    .dataframe tbody tr th {\n        vertical-align: top;\n    }\n\n    .dataframe thead th {\n        text-align: right;\n    }\n</style>\n<table border=\"1\" class=\"dataframe\">\n  <thead>\n    <tr style=\"text-align: right;\">\n      <th></th>\n      <th>bob</th>\n      <th>sue</th>\n    </tr>\n  </thead>\n  <tbody>\n    <tr>\n      <th>Product A</th>\n      <td>I liked it</td>\n      <td>Pretty good.</td>\n    </tr>\n    <tr>\n      <th>Product B</th>\n      <td>It was awful.</td>\n      <td>So so.</td>\n    </tr>\n  </tbody>\n</table>\n</div>"
     },
     "metadata": {},
     "execution_count": 36
    }
   ],
   "source": [
    "review"
   ]
  },
  {
   "cell_type": "code",
   "execution_count": null,
   "metadata": {},
   "outputs": [],
   "source": []
  }
 ]
}