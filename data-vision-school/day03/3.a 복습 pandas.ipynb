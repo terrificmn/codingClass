{
 "metadata": {
  "language_info": {
   "codemirror_mode": {
    "name": "ipython",
    "version": 3
   },
   "file_extension": ".py",
   "mimetype": "text/x-python",
   "name": "python",
   "nbconvert_exporter": "python",
   "pygments_lexer": "ipython3",
   "version": "3.8.5"
  },
  "orig_nbformat": 2,
  "kernelspec": {
   "name": "python3",
   "display_name": "Python 3",
   "language": "python"
  }
 },
 "nbformat": 4,
 "nbformat_minor": 2,
 "cells": [
  {
   "cell_type": "code",
   "execution_count": null,
   "metadata": {},
   "outputs": [],
   "source": [
    "#실습 \n",
    "# distance_from_sun = 149.6, 1433.5, 227.9, 108.2, 778.6\n",
    "# planets = 'Earth','Saturn', 'Mars','Venus', 'Jupiter'\n",
    "# Pandas Series 만들기"
   ]
  },
  {
   "cell_type": "code",
   "execution_count": 3,
   "metadata": {},
   "outputs": [],
   "source": [
    "distance_from_sun = [149.6, 1433.5, 227.9, 108.2, 778.6]"
   ]
  },
  {
   "cell_type": "code",
   "execution_count": 5,
   "metadata": {},
   "outputs": [],
   "source": [
    "planets = ['Earth', 'Saturn', 'Mars', 'Venus', 'Jupiter']"
   ]
  },
  {
   "cell_type": "code",
   "execution_count": 6,
   "metadata": {},
   "outputs": [],
   "source": [
    "import pandas as pd"
   ]
  },
  {
   "cell_type": "code",
   "execution_count": 9,
   "metadata": {},
   "outputs": [],
   "source": [
    "# 1차원 벡터, pandas Series 만들기\n",
    "dist_planet = pd.Series(data = distance_from_sun, index = planets)"
   ]
  },
  {
   "cell_type": "code",
   "execution_count": 11,
   "metadata": {},
   "outputs": [],
   "source": [
    "# 거리를 빛의 상수 c( 18 ) 로 나눠서, 가는 시간이 얼마나 걸리는 지 계산하여 저장하세요\n",
    "# 계산은 바로 pandas Series 변수에 대입하면 됨\n",
    "time_light = dist_planet / 18"
   ]
  },
  {
   "cell_type": "code",
   "execution_count": 16,
   "metadata": {},
   "outputs": [],
   "source": [
    "#  Boolean indexing을 이용해서 가는 시간이 40분보다 작은것들만 셀렉트 하세요.\n",
    " # close_planets 에 넣은세요\n",
    "# 데이터를 가져올 때는 []를 이용\n",
    "close_planets = time_light[ time_light < 40 ]"
   ]
  },
  {
   "cell_type": "code",
   "execution_count": 17,
   "metadata": {},
   "outputs": [
    {
     "output_type": "execute_result",
     "data": {
      "text/plain": [
       "Earth     8.311111\n",
       "Mars     12.661111\n",
       "Venus     6.011111\n",
       "dtype: float64"
      ]
     },
     "metadata": {},
     "execution_count": 17
    }
   ],
   "source": [
    "close_planets"
   ]
  },
  {
   "cell_type": "code",
   "execution_count": 20,
   "metadata": {},
   "outputs": [],
   "source": [
    "#Pandas DataFrame 만들기\n",
    "# 먼저 딕셔너리 이용해서 판다스 Seriss로 만든다\n",
    "items = {\n",
    "    'Bob' : \n",
    "        pd.Series(data = [245, 25, 55], index = ['bike', 'pants', 'watch'] ),\n",
    "    'Alice' : \n",
    "        pd.Series(data = [40, 110, 500, 45], index= ['book', 'glasses', 'bike', 'pant'] )\n",
    "}\n"
   ]
  },
  {
   "cell_type": "code",
   "execution_count": 22,
   "metadata": {},
   "outputs": [
    {
     "output_type": "execute_result",
     "data": {
      "text/plain": [
       "           Bob  Alice\n",
       "bike     245.0  500.0\n",
       "book       NaN   40.0\n",
       "glasses    NaN  110.0\n",
       "pant       NaN   45.0\n",
       "pants     25.0    NaN\n",
       "watch     55.0    NaN"
      ],
      "text/html": "<div>\n<style scoped>\n    .dataframe tbody tr th:only-of-type {\n        vertical-align: middle;\n    }\n\n    .dataframe tbody tr th {\n        vertical-align: top;\n    }\n\n    .dataframe thead th {\n        text-align: right;\n    }\n</style>\n<table border=\"1\" class=\"dataframe\">\n  <thead>\n    <tr style=\"text-align: right;\">\n      <th></th>\n      <th>Bob</th>\n      <th>Alice</th>\n    </tr>\n  </thead>\n  <tbody>\n    <tr>\n      <th>bike</th>\n      <td>245.0</td>\n      <td>500.0</td>\n    </tr>\n    <tr>\n      <th>book</th>\n      <td>NaN</td>\n      <td>40.0</td>\n    </tr>\n    <tr>\n      <th>glasses</th>\n      <td>NaN</td>\n      <td>110.0</td>\n    </tr>\n    <tr>\n      <th>pant</th>\n      <td>NaN</td>\n      <td>45.0</td>\n    </tr>\n    <tr>\n      <th>pants</th>\n      <td>25.0</td>\n      <td>NaN</td>\n    </tr>\n    <tr>\n      <th>watch</th>\n      <td>55.0</td>\n      <td>NaN</td>\n    </tr>\n  </tbody>\n</table>\n</div>"
     },
     "metadata": {},
     "execution_count": 22
    }
   ],
   "source": [
    "# DataFrame() 메소드를 이용해서 \n",
    "pd.DataFrame(items)"
   ]
  },
  {
   "cell_type": "code",
   "execution_count": null,
   "metadata": {},
   "outputs": [],
   "source": [
    "# DataFrame()을 이용하면 2차원 배열로 만들어 줌"
   ]
  },
  {
   "source": [
    "# fruit_sales 를 데이터 프레임으로 만드시오\n",
    "#             Apples  Bananas\n",
    "# 2017 Sales    35        21\n",
    "# 2018 Sales    41        34"
   ],
   "cell_type": "code",
   "metadata": {},
   "execution_count": null,
   "outputs": []
  },
  {
   "cell_type": "code",
   "execution_count": 25,
   "metadata": {},
   "outputs": [
    {
     "output_type": "execute_result",
     "data": {
      "text/plain": [
       "2017 Sales    41\n",
       "2018 Sales    32\n",
       "dtype: int64"
      ]
     },
     "metadata": {},
     "execution_count": 25
    }
   ],
   "source": [
    "pd.Series(data=[35, 41], index=['2017 Sales', '2018 Sales'])\n",
    "pd.Series(data= [21, 34], index = ['2017 Sales', '2018 Sales'] )"
   ]
  },
  {
   "cell_type": "code",
   "execution_count": null,
   "metadata": {},
   "outputs": [],
   "source": [
    "#형태의 딕셔너리 형태로 만들어 준다\n",
    "# 1차원벡터 부분를 pandas.Series()로 만들어 주면 됨\n",
    "# {\n",
    "#     'Apple': 1차원 벡터\n",
    "#     ,\n",
    "#     'Bananas': 1차원 벡터\n",
    "# }"
   ]
  },
  {
   "cell_type": "code",
   "execution_count": 28,
   "metadata": {},
   "outputs": [
    {
     "output_type": "execute_result",
     "data": {
      "text/plain": [
       "            Apple  Bananas\n",
       "2017 Sales     35       21\n",
       "2018 Sales     41       34"
      ],
      "text/html": "<div>\n<style scoped>\n    .dataframe tbody tr th:only-of-type {\n        vertical-align: middle;\n    }\n\n    .dataframe tbody tr th {\n        vertical-align: top;\n    }\n\n    .dataframe thead th {\n        text-align: right;\n    }\n</style>\n<table border=\"1\" class=\"dataframe\">\n  <thead>\n    <tr style=\"text-align: right;\">\n      <th></th>\n      <th>Apple</th>\n      <th>Bananas</th>\n    </tr>\n  </thead>\n  <tbody>\n    <tr>\n      <th>2017 Sales</th>\n      <td>35</td>\n      <td>21</td>\n    </tr>\n    <tr>\n      <th>2018 Sales</th>\n      <td>41</td>\n      <td>34</td>\n    </tr>\n  </tbody>\n</table>\n</div>"
     },
     "metadata": {},
     "execution_count": 28
    }
   ],
   "source": [
    "items = {\n",
    "    'Apple': pd.Series(data=[35, 41], index=['2017 Sales', '2018 Sales']),\n",
    "    'Bananas': pd.Series(data= [21, 34], index = ['2017 Sales', '2018 Sales'] )\n",
    "}\n",
    "pd.DataFrame(items)"
   ]
  },
  {
   "cell_type": "code",
   "execution_count": 31,
   "metadata": {},
   "outputs": [
    {
     "output_type": "execute_result",
     "data": {
      "text/plain": [
       "{'bob': ['I liked it', 'It was awful.'], 'sue': ['Pretty good.', 'So so.']}"
      ]
     },
     "metadata": {},
     "execution_count": 31
    }
   ],
   "source": [
    "# DataFrame()의 2번째 방식\n",
    "# data 와 index를 넘겨준다\n",
    "#여기서 data는 딕셔너리 형태이고\n",
    "# index는 리스트 형태로 만든다\n",
    "\n",
    "# 여기서 딕셔너리 형태에서 하나의 key는 row 처럼 보이지만 (1차원 벡터) \n",
    "# DataFrame으로 만들면 하나의 컬럼이 된다\n",
    "my_data = { 'bob': ['I liked it', 'It was awful.'],\n",
    " 'sue': ['Pretty good.', 'So so.']\n",
    "}\n",
    "my_data"
   ]
  },
  {
   "cell_type": "code",
   "execution_count": 33,
   "metadata": {},
   "outputs": [
    {
     "output_type": "execute_result",
     "data": {
      "text/plain": [
       "['Product A', 'Product B']"
      ]
     },
     "metadata": {},
     "execution_count": 33
    }
   ],
   "source": [
    "my_index = ['Product A', 'Product B']\n",
    "my_index"
   ]
  },
  {
   "cell_type": "code",
   "execution_count": 35,
   "metadata": {},
   "outputs": [],
   "source": [
    "review = pd.DataFrame(data= my_data, index= my_index)"
   ]
  },
  {
   "cell_type": "code",
   "execution_count": 36,
   "metadata": {},
   "outputs": [
    {
     "output_type": "execute_result",
     "data": {
      "text/plain": [
       "                     bob           sue\n",
       "Product A     I liked it  Pretty good.\n",
       "Product B  It was awful.        So so."
      ],
      "text/html": "<div>\n<style scoped>\n    .dataframe tbody tr th:only-of-type {\n        vertical-align: middle;\n    }\n\n    .dataframe tbody tr th {\n        vertical-align: top;\n    }\n\n    .dataframe thead th {\n        text-align: right;\n    }\n</style>\n<table border=\"1\" class=\"dataframe\">\n  <thead>\n    <tr style=\"text-align: right;\">\n      <th></th>\n      <th>bob</th>\n      <th>sue</th>\n    </tr>\n  </thead>\n  <tbody>\n    <tr>\n      <th>Product A</th>\n      <td>I liked it</td>\n      <td>Pretty good.</td>\n    </tr>\n    <tr>\n      <th>Product B</th>\n      <td>It was awful.</td>\n      <td>So so.</td>\n    </tr>\n  </tbody>\n</table>\n</div>"
     },
     "metadata": {},
     "execution_count": 36
    }
   ],
   "source": [
    "review"
   ]
  },
  {
   "cell_type": "code",
   "execution_count": 37,
   "metadata": {},
   "outputs": [
    {
     "output_type": "execute_result",
     "data": {
      "text/plain": [
       "pandas.core.frame.DataFrame"
      ]
     },
     "metadata": {},
     "execution_count": 37
    }
   ],
   "source": [
    " # DataFrame 타입이라고 나옴\n",
    " type(review)"
   ]
  },
  {
   "cell_type": "code",
   "execution_count": null,
   "metadata": {},
   "outputs": [],
   "source": [
    "#csv 파일로 저장하기\n",
    "# comma \n",
    "\n",
    "#DataFrame변수.to_csv('파일명.csv')\n",
    "# 예: \n",
    "#review.to_csv('review.csv')\n",
    "\n",
    "#csv 파일 불러오기\n",
    "#변수 = pd.read_csv('파일명.csv')\n",
    "# 예:\n",
    "#my_review = pd.read_csv('review.csv')"
   ]
  },
  {
   "cell_type": "code",
   "execution_count": 38,
   "metadata": {},
   "outputs": [
    {
     "output_type": "execute_result",
     "data": {
      "text/plain": [
       "array([['I liked it', 'Pretty good.'],\n",
       "       ['It was awful.', 'So so.']], dtype=object)"
      ]
     },
     "metadata": {},
     "execution_count": 38
    }
   ],
   "source": [
    "# DataFrame 속성\n",
    "review.values"
   ]
  },
  {
   "cell_type": "code",
   "execution_count": 39,
   "metadata": {},
   "outputs": [
    {
     "output_type": "execute_result",
     "data": {
      "text/plain": [
       "Index(['Product A', 'Product B'], dtype='object')"
      ]
     },
     "metadata": {},
     "execution_count": 39
    }
   ],
   "source": [
    "review.index"
   ]
  },
  {
   "cell_type": "code",
   "execution_count": 40,
   "metadata": {},
   "outputs": [
    {
     "output_type": "execute_result",
     "data": {
      "text/plain": [
       "Index(['bob', 'sue'], dtype='object')"
      ]
     },
     "metadata": {},
     "execution_count": 40
    }
   ],
   "source": [
    "review.columns"
   ]
  },
  {
   "cell_type": "code",
   "execution_count": 44,
   "metadata": {},
   "outputs": [],
   "source": [
    "#DataFrame을 만들기 위해서 item항목을 딕셔너리 형태로 해서 만든다\n",
    "# 리스트안에 여러 항목을 담는다.\n",
    "# 리스트의 key의 순서는 상관없음\n",
    "\n",
    "# 딕셔너리 형태로 pd.Series()를 만들었을 때는 하나의 key가 dataFrame을 만들었을 때 하나의 컬럼을 이루었지만\n",
    "# 딕셔너리가 리스트 안에 여러개로 들어가 있으면\n",
    "# 딕셔너리 한개가 하나의 row를 형성 (DaraFrame 에서)\n",
    "items = [\n",
    "    {\n",
    "        'bikes': 20, 'pants': 30, 'watches': 35\n",
    "    },\n",
    "    {\n",
    "        'wathces': 10, 'glasses': 50, 'bikes': 15, 'pants': 5\n",
    "    }\n",
    "]"
   ]
  },
  {
   "cell_type": "code",
   "execution_count": 45,
   "metadata": {},
   "outputs": [],
   "source": [
    "store_items = pd.DataFrame(data = items, index= ['store 1', 'store 2'] \n",
    ")"
   ]
  },
  {
   "cell_type": "code",
   "execution_count": 46,
   "metadata": {},
   "outputs": [
    {
     "output_type": "execute_result",
     "data": {
      "text/plain": [
       "         bikes  pants  watches  wathces  glasses\n",
       "store 1     20     30     35.0      NaN      NaN\n",
       "store 2     15      5      NaN     10.0     50.0"
      ],
      "text/html": "<div>\n<style scoped>\n    .dataframe tbody tr th:only-of-type {\n        vertical-align: middle;\n    }\n\n    .dataframe tbody tr th {\n        vertical-align: top;\n    }\n\n    .dataframe thead th {\n        text-align: right;\n    }\n</style>\n<table border=\"1\" class=\"dataframe\">\n  <thead>\n    <tr style=\"text-align: right;\">\n      <th></th>\n      <th>bikes</th>\n      <th>pants</th>\n      <th>watches</th>\n      <th>wathces</th>\n      <th>glasses</th>\n    </tr>\n  </thead>\n  <tbody>\n    <tr>\n      <th>store 1</th>\n      <td>20</td>\n      <td>30</td>\n      <td>35.0</td>\n      <td>NaN</td>\n      <td>NaN</td>\n    </tr>\n    <tr>\n      <th>store 2</th>\n      <td>15</td>\n      <td>5</td>\n      <td>NaN</td>\n      <td>10.0</td>\n      <td>50.0</td>\n    </tr>\n  </tbody>\n</table>\n</div>"
     },
     "metadata": {},
     "execution_count": 46
    }
   ],
   "source": [
    "store_items"
   ]
  },
  {
   "cell_type": "code",
   "execution_count": 47,
   "metadata": {},
   "outputs": [
    {
     "output_type": "execute_result",
     "data": {
      "text/plain": [
       "store 1    20\n",
       "store 2    15\n",
       "Name: bikes, dtype: int64"
      ]
     },
     "metadata": {},
     "execution_count": 47
    }
   ],
   "source": [
    "### 중요 DataFrame에서 데이터를 가져오는 방법 3가지\n",
    "### 첫 번째는 컬럼명으로 가져오기\n",
    "#  []대괄호 열고 데이터 엑세스 \n",
    "# 컬럼명으로 즉 1차원 벡터 으로 가져옴\n",
    "store_items['bikes']"
   ]
  },
  {
   "cell_type": "code",
   "execution_count": 48,
   "metadata": {},
   "outputs": [
    {
     "output_type": "execute_result",
     "data": {
      "text/plain": [
       "         pants  glasses\n",
       "store 1     30      NaN\n",
       "store 2      5     50.0"
      ],
      "text/html": "<div>\n<style scoped>\n    .dataframe tbody tr th:only-of-type {\n        vertical-align: middle;\n    }\n\n    .dataframe tbody tr th {\n        vertical-align: top;\n    }\n\n    .dataframe thead th {\n        text-align: right;\n    }\n</style>\n<table border=\"1\" class=\"dataframe\">\n  <thead>\n    <tr style=\"text-align: right;\">\n      <th></th>\n      <th>pants</th>\n      <th>glasses</th>\n    </tr>\n  </thead>\n  <tbody>\n    <tr>\n      <th>store 1</th>\n      <td>30</td>\n      <td>NaN</td>\n    </tr>\n    <tr>\n      <th>store 2</th>\n      <td>5</td>\n      <td>50.0</td>\n    </tr>\n  </tbody>\n</table>\n</div>"
     },
     "metadata": {},
     "execution_count": 48
    }
   ],
   "source": [
    "# 컬럼명 인덱스\n",
    "store_items[ ['pants', 'glasses']] "
   ]
  },
  {
   "cell_type": "code",
   "execution_count": null,
   "metadata": {},
   "outputs": [],
   "source": [
    "# 두번째 방법 \n",
    "# loc[] 이용 \n",
    "# 이제부터는 행렬을 이용함 row, column \n",
    "# 사용자가 보기 편하게 지정한 index를 이용하고\n",
    "# loc[ row , col ] 콤마를 찍어서 행렬로 가져온다\n"
   ]
  },
  {
   "cell_type": "code",
   "execution_count": 51,
   "metadata": {},
   "outputs": [
    {
     "output_type": "execute_result",
     "data": {
      "text/plain": [
       "bikes      20.0\n",
       "pants      30.0\n",
       "watches    35.0\n",
       "wathces     NaN\n",
       "glasses     NaN\n",
       "Name: store 1, dtype: float64"
      ]
     },
     "metadata": {},
     "execution_count": 51
    }
   ],
   "source": [
    "# row만 가져오기\n",
    "store_items.loc[ 'store 1',  ]"
   ]
  },
  {
   "cell_type": "code",
   "execution_count": 52,
   "metadata": {},
   "outputs": [
    {
     "output_type": "execute_result",
     "data": {
      "text/plain": [
       "30"
      ]
     },
     "metadata": {},
     "execution_count": 52
    }
   ],
   "source": [
    "# row, col 가져오기\n",
    "store_items.loc['store 1', 'pants']"
   ]
  },
  {
   "cell_type": "code",
   "execution_count": 57,
   "metadata": {},
   "outputs": [
    {
     "output_type": "execute_result",
     "data": {
      "text/plain": [
       "pants      30.0\n",
       "glasses     NaN\n",
       "Name: store 1, dtype: float64"
      ]
     },
     "metadata": {},
     "execution_count": 57
    }
   ],
   "source": [
    "# row, col 가져오기 (여러개 일때는 리스트 형태로 만들어 준다)\n",
    "store_items\n",
    "store_items.loc['store 1', ['pants', 'glasses'] ]"
   ]
  },
  {
   "cell_type": "code",
   "execution_count": 66,
   "metadata": {},
   "outputs": [
    {
     "output_type": "execute_result",
     "data": {
      "text/plain": [
       "pants       5.0\n",
       "watches     NaN\n",
       "wathces    10.0\n",
       "glasses    50.0\n",
       "Name: store 2, dtype: float64"
      ]
     },
     "metadata": {},
     "execution_count": 66
    }
   ],
   "source": [
    "# 슬라이싱으로 가져올 때는  리스트형태는 아니고 각각의 row, col 자리에서 슬라이싱 해준다\n",
    "store_items.loc['store 2', 'pants': 'glasses']"
   ]
  },
  {
   "cell_type": "code",
   "execution_count": null,
   "metadata": {},
   "outputs": [],
   "source": [
    "# 세 번째 방법은 iloc[] 를 이용\n",
    "# 원래 인덱스인 컴퓨터용 인덱스를 이용\n",
    "# DataFrame에서 보여주는 인덱스가 아님에 유의\n",
    "# [] 데이터액세스 대괄호를 열고 row, col로 해야하며\n",
    "# row 빼고 컬럼 위주로 뽑고 싶을 때는 [: , col] 로 해야함\n"
   ]
  },
  {
   "cell_type": "code",
   "execution_count": 58,
   "metadata": {},
   "outputs": [
    {
     "output_type": "execute_result",
     "data": {
      "text/plain": [
       "20"
      ]
     },
     "metadata": {},
     "execution_count": 58
    }
   ],
   "source": [
    "store_items.iloc[ 0, 0]"
   ]
  },
  {
   "cell_type": "code",
   "execution_count": 59,
   "metadata": {},
   "outputs": [
    {
     "output_type": "execute_result",
     "data": {
      "text/plain": [
       "pants      30.0\n",
       "watches    35.0\n",
       "Name: store 1, dtype: float64"
      ]
     },
     "metadata": {},
     "execution_count": 59
    }
   ],
   "source": [
    "# 여러개는 역시 리스트\n",
    "store_items.iloc[ 0, [1, 2] ]"
   ]
  },
  {
   "cell_type": "code",
   "execution_count": 64,
   "metadata": {},
   "outputs": [
    {
     "output_type": "execute_result",
     "data": {
      "text/plain": [
       "         pants  watches\n",
       "store 1     30     35.0\n",
       "store 2      5      NaN"
      ],
      "text/html": "<div>\n<style scoped>\n    .dataframe tbody tr th:only-of-type {\n        vertical-align: middle;\n    }\n\n    .dataframe tbody tr th {\n        vertical-align: top;\n    }\n\n    .dataframe thead th {\n        text-align: right;\n    }\n</style>\n<table border=\"1\" class=\"dataframe\">\n  <thead>\n    <tr style=\"text-align: right;\">\n      <th></th>\n      <th>pants</th>\n      <th>watches</th>\n    </tr>\n  </thead>\n  <tbody>\n    <tr>\n      <th>store 1</th>\n      <td>30</td>\n      <td>35.0</td>\n    </tr>\n    <tr>\n      <th>store 2</th>\n      <td>5</td>\n      <td>NaN</td>\n    </tr>\n  </tbody>\n</table>\n</div>"
     },
     "metadata": {},
     "execution_count": 64
    }
   ],
   "source": [
    "# row 없이 컬럼만 \n",
    "store_items.iloc[ :, [1, 2] ]"
   ]
  },
  {
   "cell_type": "code",
   "execution_count": 65,
   "metadata": {},
   "outputs": [
    {
     "output_type": "execute_result",
     "data": {
      "text/plain": [
       "pants      5.0\n",
       "watches    NaN\n",
       "Name: store 2, dtype: float64"
      ]
     },
     "metadata": {},
     "execution_count": 65
    }
   ],
   "source": [
    "# 슬라이싱으로 가져오고 싶을 때는 리스트는 생략\n",
    "# row면 row자리에 \n",
    "# column이면 column 자리에서 start:stop(+1)으로 지정해 준다\n",
    "\n",
    "#단, 여러개의 리스트를 개별로 가져올 때는 []리스트로 묶어 준다 [1, 2, 3]\n",
    "store_items.iloc[ 1, 1:3]"
   ]
  },
  {
   "cell_type": "code",
   "execution_count": 71,
   "metadata": {},
   "outputs": [],
   "source": [
    "# 데이터 insert() 메소드\n",
    "# insert() args: 인덱스(컴퓨터용), '컬럼명', [value1, value2, ...]\n",
    "store_items\n",
    "store_items.insert(4, 'shoes', [8, 5])"
   ]
  },
  {
   "cell_type": "code",
   "execution_count": null,
   "metadata": {},
   "outputs": [],
   "source": [
    "# 삭제 drop() \n",
    "# 축 형태로 삭제할 수 있다\n",
    "# row 삭제는 axis = 0\n",
    "# col 삭제는 axis = 1\n",
    "# drop() 의 args: '컴럼명' 또는 'row인덱스명', axis=0 / 1\n",
    "# 메모리 변경을 안됨, 따로 변수에 저장해줘야 반영됨"
   ]
  },
  {
   "cell_type": "code",
   "execution_count": 72,
   "metadata": {},
   "outputs": [
    {
     "output_type": "execute_result",
     "data": {
      "text/plain": [
       "         bikes  pants  watches  wathces  shoes  glasses\n",
       "store 1     20     30     35.0      NaN      8      NaN\n",
       "store 2     15      5      NaN     10.0      5     50.0"
      ],
      "text/html": "<div>\n<style scoped>\n    .dataframe tbody tr th:only-of-type {\n        vertical-align: middle;\n    }\n\n    .dataframe tbody tr th {\n        vertical-align: top;\n    }\n\n    .dataframe thead th {\n        text-align: right;\n    }\n</style>\n<table border=\"1\" class=\"dataframe\">\n  <thead>\n    <tr style=\"text-align: right;\">\n      <th></th>\n      <th>bikes</th>\n      <th>pants</th>\n      <th>watches</th>\n      <th>wathces</th>\n      <th>shoes</th>\n      <th>glasses</th>\n    </tr>\n  </thead>\n  <tbody>\n    <tr>\n      <th>store 1</th>\n      <td>20</td>\n      <td>30</td>\n      <td>35.0</td>\n      <td>NaN</td>\n      <td>8</td>\n      <td>NaN</td>\n    </tr>\n    <tr>\n      <th>store 2</th>\n      <td>15</td>\n      <td>5</td>\n      <td>NaN</td>\n      <td>10.0</td>\n      <td>5</td>\n      <td>50.0</td>\n    </tr>\n  </tbody>\n</table>\n</div>"
     },
     "metadata": {},
     "execution_count": 72
    }
   ],
   "source": [
    "store_items"
   ]
  },
  {
   "cell_type": "code",
   "execution_count": 73,
   "metadata": {},
   "outputs": [
    {
     "output_type": "execute_result",
     "data": {
      "text/plain": [
       "         bikes  pants  watches  wathces  shoes  glasses\n",
       "store 2     15      5      NaN     10.0      5     50.0"
      ],
      "text/html": "<div>\n<style scoped>\n    .dataframe tbody tr th:only-of-type {\n        vertical-align: middle;\n    }\n\n    .dataframe tbody tr th {\n        vertical-align: top;\n    }\n\n    .dataframe thead th {\n        text-align: right;\n    }\n</style>\n<table border=\"1\" class=\"dataframe\">\n  <thead>\n    <tr style=\"text-align: right;\">\n      <th></th>\n      <th>bikes</th>\n      <th>pants</th>\n      <th>watches</th>\n      <th>wathces</th>\n      <th>shoes</th>\n      <th>glasses</th>\n    </tr>\n  </thead>\n  <tbody>\n    <tr>\n      <th>store 2</th>\n      <td>15</td>\n      <td>5</td>\n      <td>NaN</td>\n      <td>10.0</td>\n      <td>5</td>\n      <td>50.0</td>\n    </tr>\n  </tbody>\n</table>\n</div>"
     },
     "metadata": {},
     "execution_count": 73
    }
   ],
   "source": [
    "store_items.drop('store 1', axis = 0)"
   ]
  },
  {
   "cell_type": "code",
   "execution_count": 75,
   "metadata": {},
   "outputs": [
    {
     "output_type": "execute_result",
     "data": {
      "text/plain": [
       "         bikes  watches  wathces  shoes  glasses\n",
       "store 1     20     35.0      NaN      8      NaN\n",
       "store 2     15      NaN     10.0      5     50.0"
      ],
      "text/html": "<div>\n<style scoped>\n    .dataframe tbody tr th:only-of-type {\n        vertical-align: middle;\n    }\n\n    .dataframe tbody tr th {\n        vertical-align: top;\n    }\n\n    .dataframe thead th {\n        text-align: right;\n    }\n</style>\n<table border=\"1\" class=\"dataframe\">\n  <thead>\n    <tr style=\"text-align: right;\">\n      <th></th>\n      <th>bikes</th>\n      <th>watches</th>\n      <th>wathces</th>\n      <th>shoes</th>\n      <th>glasses</th>\n    </tr>\n  </thead>\n  <tbody>\n    <tr>\n      <th>store 1</th>\n      <td>20</td>\n      <td>35.0</td>\n      <td>NaN</td>\n      <td>8</td>\n      <td>NaN</td>\n    </tr>\n    <tr>\n      <th>store 2</th>\n      <td>15</td>\n      <td>NaN</td>\n      <td>10.0</td>\n      <td>5</td>\n      <td>50.0</td>\n    </tr>\n  </tbody>\n</table>\n</div>"
     },
     "metadata": {},
     "execution_count": 75
    }
   ],
   "source": [
    "store_items.drop('pants', axis= 1)"
   ]
  },
  {
   "cell_type": "code",
   "execution_count": null,
   "metadata": {},
   "outputs": [],
   "source": []
  }
 ]
}