{
 "metadata": {
  "language_info": {
   "codemirror_mode": {
    "name": "ipython",
    "version": 3
   },
   "file_extension": ".py",
   "mimetype": "text/x-python",
   "name": "python",
   "nbconvert_exporter": "python",
   "pygments_lexer": "ipython3",
   "version": "3.8.5"
  },
  "orig_nbformat": 2,
  "kernelspec": {
   "name": "python3",
   "display_name": "Python 3",
   "language": "python"
  }
 },
 "nbformat": 4,
 "nbformat_minor": 2,
 "cells": [
  {
   "cell_type": "code",
   "execution_count": 1,
   "metadata": {},
   "outputs": [],
   "source": [
    "import pandas as pd"
   ]
  },
  {
   "cell_type": "code",
   "execution_count": 7,
   "metadata": {},
   "outputs": [],
   "source": [
    "# index_col = 0 으로 해주기 인덱스(row) 0부터 다시 셋팅\n",
    "reviews = pd.read_csv('../big_csv_files/winemag-data_first150k.csv', index_col=0)"
   ]
  },
  {
   "cell_type": "code",
   "execution_count": 8,
   "metadata": {},
   "outputs": [],
   "source": [
    "desc = reviews['description']"
   ]
  },
  {
   "cell_type": "code",
   "execution_count": 9,
   "metadata": {},
   "outputs": [
    {
     "output_type": "execute_result",
     "data": {
      "text/plain": [
       "0         This tremendous 100% varietal wine hails from ...\n",
       "1         Ripe aromas of fig, blackberry and cassis are ...\n",
       "2         Mac Watson honors the memory of a wine once ma...\n",
       "3         This spent 20 months in 30% new French oak, an...\n",
       "4         This is the top wine from La Bégude, named aft...\n",
       "                                ...                        \n",
       "150925    Many people feel Fiano represents southern Ita...\n",
       "150926    Offers an intriguing nose with ginger, lime an...\n",
       "150927    This classic example comes from a cru vineyard...\n",
       "150928    A perfect salmon shade, with scents of peaches...\n",
       "150929    More Pinot Grigios should taste like this. A r...\n",
       "Name: description, Length: 150930, dtype: object"
      ]
     },
     "metadata": {},
     "execution_count": 9
    }
   ],
   "source": [
    "desc"
   ]
  },
  {
   "cell_type": "code",
   "execution_count": 10,
   "metadata": {},
   "outputs": [
    {
     "output_type": "execute_result",
     "data": {
      "text/plain": [
       "(150930,)"
      ]
     },
     "metadata": {},
     "execution_count": 10
    }
   ],
   "source": [
    "desc.shape"
   ]
  },
  {
   "cell_type": "code",
   "execution_count": 11,
   "metadata": {},
   "outputs": [
    {
     "output_type": "execute_result",
     "data": {
      "text/plain": [
       "'This tremendous 100% varietal wine hails from Oakville and was aged over three years in oak. Juicy red-cherry fruit and a compelling hint of caramel greet the palate, framed by elegant, fine tannins and a subtle minty tone in the background. Balanced and rewarding from start to finish, it has years ahead of it to develop further nuance. Enjoy 2022–2030.'"
      ]
     },
     "metadata": {},
     "execution_count": 11
    }
   ],
   "source": [
    "desc[0]"
   ]
  },
  {
   "cell_type": "code",
   "execution_count": 12,
   "metadata": {},
   "outputs": [
    {
     "output_type": "execute_result",
     "data": {
      "text/plain": [
       "'This tremendous 100% varietal wine hails from Oakville and was aged over three years in oak. Juicy red-cherry fruit and a compelling hint of caramel greet the palate, framed by elegant, fine tannins and a subtle minty tone in the background. Balanced and rewarding from start to finish, it has years ahead of it to develop further nuance. Enjoy 2022–2030.'"
      ]
     },
     "metadata": {},
     "execution_count": 12
    }
   ],
   "source": [
    "# 위의 것과 같은 결과\n",
    "reviews.loc[ 0, 'description']"
   ]
  },
  {
   "cell_type": "code",
   "execution_count": 13,
   "metadata": {},
   "outputs": [
    {
     "output_type": "execute_result",
     "data": {
      "text/plain": [
       "country                                                       US\n",
       "description    This tremendous 100% varietal wine hails from ...\n",
       "designation                                    Martha's Vineyard\n",
       "points                                                        96\n",
       "price                                                        235\n",
       "province                                              California\n",
       "region_1                                             Napa Valley\n",
       "region_2                                                    Napa\n",
       "variety                                       Cabernet Sauvignon\n",
       "winery                                                     Heitz\n",
       "Name: 0, dtype: object"
      ]
     },
     "metadata": {},
     "execution_count": 13
    }
   ],
   "source": [
    "reviews.iloc[ 0, ]"
   ]
  },
  {
   "cell_type": "code",
   "execution_count": 14,
   "metadata": {},
   "outputs": [
    {
     "output_type": "execute_result",
     "data": {
      "text/plain": [
       "  country                                        description  \\\n",
       "1   Spain  Ripe aromas of fig, blackberry and cassis are ...   \n",
       "2      US  Mac Watson honors the memory of a wine once ma...   \n",
       "3      US  This spent 20 months in 30% new French oak, an...   \n",
       "5   Spain  Deep, dense and pure from the opening bell, th...   \n",
       "8      US  This re-named vineyard was formerly bottled as...   \n",
       "\n",
       "                            designation  points  price        province  \\\n",
       "1  Carodorum Selección Especial Reserva      96  110.0  Northern Spain   \n",
       "2         Special Selected Late Harvest      96   90.0      California   \n",
       "3                               Reserve      96   65.0          Oregon   \n",
       "5                             Numanthia      95   73.0  Northern Spain   \n",
       "8                                Silice      95   65.0          Oregon   \n",
       "\n",
       "             region_1           region_2          variety  \\\n",
       "1                Toro                NaN    Tinta de Toro   \n",
       "2      Knights Valley             Sonoma  Sauvignon Blanc   \n",
       "3   Willamette Valley  Willamette Valley       Pinot Noir   \n",
       "5                Toro                NaN    Tinta de Toro   \n",
       "8  Chehalem Mountains  Willamette Valley       Pinot Noir   \n",
       "\n",
       "                    winery  \n",
       "1  Bodega Carmen Rodríguez  \n",
       "2                 Macauley  \n",
       "3                    Ponzi  \n",
       "5                Numanthia  \n",
       "8                Bergström  "
      ],
      "text/html": "<div>\n<style scoped>\n    .dataframe tbody tr th:only-of-type {\n        vertical-align: middle;\n    }\n\n    .dataframe tbody tr th {\n        vertical-align: top;\n    }\n\n    .dataframe thead th {\n        text-align: right;\n    }\n</style>\n<table border=\"1\" class=\"dataframe\">\n  <thead>\n    <tr style=\"text-align: right;\">\n      <th></th>\n      <th>country</th>\n      <th>description</th>\n      <th>designation</th>\n      <th>points</th>\n      <th>price</th>\n      <th>province</th>\n      <th>region_1</th>\n      <th>region_2</th>\n      <th>variety</th>\n      <th>winery</th>\n    </tr>\n  </thead>\n  <tbody>\n    <tr>\n      <th>1</th>\n      <td>Spain</td>\n      <td>Ripe aromas of fig, blackberry and cassis are ...</td>\n      <td>Carodorum Selección Especial Reserva</td>\n      <td>96</td>\n      <td>110.0</td>\n      <td>Northern Spain</td>\n      <td>Toro</td>\n      <td>NaN</td>\n      <td>Tinta de Toro</td>\n      <td>Bodega Carmen Rodríguez</td>\n    </tr>\n    <tr>\n      <th>2</th>\n      <td>US</td>\n      <td>Mac Watson honors the memory of a wine once ma...</td>\n      <td>Special Selected Late Harvest</td>\n      <td>96</td>\n      <td>90.0</td>\n      <td>California</td>\n      <td>Knights Valley</td>\n      <td>Sonoma</td>\n      <td>Sauvignon Blanc</td>\n      <td>Macauley</td>\n    </tr>\n    <tr>\n      <th>3</th>\n      <td>US</td>\n      <td>This spent 20 months in 30% new French oak, an...</td>\n      <td>Reserve</td>\n      <td>96</td>\n      <td>65.0</td>\n      <td>Oregon</td>\n      <td>Willamette Valley</td>\n      <td>Willamette Valley</td>\n      <td>Pinot Noir</td>\n      <td>Ponzi</td>\n    </tr>\n    <tr>\n      <th>5</th>\n      <td>Spain</td>\n      <td>Deep, dense and pure from the opening bell, th...</td>\n      <td>Numanthia</td>\n      <td>95</td>\n      <td>73.0</td>\n      <td>Northern Spain</td>\n      <td>Toro</td>\n      <td>NaN</td>\n      <td>Tinta de Toro</td>\n      <td>Numanthia</td>\n    </tr>\n    <tr>\n      <th>8</th>\n      <td>US</td>\n      <td>This re-named vineyard was formerly bottled as...</td>\n      <td>Silice</td>\n      <td>95</td>\n      <td>65.0</td>\n      <td>Oregon</td>\n      <td>Chehalem Mountains</td>\n      <td>Willamette Valley</td>\n      <td>Pinot Noir</td>\n      <td>Bergström</td>\n    </tr>\n  </tbody>\n</table>\n</div>"
     },
     "metadata": {},
     "execution_count": 14
    }
   ],
   "source": [
    "#sample_reviews = \n",
    "# 주의 할점은 loc[]로 불러오지만 \n",
    "# 사람용 인덱스란 점을 명심 그래서 보이는 인덱스 그대로 적어주면 됨\n",
    "reviews.loc[ [1, 2, 3, 5, 8], ]"
   ]
  },
  {
   "cell_type": "code",
   "execution_count": 18,
   "metadata": {},
   "outputs": [
    {
     "output_type": "execute_result",
     "data": {
      "text/plain": [
       "    country            province     region_1\n",
       "0        US          California  Napa Valley\n",
       "1     Spain      Northern Spain         Toro\n",
       "10    Italy  Northeastern Italy       Collio\n",
       "100      US          California  South Coast"
      ],
      "text/html": "<div>\n<style scoped>\n    .dataframe tbody tr th:only-of-type {\n        vertical-align: middle;\n    }\n\n    .dataframe tbody tr th {\n        vertical-align: top;\n    }\n\n    .dataframe thead th {\n        text-align: right;\n    }\n</style>\n<table border=\"1\" class=\"dataframe\">\n  <thead>\n    <tr style=\"text-align: right;\">\n      <th></th>\n      <th>country</th>\n      <th>province</th>\n      <th>region_1</th>\n    </tr>\n  </thead>\n  <tbody>\n    <tr>\n      <th>0</th>\n      <td>US</td>\n      <td>California</td>\n      <td>Napa Valley</td>\n    </tr>\n    <tr>\n      <th>1</th>\n      <td>Spain</td>\n      <td>Northern Spain</td>\n      <td>Toro</td>\n    </tr>\n    <tr>\n      <th>10</th>\n      <td>Italy</td>\n      <td>Northeastern Italy</td>\n      <td>Collio</td>\n    </tr>\n    <tr>\n      <th>100</th>\n      <td>US</td>\n      <td>California</td>\n      <td>South Coast</td>\n    </tr>\n  </tbody>\n</table>\n</div>"
     },
     "metadata": {},
     "execution_count": 18
    }
   ],
   "source": [
    "reviews.loc[ [0, 1, 10, 100],  ['country', 'province', 'region_1'] ]"
   ]
  },
  {
   "cell_type": "code",
   "execution_count": 21,
   "metadata": {},
   "outputs": [
    {
     "output_type": "execute_result",
     "data": {
      "text/plain": [
       "       country                                        description  \\\n",
       "10       Italy  Elegance, complexity and structure come togeth...   \n",
       "32       Italy  Underbrush, scorched earth, menthol and plum s...   \n",
       "35       Italy  Forest floor, tilled soil, mature berry and a ...   \n",
       "37       Italy  Aromas of forest floor, violet, red berry and ...   \n",
       "38       Italy  This has a charming nose that boasts rose, vio...   \n",
       "...        ...                                                ...   \n",
       "150920   Italy  Rich and mature aromas of smoke, earth and her...   \n",
       "150922   Italy  Made by 30-ish Roberta Borghese high above Man...   \n",
       "150925   Italy  Many people feel Fiano represents southern Ita...   \n",
       "150927   Italy  This classic example comes from a cru vineyard...   \n",
       "150929   Italy  More Pinot Grigios should taste like this. A r...   \n",
       "\n",
       "               designation  points  price            province  \\\n",
       "10      Ronco della Chiesa      95   80.0  Northeastern Italy   \n",
       "32           Vigna Piaggia      90    NaN             Tuscany   \n",
       "35                 Riserva      90  135.0             Tuscany   \n",
       "37                     NaN      90   29.0             Tuscany   \n",
       "38                     NaN      90   23.0             Tuscany   \n",
       "...                    ...     ...    ...                 ...   \n",
       "150920        Brut Riserva      91   19.0  Northeastern Italy   \n",
       "150922           Superiore      91    NaN  Northeastern Italy   \n",
       "150925                 NaN      91   20.0      Southern Italy   \n",
       "150927       Terre di Dora      91   20.0      Southern Italy   \n",
       "150929                 NaN      90   15.0  Northeastern Italy   \n",
       "\n",
       "                            region_1 region_2          variety  \\\n",
       "10                            Collio      NaN         Friulano   \n",
       "32            Brunello di Montalcino      NaN       Sangiovese   \n",
       "35            Brunello di Montalcino      NaN       Sangiovese   \n",
       "37      Vino Nobile di Montepulciano      NaN       Sangiovese   \n",
       "38                  Chianti Classico      NaN       Sangiovese   \n",
       "...                              ...      ...              ...   \n",
       "150920                        Trento      NaN  Champagne Blend   \n",
       "150922    Colli Orientali del Friuli      NaN            Tocai   \n",
       "150925             Fiano di Avellino      NaN      White Blend   \n",
       "150927             Fiano di Avellino      NaN      White Blend   \n",
       "150929                    Alto Adige      NaN     Pinot Grigio   \n",
       "\n",
       "                       winery  \n",
       "10           Borgo del Tiglio  \n",
       "32            Abbadia Ardenga  \n",
       "35                   Carillon  \n",
       "37                 Avignonesi  \n",
       "38           Casina di Cornia  \n",
       "...                       ...  \n",
       "150920                Letrari  \n",
       "150922      Ronchi di Manzano  \n",
       "150925  Feudi di San Gregorio  \n",
       "150927              Terredora  \n",
       "150929          Alois Lageder  \n",
       "\n",
       "[23478 rows x 10 columns]"
      ],
      "text/html": "<div>\n<style scoped>\n    .dataframe tbody tr th:only-of-type {\n        vertical-align: middle;\n    }\n\n    .dataframe tbody tr th {\n        vertical-align: top;\n    }\n\n    .dataframe thead th {\n        text-align: right;\n    }\n</style>\n<table border=\"1\" class=\"dataframe\">\n  <thead>\n    <tr style=\"text-align: right;\">\n      <th></th>\n      <th>country</th>\n      <th>description</th>\n      <th>designation</th>\n      <th>points</th>\n      <th>price</th>\n      <th>province</th>\n      <th>region_1</th>\n      <th>region_2</th>\n      <th>variety</th>\n      <th>winery</th>\n    </tr>\n  </thead>\n  <tbody>\n    <tr>\n      <th>10</th>\n      <td>Italy</td>\n      <td>Elegance, complexity and structure come togeth...</td>\n      <td>Ronco della Chiesa</td>\n      <td>95</td>\n      <td>80.0</td>\n      <td>Northeastern Italy</td>\n      <td>Collio</td>\n      <td>NaN</td>\n      <td>Friulano</td>\n      <td>Borgo del Tiglio</td>\n    </tr>\n    <tr>\n      <th>32</th>\n      <td>Italy</td>\n      <td>Underbrush, scorched earth, menthol and plum s...</td>\n      <td>Vigna Piaggia</td>\n      <td>90</td>\n      <td>NaN</td>\n      <td>Tuscany</td>\n      <td>Brunello di Montalcino</td>\n      <td>NaN</td>\n      <td>Sangiovese</td>\n      <td>Abbadia Ardenga</td>\n    </tr>\n    <tr>\n      <th>35</th>\n      <td>Italy</td>\n      <td>Forest floor, tilled soil, mature berry and a ...</td>\n      <td>Riserva</td>\n      <td>90</td>\n      <td>135.0</td>\n      <td>Tuscany</td>\n      <td>Brunello di Montalcino</td>\n      <td>NaN</td>\n      <td>Sangiovese</td>\n      <td>Carillon</td>\n    </tr>\n    <tr>\n      <th>37</th>\n      <td>Italy</td>\n      <td>Aromas of forest floor, violet, red berry and ...</td>\n      <td>NaN</td>\n      <td>90</td>\n      <td>29.0</td>\n      <td>Tuscany</td>\n      <td>Vino Nobile di Montepulciano</td>\n      <td>NaN</td>\n      <td>Sangiovese</td>\n      <td>Avignonesi</td>\n    </tr>\n    <tr>\n      <th>38</th>\n      <td>Italy</td>\n      <td>This has a charming nose that boasts rose, vio...</td>\n      <td>NaN</td>\n      <td>90</td>\n      <td>23.0</td>\n      <td>Tuscany</td>\n      <td>Chianti Classico</td>\n      <td>NaN</td>\n      <td>Sangiovese</td>\n      <td>Casina di Cornia</td>\n    </tr>\n    <tr>\n      <th>...</th>\n      <td>...</td>\n      <td>...</td>\n      <td>...</td>\n      <td>...</td>\n      <td>...</td>\n      <td>...</td>\n      <td>...</td>\n      <td>...</td>\n      <td>...</td>\n      <td>...</td>\n    </tr>\n    <tr>\n      <th>150920</th>\n      <td>Italy</td>\n      <td>Rich and mature aromas of smoke, earth and her...</td>\n      <td>Brut Riserva</td>\n      <td>91</td>\n      <td>19.0</td>\n      <td>Northeastern Italy</td>\n      <td>Trento</td>\n      <td>NaN</td>\n      <td>Champagne Blend</td>\n      <td>Letrari</td>\n    </tr>\n    <tr>\n      <th>150922</th>\n      <td>Italy</td>\n      <td>Made by 30-ish Roberta Borghese high above Man...</td>\n      <td>Superiore</td>\n      <td>91</td>\n      <td>NaN</td>\n      <td>Northeastern Italy</td>\n      <td>Colli Orientali del Friuli</td>\n      <td>NaN</td>\n      <td>Tocai</td>\n      <td>Ronchi di Manzano</td>\n    </tr>\n    <tr>\n      <th>150925</th>\n      <td>Italy</td>\n      <td>Many people feel Fiano represents southern Ita...</td>\n      <td>NaN</td>\n      <td>91</td>\n      <td>20.0</td>\n      <td>Southern Italy</td>\n      <td>Fiano di Avellino</td>\n      <td>NaN</td>\n      <td>White Blend</td>\n      <td>Feudi di San Gregorio</td>\n    </tr>\n    <tr>\n      <th>150927</th>\n      <td>Italy</td>\n      <td>This classic example comes from a cru vineyard...</td>\n      <td>Terre di Dora</td>\n      <td>91</td>\n      <td>20.0</td>\n      <td>Southern Italy</td>\n      <td>Fiano di Avellino</td>\n      <td>NaN</td>\n      <td>White Blend</td>\n      <td>Terredora</td>\n    </tr>\n    <tr>\n      <th>150929</th>\n      <td>Italy</td>\n      <td>More Pinot Grigios should taste like this. A r...</td>\n      <td>NaN</td>\n      <td>90</td>\n      <td>15.0</td>\n      <td>Northeastern Italy</td>\n      <td>Alto Adige</td>\n      <td>NaN</td>\n      <td>Pinot Grigio</td>\n      <td>Alois Lageder</td>\n    </tr>\n  </tbody>\n</table>\n<p>23478 rows × 10 columns</p>\n</div>"
     },
     "metadata": {},
     "execution_count": 21
    }
   ],
   "source": [
    "reviews.loc[reviews['country'] == 'Italy', ]"
   ]
  },
  {
   "cell_type": "code",
   "execution_count": 22,
   "metadata": {},
   "outputs": [
    {
     "output_type": "execute_result",
     "data": {
      "text/plain": [
       "0         False\n",
       "1         False\n",
       "2         False\n",
       "3         False\n",
       "4         False\n",
       "          ...  \n",
       "150925    False\n",
       "150926    False\n",
       "150927    False\n",
       "150928    False\n",
       "150929    False\n",
       "Name: country, Length: 150930, dtype: bool"
      ]
     },
     "metadata": {},
     "execution_count": 22
    }
   ],
   "source": [
    "# isin() 는 []화 해서 여러개 문자열을 넘겨주면\n",
    "# 그중에 있는지 없는지 확인 후 True/False 리턴\n",
    "reviews['country'].isin( ['Australia', 'New Zealand'] )"
   ]
  },
  {
   "cell_type": "code",
   "execution_count": 35,
   "metadata": {},
   "outputs": [
    {
     "output_type": "execute_result",
     "data": {
      "text/plain": [
       "          country                                        description  \\\n",
       "10          Italy  Elegance, complexity and structure come togeth...   \n",
       "2146        Italy  Perfumed berry, rose, new leather and dark spi...   \n",
       "2147        Italy  Immensely inviting, this opens with fragrant p...   \n",
       "2148    Australia  Full-bodied and plush yet vibrant and imbued w...   \n",
       "2150        Italy  Balancing power and grace, this wine delivers ...   \n",
       "...           ...                                                ...   \n",
       "139144      Italy  This is a fabulous late harvest tour de force ...   \n",
       "139146      Italy  A liquid lullaby more than a wine, this Brunel...   \n",
       "144652      Italy  Top-echelon, with a stunning purity and depth ...   \n",
       "150562  Australia  As unevolved as they are, the dense and multil...   \n",
       "150563  Australia  Seamless luxury from stem to stern, this ‘baby...   \n",
       "\n",
       "                                 designation  points  price  \\\n",
       "10                        Ronco della Chiesa      95   80.0   \n",
       "2146                    Madonna delle Grazie      99  200.0   \n",
       "2147                                     NaN      98   95.0   \n",
       "2148                              The Factor      98  125.0   \n",
       "2150                               Montosoli      97  125.0   \n",
       "...                                      ...     ...    ...   \n",
       "139144  Castello di Pomino Vendemmia Tardiva      95    NaN   \n",
       "139146                               Riserva      95   60.0   \n",
       "144652                                Solaia      97  115.0   \n",
       "150562                                Grange      96  185.0   \n",
       "150563                                   RWT      95   70.0   \n",
       "\n",
       "                  province                region_1 region_2      variety  \\\n",
       "10      Northeastern Italy                  Collio      NaN     Friulano   \n",
       "2146               Tuscany  Brunello di Montalcino      NaN   Sangiovese   \n",
       "2147               Tuscany  Brunello di Montalcino      NaN   Sangiovese   \n",
       "2148       South Australia          Barossa Valley      NaN       Shiraz   \n",
       "2150               Tuscany  Brunello di Montalcino      NaN   Sangiovese   \n",
       "...                    ...                     ...      ...          ...   \n",
       "139144             Tuscany                 Tuscany      NaN  White Blend   \n",
       "139146             Tuscany  Brunello di Montalcino      NaN   Sangiovese   \n",
       "144652             Tuscany                 Toscana      NaN    Red Blend   \n",
       "150562     South Australia         South Australia      NaN       Shiraz   \n",
       "150563     South Australia          Barossa Valley      NaN       Shiraz   \n",
       "\n",
       "                          winery  \n",
       "10              Borgo del Tiglio  \n",
       "2146                Il Marroneto  \n",
       "2147              Conti Costanti  \n",
       "2148                    Torbreck  \n",
       "2150                    Altesino  \n",
       "...                          ...  \n",
       "139144  Marchesi de' Frescobaldi  \n",
       "139146            Poggio Nardone  \n",
       "144652                  Antinori  \n",
       "150562                  Penfolds  \n",
       "150563                  Penfolds  \n",
       "\n",
       "[483 rows x 10 columns]"
      ],
      "text/html": "<div>\n<style scoped>\n    .dataframe tbody tr th:only-of-type {\n        vertical-align: middle;\n    }\n\n    .dataframe tbody tr th {\n        vertical-align: top;\n    }\n\n    .dataframe thead th {\n        text-align: right;\n    }\n</style>\n<table border=\"1\" class=\"dataframe\">\n  <thead>\n    <tr style=\"text-align: right;\">\n      <th></th>\n      <th>country</th>\n      <th>description</th>\n      <th>designation</th>\n      <th>points</th>\n      <th>price</th>\n      <th>province</th>\n      <th>region_1</th>\n      <th>region_2</th>\n      <th>variety</th>\n      <th>winery</th>\n    </tr>\n  </thead>\n  <tbody>\n    <tr>\n      <th>10</th>\n      <td>Italy</td>\n      <td>Elegance, complexity and structure come togeth...</td>\n      <td>Ronco della Chiesa</td>\n      <td>95</td>\n      <td>80.0</td>\n      <td>Northeastern Italy</td>\n      <td>Collio</td>\n      <td>NaN</td>\n      <td>Friulano</td>\n      <td>Borgo del Tiglio</td>\n    </tr>\n    <tr>\n      <th>2146</th>\n      <td>Italy</td>\n      <td>Perfumed berry, rose, new leather and dark spi...</td>\n      <td>Madonna delle Grazie</td>\n      <td>99</td>\n      <td>200.0</td>\n      <td>Tuscany</td>\n      <td>Brunello di Montalcino</td>\n      <td>NaN</td>\n      <td>Sangiovese</td>\n      <td>Il Marroneto</td>\n    </tr>\n    <tr>\n      <th>2147</th>\n      <td>Italy</td>\n      <td>Immensely inviting, this opens with fragrant p...</td>\n      <td>NaN</td>\n      <td>98</td>\n      <td>95.0</td>\n      <td>Tuscany</td>\n      <td>Brunello di Montalcino</td>\n      <td>NaN</td>\n      <td>Sangiovese</td>\n      <td>Conti Costanti</td>\n    </tr>\n    <tr>\n      <th>2148</th>\n      <td>Australia</td>\n      <td>Full-bodied and plush yet vibrant and imbued w...</td>\n      <td>The Factor</td>\n      <td>98</td>\n      <td>125.0</td>\n      <td>South Australia</td>\n      <td>Barossa Valley</td>\n      <td>NaN</td>\n      <td>Shiraz</td>\n      <td>Torbreck</td>\n    </tr>\n    <tr>\n      <th>2150</th>\n      <td>Italy</td>\n      <td>Balancing power and grace, this wine delivers ...</td>\n      <td>Montosoli</td>\n      <td>97</td>\n      <td>125.0</td>\n      <td>Tuscany</td>\n      <td>Brunello di Montalcino</td>\n      <td>NaN</td>\n      <td>Sangiovese</td>\n      <td>Altesino</td>\n    </tr>\n    <tr>\n      <th>...</th>\n      <td>...</td>\n      <td>...</td>\n      <td>...</td>\n      <td>...</td>\n      <td>...</td>\n      <td>...</td>\n      <td>...</td>\n      <td>...</td>\n      <td>...</td>\n      <td>...</td>\n    </tr>\n    <tr>\n      <th>139144</th>\n      <td>Italy</td>\n      <td>This is a fabulous late harvest tour de force ...</td>\n      <td>Castello di Pomino Vendemmia Tardiva</td>\n      <td>95</td>\n      <td>NaN</td>\n      <td>Tuscany</td>\n      <td>Tuscany</td>\n      <td>NaN</td>\n      <td>White Blend</td>\n      <td>Marchesi de' Frescobaldi</td>\n    </tr>\n    <tr>\n      <th>139146</th>\n      <td>Italy</td>\n      <td>A liquid lullaby more than a wine, this Brunel...</td>\n      <td>Riserva</td>\n      <td>95</td>\n      <td>60.0</td>\n      <td>Tuscany</td>\n      <td>Brunello di Montalcino</td>\n      <td>NaN</td>\n      <td>Sangiovese</td>\n      <td>Poggio Nardone</td>\n    </tr>\n    <tr>\n      <th>144652</th>\n      <td>Italy</td>\n      <td>Top-echelon, with a stunning purity and depth ...</td>\n      <td>Solaia</td>\n      <td>97</td>\n      <td>115.0</td>\n      <td>Tuscany</td>\n      <td>Toscana</td>\n      <td>NaN</td>\n      <td>Red Blend</td>\n      <td>Antinori</td>\n    </tr>\n    <tr>\n      <th>150562</th>\n      <td>Australia</td>\n      <td>As unevolved as they are, the dense and multil...</td>\n      <td>Grange</td>\n      <td>96</td>\n      <td>185.0</td>\n      <td>South Australia</td>\n      <td>South Australia</td>\n      <td>NaN</td>\n      <td>Shiraz</td>\n      <td>Penfolds</td>\n    </tr>\n    <tr>\n      <th>150563</th>\n      <td>Australia</td>\n      <td>Seamless luxury from stem to stern, this ‘baby...</td>\n      <td>RWT</td>\n      <td>95</td>\n      <td>70.0</td>\n      <td>South Australia</td>\n      <td>Barossa Valley</td>\n      <td>NaN</td>\n      <td>Shiraz</td>\n      <td>Penfolds</td>\n    </tr>\n  </tbody>\n</table>\n<p>483 rows × 10 columns</p>\n</div>"
     },
     "metadata": {},
     "execution_count": 35
    }
   ],
   "source": [
    "reviews.loc[ (reviews['points'] >= 95) & (reviews['country'].isin( ['Italy', 'Australia'] ) ), ]"
   ]
  },
  {
   "cell_type": "code",
   "execution_count": null,
   "metadata": {},
   "outputs": [],
   "source": []
  }
 ]
}