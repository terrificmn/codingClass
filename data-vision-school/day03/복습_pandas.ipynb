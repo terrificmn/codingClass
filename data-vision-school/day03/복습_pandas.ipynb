{
 "metadata": {
  "language_info": {
   "codemirror_mode": {
    "name": "ipython",
    "version": 3
   },
   "file_extension": ".py",
   "mimetype": "text/x-python",
   "name": "python",
   "nbconvert_exporter": "python",
   "pygments_lexer": "ipython3",
   "version": "3.8.5"
  },
  "orig_nbformat": 2,
  "kernelspec": {
   "name": "python3",
   "display_name": "Python 3",
   "language": "python"
  }
 },
 "nbformat": 4,
 "nbformat_minor": 2,
 "cells": [
  {
   "cell_type": "code",
   "execution_count": 2,
   "metadata": {},
   "outputs": [],
   "source": [
    "import pandas as pd"
   ]
  },
  {
   "cell_type": "code",
   "execution_count": 1,
   "metadata": {},
   "outputs": [],
   "source": [
    "items2 = [{'bikes': 20, 'pants': 30, 'watches': 35, 'shirts': 15, 'shoes':8, 'suits':45},\n",
    "{'watches': 10, 'glasses': 50, 'bikes': 15, 'pants':5, 'shirts': 2, 'shoes':5, 'suits':7},\n",
    "{'bikes': 20, 'pants': 30, 'watches': 35, 'glasses': 4, 'shoes':10}]"
   ]
  },
  {
   "cell_type": "code",
   "execution_count": 4,
   "metadata": {},
   "outputs": [],
   "source": [
    "stores = pd.DataFrame(data= items2, index= ['store 1', 'store 2', 'store 3'] )"
   ]
  },
  {
   "cell_type": "code",
   "execution_count": 5,
   "metadata": {},
   "outputs": [
    {
     "output_type": "execute_result",
     "data": {
      "text/plain": [
       "         bikes  pants  watches  shirts  shoes  suits  glasses\n",
       "store 1     20     30       35    15.0      8   45.0      NaN\n",
       "store 2     15      5       10     2.0      5    7.0     50.0\n",
       "store 3     20     30       35     NaN     10    NaN      4.0"
      ],
      "text/html": "<div>\n<style scoped>\n    .dataframe tbody tr th:only-of-type {\n        vertical-align: middle;\n    }\n\n    .dataframe tbody tr th {\n        vertical-align: top;\n    }\n\n    .dataframe thead th {\n        text-align: right;\n    }\n</style>\n<table border=\"1\" class=\"dataframe\">\n  <thead>\n    <tr style=\"text-align: right;\">\n      <th></th>\n      <th>bikes</th>\n      <th>pants</th>\n      <th>watches</th>\n      <th>shirts</th>\n      <th>shoes</th>\n      <th>suits</th>\n      <th>glasses</th>\n    </tr>\n  </thead>\n  <tbody>\n    <tr>\n      <th>store 1</th>\n      <td>20</td>\n      <td>30</td>\n      <td>35</td>\n      <td>15.0</td>\n      <td>8</td>\n      <td>45.0</td>\n      <td>NaN</td>\n    </tr>\n    <tr>\n      <th>store 2</th>\n      <td>15</td>\n      <td>5</td>\n      <td>10</td>\n      <td>2.0</td>\n      <td>5</td>\n      <td>7.0</td>\n      <td>50.0</td>\n    </tr>\n    <tr>\n      <th>store 3</th>\n      <td>20</td>\n      <td>30</td>\n      <td>35</td>\n      <td>NaN</td>\n      <td>10</td>\n      <td>NaN</td>\n      <td>4.0</td>\n    </tr>\n  </tbody>\n</table>\n</div>"
     },
     "metadata": {},
     "execution_count": 5
    }
   ],
   "source": [
    "stores"
   ]
  },
  {
   "cell_type": "code",
   "execution_count": 6,
   "metadata": {},
   "outputs": [
    {
     "output_type": "execute_result",
     "data": {
      "text/plain": [
       "         bikes  pants  watches  shirts  shoes  suits  glasses\n",
       "store A     20     30       35    15.0      8   45.0      NaN\n",
       "store 2     15      5       10     2.0      5    7.0     50.0\n",
       "store 3     20     30       35     NaN     10    NaN      4.0"
      ],
      "text/html": "<div>\n<style scoped>\n    .dataframe tbody tr th:only-of-type {\n        vertical-align: middle;\n    }\n\n    .dataframe tbody tr th {\n        vertical-align: top;\n    }\n\n    .dataframe thead th {\n        text-align: right;\n    }\n</style>\n<table border=\"1\" class=\"dataframe\">\n  <thead>\n    <tr style=\"text-align: right;\">\n      <th></th>\n      <th>bikes</th>\n      <th>pants</th>\n      <th>watches</th>\n      <th>shirts</th>\n      <th>shoes</th>\n      <th>suits</th>\n      <th>glasses</th>\n    </tr>\n  </thead>\n  <tbody>\n    <tr>\n      <th>store A</th>\n      <td>20</td>\n      <td>30</td>\n      <td>35</td>\n      <td>15.0</td>\n      <td>8</td>\n      <td>45.0</td>\n      <td>NaN</td>\n    </tr>\n    <tr>\n      <th>store 2</th>\n      <td>15</td>\n      <td>5</td>\n      <td>10</td>\n      <td>2.0</td>\n      <td>5</td>\n      <td>7.0</td>\n      <td>50.0</td>\n    </tr>\n    <tr>\n      <th>store 3</th>\n      <td>20</td>\n      <td>30</td>\n      <td>35</td>\n      <td>NaN</td>\n      <td>10</td>\n      <td>NaN</td>\n      <td>4.0</td>\n    </tr>\n  </tbody>\n</table>\n</div>"
     },
     "metadata": {},
     "execution_count": 6
    }
   ],
   "source": [
    "# 컬럼 이름 바꾸기\n",
    "# rename( columns = { 'original name' : '바꿀 이름'} )\n",
    "# rename( index = { 'original name' : '바꿀 이름'} )\n",
    "# 여기서 바꿀 이름은 딕셔너리 형태로 하면 된다\n",
    "stores.rename( index = { 'store 1' : 'store A'} )"
   ]
  },
  {
   "cell_type": "code",
   "execution_count": 7,
   "metadata": {},
   "outputs": [
    {
     "output_type": "execute_result",
     "data": {
      "text/plain": [
       "         bikes  pants  watches  shirts  shoes  suits  glasses\n",
       "store 1     20     30       35    15.0      8   45.0      NaN\n",
       "store 2     15      5       10     2.0      5    7.0     50.0\n",
       "store 3     20     30       35     NaN     10    NaN      4.0"
      ],
      "text/html": "<div>\n<style scoped>\n    .dataframe tbody tr th:only-of-type {\n        vertical-align: middle;\n    }\n\n    .dataframe tbody tr th {\n        vertical-align: top;\n    }\n\n    .dataframe thead th {\n        text-align: right;\n    }\n</style>\n<table border=\"1\" class=\"dataframe\">\n  <thead>\n    <tr style=\"text-align: right;\">\n      <th></th>\n      <th>bikes</th>\n      <th>pants</th>\n      <th>watches</th>\n      <th>shirts</th>\n      <th>shoes</th>\n      <th>suits</th>\n      <th>glasses</th>\n    </tr>\n  </thead>\n  <tbody>\n    <tr>\n      <th>store 1</th>\n      <td>20</td>\n      <td>30</td>\n      <td>35</td>\n      <td>15.0</td>\n      <td>8</td>\n      <td>45.0</td>\n      <td>NaN</td>\n    </tr>\n    <tr>\n      <th>store 2</th>\n      <td>15</td>\n      <td>5</td>\n      <td>10</td>\n      <td>2.0</td>\n      <td>5</td>\n      <td>7.0</td>\n      <td>50.0</td>\n    </tr>\n    <tr>\n      <th>store 3</th>\n      <td>20</td>\n      <td>30</td>\n      <td>35</td>\n      <td>NaN</td>\n      <td>10</td>\n      <td>NaN</td>\n      <td>4.0</td>\n    </tr>\n  </tbody>\n</table>\n</div>"
     },
     "metadata": {},
     "execution_count": 7
    }
   ],
   "source": [
    "stores"
   ]
  },
  {
   "cell_type": "code",
   "execution_count": 8,
   "metadata": {},
   "outputs": [
    {
     "output_type": "execute_result",
     "data": {
      "text/plain": [
       "         BKS  pants  watches  shirts  shoes  suits  glasses\n",
       "store 1   20     30       35    15.0      8   45.0      NaN\n",
       "store 2   15      5       10     2.0      5    7.0     50.0\n",
       "store 3   20     30       35     NaN     10    NaN      4.0"
      ],
      "text/html": "<div>\n<style scoped>\n    .dataframe tbody tr th:only-of-type {\n        vertical-align: middle;\n    }\n\n    .dataframe tbody tr th {\n        vertical-align: top;\n    }\n\n    .dataframe thead th {\n        text-align: right;\n    }\n</style>\n<table border=\"1\" class=\"dataframe\">\n  <thead>\n    <tr style=\"text-align: right;\">\n      <th></th>\n      <th>BKS</th>\n      <th>pants</th>\n      <th>watches</th>\n      <th>shirts</th>\n      <th>shoes</th>\n      <th>suits</th>\n      <th>glasses</th>\n    </tr>\n  </thead>\n  <tbody>\n    <tr>\n      <th>store 1</th>\n      <td>20</td>\n      <td>30</td>\n      <td>35</td>\n      <td>15.0</td>\n      <td>8</td>\n      <td>45.0</td>\n      <td>NaN</td>\n    </tr>\n    <tr>\n      <th>store 2</th>\n      <td>15</td>\n      <td>5</td>\n      <td>10</td>\n      <td>2.0</td>\n      <td>5</td>\n      <td>7.0</td>\n      <td>50.0</td>\n    </tr>\n    <tr>\n      <th>store 3</th>\n      <td>20</td>\n      <td>30</td>\n      <td>35</td>\n      <td>NaN</td>\n      <td>10</td>\n      <td>NaN</td>\n      <td>4.0</td>\n    </tr>\n  </tbody>\n</table>\n</div>"
     },
     "metadata": {},
     "execution_count": 8
    }
   ],
   "source": [
    "stores.rename( columns= { 'bikes' : 'BKS'} )"
   ]
  },
  {
   "cell_type": "code",
   "execution_count": 9,
   "metadata": {},
   "outputs": [
    {
     "output_type": "execute_result",
     "data": {
      "text/plain": [
       "         bks  pants  watches  shirts  shoes  suits   gss\n",
       "store 1   20     30       35    15.0      8   45.0   NaN\n",
       "store 2   15      5       10     2.0      5    7.0  50.0\n",
       "store 3   20     30       35     NaN     10    NaN   4.0"
      ],
      "text/html": "<div>\n<style scoped>\n    .dataframe tbody tr th:only-of-type {\n        vertical-align: middle;\n    }\n\n    .dataframe tbody tr th {\n        vertical-align: top;\n    }\n\n    .dataframe thead th {\n        text-align: right;\n    }\n</style>\n<table border=\"1\" class=\"dataframe\">\n  <thead>\n    <tr style=\"text-align: right;\">\n      <th></th>\n      <th>bks</th>\n      <th>pants</th>\n      <th>watches</th>\n      <th>shirts</th>\n      <th>shoes</th>\n      <th>suits</th>\n      <th>gss</th>\n    </tr>\n  </thead>\n  <tbody>\n    <tr>\n      <th>store 1</th>\n      <td>20</td>\n      <td>30</td>\n      <td>35</td>\n      <td>15.0</td>\n      <td>8</td>\n      <td>45.0</td>\n      <td>NaN</td>\n    </tr>\n    <tr>\n      <th>store 2</th>\n      <td>15</td>\n      <td>5</td>\n      <td>10</td>\n      <td>2.0</td>\n      <td>5</td>\n      <td>7.0</td>\n      <td>50.0</td>\n    </tr>\n    <tr>\n      <th>store 3</th>\n      <td>20</td>\n      <td>30</td>\n      <td>35</td>\n      <td>NaN</td>\n      <td>10</td>\n      <td>NaN</td>\n      <td>4.0</td>\n    </tr>\n  </tbody>\n</table>\n</div>"
     },
     "metadata": {},
     "execution_count": 9
    }
   ],
   "source": [
    "#여러개르 바꿀 때는 딕셔너리 형태에 Key: value, key: value, ... 추가하면 됨\n",
    "stores.rename( columns= { 'bikes' : 'bks', 'glasses': 'gss'} )"
   ]
  },
  {
   "cell_type": "code",
   "execution_count": 10,
   "metadata": {},
   "outputs": [
    {
     "output_type": "execute_result",
     "data": {
      "text/plain": [
       "       bikes  watches  shirts  shoes  suits  glasses\n",
       "pants                                               \n",
       "30        20       35    15.0      8   45.0      NaN\n",
       "5         15       10     2.0      5    7.0     50.0\n",
       "30        20       35     NaN     10    NaN      4.0"
      ],
      "text/html": "<div>\n<style scoped>\n    .dataframe tbody tr th:only-of-type {\n        vertical-align: middle;\n    }\n\n    .dataframe tbody tr th {\n        vertical-align: top;\n    }\n\n    .dataframe thead th {\n        text-align: right;\n    }\n</style>\n<table border=\"1\" class=\"dataframe\">\n  <thead>\n    <tr style=\"text-align: right;\">\n      <th></th>\n      <th>bikes</th>\n      <th>watches</th>\n      <th>shirts</th>\n      <th>shoes</th>\n      <th>suits</th>\n      <th>glasses</th>\n    </tr>\n    <tr>\n      <th>pants</th>\n      <th></th>\n      <th></th>\n      <th></th>\n      <th></th>\n      <th></th>\n      <th></th>\n    </tr>\n  </thead>\n  <tbody>\n    <tr>\n      <th>30</th>\n      <td>20</td>\n      <td>35</td>\n      <td>15.0</td>\n      <td>8</td>\n      <td>45.0</td>\n      <td>NaN</td>\n    </tr>\n    <tr>\n      <th>5</th>\n      <td>15</td>\n      <td>10</td>\n      <td>2.0</td>\n      <td>5</td>\n      <td>7.0</td>\n      <td>50.0</td>\n    </tr>\n    <tr>\n      <th>30</th>\n      <td>20</td>\n      <td>35</td>\n      <td>NaN</td>\n      <td>10</td>\n      <td>NaN</td>\n      <td>4.0</td>\n    </tr>\n  </tbody>\n</table>\n</div>"
     },
     "metadata": {},
     "execution_count": 10
    }
   ],
   "source": [
    "# 인덱스(row)의 이름 설정\n",
    "# set_index( '컬럼명' )\n",
    "# set_index()는 하나의 컬럼이 대표 인덱스가 된다고 보면 됨\n",
    "# 예를 들어 'pant' 컬럼을 set_index('pants')라고 하며\n",
    "# pants 컬럼이 인덱스쪽으로 옮겨와 지는 것을 확인할 수 있음\n",
    "\n",
    "stores.set_index('pants')"
   ]
  },
  {
   "cell_type": "code",
   "execution_count": 12,
   "metadata": {},
   "outputs": [],
   "source": [
    "stores.set_index('pants', inplace=True)"
   ]
  },
  {
   "cell_type": "code",
   "execution_count": 16,
   "metadata": {},
   "outputs": [],
   "source": [
    "#다시 되돌리기\n",
    "# reset_index() 메소드\n",
    "# index(row)를 초기화 해줌\n",
    "# 컴퓨터 index 방식으로 바뀜  (0, 1, 2,...)\n",
    "# 역시 메모리 반영은 안되기 때문에 inplace=True args로 넘겨야 한다\n",
    "stores.reset_index(inplace=True)"
   ]
  },
  {
   "cell_type": "code",
   "execution_count": 17,
   "metadata": {},
   "outputs": [
    {
     "output_type": "execute_result",
     "data": {
      "text/plain": [
       "   pants  bikes  watches  shirts  shoes  suits  glasses\n",
       "0     30     20       35    15.0      8   45.0      NaN\n",
       "1      5     15       10     2.0      5    7.0     50.0\n",
       "2     30     20       35     NaN     10    NaN      4.0"
      ],
      "text/html": "<div>\n<style scoped>\n    .dataframe tbody tr th:only-of-type {\n        vertical-align: middle;\n    }\n\n    .dataframe tbody tr th {\n        vertical-align: top;\n    }\n\n    .dataframe thead th {\n        text-align: right;\n    }\n</style>\n<table border=\"1\" class=\"dataframe\">\n  <thead>\n    <tr style=\"text-align: right;\">\n      <th></th>\n      <th>pants</th>\n      <th>bikes</th>\n      <th>watches</th>\n      <th>shirts</th>\n      <th>shoes</th>\n      <th>suits</th>\n      <th>glasses</th>\n    </tr>\n  </thead>\n  <tbody>\n    <tr>\n      <th>0</th>\n      <td>30</td>\n      <td>20</td>\n      <td>35</td>\n      <td>15.0</td>\n      <td>8</td>\n      <td>45.0</td>\n      <td>NaN</td>\n    </tr>\n    <tr>\n      <th>1</th>\n      <td>5</td>\n      <td>15</td>\n      <td>10</td>\n      <td>2.0</td>\n      <td>5</td>\n      <td>7.0</td>\n      <td>50.0</td>\n    </tr>\n    <tr>\n      <th>2</th>\n      <td>30</td>\n      <td>20</td>\n      <td>35</td>\n      <td>NaN</td>\n      <td>10</td>\n      <td>NaN</td>\n      <td>4.0</td>\n    </tr>\n  </tbody>\n</table>\n</div>"
     },
     "metadata": {},
     "execution_count": 17
    }
   ],
   "source": [
    "stores"
   ]
  },
  {
   "cell_type": "code",
   "execution_count": 18,
   "metadata": {},
   "outputs": [
    {
     "output_type": "execute_result",
     "data": {
      "text/plain": [
       "   pants  bikes  watches  shirts  shoes  suits  glasses\n",
       "0  False  False    False   False  False  False     True\n",
       "1  False  False    False   False  False  False    False\n",
       "2  False  False    False    True  False   True    False"
      ],
      "text/html": "<div>\n<style scoped>\n    .dataframe tbody tr th:only-of-type {\n        vertical-align: middle;\n    }\n\n    .dataframe tbody tr th {\n        vertical-align: top;\n    }\n\n    .dataframe thead th {\n        text-align: right;\n    }\n</style>\n<table border=\"1\" class=\"dataframe\">\n  <thead>\n    <tr style=\"text-align: right;\">\n      <th></th>\n      <th>pants</th>\n      <th>bikes</th>\n      <th>watches</th>\n      <th>shirts</th>\n      <th>shoes</th>\n      <th>suits</th>\n      <th>glasses</th>\n    </tr>\n  </thead>\n  <tbody>\n    <tr>\n      <th>0</th>\n      <td>False</td>\n      <td>False</td>\n      <td>False</td>\n      <td>False</td>\n      <td>False</td>\n      <td>False</td>\n      <td>True</td>\n    </tr>\n    <tr>\n      <th>1</th>\n      <td>False</td>\n      <td>False</td>\n      <td>False</td>\n      <td>False</td>\n      <td>False</td>\n      <td>False</td>\n      <td>False</td>\n    </tr>\n    <tr>\n      <th>2</th>\n      <td>False</td>\n      <td>False</td>\n      <td>False</td>\n      <td>True</td>\n      <td>False</td>\n      <td>True</td>\n      <td>False</td>\n    </tr>\n  </tbody>\n</table>\n</div>"
     },
     "metadata": {},
     "execution_count": 18
    }
   ],
   "source": [
    "# isna() \n",
    "# NaN 계산- True/False\n",
    "stores.isna()"
   ]
  },
  {
   "cell_type": "code",
   "execution_count": 19,
   "metadata": {},
   "outputs": [
    {
     "output_type": "execute_result",
     "data": {
      "text/plain": [
       "pants      0\n",
       "bikes      0\n",
       "watches    0\n",
       "shirts     1\n",
       "shoes      0\n",
       "suits      1\n",
       "glasses    1\n",
       "dtype: int64"
      ]
     },
     "metadata": {},
     "execution_count": 19
    }
   ],
   "source": [
    "# isna() 결과에 sun()을 해주면 컬럼별 NaN데이터의 합을 볼 수 있음\n",
    "stores.isna().sum()"
   ]
  },
  {
   "cell_type": "code",
   "execution_count": 20,
   "metadata": {},
   "outputs": [
    {
     "output_type": "execute_result",
     "data": {
      "text/plain": [
       "3"
      ]
     },
     "metadata": {},
     "execution_count": 20
    }
   ],
   "source": [
    "#여기에 또 sum()을 하면 NaN이 있는 컬럼에서의 총 수를 리턴해 줌\n",
    "stores.isna().sum().sum()"
   ]
  },
  {
   "cell_type": "code",
   "execution_count": 21,
   "metadata": {},
   "outputs": [
    {
     "output_type": "execute_result",
     "data": {
      "text/plain": [
       "   pants  bikes  watches  shirts  shoes  suits  glasses\n",
       "0   True   True     True    True   True   True    False\n",
       "1   True   True     True    True   True   True     True\n",
       "2   True   True     True   False   True  False     True"
      ],
      "text/html": "<div>\n<style scoped>\n    .dataframe tbody tr th:only-of-type {\n        vertical-align: middle;\n    }\n\n    .dataframe tbody tr th {\n        vertical-align: top;\n    }\n\n    .dataframe thead th {\n        text-align: right;\n    }\n</style>\n<table border=\"1\" class=\"dataframe\">\n  <thead>\n    <tr style=\"text-align: right;\">\n      <th></th>\n      <th>pants</th>\n      <th>bikes</th>\n      <th>watches</th>\n      <th>shirts</th>\n      <th>shoes</th>\n      <th>suits</th>\n      <th>glasses</th>\n    </tr>\n  </thead>\n  <tbody>\n    <tr>\n      <th>0</th>\n      <td>True</td>\n      <td>True</td>\n      <td>True</td>\n      <td>True</td>\n      <td>True</td>\n      <td>True</td>\n      <td>False</td>\n    </tr>\n    <tr>\n      <th>1</th>\n      <td>True</td>\n      <td>True</td>\n      <td>True</td>\n      <td>True</td>\n      <td>True</td>\n      <td>True</td>\n      <td>True</td>\n    </tr>\n    <tr>\n      <th>2</th>\n      <td>True</td>\n      <td>True</td>\n      <td>True</td>\n      <td>False</td>\n      <td>True</td>\n      <td>False</td>\n      <td>True</td>\n    </tr>\n  </tbody>\n</table>\n</div>"
     },
     "metadata": {},
     "execution_count": 21
    }
   ],
   "source": [
    "# 반대의 경우 \n",
    "# notnull()\n",
    "# NaN인 아닌 경우에 True를 반환/ False\n",
    "stores.notnull()"
   ]
  },
  {
   "cell_type": "code",
   "execution_count": 22,
   "metadata": {},
   "outputs": [
    {
     "output_type": "execute_result",
     "data": {
      "text/plain": [
       "   pants  bikes  watches  shirts  shoes  suits  glasses\n",
       "0  False  False    False   False  False  False     True\n",
       "1  False  False    False   False  False  False    False\n",
       "2  False  False    False    True  False   True    False"
      ],
      "text/html": "<div>\n<style scoped>\n    .dataframe tbody tr th:only-of-type {\n        vertical-align: middle;\n    }\n\n    .dataframe tbody tr th {\n        vertical-align: top;\n    }\n\n    .dataframe thead th {\n        text-align: right;\n    }\n</style>\n<table border=\"1\" class=\"dataframe\">\n  <thead>\n    <tr style=\"text-align: right;\">\n      <th></th>\n      <th>pants</th>\n      <th>bikes</th>\n      <th>watches</th>\n      <th>shirts</th>\n      <th>shoes</th>\n      <th>suits</th>\n      <th>glasses</th>\n    </tr>\n  </thead>\n  <tbody>\n    <tr>\n      <th>0</th>\n      <td>False</td>\n      <td>False</td>\n      <td>False</td>\n      <td>False</td>\n      <td>False</td>\n      <td>False</td>\n      <td>True</td>\n    </tr>\n    <tr>\n      <th>1</th>\n      <td>False</td>\n      <td>False</td>\n      <td>False</td>\n      <td>False</td>\n      <td>False</td>\n      <td>False</td>\n      <td>False</td>\n    </tr>\n    <tr>\n      <th>2</th>\n      <td>False</td>\n      <td>False</td>\n      <td>False</td>\n      <td>True</td>\n      <td>False</td>\n      <td>True</td>\n      <td>False</td>\n    </tr>\n  </tbody>\n</table>\n</div>"
     },
     "metadata": {},
     "execution_count": 22
    }
   ],
   "source": [
    "# isna()와 비교\n",
    "stores.isna()\n"
   ]
  },
  {
   "cell_type": "code",
   "execution_count": 23,
   "metadata": {},
   "outputs": [
    {
     "output_type": "execute_result",
     "data": {
      "text/plain": [
       "   pants  bikes  watches  shirts  shoes  suits  glasses\n",
       "0     30     20       35    15.0      8   45.0      NaN\n",
       "1      5     15       10     2.0      5    7.0     50.0\n",
       "2     30     20       35     NaN     10    NaN      4.0"
      ],
      "text/html": "<div>\n<style scoped>\n    .dataframe tbody tr th:only-of-type {\n        vertical-align: middle;\n    }\n\n    .dataframe tbody tr th {\n        vertical-align: top;\n    }\n\n    .dataframe thead th {\n        text-align: right;\n    }\n</style>\n<table border=\"1\" class=\"dataframe\">\n  <thead>\n    <tr style=\"text-align: right;\">\n      <th></th>\n      <th>pants</th>\n      <th>bikes</th>\n      <th>watches</th>\n      <th>shirts</th>\n      <th>shoes</th>\n      <th>suits</th>\n      <th>glasses</th>\n    </tr>\n  </thead>\n  <tbody>\n    <tr>\n      <th>0</th>\n      <td>30</td>\n      <td>20</td>\n      <td>35</td>\n      <td>15.0</td>\n      <td>8</td>\n      <td>45.0</td>\n      <td>NaN</td>\n    </tr>\n    <tr>\n      <th>1</th>\n      <td>5</td>\n      <td>15</td>\n      <td>10</td>\n      <td>2.0</td>\n      <td>5</td>\n      <td>7.0</td>\n      <td>50.0</td>\n    </tr>\n    <tr>\n      <th>2</th>\n      <td>30</td>\n      <td>20</td>\n      <td>35</td>\n      <td>NaN</td>\n      <td>10</td>\n      <td>NaN</td>\n      <td>4.0</td>\n    </tr>\n  </tbody>\n</table>\n</div>"
     },
     "metadata": {},
     "execution_count": 23
    }
   ],
   "source": [
    "# 원래 스토어 데이터프레임\n",
    "# 비교\n",
    "stores"
   ]
  },
  {
   "cell_type": "code",
   "execution_count": 24,
   "metadata": {},
   "outputs": [
    {
     "output_type": "execute_result",
     "data": {
      "text/plain": [
       "   pants  bikes  watches  shirts  shoes  suits  glasses\n",
       "1      5     15       10     2.0      5    7.0     50.0"
      ],
      "text/html": "<div>\n<style scoped>\n    .dataframe tbody tr th:only-of-type {\n        vertical-align: middle;\n    }\n\n    .dataframe tbody tr th {\n        vertical-align: top;\n    }\n\n    .dataframe thead th {\n        text-align: right;\n    }\n</style>\n<table border=\"1\" class=\"dataframe\">\n  <thead>\n    <tr style=\"text-align: right;\">\n      <th></th>\n      <th>pants</th>\n      <th>bikes</th>\n      <th>watches</th>\n      <th>shirts</th>\n      <th>shoes</th>\n      <th>suits</th>\n      <th>glasses</th>\n    </tr>\n  </thead>\n  <tbody>\n    <tr>\n      <th>1</th>\n      <td>5</td>\n      <td>15</td>\n      <td>10</td>\n      <td>2.0</td>\n      <td>5</td>\n      <td>7.0</td>\n      <td>50.0</td>\n    </tr>\n  </tbody>\n</table>\n</div>"
     },
     "metadata": {},
     "execution_count": 24
    }
   ],
   "source": [
    "# 기본적으로 행으로 axis=0 으로 지우기\n",
    "#  dropna() \n",
    "# NaN 이 있는 행은 지운다\n",
    "stores.dropna()"
   ]
  },
  {
   "cell_type": "code",
   "execution_count": 26,
   "metadata": {},
   "outputs": [
    {
     "output_type": "execute_result",
     "data": {
      "text/plain": [
       "   pants  bikes  watches  shoes\n",
       "0     30     20       35      8\n",
       "1      5     15       10      5\n",
       "2     30     20       35     10"
      ],
      "text/html": "<div>\n<style scoped>\n    .dataframe tbody tr th:only-of-type {\n        vertical-align: middle;\n    }\n\n    .dataframe tbody tr th {\n        vertical-align: top;\n    }\n\n    .dataframe thead th {\n        text-align: right;\n    }\n</style>\n<table border=\"1\" class=\"dataframe\">\n  <thead>\n    <tr style=\"text-align: right;\">\n      <th></th>\n      <th>pants</th>\n      <th>bikes</th>\n      <th>watches</th>\n      <th>shoes</th>\n    </tr>\n  </thead>\n  <tbody>\n    <tr>\n      <th>0</th>\n      <td>30</td>\n      <td>20</td>\n      <td>35</td>\n      <td>8</td>\n    </tr>\n    <tr>\n      <th>1</th>\n      <td>5</td>\n      <td>15</td>\n      <td>10</td>\n      <td>5</td>\n    </tr>\n    <tr>\n      <th>2</th>\n      <td>30</td>\n      <td>20</td>\n      <td>35</td>\n      <td>10</td>\n    </tr>\n  </tbody>\n</table>\n</div>"
     },
     "metadata": {},
     "execution_count": 26
    }
   ],
   "source": [
    "# NaN 이 있는 컬럼 지우기 \n",
    "# axis = 1\n",
    "stores.dropna(axis = 1)"
   ]
  },
  {
   "cell_type": "code",
   "execution_count": 27,
   "metadata": {},
   "outputs": [
    {
     "output_type": "execute_result",
     "data": {
      "text/plain": [
       "   pants  bikes  watches  shirts  shoes  suits  glasses\n",
       "0     30     20       35    15.0      8   45.0      0.0\n",
       "1      5     15       10     2.0      5    7.0     50.0\n",
       "2     30     20       35     0.0     10    0.0      4.0"
      ],
      "text/html": "<div>\n<style scoped>\n    .dataframe tbody tr th:only-of-type {\n        vertical-align: middle;\n    }\n\n    .dataframe tbody tr th {\n        vertical-align: top;\n    }\n\n    .dataframe thead th {\n        text-align: right;\n    }\n</style>\n<table border=\"1\" class=\"dataframe\">\n  <thead>\n    <tr style=\"text-align: right;\">\n      <th></th>\n      <th>pants</th>\n      <th>bikes</th>\n      <th>watches</th>\n      <th>shirts</th>\n      <th>shoes</th>\n      <th>suits</th>\n      <th>glasses</th>\n    </tr>\n  </thead>\n  <tbody>\n    <tr>\n      <th>0</th>\n      <td>30</td>\n      <td>20</td>\n      <td>35</td>\n      <td>15.0</td>\n      <td>8</td>\n      <td>45.0</td>\n      <td>0.0</td>\n    </tr>\n    <tr>\n      <th>1</th>\n      <td>5</td>\n      <td>15</td>\n      <td>10</td>\n      <td>2.0</td>\n      <td>5</td>\n      <td>7.0</td>\n      <td>50.0</td>\n    </tr>\n    <tr>\n      <th>2</th>\n      <td>30</td>\n      <td>20</td>\n      <td>35</td>\n      <td>0.0</td>\n      <td>10</td>\n      <td>0.0</td>\n      <td>4.0</td>\n    </tr>\n  </tbody>\n</table>\n</div>"
     },
     "metadata": {},
     "execution_count": 27
    }
   ],
   "source": [
    "# 특정 값 (숫자, 문자)로 NaN자리 채우기\n",
    "# fillna()\n",
    "# 0으로 채우기\n",
    "stores.fillna(0)"
   ]
  },
  {
   "cell_type": "code",
   "execution_count": 28,
   "metadata": {},
   "outputs": [
    {
     "output_type": "execute_result",
     "data": {
      "text/plain": [
       "   pants  bikes  watches shirts  shoes suits glasses\n",
       "0     30     20       35     15      8    45      없음\n",
       "1      5     15       10      2      5     7      50\n",
       "2     30     20       35     없음     10    없음       4"
      ],
      "text/html": "<div>\n<style scoped>\n    .dataframe tbody tr th:only-of-type {\n        vertical-align: middle;\n    }\n\n    .dataframe tbody tr th {\n        vertical-align: top;\n    }\n\n    .dataframe thead th {\n        text-align: right;\n    }\n</style>\n<table border=\"1\" class=\"dataframe\">\n  <thead>\n    <tr style=\"text-align: right;\">\n      <th></th>\n      <th>pants</th>\n      <th>bikes</th>\n      <th>watches</th>\n      <th>shirts</th>\n      <th>shoes</th>\n      <th>suits</th>\n      <th>glasses</th>\n    </tr>\n  </thead>\n  <tbody>\n    <tr>\n      <th>0</th>\n      <td>30</td>\n      <td>20</td>\n      <td>35</td>\n      <td>15</td>\n      <td>8</td>\n      <td>45</td>\n      <td>없음</td>\n    </tr>\n    <tr>\n      <th>1</th>\n      <td>5</td>\n      <td>15</td>\n      <td>10</td>\n      <td>2</td>\n      <td>5</td>\n      <td>7</td>\n      <td>50</td>\n    </tr>\n    <tr>\n      <th>2</th>\n      <td>30</td>\n      <td>20</td>\n      <td>35</td>\n      <td>없음</td>\n      <td>10</td>\n      <td>없음</td>\n      <td>4</td>\n    </tr>\n  </tbody>\n</table>\n</div>"
     },
     "metadata": {},
     "execution_count": 28
    }
   ],
   "source": [
    "stores.fillna('없음')"
   ]
  },
  {
   "cell_type": "code",
   "execution_count": 32,
   "metadata": {},
   "outputs": [
    {
     "output_type": "execute_result",
     "data": {
      "text/plain": [
       "   pants  bikes  watches  shirts  shoes  suits  glasses\n",
       "0     30     20       35    15.0      8   45.0     27.0\n",
       "1      5     15       10     2.0      5    7.0     50.0\n",
       "2     30     20       35     8.5     10   26.0      4.0"
      ],
      "text/html": "<div>\n<style scoped>\n    .dataframe tbody tr th:only-of-type {\n        vertical-align: middle;\n    }\n\n    .dataframe tbody tr th {\n        vertical-align: top;\n    }\n\n    .dataframe thead th {\n        text-align: right;\n    }\n</style>\n<table border=\"1\" class=\"dataframe\">\n  <thead>\n    <tr style=\"text-align: right;\">\n      <th></th>\n      <th>pants</th>\n      <th>bikes</th>\n      <th>watches</th>\n      <th>shirts</th>\n      <th>shoes</th>\n      <th>suits</th>\n      <th>glasses</th>\n    </tr>\n  </thead>\n  <tbody>\n    <tr>\n      <th>0</th>\n      <td>30</td>\n      <td>20</td>\n      <td>35</td>\n      <td>15.0</td>\n      <td>8</td>\n      <td>45.0</td>\n      <td>27.0</td>\n    </tr>\n    <tr>\n      <th>1</th>\n      <td>5</td>\n      <td>15</td>\n      <td>10</td>\n      <td>2.0</td>\n      <td>5</td>\n      <td>7.0</td>\n      <td>50.0</td>\n    </tr>\n    <tr>\n      <th>2</th>\n      <td>30</td>\n      <td>20</td>\n      <td>35</td>\n      <td>8.5</td>\n      <td>10</td>\n      <td>26.0</td>\n      <td>4.0</td>\n    </tr>\n  </tbody>\n</table>\n</div>"
     },
     "metadata": {},
     "execution_count": 32
    }
   ],
   "source": [
    "# 평균값을 넣는 방식도 사용한다고 함\n",
    "stores.fillna( stores.mean() )"
   ]
  },
  {
   "cell_type": "code",
   "execution_count": 33,
   "metadata": {},
   "outputs": [
    {
     "output_type": "execute_result",
     "data": {
      "text/plain": [
       "   pants  bikes  watches  shirts  shoes  suits  glasses\n",
       "0     30     20       35    15.0      8   45.0      NaN\n",
       "1      5     15       10     2.0      5    7.0     50.0\n",
       "2     30     20       35     2.0     10    7.0      4.0"
      ],
      "text/html": "<div>\n<style scoped>\n    .dataframe tbody tr th:only-of-type {\n        vertical-align: middle;\n    }\n\n    .dataframe tbody tr th {\n        vertical-align: top;\n    }\n\n    .dataframe thead th {\n        text-align: right;\n    }\n</style>\n<table border=\"1\" class=\"dataframe\">\n  <thead>\n    <tr style=\"text-align: right;\">\n      <th></th>\n      <th>pants</th>\n      <th>bikes</th>\n      <th>watches</th>\n      <th>shirts</th>\n      <th>shoes</th>\n      <th>suits</th>\n      <th>glasses</th>\n    </tr>\n  </thead>\n  <tbody>\n    <tr>\n      <th>0</th>\n      <td>30</td>\n      <td>20</td>\n      <td>35</td>\n      <td>15.0</td>\n      <td>8</td>\n      <td>45.0</td>\n      <td>NaN</td>\n    </tr>\n    <tr>\n      <th>1</th>\n      <td>5</td>\n      <td>15</td>\n      <td>10</td>\n      <td>2.0</td>\n      <td>5</td>\n      <td>7.0</td>\n      <td>50.0</td>\n    </tr>\n    <tr>\n      <th>2</th>\n      <td>30</td>\n      <td>20</td>\n      <td>35</td>\n      <td>2.0</td>\n      <td>10</td>\n      <td>7.0</td>\n      <td>4.0</td>\n    </tr>\n  </tbody>\n</table>\n</div>"
     },
     "metadata": {},
     "execution_count": 33
    }
   ],
   "source": [
    "# fillna()에서 method='ffill' 또는 'bfill' 을 axis와 같이 사용할 수 있음\n",
    "# method='ffill'은 forward fill 이고 \n",
    "# 다음의 데이터로 넣어 준다 (axis=0으로 하면 위쪽 행(row)의 데이터를 넣음)\n",
    "# 다음의 데이터로 넣어 준다 (axis=1으로 하면 왼쪽 열(column)의 데이터를 넣음)\n",
    "# method='bfill'은 back fill 임\n",
    "# 방식은 위와 같고, 아래 또는 오른쪽 데이터 (전)\n",
    "# 헛깔림, 나중에 찾아서 쓰자\n",
    "\n",
    "stores.fillna(method= 'ffill', axis = 0)\n"
   ]
  },
  {
   "cell_type": "code",
   "execution_count": 34,
   "metadata": {},
   "outputs": [
    {
     "output_type": "execute_result",
     "data": {
      "text/plain": [
       "   pants  bikes  watches  shirts  shoes  suits  glasses\n",
       "0     30     20       35    15.0      8   45.0      NaN\n",
       "1      5     15       10     2.0      5    7.0     50.0\n",
       "2     30     20       35     NaN     10    NaN      4.0"
      ],
      "text/html": "<div>\n<style scoped>\n    .dataframe tbody tr th:only-of-type {\n        vertical-align: middle;\n    }\n\n    .dataframe tbody tr th {\n        vertical-align: top;\n    }\n\n    .dataframe thead th {\n        text-align: right;\n    }\n</style>\n<table border=\"1\" class=\"dataframe\">\n  <thead>\n    <tr style=\"text-align: right;\">\n      <th></th>\n      <th>pants</th>\n      <th>bikes</th>\n      <th>watches</th>\n      <th>shirts</th>\n      <th>shoes</th>\n      <th>suits</th>\n      <th>glasses</th>\n    </tr>\n  </thead>\n  <tbody>\n    <tr>\n      <th>0</th>\n      <td>30</td>\n      <td>20</td>\n      <td>35</td>\n      <td>15.0</td>\n      <td>8</td>\n      <td>45.0</td>\n      <td>NaN</td>\n    </tr>\n    <tr>\n      <th>1</th>\n      <td>5</td>\n      <td>15</td>\n      <td>10</td>\n      <td>2.0</td>\n      <td>5</td>\n      <td>7.0</td>\n      <td>50.0</td>\n    </tr>\n    <tr>\n      <th>2</th>\n      <td>30</td>\n      <td>20</td>\n      <td>35</td>\n      <td>NaN</td>\n      <td>10</td>\n      <td>NaN</td>\n      <td>4.0</td>\n    </tr>\n  </tbody>\n</table>\n</div>"
     },
     "metadata": {},
     "execution_count": 34
    }
   ],
   "source": [
    "stores"
   ]
  },
  {
   "cell_type": "code",
   "execution_count": 35,
   "metadata": {},
   "outputs": [
    {
     "output_type": "execute_result",
     "data": {
      "text/plain": [
       "   pants  bikes  watches  shirts  shoes  suits  glasses\n",
       "0   30.0   20.0     35.0    15.0    8.0   45.0     45.0\n",
       "1    5.0   15.0     10.0     2.0    5.0    7.0     50.0\n",
       "2   30.0   20.0     35.0    35.0   10.0   10.0      4.0"
      ],
      "text/html": "<div>\n<style scoped>\n    .dataframe tbody tr th:only-of-type {\n        vertical-align: middle;\n    }\n\n    .dataframe tbody tr th {\n        vertical-align: top;\n    }\n\n    .dataframe thead th {\n        text-align: right;\n    }\n</style>\n<table border=\"1\" class=\"dataframe\">\n  <thead>\n    <tr style=\"text-align: right;\">\n      <th></th>\n      <th>pants</th>\n      <th>bikes</th>\n      <th>watches</th>\n      <th>shirts</th>\n      <th>shoes</th>\n      <th>suits</th>\n      <th>glasses</th>\n    </tr>\n  </thead>\n  <tbody>\n    <tr>\n      <th>0</th>\n      <td>30.0</td>\n      <td>20.0</td>\n      <td>35.0</td>\n      <td>15.0</td>\n      <td>8.0</td>\n      <td>45.0</td>\n      <td>45.0</td>\n    </tr>\n    <tr>\n      <th>1</th>\n      <td>5.0</td>\n      <td>15.0</td>\n      <td>10.0</td>\n      <td>2.0</td>\n      <td>5.0</td>\n      <td>7.0</td>\n      <td>50.0</td>\n    </tr>\n    <tr>\n      <th>2</th>\n      <td>30.0</td>\n      <td>20.0</td>\n      <td>35.0</td>\n      <td>35.0</td>\n      <td>10.0</td>\n      <td>10.0</td>\n      <td>4.0</td>\n    </tr>\n  </tbody>\n</table>\n</div>"
     },
     "metadata": {},
     "execution_count": 35
    }
   ],
   "source": [
    "stores.fillna(method= 'ffill', axis = 1)\n",
    "# 컬럼 방식으로 변경하면 2번째 행의 shirts 컬럼이 Nan에서 10.0으로 바뀜"
   ]
  },
  {
   "cell_type": "code",
   "execution_count": 38,
   "metadata": {},
   "outputs": [
    {
     "output_type": "execute_result",
     "data": {
      "text/plain": [
       "   pants  bikes  watches  shirts  shoes  suits  glasses\n",
       "0     30     20       35    15.0      8   45.0     50.0\n",
       "1      5     15       10     2.0      5    7.0     50.0\n",
       "2     30     20       35     NaN     10    NaN      4.0"
      ],
      "text/html": "<div>\n<style scoped>\n    .dataframe tbody tr th:only-of-type {\n        vertical-align: middle;\n    }\n\n    .dataframe tbody tr th {\n        vertical-align: top;\n    }\n\n    .dataframe thead th {\n        text-align: right;\n    }\n</style>\n<table border=\"1\" class=\"dataframe\">\n  <thead>\n    <tr style=\"text-align: right;\">\n      <th></th>\n      <th>pants</th>\n      <th>bikes</th>\n      <th>watches</th>\n      <th>shirts</th>\n      <th>shoes</th>\n      <th>suits</th>\n      <th>glasses</th>\n    </tr>\n  </thead>\n  <tbody>\n    <tr>\n      <th>0</th>\n      <td>30</td>\n      <td>20</td>\n      <td>35</td>\n      <td>15.0</td>\n      <td>8</td>\n      <td>45.0</td>\n      <td>50.0</td>\n    </tr>\n    <tr>\n      <th>1</th>\n      <td>5</td>\n      <td>15</td>\n      <td>10</td>\n      <td>2.0</td>\n      <td>5</td>\n      <td>7.0</td>\n      <td>50.0</td>\n    </tr>\n    <tr>\n      <th>2</th>\n      <td>30</td>\n      <td>20</td>\n      <td>35</td>\n      <td>NaN</td>\n      <td>10</td>\n      <td>NaN</td>\n      <td>4.0</td>\n    </tr>\n  </tbody>\n</table>\n</div>"
     },
     "metadata": {},
     "execution_count": 38
    }
   ],
   "source": [
    "stores.fillna(method= 'bfill', axis = 0)"
   ]
  },
  {
   "cell_type": "code",
   "execution_count": 40,
   "metadata": {},
   "outputs": [],
   "source": [
    "Google_stock = pd.read_csv('GOOG.csv')"
   ]
  },
  {
   "cell_type": "code",
   "execution_count": 41,
   "metadata": {},
   "outputs": [
    {
     "output_type": "execute_result",
     "data": {
      "text/plain": [
       "pandas.core.frame.DataFrame"
      ]
     },
     "metadata": {},
     "execution_count": 41
    }
   ],
   "source": [
    "#type 확인 시 DataFrame을 알 수 있음\n",
    "type(Google_stock)"
   ]
  },
  {
   "cell_type": "code",
   "execution_count": 42,
   "metadata": {},
   "outputs": [
    {
     "output_type": "execute_result",
     "data": {
      "text/plain": [
       "              Open         High          Low        Close    Adj Close  \\\n",
       "count  3313.000000  3313.000000  3313.000000  3313.000000  3313.000000   \n",
       "mean    380.186092   383.493740   376.519309   380.072458   380.072458   \n",
       "std     223.818650   224.974534   222.473232   223.853780   223.853780   \n",
       "min      49.274517    50.541279    47.669952    49.681866    49.681866   \n",
       "25%     226.556473   228.394516   224.003082   226.407440   226.407440   \n",
       "50%     293.312286   295.433502   289.929291   293.029114   293.029114   \n",
       "75%     536.650024   540.000000   532.409973   536.690002   536.690002   \n",
       "max     992.000000   997.210022   989.000000   989.679993   989.679993   \n",
       "\n",
       "             Volume  \n",
       "count  3.313000e+03  \n",
       "mean   8.038476e+06  \n",
       "std    8.399521e+06  \n",
       "min    7.900000e+03  \n",
       "25%    2.584900e+06  \n",
       "50%    5.281300e+06  \n",
       "75%    1.065370e+07  \n",
       "max    8.276810e+07  "
      ],
      "text/html": "<div>\n<style scoped>\n    .dataframe tbody tr th:only-of-type {\n        vertical-align: middle;\n    }\n\n    .dataframe tbody tr th {\n        vertical-align: top;\n    }\n\n    .dataframe thead th {\n        text-align: right;\n    }\n</style>\n<table border=\"1\" class=\"dataframe\">\n  <thead>\n    <tr style=\"text-align: right;\">\n      <th></th>\n      <th>Open</th>\n      <th>High</th>\n      <th>Low</th>\n      <th>Close</th>\n      <th>Adj Close</th>\n      <th>Volume</th>\n    </tr>\n  </thead>\n  <tbody>\n    <tr>\n      <th>count</th>\n      <td>3313.000000</td>\n      <td>3313.000000</td>\n      <td>3313.000000</td>\n      <td>3313.000000</td>\n      <td>3313.000000</td>\n      <td>3.313000e+03</td>\n    </tr>\n    <tr>\n      <th>mean</th>\n      <td>380.186092</td>\n      <td>383.493740</td>\n      <td>376.519309</td>\n      <td>380.072458</td>\n      <td>380.072458</td>\n      <td>8.038476e+06</td>\n    </tr>\n    <tr>\n      <th>std</th>\n      <td>223.818650</td>\n      <td>224.974534</td>\n      <td>222.473232</td>\n      <td>223.853780</td>\n      <td>223.853780</td>\n      <td>8.399521e+06</td>\n    </tr>\n    <tr>\n      <th>min</th>\n      <td>49.274517</td>\n      <td>50.541279</td>\n      <td>47.669952</td>\n      <td>49.681866</td>\n      <td>49.681866</td>\n      <td>7.900000e+03</td>\n    </tr>\n    <tr>\n      <th>25%</th>\n      <td>226.556473</td>\n      <td>228.394516</td>\n      <td>224.003082</td>\n      <td>226.407440</td>\n      <td>226.407440</td>\n      <td>2.584900e+06</td>\n    </tr>\n    <tr>\n      <th>50%</th>\n      <td>293.312286</td>\n      <td>295.433502</td>\n      <td>289.929291</td>\n      <td>293.029114</td>\n      <td>293.029114</td>\n      <td>5.281300e+06</td>\n    </tr>\n    <tr>\n      <th>75%</th>\n      <td>536.650024</td>\n      <td>540.000000</td>\n      <td>532.409973</td>\n      <td>536.690002</td>\n      <td>536.690002</td>\n      <td>1.065370e+07</td>\n    </tr>\n    <tr>\n      <th>max</th>\n      <td>992.000000</td>\n      <td>997.210022</td>\n      <td>989.000000</td>\n      <td>989.679993</td>\n      <td>989.679993</td>\n      <td>8.276810e+07</td>\n    </tr>\n  </tbody>\n</table>\n</div>"
     },
     "metadata": {},
     "execution_count": 42
    }
   ],
   "source": [
    "# describe()\n",
    "# 숫자 데이터만 뽑아서 통계치를 알려줌\n",
    "Google_stock.describe()"
   ]
  },
  {
   "cell_type": "code",
   "execution_count": 44,
   "metadata": {},
   "outputs": [
    {
     "output_type": "execute_result",
     "data": {
      "text/plain": [
       "Open         2.933123e+02\n",
       "High         2.954335e+02\n",
       "Low          2.899293e+02\n",
       "Close        2.930291e+02\n",
       "Adj Close    2.930291e+02\n",
       "Volume       5.281300e+06\n",
       "dtype: float64"
      ]
     },
     "metadata": {},
     "execution_count": 44
    }
   ],
   "source": [
    "# 여기서 50% 값은 중앙값이라고 한다 == median \n",
    "# numpy에서 medain() 함수로 사용할 수도 있음\n",
    "Google_stock.median()"
   ]
  },
  {
   "cell_type": "code",
   "execution_count": 45,
   "metadata": {},
   "outputs": [
    {
     "output_type": "stream",
     "name": "stdout",
     "text": [
      "<class 'pandas.core.frame.DataFrame'>\nRangeIndex: 3313 entries, 0 to 3312\nData columns (total 7 columns):\n #   Column     Non-Null Count  Dtype  \n---  ------     --------------  -----  \n 0   Date       3313 non-null   object \n 1   Open       3313 non-null   float64\n 2   High       3313 non-null   float64\n 3   Low        3313 non-null   float64\n 4   Close      3313 non-null   float64\n 5   Adj Close  3313 non-null   float64\n 6   Volume     3313 non-null   int64  \ndtypes: float64(5), int64(1), object(1)\nmemory usage: 181.3+ KB\n"
     ]
    }
   ],
   "source": [
    "# DataFrame의 정보보기\n",
    "# info()\n",
    "# RangeIndex, Column, D타입 등을 알 수 있음\n",
    "Google_stock.info()"
   ]
  },
  {
   "cell_type": "code",
   "execution_count": 46,
   "metadata": {},
   "outputs": [
    {
     "output_type": "execute_result",
     "data": {
      "text/plain": [
       "Open         3.801861e+02\n",
       "High         3.834937e+02\n",
       "Low          3.765193e+02\n",
       "Close        3.800725e+02\n",
       "Adj Close    3.800725e+02\n",
       "Volume       8.038476e+06\n",
       "dtype: float64"
      ]
     },
     "metadata": {},
     "execution_count": 46
    }
   ],
   "source": [
    "#컬럼별 평균치, 표준편차\n",
    "# mean(), std()\n",
    "Google_stock.mean()\n"
   ]
  },
  {
   "cell_type": "code",
   "execution_count": 47,
   "metadata": {},
   "outputs": [
    {
     "output_type": "execute_result",
     "data": {
      "text/plain": [
       "Open         2.238187e+02\n",
       "High         2.249745e+02\n",
       "Low          2.224732e+02\n",
       "Close        2.238538e+02\n",
       "Adj Close    2.238538e+02\n",
       "Volume       8.399521e+06\n",
       "dtype: float64"
      ]
     },
     "metadata": {},
     "execution_count": 47
    }
   ],
   "source": [
    "Google_stock.std()"
   ]
  },
  {
   "cell_type": "code",
   "execution_count": 48,
   "metadata": {},
   "outputs": [],
   "source": [
    "df = pd.read_csv('fake_company.csv')"
   ]
  },
  {
   "cell_type": "code",
   "execution_count": 50,
   "metadata": {},
   "outputs": [
    {
     "output_type": "stream",
     "name": "stdout",
     "text": [
      "<class 'pandas.core.frame.DataFrame'>\nRangeIndex: 9 entries, 0 to 8\nData columns (total 5 columns):\n #   Column      Non-Null Count  Dtype \n---  ------      --------------  ----- \n 0   Year        9 non-null      int64 \n 1   Name        9 non-null      object\n 2   Department  9 non-null      object\n 3   Age         9 non-null      int64 \n 4   Salary      9 non-null      int64 \ndtypes: int64(3), object(2)\nmemory usage: 488.0+ bytes\n"
     ]
    }
   ],
   "source": [
    "df.info()"
   ]
  },
  {
   "cell_type": "code",
   "execution_count": 51,
   "metadata": {},
   "outputs": [
    {
     "output_type": "execute_result",
     "data": {
      "text/plain": [
       "array(['Alice', 'Bob', 'Charlie'], dtype=object)"
      ]
     },
     "metadata": {},
     "execution_count": 51
    }
   ],
   "source": [
    "# 위에서 타입을 보면 Name, Department 컬럼은 object 타입, 즉 문자열인것을 알 수 있음\n",
    "# 문자열 중복 사용되는 것 확인\n",
    "# unique() \n",
    "df['Name'].unique()\n"
   ]
  },
  {
   "cell_type": "code",
   "execution_count": 52,
   "metadata": {},
   "outputs": [
    {
     "output_type": "execute_result",
     "data": {
      "text/plain": [
       "   Year     Name Department  Age  Salary\n",
       "0  1990    Alice         HR   25   50000\n",
       "1  1990      Bob         RD   30   48000\n",
       "2  1990  Charlie      Admin   45   55000\n",
       "3  1991    Alice         HR   26   52000\n",
       "4  1991      Bob         RD   31   50000\n",
       "5  1991  Charlie      Admin   46   60000\n",
       "6  1992    Alice         HR   27   60000\n",
       "7  1992      Bob         RD   32   52000\n",
       "8  1992  Charlie      Admin   47   62000"
      ],
      "text/html": "<div>\n<style scoped>\n    .dataframe tbody tr th:only-of-type {\n        vertical-align: middle;\n    }\n\n    .dataframe tbody tr th {\n        vertical-align: top;\n    }\n\n    .dataframe thead th {\n        text-align: right;\n    }\n</style>\n<table border=\"1\" class=\"dataframe\">\n  <thead>\n    <tr style=\"text-align: right;\">\n      <th></th>\n      <th>Year</th>\n      <th>Name</th>\n      <th>Department</th>\n      <th>Age</th>\n      <th>Salary</th>\n    </tr>\n  </thead>\n  <tbody>\n    <tr>\n      <th>0</th>\n      <td>1990</td>\n      <td>Alice</td>\n      <td>HR</td>\n      <td>25</td>\n      <td>50000</td>\n    </tr>\n    <tr>\n      <th>1</th>\n      <td>1990</td>\n      <td>Bob</td>\n      <td>RD</td>\n      <td>30</td>\n      <td>48000</td>\n    </tr>\n    <tr>\n      <th>2</th>\n      <td>1990</td>\n      <td>Charlie</td>\n      <td>Admin</td>\n      <td>45</td>\n      <td>55000</td>\n    </tr>\n    <tr>\n      <th>3</th>\n      <td>1991</td>\n      <td>Alice</td>\n      <td>HR</td>\n      <td>26</td>\n      <td>52000</td>\n    </tr>\n    <tr>\n      <th>4</th>\n      <td>1991</td>\n      <td>Bob</td>\n      <td>RD</td>\n      <td>31</td>\n      <td>50000</td>\n    </tr>\n    <tr>\n      <th>5</th>\n      <td>1991</td>\n      <td>Charlie</td>\n      <td>Admin</td>\n      <td>46</td>\n      <td>60000</td>\n    </tr>\n    <tr>\n      <th>6</th>\n      <td>1992</td>\n      <td>Alice</td>\n      <td>HR</td>\n      <td>27</td>\n      <td>60000</td>\n    </tr>\n    <tr>\n      <th>7</th>\n      <td>1992</td>\n      <td>Bob</td>\n      <td>RD</td>\n      <td>32</td>\n      <td>52000</td>\n    </tr>\n    <tr>\n      <th>8</th>\n      <td>1992</td>\n      <td>Charlie</td>\n      <td>Admin</td>\n      <td>47</td>\n      <td>62000</td>\n    </tr>\n  </tbody>\n</table>\n</div>"
     },
     "metadata": {},
     "execution_count": 52
    }
   ],
   "source": [
    "df"
   ]
  },
  {
   "cell_type": "code",
   "execution_count": 53,
   "metadata": {},
   "outputs": [
    {
     "output_type": "execute_result",
     "data": {
      "text/plain": [
       "<pandas.core.groupby.generic.DataFrameGroupBy object at 0x0000023E12EC2EB0>"
      ]
     },
     "metadata": {},
     "execution_count": 53
    }
   ],
   "source": [
    "# groupby 로 그룹 만들기\n",
    "# 컬럼의 데이터가 같은 것끼리 묶음 (즉, unique 특징인 같은 문자열)\n",
    "df.groupby('Year')"
   ]
  },
  {
   "cell_type": "code",
   "execution_count": null,
   "metadata": {},
   "outputs": [],
   "source": [
    "# Year컬럼의 내용으로 그룹이 형성 된다\n",
    "# Year의 데이터는 1990, 1991, 1992 이 있어서 3개의 그룹화"
   ]
  },
  {
   "cell_type": "code",
   "execution_count": 55,
   "metadata": {},
   "outputs": [
    {
     "output_type": "execute_result",
     "data": {
      "text/plain": [
       "Year\n",
       "1990    51000\n",
       "1991    54000\n",
       "1992    58000\n",
       "Name: Salary, dtype: int64"
      ]
     },
     "metadata": {},
     "execution_count": 55
    }
   ],
   "source": [
    "# 여기에 그룹화 된 것에서 데이터 엑세스가 가능함\n",
    "df.groupby('Year')['Salary'].mean()"
   ]
  },
  {
   "cell_type": "code",
   "execution_count": 58,
   "metadata": {},
   "outputs": [
    {
     "output_type": "execute_result",
     "data": {
      "text/plain": [
       "Name\n",
       "Alice      54000\n",
       "Bob        50000\n",
       "Charlie    59000\n",
       "Name: Salary, dtype: int64"
      ]
     },
     "metadata": {},
     "execution_count": 58
    }
   ],
   "source": [
    "# 그룹화를 Name으로 데이터를 받아올 수 도 있다\n",
    "df.groupby('Name')['Salary'].mean()"
   ]
  },
  {
   "cell_type": "code",
   "execution_count": 59,
   "metadata": {},
   "outputs": [
    {
     "output_type": "execute_result",
     "data": {
      "text/plain": [
       "[                                                City  \\\n",
       " 0                                      Vancouver, BC   \n",
       " 1                                       Toronto, Ont   \n",
       " 2                                        Ottawa, Ont   \n",
       " 3                                       Calgary, Alb   \n",
       " 4                                      Montreal, Que   \n",
       " 5                                        Halifax, NS   \n",
       " 6                                       Regina, Sask   \n",
       " 7                                    Fredericton, NB   \n",
       " 8  (adsbygoogle = window.adsbygoogle || []).push(...   \n",
       " \n",
       "                                  Average House Price  \\\n",
       " 0                                         $1,036,000   \n",
       " 1                                           $870,000   \n",
       " 2                                           $479,000   \n",
       " 3                                           $410,000   \n",
       " 4                                           $435,000   \n",
       " 5                                           $331,000   \n",
       " 6                                           $254,000   \n",
       " 7                                           $198,000   \n",
       " 8  (adsbygoogle = window.adsbygoogle || []).push(...   \n",
       " \n",
       "                                      12 Month Change  \n",
       " 0                                           + 2.63 %  \n",
       " 1                                            +10.2 %  \n",
       " 2                                           + 15.4 %  \n",
       " 3                                            – 1.5 %  \n",
       " 4                                            + 9.3 %  \n",
       " 5                                            + 3.6 %  \n",
       " 6                                            – 3.9 %  \n",
       " 7                                            – 4.3 %  \n",
       " 8  (adsbygoogle = window.adsbygoogle || []).push(...  ,\n",
       "                                              Province  \\\n",
       " 0                                    British Columbia   \n",
       " 1                                             Ontario   \n",
       " 2                                             Alberta   \n",
       " 3                                              Quebec   \n",
       " 4                                            Manitoba   \n",
       " 5                                        Saskatchewan   \n",
       " 6                                         Nova Scotia   \n",
       " 7                                Prince Edward Island   \n",
       " 8                             Newfoundland / Labrador   \n",
       " 9                                       New Brunswick   \n",
       " 10                                   Canadian Average   \n",
       " 11  (adsbygoogle = window.adsbygoogle || []).push(...   \n",
       " \n",
       "                                   Average House Price  \\\n",
       " 0                                            $736,000   \n",
       " 1                                            $594,000   \n",
       " 2                                            $353,000   \n",
       " 3                                            $340,000   \n",
       " 4                                            $295,000   \n",
       " 5                                            $271,000   \n",
       " 6                                            $266,000   \n",
       " 7                                            $243,000   \n",
       " 8                                            $236,000   \n",
       " 9                                            $183,000   \n",
       " 10                                           $488,000   \n",
       " 11  (adsbygoogle = window.adsbygoogle || []).push(...   \n",
       " \n",
       "                                       12 Month Change  \n",
       " 0                                             + 7.6 %  \n",
       " 1                                             – 3.2 %  \n",
       " 2                                             – 7.5 %  \n",
       " 3                                             + 7.6 %  \n",
       " 4                                             – 1.4 %  \n",
       " 5                                             – 3.8 %  \n",
       " 6                                             + 3.5 %  \n",
       " 7                                             + 3.0 %  \n",
       " 8                                             – 1.6 %  \n",
       " 9                                             – 2.2 %  \n",
       " 10                                            – 1.3 %  \n",
       " 11  (adsbygoogle = window.adsbygoogle || []).push(...  ]"
      ]
     },
     "metadata": {},
     "execution_count": 59
    }
   ],
   "source": [
    "#웹페이지에서 테이블 받아오기\n",
    "# read_html()\n",
    "# args로 url을 넘겨준다\n",
    "pd.read_html('https://www.livingin-canada.com/house-prices-canada.html')"
   ]
  },
  {
   "cell_type": "code",
   "execution_count": 60,
   "metadata": {},
   "outputs": [],
   "source": [
    "df1 = pd.DataFrame({'Employee ID':[111, 222, 333, 444],\n",
    "                   'Employee Name':['Chanel', 'Steve', 'Mitch', 'Bird'],\n",
    "                   'Salary [$/h]':[35, 29, 38, 20],\n",
    "                   'Years of Experience':[3, 4 ,9, 1]})"
   ]
  },
  {
   "cell_type": "code",
   "execution_count": null,
   "metadata": {},
   "outputs": [],
   "source": [
    "# 상관계수 \n",
    "# 컬럼간의 관계를 '상관관계''\n",
    "# correlation\n"
   ]
  },
  {
   "cell_type": "code",
   "execution_count": 61,
   "metadata": {},
   "outputs": [
    {
     "output_type": "execute_result",
     "data": {
      "text/plain": [
       "            Year       Age    Salary\n",
       "Year    1.000000  0.095637  0.588811\n",
       "Age     0.095637  1.000000  0.632837\n",
       "Salary  0.588811  0.632837  1.000000"
      ],
      "text/html": "<div>\n<style scoped>\n    .dataframe tbody tr th:only-of-type {\n        vertical-align: middle;\n    }\n\n    .dataframe tbody tr th {\n        vertical-align: top;\n    }\n\n    .dataframe thead th {\n        text-align: right;\n    }\n</style>\n<table border=\"1\" class=\"dataframe\">\n  <thead>\n    <tr style=\"text-align: right;\">\n      <th></th>\n      <th>Year</th>\n      <th>Age</th>\n      <th>Salary</th>\n    </tr>\n  </thead>\n  <tbody>\n    <tr>\n      <th>Year</th>\n      <td>1.000000</td>\n      <td>0.095637</td>\n      <td>0.588811</td>\n    </tr>\n    <tr>\n      <th>Age</th>\n      <td>0.095637</td>\n      <td>1.000000</td>\n      <td>0.632837</td>\n    </tr>\n    <tr>\n      <th>Salary</th>\n      <td>0.588811</td>\n      <td>0.632837</td>\n      <td>1.000000</td>\n    </tr>\n  </tbody>\n</table>\n</div>"
     },
     "metadata": {},
     "execution_count": 61
    }
   ],
   "source": [
    "# corr()\n",
    "df.corr()"
   ]
  },
  {
   "cell_type": "code",
   "execution_count": 63,
   "metadata": {},
   "outputs": [
    {
     "output_type": "execute_result",
     "data": {
      "text/plain": [
       "   Employee ID Employee Name  Salary [$/h]  Years of Experience\n",
       "0          111        Chanel            35                    3\n",
       "1          222         Steve            29                    4\n",
       "2          333         Mitch            38                    9\n",
       "3          444          Bird            20                    1"
      ],
      "text/html": "<div>\n<style scoped>\n    .dataframe tbody tr th:only-of-type {\n        vertical-align: middle;\n    }\n\n    .dataframe tbody tr th {\n        vertical-align: top;\n    }\n\n    .dataframe thead th {\n        text-align: right;\n    }\n</style>\n<table border=\"1\" class=\"dataframe\">\n  <thead>\n    <tr style=\"text-align: right;\">\n      <th></th>\n      <th>Employee ID</th>\n      <th>Employee Name</th>\n      <th>Salary [$/h]</th>\n      <th>Years of Experience</th>\n    </tr>\n  </thead>\n  <tbody>\n    <tr>\n      <th>0</th>\n      <td>111</td>\n      <td>Chanel</td>\n      <td>35</td>\n      <td>3</td>\n    </tr>\n    <tr>\n      <th>1</th>\n      <td>222</td>\n      <td>Steve</td>\n      <td>29</td>\n      <td>4</td>\n    </tr>\n    <tr>\n      <th>2</th>\n      <td>333</td>\n      <td>Mitch</td>\n      <td>38</td>\n      <td>9</td>\n    </tr>\n    <tr>\n      <th>3</th>\n      <td>444</td>\n      <td>Bird</td>\n      <td>20</td>\n      <td>1</td>\n    </tr>\n  </tbody>\n</table>\n</div>"
     },
     "metadata": {},
     "execution_count": 63
    }
   ],
   "source": [
    "# 이용해서 함수를 넘겨줄 수 있다\n",
    "# 사용자 함수, 기존파이썬 내장 함수 다 가능\n",
    "# apply()\n",
    "\n",
    "df1"
   ]
  },
  {
   "cell_type": "code",
   "execution_count": 66,
   "metadata": {},
   "outputs": [
    {
     "output_type": "execute_result",
     "data": {
      "text/plain": [
       "0    6\n",
       "1    5\n",
       "2    5\n",
       "3    4\n",
       "Name: Employee Name, dtype: int64"
      ]
     },
     "metadata": {},
     "execution_count": 66
    }
   ],
   "source": [
    "# 예: 이름의 길이를 구해서 새로운 컬럼 만들기\n",
    "# apply()는 각 데이터에 접근해서 함수를 적용시켜주고 \n",
    "# 여기서는 len함수, 그러면 len에서 길이를 구한 결과를 리턴해주면\n",
    "# 그 값들을 표시해 준다\n",
    "# 즉 사용자 함수에서도 데이터를 받아서 비교 분석 후 결과값을 리턴만 해주게 만들면\n",
    "# apply() 메소드를 사용할 수 있음\n",
    "df1['Employee Name'].apply(len)"
   ]
  },
  {
   "cell_type": "code",
   "execution_count": 1,
   "metadata": {},
   "outputs": [],
   "source": [
    "import pandas as pd\n",
    "df = pd.DataFrame({'Employee ID':[111, 222, 333, 444], \n",
    "                   'Employee Name':['Chanel', 'Steve', 'Mitch', 'Bird'], \n",
    "                   'Salary [$/h]':[35, 29, 38, 20], \n",
    "                   'Years of Experience':[3, 4 ,9, 1]})"
   ]
  },
  {
   "cell_type": "code",
   "execution_count": 2,
   "metadata": {},
   "outputs": [
    {
     "output_type": "execute_result",
     "data": {
      "text/plain": [
       "   Employee ID Employee Name  Salary [$/h]  Years of Experience\n",
       "0          111        Chanel            35                    3\n",
       "1          222         Steve            29                    4\n",
       "2          333         Mitch            38                    9\n",
       "3          444          Bird            20                    1"
      ],
      "text/html": "<div>\n<style scoped>\n    .dataframe tbody tr th:only-of-type {\n        vertical-align: middle;\n    }\n\n    .dataframe tbody tr th {\n        vertical-align: top;\n    }\n\n    .dataframe thead th {\n        text-align: right;\n    }\n</style>\n<table border=\"1\" class=\"dataframe\">\n  <thead>\n    <tr style=\"text-align: right;\">\n      <th></th>\n      <th>Employee ID</th>\n      <th>Employee Name</th>\n      <th>Salary [$/h]</th>\n      <th>Years of Experience</th>\n    </tr>\n  </thead>\n  <tbody>\n    <tr>\n      <th>0</th>\n      <td>111</td>\n      <td>Chanel</td>\n      <td>35</td>\n      <td>3</td>\n    </tr>\n    <tr>\n      <th>1</th>\n      <td>222</td>\n      <td>Steve</td>\n      <td>29</td>\n      <td>4</td>\n    </tr>\n    <tr>\n      <th>2</th>\n      <td>333</td>\n      <td>Mitch</td>\n      <td>38</td>\n      <td>9</td>\n    </tr>\n    <tr>\n      <th>3</th>\n      <td>444</td>\n      <td>Bird</td>\n      <td>20</td>\n      <td>1</td>\n    </tr>\n  </tbody>\n</table>\n</div>"
     },
     "metadata": {},
     "execution_count": 2
    }
   ],
   "source": [
    "df"
   ]
  },
  {
   "cell_type": "code",
   "execution_count": 5,
   "metadata": {},
   "outputs": [
    {
     "output_type": "execute_result",
     "data": {
      "text/plain": [
       "   Employee ID Employee Name  Salary [$/h]  Years of Experience\n",
       "3          444          Bird            20                    1\n",
       "1          222         Steve            29                    4\n",
       "0          111        Chanel            35                    3\n",
       "2          333         Mitch            38                    9"
      ],
      "text/html": "<div>\n<style scoped>\n    .dataframe tbody tr th:only-of-type {\n        vertical-align: middle;\n    }\n\n    .dataframe tbody tr th {\n        vertical-align: top;\n    }\n\n    .dataframe thead th {\n        text-align: right;\n    }\n</style>\n<table border=\"1\" class=\"dataframe\">\n  <thead>\n    <tr style=\"text-align: right;\">\n      <th></th>\n      <th>Employee ID</th>\n      <th>Employee Name</th>\n      <th>Salary [$/h]</th>\n      <th>Years of Experience</th>\n    </tr>\n  </thead>\n  <tbody>\n    <tr>\n      <th>3</th>\n      <td>444</td>\n      <td>Bird</td>\n      <td>20</td>\n      <td>1</td>\n    </tr>\n    <tr>\n      <th>1</th>\n      <td>222</td>\n      <td>Steve</td>\n      <td>29</td>\n      <td>4</td>\n    </tr>\n    <tr>\n      <th>0</th>\n      <td>111</td>\n      <td>Chanel</td>\n      <td>35</td>\n      <td>3</td>\n    </tr>\n    <tr>\n      <th>2</th>\n      <td>333</td>\n      <td>Mitch</td>\n      <td>38</td>\n      <td>9</td>\n    </tr>\n  </tbody>\n</table>\n</div>"
     },
     "metadata": {},
     "execution_count": 5
    }
   ],
   "source": [
    "# sort_values( by=)\n",
    "# 기본 오름차순 정렬\n",
    "# 정렬 파라미터 ascending=\n",
    "df.sort_values(by= 'Salary [$/h]')"
   ]
  },
  {
   "cell_type": "code",
   "execution_count": 11,
   "metadata": {},
   "outputs": [
    {
     "output_type": "execute_result",
     "data": {
      "text/plain": [
       "   Employee ID Employee Name  Salary [$/h]  Years of Experience\n",
       "3          444          Bird            20                    1\n",
       "2          333         Mitch            38                    9\n",
       "1          222         Steve            29                    4\n",
       "0          111        Chanel            35                    3"
      ],
      "text/html": "<div>\n<style scoped>\n    .dataframe tbody tr th:only-of-type {\n        vertical-align: middle;\n    }\n\n    .dataframe tbody tr th {\n        vertical-align: top;\n    }\n\n    .dataframe thead th {\n        text-align: right;\n    }\n</style>\n<table border=\"1\" class=\"dataframe\">\n  <thead>\n    <tr style=\"text-align: right;\">\n      <th></th>\n      <th>Employee ID</th>\n      <th>Employee Name</th>\n      <th>Salary [$/h]</th>\n      <th>Years of Experience</th>\n    </tr>\n  </thead>\n  <tbody>\n    <tr>\n      <th>3</th>\n      <td>444</td>\n      <td>Bird</td>\n      <td>20</td>\n      <td>1</td>\n    </tr>\n    <tr>\n      <th>2</th>\n      <td>333</td>\n      <td>Mitch</td>\n      <td>38</td>\n      <td>9</td>\n    </tr>\n    <tr>\n      <th>1</th>\n      <td>222</td>\n      <td>Steve</td>\n      <td>29</td>\n      <td>4</td>\n    </tr>\n    <tr>\n      <th>0</th>\n      <td>111</td>\n      <td>Chanel</td>\n      <td>35</td>\n      <td>3</td>\n    </tr>\n  </tbody>\n</table>\n</div>"
     },
     "metadata": {},
     "execution_count": 11
    }
   ],
   "source": [
    "# 내림차순 정렬\n",
    "# ascending=False 로 넘겨준다\n",
    "df.sort_values(by = 'Employee ID', ascending=False)"
   ]
  },
  {
   "cell_type": "code",
   "execution_count": 12,
   "metadata": {},
   "outputs": [],
   "source": [
    "df1 = pd.DataFrame({'A': ['A0', 'A1', 'A2', 'A3'],\n",
    "                    'B': ['B0', 'B1', 'B2', 'B3'],\n",
    "                    'C': ['C0', 'C1', 'C2', 'C3'],\n",
    "                    'D': ['D0', 'D1', 'D2', 'D3']},\n",
    "index=[0, 1, 2, 3])\n",
    "df2 = pd.DataFrame({'A': ['A4', 'A5', 'A6', 'A7'],\n",
    "                    'B': ['B4', 'B5', 'B6', 'B7'],\n",
    "                    'C': ['C4', 'C5', 'C6', 'C7'],\n",
    "                    'D': ['D4', 'D5', 'D6', 'D7']},\n",
    "index=[4, 5, 6, 7]) \n",
    "df3 = pd.DataFrame({'A': ['A8', 'A9', 'A10', 'A11'],\n",
    "                    'B': ['B8', 'B9', 'B10', 'B11'],\n",
    "                    'C': ['C8', 'C9', 'C10', 'C11'],\n",
    "                    'D': ['D8', 'D9', 'D10', 'D11']},\n",
    "index=[8, 9, 10, 11])"
   ]
  },
  {
   "cell_type": "code",
   "execution_count": 13,
   "metadata": {},
   "outputs": [
    {
     "output_type": "execute_result",
     "data": {
      "text/plain": [
       "      A    B    C    D\n",
       "0    A0   B0   C0   D0\n",
       "1    A1   B1   C1   D1\n",
       "2    A2   B2   C2   D2\n",
       "3    A3   B3   C3   D3\n",
       "4    A4   B4   C4   D4\n",
       "5    A5   B5   C5   D5\n",
       "6    A6   B6   C6   D6\n",
       "7    A7   B7   C7   D7\n",
       "8    A8   B8   C8   D8\n",
       "9    A9   B9   C9   D9\n",
       "10  A10  B10  C10  D10\n",
       "11  A11  B11  C11  D11"
      ],
      "text/html": "<div>\n<style scoped>\n    .dataframe tbody tr th:only-of-type {\n        vertical-align: middle;\n    }\n\n    .dataframe tbody tr th {\n        vertical-align: top;\n    }\n\n    .dataframe thead th {\n        text-align: right;\n    }\n</style>\n<table border=\"1\" class=\"dataframe\">\n  <thead>\n    <tr style=\"text-align: right;\">\n      <th></th>\n      <th>A</th>\n      <th>B</th>\n      <th>C</th>\n      <th>D</th>\n    </tr>\n  </thead>\n  <tbody>\n    <tr>\n      <th>0</th>\n      <td>A0</td>\n      <td>B0</td>\n      <td>C0</td>\n      <td>D0</td>\n    </tr>\n    <tr>\n      <th>1</th>\n      <td>A1</td>\n      <td>B1</td>\n      <td>C1</td>\n      <td>D1</td>\n    </tr>\n    <tr>\n      <th>2</th>\n      <td>A2</td>\n      <td>B2</td>\n      <td>C2</td>\n      <td>D2</td>\n    </tr>\n    <tr>\n      <th>3</th>\n      <td>A3</td>\n      <td>B3</td>\n      <td>C3</td>\n      <td>D3</td>\n    </tr>\n    <tr>\n      <th>4</th>\n      <td>A4</td>\n      <td>B4</td>\n      <td>C4</td>\n      <td>D4</td>\n    </tr>\n    <tr>\n      <th>5</th>\n      <td>A5</td>\n      <td>B5</td>\n      <td>C5</td>\n      <td>D5</td>\n    </tr>\n    <tr>\n      <th>6</th>\n      <td>A6</td>\n      <td>B6</td>\n      <td>C6</td>\n      <td>D6</td>\n    </tr>\n    <tr>\n      <th>7</th>\n      <td>A7</td>\n      <td>B7</td>\n      <td>C7</td>\n      <td>D7</td>\n    </tr>\n    <tr>\n      <th>8</th>\n      <td>A8</td>\n      <td>B8</td>\n      <td>C8</td>\n      <td>D8</td>\n    </tr>\n    <tr>\n      <th>9</th>\n      <td>A9</td>\n      <td>B9</td>\n      <td>C9</td>\n      <td>D9</td>\n    </tr>\n    <tr>\n      <th>10</th>\n      <td>A10</td>\n      <td>B10</td>\n      <td>C10</td>\n      <td>D10</td>\n    </tr>\n    <tr>\n      <th>11</th>\n      <td>A11</td>\n      <td>B11</td>\n      <td>C11</td>\n      <td>D11</td>\n    </tr>\n  </tbody>\n</table>\n</div>"
     },
     "metadata": {},
     "execution_count": 13
    }
   ],
   "source": [
    "# 컬럼이름이 동일한 경우에 하나로 합치기\n",
    "# concat()\n",
    "# 여러개일 경우에는 리스트화 해서 넘김\n",
    "pd.concat( [df1, df2, df3])"
   ]
  },
  {
   "cell_type": "code",
   "execution_count": 17,
   "metadata": {},
   "outputs": [
    {
     "output_type": "execute_result",
     "data": {
      "text/plain": [
       "    index    A    B    C    D\n",
       "0       8   A8   B8   C8   D8\n",
       "1       9   A9   B9   C9   D9\n",
       "2      10  A10  B10  C10  D10\n",
       "3      11  A11  B11  C11  D11\n",
       "4       4   A4   B4   C4   D4\n",
       "5       5   A5   B5   C5   D5\n",
       "6       6   A6   B6   C6   D6\n",
       "7       7   A7   B7   C7   D7\n",
       "8       0   A0   B0   C0   D0\n",
       "9       1   A1   B1   C1   D1\n",
       "10      2   A2   B2   C2   D2\n",
       "11      3   A3   B3   C3   D3"
      ],
      "text/html": "<div>\n<style scoped>\n    .dataframe tbody tr th:only-of-type {\n        vertical-align: middle;\n    }\n\n    .dataframe tbody tr th {\n        vertical-align: top;\n    }\n\n    .dataframe thead th {\n        text-align: right;\n    }\n</style>\n<table border=\"1\" class=\"dataframe\">\n  <thead>\n    <tr style=\"text-align: right;\">\n      <th></th>\n      <th>index</th>\n      <th>A</th>\n      <th>B</th>\n      <th>C</th>\n      <th>D</th>\n    </tr>\n  </thead>\n  <tbody>\n    <tr>\n      <th>0</th>\n      <td>8</td>\n      <td>A8</td>\n      <td>B8</td>\n      <td>C8</td>\n      <td>D8</td>\n    </tr>\n    <tr>\n      <th>1</th>\n      <td>9</td>\n      <td>A9</td>\n      <td>B9</td>\n      <td>C9</td>\n      <td>D9</td>\n    </tr>\n    <tr>\n      <th>2</th>\n      <td>10</td>\n      <td>A10</td>\n      <td>B10</td>\n      <td>C10</td>\n      <td>D10</td>\n    </tr>\n    <tr>\n      <th>3</th>\n      <td>11</td>\n      <td>A11</td>\n      <td>B11</td>\n      <td>C11</td>\n      <td>D11</td>\n    </tr>\n    <tr>\n      <th>4</th>\n      <td>4</td>\n      <td>A4</td>\n      <td>B4</td>\n      <td>C4</td>\n      <td>D4</td>\n    </tr>\n    <tr>\n      <th>5</th>\n      <td>5</td>\n      <td>A5</td>\n      <td>B5</td>\n      <td>C5</td>\n      <td>D5</td>\n    </tr>\n    <tr>\n      <th>6</th>\n      <td>6</td>\n      <td>A6</td>\n      <td>B6</td>\n      <td>C6</td>\n      <td>D6</td>\n    </tr>\n    <tr>\n      <th>7</th>\n      <td>7</td>\n      <td>A7</td>\n      <td>B7</td>\n      <td>C7</td>\n      <td>D7</td>\n    </tr>\n    <tr>\n      <th>8</th>\n      <td>0</td>\n      <td>A0</td>\n      <td>B0</td>\n      <td>C0</td>\n      <td>D0</td>\n    </tr>\n    <tr>\n      <th>9</th>\n      <td>1</td>\n      <td>A1</td>\n      <td>B1</td>\n      <td>C1</td>\n      <td>D1</td>\n    </tr>\n    <tr>\n      <th>10</th>\n      <td>2</td>\n      <td>A2</td>\n      <td>B2</td>\n      <td>C2</td>\n      <td>D2</td>\n    </tr>\n    <tr>\n      <th>11</th>\n      <td>3</td>\n      <td>A3</td>\n      <td>B3</td>\n      <td>C3</td>\n      <td>D3</td>\n    </tr>\n  </tbody>\n</table>\n</div>"
     },
     "metadata": {},
     "execution_count": 17
    }
   ],
   "source": [
    "# 인덱스 재정렬을 reset_index()\n",
    "# reset_index()\n",
    "pd.concat( [df3, df2, df1 ] ).reset_index()"
   ]
  },
  {
   "cell_type": "code",
   "execution_count": 19,
   "metadata": {},
   "outputs": [
    {
     "output_type": "execute_result",
     "data": {
      "text/plain": [
       "      A    B    C    D\n",
       "0    A8   B8   C8   D8\n",
       "1    A9   B9   C9   D9\n",
       "2   A10  B10  C10  D10\n",
       "3   A11  B11  C11  D11\n",
       "4    A4   B4   C4   D4\n",
       "5    A5   B5   C5   D5\n",
       "6    A6   B6   C6   D6\n",
       "7    A7   B7   C7   D7\n",
       "8    A0   B0   C0   D0\n",
       "9    A1   B1   C1   D1\n",
       "10   A2   B2   C2   D2\n",
       "11   A3   B3   C3   D3"
      ],
      "text/html": "<div>\n<style scoped>\n    .dataframe tbody tr th:only-of-type {\n        vertical-align: middle;\n    }\n\n    .dataframe tbody tr th {\n        vertical-align: top;\n    }\n\n    .dataframe thead th {\n        text-align: right;\n    }\n</style>\n<table border=\"1\" class=\"dataframe\">\n  <thead>\n    <tr style=\"text-align: right;\">\n      <th></th>\n      <th>A</th>\n      <th>B</th>\n      <th>C</th>\n      <th>D</th>\n    </tr>\n  </thead>\n  <tbody>\n    <tr>\n      <th>0</th>\n      <td>A8</td>\n      <td>B8</td>\n      <td>C8</td>\n      <td>D8</td>\n    </tr>\n    <tr>\n      <th>1</th>\n      <td>A9</td>\n      <td>B9</td>\n      <td>C9</td>\n      <td>D9</td>\n    </tr>\n    <tr>\n      <th>2</th>\n      <td>A10</td>\n      <td>B10</td>\n      <td>C10</td>\n      <td>D10</td>\n    </tr>\n    <tr>\n      <th>3</th>\n      <td>A11</td>\n      <td>B11</td>\n      <td>C11</td>\n      <td>D11</td>\n    </tr>\n    <tr>\n      <th>4</th>\n      <td>A4</td>\n      <td>B4</td>\n      <td>C4</td>\n      <td>D4</td>\n    </tr>\n    <tr>\n      <th>5</th>\n      <td>A5</td>\n      <td>B5</td>\n      <td>C5</td>\n      <td>D5</td>\n    </tr>\n    <tr>\n      <th>6</th>\n      <td>A6</td>\n      <td>B6</td>\n      <td>C6</td>\n      <td>D6</td>\n    </tr>\n    <tr>\n      <th>7</th>\n      <td>A7</td>\n      <td>B7</td>\n      <td>C7</td>\n      <td>D7</td>\n    </tr>\n    <tr>\n      <th>8</th>\n      <td>A0</td>\n      <td>B0</td>\n      <td>C0</td>\n      <td>D0</td>\n    </tr>\n    <tr>\n      <th>9</th>\n      <td>A1</td>\n      <td>B1</td>\n      <td>C1</td>\n      <td>D1</td>\n    </tr>\n    <tr>\n      <th>10</th>\n      <td>A2</td>\n      <td>B2</td>\n      <td>C2</td>\n      <td>D2</td>\n    </tr>\n    <tr>\n      <th>11</th>\n      <td>A3</td>\n      <td>B3</td>\n      <td>C3</td>\n      <td>D3</td>\n    </tr>\n  </tbody>\n</table>\n</div>"
     },
     "metadata": {},
     "execution_count": 19
    }
   ],
   "source": [
    "pd.concat( [df3, df2, df1 ] ).reset_index().drop('index', axis=1)"
   ]
  },
  {
   "cell_type": "code",
   "execution_count": null,
   "metadata": {},
   "outputs": [],
   "source": [
    "# merge() 메소드\n",
    "# db의 join과 비슷 \n",
    "# merge() 복습 차례\n"
   ]
  }
 ]
}