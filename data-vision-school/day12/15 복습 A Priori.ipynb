{
 "cells": [
  {
   "cell_type": "markdown",
   "metadata": {},
   "source": [
    "리눅스 터미널에  \n",
    "`pip install apyori`\n",
    "설치"
   ]
  },
  {
   "cell_type": "code",
   "execution_count": 5,
   "metadata": {},
   "outputs": [],
   "source": [
    "import numpy as np \n",
    "import pandas as pd"
   ]
  },
  {
   "cell_type": "code",
   "execution_count": 7,
   "metadata": {},
   "outputs": [
    {
     "data": {
      "text/html": "<div>\n<style scoped>\n    .dataframe tbody tr th:only-of-type {\n        vertical-align: middle;\n    }\n\n    .dataframe tbody tr th {\n        vertical-align: top;\n    }\n\n    .dataframe thead th {\n        text-align: right;\n    }\n</style>\n<table border=\"1\" class=\"dataframe\">\n  <thead>\n    <tr style=\"text-align: right;\">\n      <th></th>\n      <th>shrimp</th>\n      <th>almonds</th>\n      <th>avocado</th>\n      <th>vegetables mix</th>\n      <th>green grapes</th>\n      <th>whole weat flour</th>\n      <th>yams</th>\n      <th>cottage cheese</th>\n      <th>energy drink</th>\n      <th>tomato juice</th>\n      <th>low fat yogurt</th>\n      <th>green tea</th>\n      <th>honey</th>\n      <th>salad</th>\n      <th>mineral water</th>\n      <th>salmon</th>\n      <th>antioxydant juice</th>\n      <th>frozen smoothie</th>\n      <th>spinach</th>\n      <th>olive oil</th>\n    </tr>\n  </thead>\n  <tbody>\n    <tr>\n      <th>0</th>\n      <td>burgers</td>\n      <td>meatballs</td>\n      <td>eggs</td>\n      <td>NaN</td>\n      <td>NaN</td>\n      <td>NaN</td>\n      <td>NaN</td>\n      <td>NaN</td>\n      <td>NaN</td>\n      <td>NaN</td>\n      <td>NaN</td>\n      <td>NaN</td>\n      <td>NaN</td>\n      <td>NaN</td>\n      <td>NaN</td>\n      <td>NaN</td>\n      <td>NaN</td>\n      <td>NaN</td>\n      <td>NaN</td>\n      <td>NaN</td>\n    </tr>\n    <tr>\n      <th>1</th>\n      <td>chutney</td>\n      <td>NaN</td>\n      <td>NaN</td>\n      <td>NaN</td>\n      <td>NaN</td>\n      <td>NaN</td>\n      <td>NaN</td>\n      <td>NaN</td>\n      <td>NaN</td>\n      <td>NaN</td>\n      <td>NaN</td>\n      <td>NaN</td>\n      <td>NaN</td>\n      <td>NaN</td>\n      <td>NaN</td>\n      <td>NaN</td>\n      <td>NaN</td>\n      <td>NaN</td>\n      <td>NaN</td>\n      <td>NaN</td>\n    </tr>\n    <tr>\n      <th>2</th>\n      <td>turkey</td>\n      <td>avocado</td>\n      <td>NaN</td>\n      <td>NaN</td>\n      <td>NaN</td>\n      <td>NaN</td>\n      <td>NaN</td>\n      <td>NaN</td>\n      <td>NaN</td>\n      <td>NaN</td>\n      <td>NaN</td>\n      <td>NaN</td>\n      <td>NaN</td>\n      <td>NaN</td>\n      <td>NaN</td>\n      <td>NaN</td>\n      <td>NaN</td>\n      <td>NaN</td>\n      <td>NaN</td>\n      <td>NaN</td>\n    </tr>\n    <tr>\n      <th>3</th>\n      <td>mineral water</td>\n      <td>milk</td>\n      <td>energy bar</td>\n      <td>whole wheat rice</td>\n      <td>green tea</td>\n      <td>NaN</td>\n      <td>NaN</td>\n      <td>NaN</td>\n      <td>NaN</td>\n      <td>NaN</td>\n      <td>NaN</td>\n      <td>NaN</td>\n      <td>NaN</td>\n      <td>NaN</td>\n      <td>NaN</td>\n      <td>NaN</td>\n      <td>NaN</td>\n      <td>NaN</td>\n      <td>NaN</td>\n      <td>NaN</td>\n    </tr>\n    <tr>\n      <th>4</th>\n      <td>low fat yogurt</td>\n      <td>NaN</td>\n      <td>NaN</td>\n      <td>NaN</td>\n      <td>NaN</td>\n      <td>NaN</td>\n      <td>NaN</td>\n      <td>NaN</td>\n      <td>NaN</td>\n      <td>NaN</td>\n      <td>NaN</td>\n      <td>NaN</td>\n      <td>NaN</td>\n      <td>NaN</td>\n      <td>NaN</td>\n      <td>NaN</td>\n      <td>NaN</td>\n      <td>NaN</td>\n      <td>NaN</td>\n      <td>NaN</td>\n    </tr>\n    <tr>\n      <th>...</th>\n      <td>...</td>\n      <td>...</td>\n      <td>...</td>\n      <td>...</td>\n      <td>...</td>\n      <td>...</td>\n      <td>...</td>\n      <td>...</td>\n      <td>...</td>\n      <td>...</td>\n      <td>...</td>\n      <td>...</td>\n      <td>...</td>\n      <td>...</td>\n      <td>...</td>\n      <td>...</td>\n      <td>...</td>\n      <td>...</td>\n      <td>...</td>\n      <td>...</td>\n    </tr>\n    <tr>\n      <th>7495</th>\n      <td>butter</td>\n      <td>light mayo</td>\n      <td>fresh bread</td>\n      <td>NaN</td>\n      <td>NaN</td>\n      <td>NaN</td>\n      <td>NaN</td>\n      <td>NaN</td>\n      <td>NaN</td>\n      <td>NaN</td>\n      <td>NaN</td>\n      <td>NaN</td>\n      <td>NaN</td>\n      <td>NaN</td>\n      <td>NaN</td>\n      <td>NaN</td>\n      <td>NaN</td>\n      <td>NaN</td>\n      <td>NaN</td>\n      <td>NaN</td>\n    </tr>\n    <tr>\n      <th>7496</th>\n      <td>burgers</td>\n      <td>frozen vegetables</td>\n      <td>eggs</td>\n      <td>french fries</td>\n      <td>magazines</td>\n      <td>green tea</td>\n      <td>NaN</td>\n      <td>NaN</td>\n      <td>NaN</td>\n      <td>NaN</td>\n      <td>NaN</td>\n      <td>NaN</td>\n      <td>NaN</td>\n      <td>NaN</td>\n      <td>NaN</td>\n      <td>NaN</td>\n      <td>NaN</td>\n      <td>NaN</td>\n      <td>NaN</td>\n      <td>NaN</td>\n    </tr>\n    <tr>\n      <th>7497</th>\n      <td>chicken</td>\n      <td>NaN</td>\n      <td>NaN</td>\n      <td>NaN</td>\n      <td>NaN</td>\n      <td>NaN</td>\n      <td>NaN</td>\n      <td>NaN</td>\n      <td>NaN</td>\n      <td>NaN</td>\n      <td>NaN</td>\n      <td>NaN</td>\n      <td>NaN</td>\n      <td>NaN</td>\n      <td>NaN</td>\n      <td>NaN</td>\n      <td>NaN</td>\n      <td>NaN</td>\n      <td>NaN</td>\n      <td>NaN</td>\n    </tr>\n    <tr>\n      <th>7498</th>\n      <td>escalope</td>\n      <td>green tea</td>\n      <td>NaN</td>\n      <td>NaN</td>\n      <td>NaN</td>\n      <td>NaN</td>\n      <td>NaN</td>\n      <td>NaN</td>\n      <td>NaN</td>\n      <td>NaN</td>\n      <td>NaN</td>\n      <td>NaN</td>\n      <td>NaN</td>\n      <td>NaN</td>\n      <td>NaN</td>\n      <td>NaN</td>\n      <td>NaN</td>\n      <td>NaN</td>\n      <td>NaN</td>\n      <td>NaN</td>\n    </tr>\n    <tr>\n      <th>7499</th>\n      <td>eggs</td>\n      <td>frozen smoothie</td>\n      <td>yogurt cake</td>\n      <td>low fat yogurt</td>\n      <td>NaN</td>\n      <td>NaN</td>\n      <td>NaN</td>\n      <td>NaN</td>\n      <td>NaN</td>\n      <td>NaN</td>\n      <td>NaN</td>\n      <td>NaN</td>\n      <td>NaN</td>\n      <td>NaN</td>\n      <td>NaN</td>\n      <td>NaN</td>\n      <td>NaN</td>\n      <td>NaN</td>\n      <td>NaN</td>\n      <td>NaN</td>\n    </tr>\n  </tbody>\n</table>\n<p>7500 rows × 20 columns</p>\n</div>",
      "text/plain": "              shrimp            almonds      avocado    vegetables mix  \\\n0            burgers          meatballs         eggs               NaN   \n1            chutney                NaN          NaN               NaN   \n2             turkey            avocado          NaN               NaN   \n3      mineral water               milk   energy bar  whole wheat rice   \n4     low fat yogurt                NaN          NaN               NaN   \n...              ...                ...          ...               ...   \n7495          butter         light mayo  fresh bread               NaN   \n7496         burgers  frozen vegetables         eggs      french fries   \n7497         chicken                NaN          NaN               NaN   \n7498        escalope          green tea          NaN               NaN   \n7499            eggs    frozen smoothie  yogurt cake    low fat yogurt   \n\n     green grapes whole weat flour yams cottage cheese energy drink  \\\n0             NaN              NaN  NaN            NaN          NaN   \n1             NaN              NaN  NaN            NaN          NaN   \n2             NaN              NaN  NaN            NaN          NaN   \n3       green tea              NaN  NaN            NaN          NaN   \n4             NaN              NaN  NaN            NaN          NaN   \n...           ...              ...  ...            ...          ...   \n7495          NaN              NaN  NaN            NaN          NaN   \n7496    magazines        green tea  NaN            NaN          NaN   \n7497          NaN              NaN  NaN            NaN          NaN   \n7498          NaN              NaN  NaN            NaN          NaN   \n7499          NaN              NaN  NaN            NaN          NaN   \n\n     tomato juice low fat yogurt green tea honey salad mineral water salmon  \\\n0             NaN            NaN       NaN   NaN   NaN           NaN    NaN   \n1             NaN            NaN       NaN   NaN   NaN           NaN    NaN   \n2             NaN            NaN       NaN   NaN   NaN           NaN    NaN   \n3             NaN            NaN       NaN   NaN   NaN           NaN    NaN   \n4             NaN            NaN       NaN   NaN   NaN           NaN    NaN   \n...           ...            ...       ...   ...   ...           ...    ...   \n7495          NaN            NaN       NaN   NaN   NaN           NaN    NaN   \n7496          NaN            NaN       NaN   NaN   NaN           NaN    NaN   \n7497          NaN            NaN       NaN   NaN   NaN           NaN    NaN   \n7498          NaN            NaN       NaN   NaN   NaN           NaN    NaN   \n7499          NaN            NaN       NaN   NaN   NaN           NaN    NaN   \n\n     antioxydant juice frozen smoothie spinach  olive oil  \n0                  NaN             NaN     NaN        NaN  \n1                  NaN             NaN     NaN        NaN  \n2                  NaN             NaN     NaN        NaN  \n3                  NaN             NaN     NaN        NaN  \n4                  NaN             NaN     NaN        NaN  \n...                ...             ...     ...        ...  \n7495               NaN             NaN     NaN        NaN  \n7496               NaN             NaN     NaN        NaN  \n7497               NaN             NaN     NaN        NaN  \n7498               NaN             NaN     NaN        NaN  \n7499               NaN             NaN     NaN        NaN  \n\n[7500 rows x 20 columns]"
     },
     "execution_count": 7,
     "metadata": {},
     "output_type": "execute_result"
    }
   ],
   "source": [
    "# csv파일 가져오기\n",
    "pd.read_csv('Market_Basket_Optimisation.csv')"
   ]
  },
  {
   "cell_type": "code",
   "execution_count": null,
   "metadata": {},
   "outputs": [],
   "source": [
    "# 위처럼 컬럼명 처럼보이나 실제로는 유저가 장바구니에 담은 데이터베이스\n",
    "# 그래서 a priori 알고리즘 적용시키리면 header=None 파라미터를 넘겨야한다\n",
    "# 컬럼명을 0,1,2, ... 기본으로 맞춰줌"
   ]
  },
  {
   "cell_type": "code",
   "execution_count": 10,
   "metadata": {},
   "outputs": [],
   "source": [
    "df = pd.read_csv('Market_Basket_Optimisation.csv', header=None)"
   ]
  },
  {
   "cell_type": "code",
   "execution_count": 12,
   "metadata": {},
   "outputs": [],
   "source": [
    "# NaN데이터를 지우지 않고 문자열 'nan'으로 바꿔준다\n",
    "df.fillna('nan', inplace=True)"
   ]
  },
  {
   "cell_type": "code",
   "execution_count": 14,
   "metadata": {},
   "outputs": [
    {
     "data": {
      "text/html": "<div>\n<style scoped>\n    .dataframe tbody tr th:only-of-type {\n        vertical-align: middle;\n    }\n\n    .dataframe tbody tr th {\n        vertical-align: top;\n    }\n\n    .dataframe thead th {\n        text-align: right;\n    }\n</style>\n<table border=\"1\" class=\"dataframe\">\n  <thead>\n    <tr style=\"text-align: right;\">\n      <th></th>\n      <th>0</th>\n      <th>1</th>\n      <th>2</th>\n      <th>3</th>\n      <th>4</th>\n      <th>5</th>\n      <th>6</th>\n      <th>7</th>\n      <th>8</th>\n      <th>9</th>\n      <th>10</th>\n      <th>11</th>\n      <th>12</th>\n      <th>13</th>\n      <th>14</th>\n      <th>15</th>\n      <th>16</th>\n      <th>17</th>\n      <th>18</th>\n      <th>19</th>\n    </tr>\n  </thead>\n  <tbody>\n    <tr>\n      <th>0</th>\n      <td>shrimp</td>\n      <td>almonds</td>\n      <td>avocado</td>\n      <td>vegetables mix</td>\n      <td>green grapes</td>\n      <td>whole weat flour</td>\n      <td>yams</td>\n      <td>cottage cheese</td>\n      <td>energy drink</td>\n      <td>tomato juice</td>\n      <td>low fat yogurt</td>\n      <td>green tea</td>\n      <td>honey</td>\n      <td>salad</td>\n      <td>mineral water</td>\n      <td>salmon</td>\n      <td>antioxydant juice</td>\n      <td>frozen smoothie</td>\n      <td>spinach</td>\n      <td>olive oil</td>\n    </tr>\n    <tr>\n      <th>1</th>\n      <td>burgers</td>\n      <td>meatballs</td>\n      <td>eggs</td>\n      <td>nan</td>\n      <td>nan</td>\n      <td>nan</td>\n      <td>nan</td>\n      <td>nan</td>\n      <td>nan</td>\n      <td>nan</td>\n      <td>nan</td>\n      <td>nan</td>\n      <td>nan</td>\n      <td>nan</td>\n      <td>nan</td>\n      <td>nan</td>\n      <td>nan</td>\n      <td>nan</td>\n      <td>nan</td>\n      <td>nan</td>\n    </tr>\n    <tr>\n      <th>2</th>\n      <td>chutney</td>\n      <td>nan</td>\n      <td>nan</td>\n      <td>nan</td>\n      <td>nan</td>\n      <td>nan</td>\n      <td>nan</td>\n      <td>nan</td>\n      <td>nan</td>\n      <td>nan</td>\n      <td>nan</td>\n      <td>nan</td>\n      <td>nan</td>\n      <td>nan</td>\n      <td>nan</td>\n      <td>nan</td>\n      <td>nan</td>\n      <td>nan</td>\n      <td>nan</td>\n      <td>nan</td>\n    </tr>\n    <tr>\n      <th>3</th>\n      <td>turkey</td>\n      <td>avocado</td>\n      <td>nan</td>\n      <td>nan</td>\n      <td>nan</td>\n      <td>nan</td>\n      <td>nan</td>\n      <td>nan</td>\n      <td>nan</td>\n      <td>nan</td>\n      <td>nan</td>\n      <td>nan</td>\n      <td>nan</td>\n      <td>nan</td>\n      <td>nan</td>\n      <td>nan</td>\n      <td>nan</td>\n      <td>nan</td>\n      <td>nan</td>\n      <td>nan</td>\n    </tr>\n    <tr>\n      <th>4</th>\n      <td>mineral water</td>\n      <td>milk</td>\n      <td>energy bar</td>\n      <td>whole wheat rice</td>\n      <td>green tea</td>\n      <td>nan</td>\n      <td>nan</td>\n      <td>nan</td>\n      <td>nan</td>\n      <td>nan</td>\n      <td>nan</td>\n      <td>nan</td>\n      <td>nan</td>\n      <td>nan</td>\n      <td>nan</td>\n      <td>nan</td>\n      <td>nan</td>\n      <td>nan</td>\n      <td>nan</td>\n      <td>nan</td>\n    </tr>\n  </tbody>\n</table>\n</div>",
      "text/plain": "              0          1           2                 3             4   \\\n0         shrimp    almonds     avocado    vegetables mix  green grapes   \n1        burgers  meatballs        eggs               nan           nan   \n2        chutney        nan         nan               nan           nan   \n3         turkey    avocado         nan               nan           nan   \n4  mineral water       milk  energy bar  whole wheat rice     green tea   \n\n                 5     6               7             8             9   \\\n0  whole weat flour  yams  cottage cheese  energy drink  tomato juice   \n1               nan   nan             nan           nan           nan   \n2               nan   nan             nan           nan           nan   \n3               nan   nan             nan           nan           nan   \n4               nan   nan             nan           nan           nan   \n\n               10         11     12     13             14      15  \\\n0  low fat yogurt  green tea  honey  salad  mineral water  salmon   \n1             nan        nan    nan    nan            nan     nan   \n2             nan        nan    nan    nan            nan     nan   \n3             nan        nan    nan    nan            nan     nan   \n4             nan        nan    nan    nan            nan     nan   \n\n                  16               17       18         19  \n0  antioxydant juice  frozen smoothie  spinach  olive oil  \n1                nan              nan      nan        nan  \n2                nan              nan      nan        nan  \n3                nan              nan      nan        nan  \n4                nan              nan      nan        nan  "
     },
     "execution_count": 14,
     "metadata": {},
     "output_type": "execute_result"
    }
   ],
   "source": [
    "df.head()"
   ]
  },
  {
   "cell_type": "code",
   "execution_count": null,
   "metadata": {},
   "outputs": [],
   "source": []
  },
  {
   "cell_type": "markdown",
   "metadata": {},
   "source": [
    "apriori 모듈 불러오기"
   ]
  },
  {
   "cell_type": "code",
   "execution_count": 15,
   "metadata": {},
   "outputs": [],
   "source": [
    "from apyori import apriori"
   ]
  },
  {
   "cell_type": "code",
   "execution_count": null,
   "metadata": {},
   "outputs": [],
   "source": [
    "# apriori()를 만들 때의 파라미터들\n",
    "# transactions =df.values ---> data프레임의 numpy array를 넣어줘야함\n",
    "\n",
    "# min_support는 예를 들어 햄버거와 프렌치 프라이가 같이 있을 경우\n",
    "# min_support = 0.002 ---> 1000개중에 2개  \n",
    "# min_lift = 3 ----> 3이상인 것을 찾음 (1 이면 관련이 없는 것)"
   ]
  },
  {
   "cell_type": "code",
   "execution_count": 16,
   "metadata": {},
   "outputs": [
    {
     "data": {
      "text/plain": "<generator object apriori at 0x7fbf0ff32270>"
     },
     "execution_count": 16,
     "metadata": {},
     "output_type": "execute_result"
    }
   ],
   "source": [
    "apriori( transactions=df.values, min_support= 0.002, min_confidence= 0.3, min_lift = 3, min_length= 2, max_lengh= 2)"
   ]
  },
  {
   "cell_type": "code",
   "execution_count": 17,
   "metadata": {},
   "outputs": [],
   "source": [
    "rules = apriori( transactions=df.values, min_support= 0.002, min_confidence= 0.3, min_lift = 3, min_length= 2, max_lengh= 2)"
   ]
  },
  {
   "cell_type": "code",
   "execution_count": 18,
   "metadata": {},
   "outputs": [],
   "source": [
    "# 리스트화 해주기\n",
    "result = list(rules)"
   ]
  },
  {
   "cell_type": "code",
   "execution_count": 20,
   "metadata": {},
   "outputs": [
    {
     "data": {
      "text/plain": "list"
     },
     "execution_count": 20,
     "metadata": {},
     "output_type": "execute_result"
    }
   ],
   "source": [
    "# 위의 result변수는 리스트로 되어 있음\n",
    "# Pandas DataFrame으로 만들기\n"
   ]
  },
  {
   "cell_type": "code",
   "execution_count": 22,
   "metadata": {},
   "outputs": [],
   "source": [
    "def inspect(results):\n",
    "    lhs         = [tuple(result[2][0][0])[0] for result in results]\n",
    "    rhs         = [tuple(result[2][0][1])[0] for result in results]\n",
    "    supports    = [result[1] for result in results]\n",
    "    confidences = [result[2][0][2] for result in results]\n",
    "    lifts       = [result[2][0][3] for result in results]\n",
    "    return list(zip(lhs, rhs, supports, confidences, lifts))\n",
    "\n",
    "# 이 함수는 가져다 사용하면 됨"
   ]
  },
  {
   "cell_type": "code",
   "execution_count": null,
   "metadata": {},
   "outputs": [],
   "source": [
    "# 위 함수 호출해서 DataFrame만들기"
   ]
  },
  {
   "cell_type": "code",
   "execution_count": 24,
   "metadata": {},
   "outputs": [],
   "source": [
    "# 컬러명은 priori에서 정해져 놓은 명칭\n",
    "df_result = pd.DataFrame(data= inspect(result), columns= ['Left Hand Side', 'Right Hand Side', 'Support', 'Confidence', 'Lift' ] )"
   ]
  },
  {
   "cell_type": "code",
   "execution_count": 25,
   "metadata": {},
   "outputs": [
    {
     "data": {
      "text/html": "<div>\n<style scoped>\n    .dataframe tbody tr th:only-of-type {\n        vertical-align: middle;\n    }\n\n    .dataframe tbody tr th {\n        vertical-align: top;\n    }\n\n    .dataframe thead th {\n        text-align: right;\n    }\n</style>\n<table border=\"1\" class=\"dataframe\">\n  <thead>\n    <tr style=\"text-align: right;\">\n      <th></th>\n      <th>Left Hand Side</th>\n      <th>Right Hand Side</th>\n      <th>Support</th>\n      <th>Confidence</th>\n      <th>Lift</th>\n    </tr>\n  </thead>\n  <tbody>\n    <tr>\n      <th>0</th>\n      <td>mushroom cream sauce</td>\n      <td>escalope</td>\n      <td>0.005733</td>\n      <td>0.300699</td>\n      <td>3.790833</td>\n    </tr>\n    <tr>\n      <th>1</th>\n      <td>pasta</td>\n      <td>escalope</td>\n      <td>0.005866</td>\n      <td>0.372881</td>\n      <td>4.700812</td>\n    </tr>\n    <tr>\n      <th>2</th>\n      <td>gluten free bar</td>\n      <td>pancakes</td>\n      <td>0.002133</td>\n      <td>0.307692</td>\n      <td>3.237027</td>\n    </tr>\n    <tr>\n      <th>3</th>\n      <td>herb &amp; pepper</td>\n      <td>ground beef</td>\n      <td>0.015998</td>\n      <td>0.323450</td>\n      <td>3.291994</td>\n    </tr>\n    <tr>\n      <th>4</th>\n      <td>tomato sauce</td>\n      <td>ground beef</td>\n      <td>0.005333</td>\n      <td>0.377358</td>\n      <td>3.840659</td>\n    </tr>\n    <tr>\n      <th>...</th>\n      <td>...</td>\n      <td>...</td>\n      <td>...</td>\n      <td>...</td>\n      <td>...</td>\n    </tr>\n    <tr>\n      <th>289</th>\n      <td>mineral water</td>\n      <td>milk</td>\n      <td>0.002266</td>\n      <td>0.435897</td>\n      <td>3.363855</td>\n    </tr>\n    <tr>\n      <th>290</th>\n      <td>mineral water</td>\n      <td>milk</td>\n      <td>0.002666</td>\n      <td>0.416667</td>\n      <td>3.215449</td>\n    </tr>\n    <tr>\n      <th>291</th>\n      <td>mineral water</td>\n      <td>spaghetti</td>\n      <td>0.002800</td>\n      <td>0.600000</td>\n      <td>3.446095</td>\n    </tr>\n    <tr>\n      <th>292</th>\n      <td>tomatoes</td>\n      <td>mineral water</td>\n      <td>0.002266</td>\n      <td>0.314815</td>\n      <td>5.271040</td>\n    </tr>\n    <tr>\n      <th>293</th>\n      <td>pancakes</td>\n      <td>mineral water</td>\n      <td>0.002266</td>\n      <td>0.333333</td>\n      <td>5.581101</td>\n    </tr>\n  </tbody>\n</table>\n<p>294 rows × 5 columns</p>\n</div>",
      "text/plain": "           Left Hand Side Right Hand Side   Support  Confidence      Lift\n0    mushroom cream sauce        escalope  0.005733    0.300699  3.790833\n1                   pasta        escalope  0.005866    0.372881  4.700812\n2         gluten free bar        pancakes  0.002133    0.307692  3.237027\n3           herb & pepper     ground beef  0.015998    0.323450  3.291994\n4            tomato sauce     ground beef  0.005333    0.377358  3.840659\n..                    ...             ...       ...         ...       ...\n289         mineral water            milk  0.002266    0.435897  3.363855\n290         mineral water            milk  0.002666    0.416667  3.215449\n291         mineral water       spaghetti  0.002800    0.600000  3.446095\n292              tomatoes   mineral water  0.002266    0.314815  5.271040\n293              pancakes   mineral water  0.002266    0.333333  5.581101\n\n[294 rows x 5 columns]"
     },
     "execution_count": 25,
     "metadata": {},
     "output_type": "execute_result"
    }
   ],
   "source": [
    "df_result"
   ]
  },
  {
   "cell_type": "code",
   "execution_count": 27,
   "metadata": {},
   "outputs": [
    {
     "data": {
      "text/html": "<div>\n<style scoped>\n    .dataframe tbody tr th:only-of-type {\n        vertical-align: middle;\n    }\n\n    .dataframe tbody tr th {\n        vertical-align: top;\n    }\n\n    .dataframe thead th {\n        text-align: right;\n    }\n</style>\n<table border=\"1\" class=\"dataframe\">\n  <thead>\n    <tr style=\"text-align: right;\">\n      <th></th>\n      <th>Left Hand Side</th>\n      <th>Right Hand Side</th>\n      <th>Support</th>\n      <th>Confidence</th>\n      <th>Lift</th>\n    </tr>\n  </thead>\n  <tbody>\n    <tr>\n      <th>39</th>\n      <td>mushroom cream sauce</td>\n      <td>pasta</td>\n      <td>0.002533</td>\n      <td>0.441860</td>\n      <td>28.088096</td>\n    </tr>\n    <tr>\n      <th>155</th>\n      <td>mushroom cream sauce</td>\n      <td>nan</td>\n      <td>0.002533</td>\n      <td>0.441860</td>\n      <td>28.088096</td>\n    </tr>\n    <tr>\n      <th>274</th>\n      <td>frozen vegetables</td>\n      <td>mineral water</td>\n      <td>0.003066</td>\n      <td>0.383333</td>\n      <td>7.987176</td>\n    </tr>\n    <tr>\n      <th>175</th>\n      <td>frozen vegetables</td>\n      <td>mineral water</td>\n      <td>0.003066</td>\n      <td>0.383333</td>\n      <td>7.987176</td>\n    </tr>\n    <tr>\n      <th>230</th>\n      <td>mineral water</td>\n      <td>nan</td>\n      <td>0.003866</td>\n      <td>0.402778</td>\n      <td>6.128268</td>\n    </tr>\n    <tr>\n      <th>...</th>\n      <td>...</td>\n      <td>...</td>\n      <td>...</td>\n      <td>...</td>\n      <td>...</td>\n    </tr>\n    <tr>\n      <th>214</th>\n      <td>shrimp</td>\n      <td>spaghetti</td>\n      <td>0.005999</td>\n      <td>0.523256</td>\n      <td>3.005315</td>\n    </tr>\n    <tr>\n      <th>278</th>\n      <td>mineral water</td>\n      <td>spaghetti</td>\n      <td>0.003066</td>\n      <td>0.522727</td>\n      <td>3.002280</td>\n    </tr>\n    <tr>\n      <th>183</th>\n      <td>mineral water</td>\n      <td>spaghetti</td>\n      <td>0.003066</td>\n      <td>0.522727</td>\n      <td>3.002280</td>\n    </tr>\n    <tr>\n      <th>273</th>\n      <td>mineral water</td>\n      <td>milk</td>\n      <td>0.002800</td>\n      <td>0.388889</td>\n      <td>3.001086</td>\n    </tr>\n    <tr>\n      <th>174</th>\n      <td>mineral water</td>\n      <td>milk</td>\n      <td>0.002800</td>\n      <td>0.388889</td>\n      <td>3.001086</td>\n    </tr>\n  </tbody>\n</table>\n<p>294 rows × 5 columns</p>\n</div>",
      "text/plain": "           Left Hand Side Right Hand Side   Support  Confidence       Lift\n39   mushroom cream sauce           pasta  0.002533    0.441860  28.088096\n155  mushroom cream sauce             nan  0.002533    0.441860  28.088096\n274     frozen vegetables   mineral water  0.003066    0.383333   7.987176\n175     frozen vegetables   mineral water  0.003066    0.383333   7.987176\n230         mineral water             nan  0.003866    0.402778   6.128268\n..                    ...             ...       ...         ...        ...\n214                shrimp       spaghetti  0.005999    0.523256   3.005315\n278         mineral water       spaghetti  0.003066    0.522727   3.002280\n183         mineral water       spaghetti  0.003066    0.522727   3.002280\n273         mineral water            milk  0.002800    0.388889   3.001086\n174         mineral water            milk  0.002800    0.388889   3.001086\n\n[294 rows x 5 columns]"
     },
     "execution_count": 27,
     "metadata": {},
     "output_type": "execute_result"
    }
   ],
   "source": [
    "df_result.sort_values(by ='Lift', ascending=False)"
   ]
  },
  {
   "cell_type": "code",
   "execution_count": null,
   "metadata": {},
   "outputs": [],
   "source": []
  }
 ],
 "metadata": {
  "kernelspec": {
   "display_name": "Python 3",
   "language": "python",
   "name": "python3"
  },
  "language_info": {
   "codemirror_mode": {
    "name": "ipython",
    "version": 3
   },
   "file_extension": ".py",
   "mimetype": "text/x-python",
   "name": "python",
   "nbconvert_exporter": "python",
   "pygments_lexer": "ipython3",
   "version": "3.8.5"
  },
  "orig_nbformat": 2
 },
 "nbformat": 4,
 "nbformat_minor": 2
}