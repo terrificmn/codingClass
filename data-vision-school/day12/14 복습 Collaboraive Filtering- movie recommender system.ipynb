{
 "cells": [
  {
   "cell_type": "markdown",
   "metadata": {},
   "source": [
    "# Collaborative Filtering"
   ]
  },
  {
   "cell_type": "code",
   "execution_count": 1,
   "metadata": {},
   "outputs": [],
   "source": [
    "import pandas as pd\n",
    "import numpy as np\n",
    "import matplotlib.pyplot as plt\n",
    "import seaborn as sb\n",
    "%matplotlib inline"
   ]
  },
  {
   "cell_type": "code",
   "execution_count": 2,
   "metadata": {},
   "outputs": [],
   "source": [
    "movie_titles_df = pd.read_csv('Movie_Id_Titles.csv')"
   ]
  },
  {
   "cell_type": "code",
   "execution_count": 3,
   "metadata": {},
   "outputs": [
    {
     "data": {
      "text/html": "<div>\n<style scoped>\n    .dataframe tbody tr th:only-of-type {\n        vertical-align: middle;\n    }\n\n    .dataframe tbody tr th {\n        vertical-align: top;\n    }\n\n    .dataframe thead th {\n        text-align: right;\n    }\n</style>\n<table border=\"1\" class=\"dataframe\">\n  <thead>\n    <tr style=\"text-align: right;\">\n      <th></th>\n      <th>item_id</th>\n      <th>title</th>\n    </tr>\n  </thead>\n  <tbody>\n    <tr>\n      <th>0</th>\n      <td>1</td>\n      <td>Toy Story (1995)</td>\n    </tr>\n    <tr>\n      <th>1</th>\n      <td>2</td>\n      <td>GoldenEye (1995)</td>\n    </tr>\n    <tr>\n      <th>2</th>\n      <td>3</td>\n      <td>Four Rooms (1995)</td>\n    </tr>\n    <tr>\n      <th>3</th>\n      <td>4</td>\n      <td>Get Shorty (1995)</td>\n    </tr>\n    <tr>\n      <th>4</th>\n      <td>5</td>\n      <td>Copycat (1995)</td>\n    </tr>\n  </tbody>\n</table>\n</div>",
      "text/plain": "   item_id              title\n0        1   Toy Story (1995)\n1        2   GoldenEye (1995)\n2        3  Four Rooms (1995)\n3        4  Get Shorty (1995)\n4        5     Copycat (1995)"
     },
     "execution_count": 3,
     "metadata": {},
     "output_type": "execute_result"
    }
   ],
   "source": [
    "movie_titles_df.head()"
   ]
  },
  {
   "cell_type": "code",
   "execution_count": 6,
   "metadata": {},
   "outputs": [],
   "source": [
    "# u.data 파일은 tab으로 되어 있음 (tsv형식)\n",
    "#movies_rating_df =\n",
    "# 컬럼명이 u.data 파일에는 없으므로 컬럼명도 만들어 준다\n",
    "movie_rating_df = pd.read_csv('u.data', sep='\\t', names=[ 'user_id', 'item_id', 'rating', 'timestamp'] )"
   ]
  },
  {
   "cell_type": "code",
   "execution_count": 7,
   "metadata": {},
   "outputs": [
    {
     "data": {
      "text/html": "<div>\n<style scoped>\n    .dataframe tbody tr th:only-of-type {\n        vertical-align: middle;\n    }\n\n    .dataframe tbody tr th {\n        vertical-align: top;\n    }\n\n    .dataframe thead th {\n        text-align: right;\n    }\n</style>\n<table border=\"1\" class=\"dataframe\">\n  <thead>\n    <tr style=\"text-align: right;\">\n      <th></th>\n      <th>user_id</th>\n      <th>item_id</th>\n      <th>rating</th>\n      <th>timestamp</th>\n    </tr>\n  </thead>\n  <tbody>\n    <tr>\n      <th>0</th>\n      <td>0</td>\n      <td>50</td>\n      <td>5</td>\n      <td>881250949</td>\n    </tr>\n    <tr>\n      <th>1</th>\n      <td>0</td>\n      <td>172</td>\n      <td>5</td>\n      <td>881250949</td>\n    </tr>\n    <tr>\n      <th>2</th>\n      <td>0</td>\n      <td>133</td>\n      <td>1</td>\n      <td>881250949</td>\n    </tr>\n    <tr>\n      <th>3</th>\n      <td>196</td>\n      <td>242</td>\n      <td>3</td>\n      <td>881250949</td>\n    </tr>\n    <tr>\n      <th>4</th>\n      <td>186</td>\n      <td>302</td>\n      <td>3</td>\n      <td>891717742</td>\n    </tr>\n    <tr>\n      <th>...</th>\n      <td>...</td>\n      <td>...</td>\n      <td>...</td>\n      <td>...</td>\n    </tr>\n    <tr>\n      <th>99998</th>\n      <td>880</td>\n      <td>476</td>\n      <td>3</td>\n      <td>880175444</td>\n    </tr>\n    <tr>\n      <th>99999</th>\n      <td>716</td>\n      <td>204</td>\n      <td>5</td>\n      <td>879795543</td>\n    </tr>\n    <tr>\n      <th>100000</th>\n      <td>276</td>\n      <td>1090</td>\n      <td>1</td>\n      <td>874795795</td>\n    </tr>\n    <tr>\n      <th>100001</th>\n      <td>13</td>\n      <td>225</td>\n      <td>2</td>\n      <td>882399156</td>\n    </tr>\n    <tr>\n      <th>100002</th>\n      <td>12</td>\n      <td>203</td>\n      <td>3</td>\n      <td>879959583</td>\n    </tr>\n  </tbody>\n</table>\n<p>100003 rows × 4 columns</p>\n</div>",
      "text/plain": "        user_id  item_id  rating  timestamp\n0             0       50       5  881250949\n1             0      172       5  881250949\n2             0      133       1  881250949\n3           196      242       3  881250949\n4           186      302       3  891717742\n...         ...      ...     ...        ...\n99998       880      476       3  880175444\n99999       716      204       5  879795543\n100000      276     1090       1  874795795\n100001       13      225       2  882399156\n100002       12      203       3  879959583\n\n[100003 rows x 4 columns]"
     },
     "execution_count": 7,
     "metadata": {},
     "output_type": "execute_result"
    }
   ],
   "source": [
    "movie_rating_df"
   ]
  },
  {
   "cell_type": "code",
   "execution_count": null,
   "metadata": {},
   "outputs": [],
   "source": [
    "# 필요한 컬럼만 추려내기"
   ]
  },
  {
   "cell_type": "code",
   "execution_count": 8,
   "metadata": {},
   "outputs": [],
   "source": [
    "movie_rating_df.drop('timestamp', axis=1, inplace=True)"
   ]
  },
  {
   "cell_type": "code",
   "execution_count": 9,
   "metadata": {},
   "outputs": [
    {
     "data": {
      "text/html": "<div>\n<style scoped>\n    .dataframe tbody tr th:only-of-type {\n        vertical-align: middle;\n    }\n\n    .dataframe tbody tr th {\n        vertical-align: top;\n    }\n\n    .dataframe thead th {\n        text-align: right;\n    }\n</style>\n<table border=\"1\" class=\"dataframe\">\n  <thead>\n    <tr style=\"text-align: right;\">\n      <th></th>\n      <th>user_id</th>\n      <th>item_id</th>\n      <th>rating</th>\n    </tr>\n  </thead>\n  <tbody>\n    <tr>\n      <th>0</th>\n      <td>0</td>\n      <td>50</td>\n      <td>5</td>\n    </tr>\n    <tr>\n      <th>1</th>\n      <td>0</td>\n      <td>172</td>\n      <td>5</td>\n    </tr>\n    <tr>\n      <th>2</th>\n      <td>0</td>\n      <td>133</td>\n      <td>1</td>\n    </tr>\n    <tr>\n      <th>3</th>\n      <td>196</td>\n      <td>242</td>\n      <td>3</td>\n    </tr>\n    <tr>\n      <th>4</th>\n      <td>186</td>\n      <td>302</td>\n      <td>3</td>\n    </tr>\n    <tr>\n      <th>...</th>\n      <td>...</td>\n      <td>...</td>\n      <td>...</td>\n    </tr>\n    <tr>\n      <th>99998</th>\n      <td>880</td>\n      <td>476</td>\n      <td>3</td>\n    </tr>\n    <tr>\n      <th>99999</th>\n      <td>716</td>\n      <td>204</td>\n      <td>5</td>\n    </tr>\n    <tr>\n      <th>100000</th>\n      <td>276</td>\n      <td>1090</td>\n      <td>1</td>\n    </tr>\n    <tr>\n      <th>100001</th>\n      <td>13</td>\n      <td>225</td>\n      <td>2</td>\n    </tr>\n    <tr>\n      <th>100002</th>\n      <td>12</td>\n      <td>203</td>\n      <td>3</td>\n    </tr>\n  </tbody>\n</table>\n<p>100003 rows × 3 columns</p>\n</div>",
      "text/plain": "        user_id  item_id  rating\n0             0       50       5\n1             0      172       5\n2             0      133       1\n3           196      242       3\n4           186      302       3\n...         ...      ...     ...\n99998       880      476       3\n99999       716      204       5\n100000      276     1090       1\n100001       13      225       2\n100002       12      203       3\n\n[100003 rows x 3 columns]"
     },
     "execution_count": 9,
     "metadata": {},
     "output_type": "execute_result"
    }
   ],
   "source": [
    "movie_rating_df"
   ]
  },
  {
   "cell_type": "code",
   "execution_count": null,
   "metadata": {},
   "outputs": [],
   "source": []
  },
  {
   "cell_type": "markdown",
   "metadata": {},
   "source": [
    "## df 합치기"
   ]
  },
  {
   "cell_type": "code",
   "execution_count": 14,
   "metadata": {},
   "outputs": [],
   "source": [
    "# 공통컬럼 'item_id'로 합치기\n",
    "movies_merged_df = pd.merge(movie_rating_df, movie_titles_df, on='item_id')"
   ]
  },
  {
   "cell_type": "code",
   "execution_count": 15,
   "metadata": {},
   "outputs": [
    {
     "data": {
      "text/html": "<div>\n<style scoped>\n    .dataframe tbody tr th:only-of-type {\n        vertical-align: middle;\n    }\n\n    .dataframe tbody tr th {\n        vertical-align: top;\n    }\n\n    .dataframe thead th {\n        text-align: right;\n    }\n</style>\n<table border=\"1\" class=\"dataframe\">\n  <thead>\n    <tr style=\"text-align: right;\">\n      <th></th>\n      <th>user_id</th>\n      <th>item_id</th>\n      <th>rating</th>\n      <th>title</th>\n    </tr>\n  </thead>\n  <tbody>\n    <tr>\n      <th>0</th>\n      <td>0</td>\n      <td>50</td>\n      <td>5</td>\n      <td>Star Wars (1977)</td>\n    </tr>\n    <tr>\n      <th>1</th>\n      <td>290</td>\n      <td>50</td>\n      <td>5</td>\n      <td>Star Wars (1977)</td>\n    </tr>\n    <tr>\n      <th>2</th>\n      <td>79</td>\n      <td>50</td>\n      <td>4</td>\n      <td>Star Wars (1977)</td>\n    </tr>\n    <tr>\n      <th>3</th>\n      <td>2</td>\n      <td>50</td>\n      <td>5</td>\n      <td>Star Wars (1977)</td>\n    </tr>\n    <tr>\n      <th>4</th>\n      <td>8</td>\n      <td>50</td>\n      <td>5</td>\n      <td>Star Wars (1977)</td>\n    </tr>\n    <tr>\n      <th>...</th>\n      <td>...</td>\n      <td>...</td>\n      <td>...</td>\n      <td>...</td>\n    </tr>\n    <tr>\n      <th>99998</th>\n      <td>840</td>\n      <td>1674</td>\n      <td>4</td>\n      <td>Mamma Roma (1962)</td>\n    </tr>\n    <tr>\n      <th>99999</th>\n      <td>655</td>\n      <td>1640</td>\n      <td>3</td>\n      <td>Eighth Day, The (1996)</td>\n    </tr>\n    <tr>\n      <th>100000</th>\n      <td>655</td>\n      <td>1637</td>\n      <td>3</td>\n      <td>Girls Town (1996)</td>\n    </tr>\n    <tr>\n      <th>100001</th>\n      <td>655</td>\n      <td>1630</td>\n      <td>3</td>\n      <td>Silence of the Palace, The (Saimt el Qusur) (1...</td>\n    </tr>\n    <tr>\n      <th>100002</th>\n      <td>655</td>\n      <td>1641</td>\n      <td>3</td>\n      <td>Dadetown (1995)</td>\n    </tr>\n  </tbody>\n</table>\n<p>100003 rows × 4 columns</p>\n</div>",
      "text/plain": "        user_id  item_id  rating  \\\n0             0       50       5   \n1           290       50       5   \n2            79       50       4   \n3             2       50       5   \n4             8       50       5   \n...         ...      ...     ...   \n99998       840     1674       4   \n99999       655     1640       3   \n100000      655     1637       3   \n100001      655     1630       3   \n100002      655     1641       3   \n\n                                                    title  \n0                                        Star Wars (1977)  \n1                                        Star Wars (1977)  \n2                                        Star Wars (1977)  \n3                                        Star Wars (1977)  \n4                                        Star Wars (1977)  \n...                                                   ...  \n99998                                   Mamma Roma (1962)  \n99999                              Eighth Day, The (1996)  \n100000                                  Girls Town (1996)  \n100001  Silence of the Palace, The (Saimt el Qusur) (1...  \n100002                                    Dadetown (1995)  \n\n[100003 rows x 4 columns]"
     },
     "execution_count": 15,
     "metadata": {},
     "output_type": "execute_result"
    }
   ],
   "source": [
    "movies_merged_df"
   ]
  },
  {
   "cell_type": "code",
   "execution_count": null,
   "metadata": {},
   "outputs": [],
   "source": []
  },
  {
   "cell_type": "markdown",
   "metadata": {},
   "source": [
    "## groupby() 영화로 묶기"
   ]
  },
  {
   "cell_type": "code",
   "execution_count": 20,
   "metadata": {},
   "outputs": [
    {
     "data": {
      "text/html": "<div>\n<style scoped>\n    .dataframe tbody tr th:only-of-type {\n        vertical-align: middle;\n    }\n\n    .dataframe tbody tr th {\n        vertical-align: top;\n    }\n\n    .dataframe thead th {\n        text-align: right;\n    }\n</style>\n<table border=\"1\" class=\"dataframe\">\n  <thead>\n    <tr style=\"text-align: right;\">\n      <th></th>\n      <th>count</th>\n      <th>mean</th>\n      <th>std</th>\n      <th>min</th>\n      <th>25%</th>\n      <th>50%</th>\n      <th>75%</th>\n      <th>max</th>\n    </tr>\n    <tr>\n      <th>title</th>\n      <th></th>\n      <th></th>\n      <th></th>\n      <th></th>\n      <th></th>\n      <th></th>\n      <th></th>\n      <th></th>\n    </tr>\n  </thead>\n  <tbody>\n    <tr>\n      <th>'Til There Was You (1997)</th>\n      <td>9.0</td>\n      <td>2.333333</td>\n      <td>1.000000</td>\n      <td>1.0</td>\n      <td>2.00</td>\n      <td>2.0</td>\n      <td>3.0</td>\n      <td>4.0</td>\n    </tr>\n    <tr>\n      <th>1-900 (1994)</th>\n      <td>5.0</td>\n      <td>2.600000</td>\n      <td>1.516575</td>\n      <td>1.0</td>\n      <td>1.00</td>\n      <td>3.0</td>\n      <td>4.0</td>\n      <td>4.0</td>\n    </tr>\n    <tr>\n      <th>101 Dalmatians (1996)</th>\n      <td>109.0</td>\n      <td>2.908257</td>\n      <td>1.076184</td>\n      <td>1.0</td>\n      <td>2.00</td>\n      <td>3.0</td>\n      <td>4.0</td>\n      <td>5.0</td>\n    </tr>\n    <tr>\n      <th>12 Angry Men (1957)</th>\n      <td>125.0</td>\n      <td>4.344000</td>\n      <td>0.719588</td>\n      <td>2.0</td>\n      <td>4.00</td>\n      <td>4.0</td>\n      <td>5.0</td>\n      <td>5.0</td>\n    </tr>\n    <tr>\n      <th>187 (1997)</th>\n      <td>41.0</td>\n      <td>3.024390</td>\n      <td>1.172344</td>\n      <td>1.0</td>\n      <td>2.00</td>\n      <td>3.0</td>\n      <td>4.0</td>\n      <td>5.0</td>\n    </tr>\n    <tr>\n      <th>...</th>\n      <td>...</td>\n      <td>...</td>\n      <td>...</td>\n      <td>...</td>\n      <td>...</td>\n      <td>...</td>\n      <td>...</td>\n      <td>...</td>\n    </tr>\n    <tr>\n      <th>Young Guns II (1990)</th>\n      <td>44.0</td>\n      <td>2.772727</td>\n      <td>1.008421</td>\n      <td>1.0</td>\n      <td>2.00</td>\n      <td>3.0</td>\n      <td>3.0</td>\n      <td>5.0</td>\n    </tr>\n    <tr>\n      <th>Young Poisoner's Handbook, The (1995)</th>\n      <td>41.0</td>\n      <td>3.341463</td>\n      <td>1.237129</td>\n      <td>1.0</td>\n      <td>3.00</td>\n      <td>4.0</td>\n      <td>4.0</td>\n      <td>5.0</td>\n    </tr>\n    <tr>\n      <th>Zeus and Roxanne (1997)</th>\n      <td>6.0</td>\n      <td>2.166667</td>\n      <td>0.983192</td>\n      <td>1.0</td>\n      <td>1.25</td>\n      <td>2.5</td>\n      <td>3.0</td>\n      <td>3.0</td>\n    </tr>\n    <tr>\n      <th>unknown</th>\n      <td>9.0</td>\n      <td>3.444444</td>\n      <td>1.130388</td>\n      <td>1.0</td>\n      <td>3.00</td>\n      <td>4.0</td>\n      <td>4.0</td>\n      <td>5.0</td>\n    </tr>\n    <tr>\n      <th>Á köldum klaka (Cold Fever) (1994)</th>\n      <td>1.0</td>\n      <td>3.000000</td>\n      <td>NaN</td>\n      <td>3.0</td>\n      <td>3.00</td>\n      <td>3.0</td>\n      <td>3.0</td>\n      <td>3.0</td>\n    </tr>\n  </tbody>\n</table>\n<p>1664 rows × 8 columns</p>\n</div>",
      "text/plain": "                                       count      mean       std  min   25%  \\\ntitle                                                                         \n'Til There Was You (1997)                9.0  2.333333  1.000000  1.0  2.00   \n1-900 (1994)                             5.0  2.600000  1.516575  1.0  1.00   \n101 Dalmatians (1996)                  109.0  2.908257  1.076184  1.0  2.00   \n12 Angry Men (1957)                    125.0  4.344000  0.719588  2.0  4.00   \n187 (1997)                              41.0  3.024390  1.172344  1.0  2.00   \n...                                      ...       ...       ...  ...   ...   \nYoung Guns II (1990)                    44.0  2.772727  1.008421  1.0  2.00   \nYoung Poisoner's Handbook, The (1995)   41.0  3.341463  1.237129  1.0  3.00   \nZeus and Roxanne (1997)                  6.0  2.166667  0.983192  1.0  1.25   \nunknown                                  9.0  3.444444  1.130388  1.0  3.00   \nÁ köldum klaka (Cold Fever) (1994)       1.0  3.000000       NaN  3.0  3.00   \n\n                                       50%  75%  max  \ntitle                                                 \n'Til There Was You (1997)              2.0  3.0  4.0  \n1-900 (1994)                           3.0  4.0  4.0  \n101 Dalmatians (1996)                  3.0  4.0  5.0  \n12 Angry Men (1957)                    4.0  5.0  5.0  \n187 (1997)                             3.0  4.0  5.0  \n...                                    ...  ...  ...  \nYoung Guns II (1990)                   3.0  3.0  5.0  \nYoung Poisoner's Handbook, The (1995)  4.0  4.0  5.0  \nZeus and Roxanne (1997)                2.5  3.0  3.0  \nunknown                                4.0  4.0  5.0  \nÁ köldum klaka (Cold Fever) (1994)     3.0  3.0  3.0  \n\n[1664 rows x 8 columns]"
     },
     "execution_count": 20,
     "metadata": {},
     "output_type": "execute_result"
    }
   ],
   "source": [
    "# groupby()를 한 후 ['rating'] 컬럼만 분석\n",
    "# 'title'컬럼을 unique()를 사용한 것 처럼 반복되는 것을 그룹화\n",
    "movies_merged_df.groupby('title')['rating'].describe()\n"
   ]
  },
  {
   "cell_type": "code",
   "execution_count": null,
   "metadata": {},
   "outputs": [],
   "source": [
    "# 영화 타이틀별로 rating 컬럼의 평균값으로 그룹화"
   ]
  },
  {
   "cell_type": "code",
   "execution_count": 21,
   "metadata": {},
   "outputs": [],
   "source": [
    "ratings_df_mean = movies_merged_df.groupby('title')['rating'].mean()"
   ]
  },
  {
   "cell_type": "code",
   "execution_count": 24,
   "metadata": {},
   "outputs": [
    {
     "data": {
      "text/plain": "title\n'Til There Was You (1997)    2.333333\n1-900 (1994)                 2.600000\n101 Dalmatians (1996)        2.908257\n12 Angry Men (1957)          4.344000\n187 (1997)                   3.024390\nName: rating, dtype: float64"
     },
     "execution_count": 24,
     "metadata": {},
     "output_type": "execute_result"
    }
   ],
   "source": [
    "ratings_df_mean.head()"
   ]
  },
  {
   "cell_type": "code",
   "execution_count": null,
   "metadata": {},
   "outputs": [],
   "source": [
    "# 영화별로 몇개의 데이터를 가지고 있는지 "
   ]
  },
  {
   "cell_type": "code",
   "execution_count": 27,
   "metadata": {},
   "outputs": [],
   "source": [
    "# 이 방법은 간단하지만 title컬럼명이 안나와서 합칠때 join으로는 안됨\n",
    "ratings_df_count = movies_merged_df.title.value_counts()"
   ]
  },
  {
   "cell_type": "code",
   "execution_count": 30,
   "metadata": {},
   "outputs": [
    {
     "data": {
      "text/plain": "Index(['Star Wars (1977)', 'Contact (1997)', 'Fargo (1996)',\n       'Return of the Jedi (1983)', 'Liar Liar (1997)',\n       'English Patient, The (1996)', 'Scream (1996)', 'Toy Story (1995)',\n       'Air Force One (1997)', 'Independence Day (ID4) (1996)',\n       ...\n       'War at Home, The (1996)', 'T-Men (1947)', 'Mostro, Il (1994)',\n       'Silence of the Palace, The (Saimt el Qusur) (1994)',\n       'Lashou shentan (1992)',\n       'Police Story 4: Project S (Chao ji ji hua) (1993)', 'Ripe (1996)',\n       'Quartier Mozart (1992)', 'He Walked by Night (1948)',\n       'Normal Life (1996)'],\n      dtype='object', length=1664)"
     },
     "execution_count": 30,
     "metadata": {},
     "output_type": "execute_result"
    }
   ],
   "source": []
  },
  {
   "cell_type": "markdown",
   "metadata": {},
   "source": [
    "## concat() 합치기"
   ]
  },
  {
   "cell_type": "code",
   "execution_count": 32,
   "metadata": {},
   "outputs": [],
   "source": [
    "# concat()합치기\n",
    "rating_mean_count = pd.concat( [ratings_df_count, ratings_df_mean], axis=1)"
   ]
  },
  {
   "cell_type": "code",
   "execution_count": 33,
   "metadata": {},
   "outputs": [
    {
     "data": {
      "text/html": "<div>\n<style scoped>\n    .dataframe tbody tr th:only-of-type {\n        vertical-align: middle;\n    }\n\n    .dataframe tbody tr th {\n        vertical-align: top;\n    }\n\n    .dataframe thead th {\n        text-align: right;\n    }\n</style>\n<table border=\"1\" class=\"dataframe\">\n  <thead>\n    <tr style=\"text-align: right;\">\n      <th></th>\n      <th>title</th>\n      <th>rating</th>\n    </tr>\n  </thead>\n  <tbody>\n    <tr>\n      <th>Star Wars (1977)</th>\n      <td>584</td>\n      <td>4.359589</td>\n    </tr>\n    <tr>\n      <th>Contact (1997)</th>\n      <td>509</td>\n      <td>3.803536</td>\n    </tr>\n    <tr>\n      <th>Fargo (1996)</th>\n      <td>508</td>\n      <td>4.155512</td>\n    </tr>\n    <tr>\n      <th>Return of the Jedi (1983)</th>\n      <td>507</td>\n      <td>4.007890</td>\n    </tr>\n    <tr>\n      <th>Liar Liar (1997)</th>\n      <td>485</td>\n      <td>3.156701</td>\n    </tr>\n    <tr>\n      <th>...</th>\n      <td>...</td>\n      <td>...</td>\n    </tr>\n    <tr>\n      <th>Police Story 4: Project S (Chao ji ji hua) (1993)</th>\n      <td>1</td>\n      <td>1.000000</td>\n    </tr>\n    <tr>\n      <th>Ripe (1996)</th>\n      <td>1</td>\n      <td>2.000000</td>\n    </tr>\n    <tr>\n      <th>Quartier Mozart (1992)</th>\n      <td>1</td>\n      <td>1.000000</td>\n    </tr>\n    <tr>\n      <th>He Walked by Night (1948)</th>\n      <td>1</td>\n      <td>4.000000</td>\n    </tr>\n    <tr>\n      <th>Normal Life (1996)</th>\n      <td>1</td>\n      <td>3.000000</td>\n    </tr>\n  </tbody>\n</table>\n<p>1664 rows × 2 columns</p>\n</div>",
      "text/plain": "                                                   title    rating\nStar Wars (1977)                                     584  4.359589\nContact (1997)                                       509  3.803536\nFargo (1996)                                         508  4.155512\nReturn of the Jedi (1983)                            507  4.007890\nLiar Liar (1997)                                     485  3.156701\n...                                                  ...       ...\nPolice Story 4: Project S (Chao ji ji hua) (1993)      1  1.000000\nRipe (1996)                                            1  2.000000\nQuartier Mozart (1992)                                 1  1.000000\nHe Walked by Night (1948)                              1  4.000000\nNormal Life (1996)                                     1  3.000000\n\n[1664 rows x 2 columns]"
     },
     "execution_count": 33,
     "metadata": {},
     "output_type": "execute_result"
    }
   ],
   "source": [
    "rating_mean_count"
   ]
  },
  {
   "cell_type": "code",
   "execution_count": 35,
   "metadata": {},
   "outputs": [
    {
     "data": {
      "text/html": "<div>\n<style scoped>\n    .dataframe tbody tr th:only-of-type {\n        vertical-align: middle;\n    }\n\n    .dataframe tbody tr th {\n        vertical-align: top;\n    }\n\n    .dataframe thead th {\n        text-align: right;\n    }\n</style>\n<table border=\"1\" class=\"dataframe\">\n  <thead>\n    <tr style=\"text-align: right;\">\n      <th></th>\n      <th>title</th>\n      <th>rating</th>\n    </tr>\n  </thead>\n  <tbody>\n    <tr>\n      <th>Star Wars (1977)</th>\n      <td>584</td>\n      <td>4.359589</td>\n    </tr>\n    <tr>\n      <th>Contact (1997)</th>\n      <td>509</td>\n      <td>3.803536</td>\n    </tr>\n    <tr>\n      <th>Fargo (1996)</th>\n      <td>508</td>\n      <td>4.155512</td>\n    </tr>\n    <tr>\n      <th>Return of the Jedi (1983)</th>\n      <td>507</td>\n      <td>4.007890</td>\n    </tr>\n    <tr>\n      <th>Liar Liar (1997)</th>\n      <td>485</td>\n      <td>3.156701</td>\n    </tr>\n    <tr>\n      <th>...</th>\n      <td>...</td>\n      <td>...</td>\n    </tr>\n    <tr>\n      <th>Police Story 4: Project S (Chao ji ji hua) (1993)</th>\n      <td>1</td>\n      <td>1.000000</td>\n    </tr>\n    <tr>\n      <th>Ripe (1996)</th>\n      <td>1</td>\n      <td>2.000000</td>\n    </tr>\n    <tr>\n      <th>Quartier Mozart (1992)</th>\n      <td>1</td>\n      <td>1.000000</td>\n    </tr>\n    <tr>\n      <th>He Walked by Night (1948)</th>\n      <td>1</td>\n      <td>4.000000</td>\n    </tr>\n    <tr>\n      <th>Normal Life (1996)</th>\n      <td>1</td>\n      <td>3.000000</td>\n    </tr>\n  </tbody>\n</table>\n<p>1664 rows × 2 columns</p>\n</div>",
      "text/plain": "                                                   title    rating\nStar Wars (1977)                                     584  4.359589\nContact (1997)                                       509  3.803536\nFargo (1996)                                         508  4.155512\nReturn of the Jedi (1983)                            507  4.007890\nLiar Liar (1997)                                     485  3.156701\n...                                                  ...       ...\nPolice Story 4: Project S (Chao ji ji hua) (1993)      1  1.000000\nRipe (1996)                                            1  2.000000\nQuartier Mozart (1992)                                 1  1.000000\nHe Walked by Night (1948)                              1  4.000000\nNormal Life (1996)                                     1  3.000000\n\n[1664 rows x 2 columns]"
     },
     "execution_count": 35,
     "metadata": {},
     "output_type": "execute_result"
    }
   ],
   "source": [
    "#컬럼명 바꾸기\n",
    "rating_mean_count.rename( {'title': 'count', 'rating': 'mean'} )"
   ]
  },
  {
   "cell_type": "code",
   "execution_count": 37,
   "metadata": {},
   "outputs": [],
   "source": [
    "# 컬럼명이 같아서 안될 때는 columns속성 이용하기\n",
    "rating_mean_count.columns = ['count', 'mean']"
   ]
  },
  {
   "cell_type": "code",
   "execution_count": 38,
   "metadata": {},
   "outputs": [
    {
     "data": {
      "text/html": "<div>\n<style scoped>\n    .dataframe tbody tr th:only-of-type {\n        vertical-align: middle;\n    }\n\n    .dataframe tbody tr th {\n        vertical-align: top;\n    }\n\n    .dataframe thead th {\n        text-align: right;\n    }\n</style>\n<table border=\"1\" class=\"dataframe\">\n  <thead>\n    <tr style=\"text-align: right;\">\n      <th></th>\n      <th>count</th>\n      <th>mean</th>\n    </tr>\n  </thead>\n  <tbody>\n    <tr>\n      <th>Star Wars (1977)</th>\n      <td>584</td>\n      <td>4.359589</td>\n    </tr>\n    <tr>\n      <th>Contact (1997)</th>\n      <td>509</td>\n      <td>3.803536</td>\n    </tr>\n    <tr>\n      <th>Fargo (1996)</th>\n      <td>508</td>\n      <td>4.155512</td>\n    </tr>\n    <tr>\n      <th>Return of the Jedi (1983)</th>\n      <td>507</td>\n      <td>4.007890</td>\n    </tr>\n    <tr>\n      <th>Liar Liar (1997)</th>\n      <td>485</td>\n      <td>3.156701</td>\n    </tr>\n    <tr>\n      <th>...</th>\n      <td>...</td>\n      <td>...</td>\n    </tr>\n    <tr>\n      <th>Police Story 4: Project S (Chao ji ji hua) (1993)</th>\n      <td>1</td>\n      <td>1.000000</td>\n    </tr>\n    <tr>\n      <th>Ripe (1996)</th>\n      <td>1</td>\n      <td>2.000000</td>\n    </tr>\n    <tr>\n      <th>Quartier Mozart (1992)</th>\n      <td>1</td>\n      <td>1.000000</td>\n    </tr>\n    <tr>\n      <th>He Walked by Night (1948)</th>\n      <td>1</td>\n      <td>4.000000</td>\n    </tr>\n    <tr>\n      <th>Normal Life (1996)</th>\n      <td>1</td>\n      <td>3.000000</td>\n    </tr>\n  </tbody>\n</table>\n<p>1664 rows × 2 columns</p>\n</div>",
      "text/plain": "                                                   count      mean\nStar Wars (1977)                                     584  4.359589\nContact (1997)                                       509  3.803536\nFargo (1996)                                         508  4.155512\nReturn of the Jedi (1983)                            507  4.007890\nLiar Liar (1997)                                     485  3.156701\n...                                                  ...       ...\nPolice Story 4: Project S (Chao ji ji hua) (1993)      1  1.000000\nRipe (1996)                                            1  2.000000\nQuartier Mozart (1992)                                 1  1.000000\nHe Walked by Night (1948)                              1  4.000000\nNormal Life (1996)                                     1  3.000000\n\n[1664 rows x 2 columns]"
     },
     "execution_count": 38,
     "metadata": {},
     "output_type": "execute_result"
    }
   ],
   "source": [
    "rating_mean_count"
   ]
  },
  {
   "cell_type": "markdown",
   "metadata": {},
   "source": [
    "## 히스토그램 plot(kind='hist')"
   ]
  },
  {
   "cell_type": "code",
   "execution_count": 39,
   "metadata": {},
   "outputs": [
    {
     "data": {
      "image/png": "[encoded data removed]",
      "text/plain": "<Figure size 432x288 with 1 Axes>"
     },
     "metadata": {
      "needs_background": "light",
      "transient": {}
     },
     "output_type": "display_data"
    }
   ],
   "source": [
    "# count, mean 컬럼 각각 히스토그램 나타내기\n",
    "rating_mean_count['count'].plot(kind='hist')\n",
    "plt.show()"
   ]
  },
  {
   "cell_type": "code",
   "execution_count": 40,
   "metadata": {},
   "outputs": [
    {
     "data": {
      "image/png": "[encoded data removed]",
      "text/plain": "<Figure size 432x288 with 1 Axes>"
     },
     "metadata": {
      "needs_background": "light",
      "transient": {}
     },
     "output_type": "display_data"
    }
   ],
   "source": [
    "rating_mean_count['mean'].plot(kind='hist')\n",
    "plt.show()"
   ]
  },
  {
   "cell_type": "code",
   "execution_count": null,
   "metadata": {},
   "outputs": [],
   "source": []
  },
  {
   "cell_type": "markdown",
   "metadata": {},
   "source": [
    "## 피봇 테이블 pivot_table()"
   ]
  },
  {
   "cell_type": "code",
   "execution_count": 42,
   "metadata": {},
   "outputs": [
    {
     "data": {
      "text/html": "<div>\n<style scoped>\n    .dataframe tbody tr th:only-of-type {\n        vertical-align: middle;\n    }\n\n    .dataframe tbody tr th {\n        vertical-align: top;\n    }\n\n    .dataframe thead th {\n        text-align: right;\n    }\n</style>\n<table border=\"1\" class=\"dataframe\">\n  <thead>\n    <tr style=\"text-align: right;\">\n      <th></th>\n      <th>user_id</th>\n      <th>item_id</th>\n      <th>rating</th>\n    </tr>\n  </thead>\n  <tbody>\n    <tr>\n      <th>0</th>\n      <td>0</td>\n      <td>50</td>\n      <td>5</td>\n    </tr>\n    <tr>\n      <th>1</th>\n      <td>0</td>\n      <td>172</td>\n      <td>5</td>\n    </tr>\n    <tr>\n      <th>2</th>\n      <td>0</td>\n      <td>133</td>\n      <td>1</td>\n    </tr>\n    <tr>\n      <th>3</th>\n      <td>196</td>\n      <td>242</td>\n      <td>3</td>\n    </tr>\n    <tr>\n      <th>4</th>\n      <td>186</td>\n      <td>302</td>\n      <td>3</td>\n    </tr>\n    <tr>\n      <th>...</th>\n      <td>...</td>\n      <td>...</td>\n      <td>...</td>\n    </tr>\n    <tr>\n      <th>99998</th>\n      <td>880</td>\n      <td>476</td>\n      <td>3</td>\n    </tr>\n    <tr>\n      <th>99999</th>\n      <td>716</td>\n      <td>204</td>\n      <td>5</td>\n    </tr>\n    <tr>\n      <th>100000</th>\n      <td>276</td>\n      <td>1090</td>\n      <td>1</td>\n    </tr>\n    <tr>\n      <th>100001</th>\n      <td>13</td>\n      <td>225</td>\n      <td>2</td>\n    </tr>\n    <tr>\n      <th>100002</th>\n      <td>12</td>\n      <td>203</td>\n      <td>3</td>\n    </tr>\n  </tbody>\n</table>\n<p>100003 rows × 3 columns</p>\n</div>",
      "text/plain": "        user_id  item_id  rating\n0             0       50       5\n1             0      172       5\n2             0      133       1\n3           196      242       3\n4           186      302       3\n...         ...      ...     ...\n99998       880      476       3\n99999       716      204       5\n100000      276     1090       1\n100001       13      225       2\n100002       12      203       3\n\n[100003 rows x 3 columns]"
     },
     "execution_count": 42,
     "metadata": {},
     "output_type": "execute_result"
    }
   ],
   "source": [
    "movie_rating_df"
   ]
  },
  {
   "cell_type": "code",
   "execution_count": 49,
   "metadata": {},
   "outputs": [],
   "source": [
    "# 컬럼 값을 row로 만들어 준다\n",
    "# 처음의 df를 활용 (처음 합친 movies_merged_df)\n",
    "userid_movieTitle_matrix = movies_merged_df.pivot_table(index='user_id', columns='title', values='rating')"
   ]
  },
  {
   "cell_type": "code",
   "execution_count": 50,
   "metadata": {},
   "outputs": [
    {
     "data": {
      "text/html": "<div>\n<style scoped>\n    .dataframe tbody tr th:only-of-type {\n        vertical-align: middle;\n    }\n\n    .dataframe tbody tr th {\n        vertical-align: top;\n    }\n\n    .dataframe thead th {\n        text-align: right;\n    }\n</style>\n<table border=\"1\" class=\"dataframe\">\n  <thead>\n    <tr style=\"text-align: right;\">\n      <th>title</th>\n      <th>'Til There Was You (1997)</th>\n      <th>1-900 (1994)</th>\n      <th>101 Dalmatians (1996)</th>\n      <th>12 Angry Men (1957)</th>\n      <th>187 (1997)</th>\n      <th>2 Days in the Valley (1996)</th>\n      <th>20,000 Leagues Under the Sea (1954)</th>\n      <th>2001: A Space Odyssey (1968)</th>\n      <th>3 Ninjas: High Noon At Mega Mountain (1998)</th>\n      <th>39 Steps, The (1935)</th>\n      <th>...</th>\n      <th>Yankee Zulu (1994)</th>\n      <th>Year of the Horse (1997)</th>\n      <th>You So Crazy (1994)</th>\n      <th>Young Frankenstein (1974)</th>\n      <th>Young Guns (1988)</th>\n      <th>Young Guns II (1990)</th>\n      <th>Young Poisoner's Handbook, The (1995)</th>\n      <th>Zeus and Roxanne (1997)</th>\n      <th>unknown</th>\n      <th>Á köldum klaka (Cold Fever) (1994)</th>\n    </tr>\n    <tr>\n      <th>user_id</th>\n      <th></th>\n      <th></th>\n      <th></th>\n      <th></th>\n      <th></th>\n      <th></th>\n      <th></th>\n      <th></th>\n      <th></th>\n      <th></th>\n      <th></th>\n      <th></th>\n      <th></th>\n      <th></th>\n      <th></th>\n      <th></th>\n      <th></th>\n      <th></th>\n      <th></th>\n      <th></th>\n      <th></th>\n    </tr>\n  </thead>\n  <tbody>\n    <tr>\n      <th>0</th>\n      <td>NaN</td>\n      <td>NaN</td>\n      <td>NaN</td>\n      <td>NaN</td>\n      <td>NaN</td>\n      <td>NaN</td>\n      <td>NaN</td>\n      <td>NaN</td>\n      <td>NaN</td>\n      <td>NaN</td>\n      <td>...</td>\n      <td>NaN</td>\n      <td>NaN</td>\n      <td>NaN</td>\n      <td>NaN</td>\n      <td>NaN</td>\n      <td>NaN</td>\n      <td>NaN</td>\n      <td>NaN</td>\n      <td>NaN</td>\n      <td>NaN</td>\n    </tr>\n    <tr>\n      <th>1</th>\n      <td>NaN</td>\n      <td>NaN</td>\n      <td>2.0</td>\n      <td>5.0</td>\n      <td>NaN</td>\n      <td>NaN</td>\n      <td>3.0</td>\n      <td>4.0</td>\n      <td>NaN</td>\n      <td>NaN</td>\n      <td>...</td>\n      <td>NaN</td>\n      <td>NaN</td>\n      <td>NaN</td>\n      <td>5.0</td>\n      <td>3.0</td>\n      <td>NaN</td>\n      <td>NaN</td>\n      <td>NaN</td>\n      <td>4.0</td>\n      <td>NaN</td>\n    </tr>\n    <tr>\n      <th>2</th>\n      <td>NaN</td>\n      <td>NaN</td>\n      <td>NaN</td>\n      <td>NaN</td>\n      <td>NaN</td>\n      <td>NaN</td>\n      <td>NaN</td>\n      <td>NaN</td>\n      <td>1.0</td>\n      <td>NaN</td>\n      <td>...</td>\n      <td>NaN</td>\n      <td>NaN</td>\n      <td>NaN</td>\n      <td>NaN</td>\n      <td>NaN</td>\n      <td>NaN</td>\n      <td>NaN</td>\n      <td>NaN</td>\n      <td>NaN</td>\n      <td>NaN</td>\n    </tr>\n    <tr>\n      <th>3</th>\n      <td>NaN</td>\n      <td>NaN</td>\n      <td>NaN</td>\n      <td>NaN</td>\n      <td>2.0</td>\n      <td>NaN</td>\n      <td>NaN</td>\n      <td>NaN</td>\n      <td>NaN</td>\n      <td>NaN</td>\n      <td>...</td>\n      <td>NaN</td>\n      <td>NaN</td>\n      <td>NaN</td>\n      <td>NaN</td>\n      <td>NaN</td>\n      <td>NaN</td>\n      <td>NaN</td>\n      <td>NaN</td>\n      <td>NaN</td>\n      <td>NaN</td>\n    </tr>\n    <tr>\n      <th>4</th>\n      <td>NaN</td>\n      <td>NaN</td>\n      <td>NaN</td>\n      <td>NaN</td>\n      <td>NaN</td>\n      <td>NaN</td>\n      <td>NaN</td>\n      <td>NaN</td>\n      <td>NaN</td>\n      <td>NaN</td>\n      <td>...</td>\n      <td>NaN</td>\n      <td>NaN</td>\n      <td>NaN</td>\n      <td>NaN</td>\n      <td>NaN</td>\n      <td>NaN</td>\n      <td>NaN</td>\n      <td>NaN</td>\n      <td>NaN</td>\n      <td>NaN</td>\n    </tr>\n  </tbody>\n</table>\n<p>5 rows × 1664 columns</p>\n</div>",
      "text/plain": "title    'Til There Was You (1997)  1-900 (1994)  101 Dalmatians (1996)  \\\nuser_id                                                                   \n0                              NaN           NaN                    NaN   \n1                              NaN           NaN                    2.0   \n2                              NaN           NaN                    NaN   \n3                              NaN           NaN                    NaN   \n4                              NaN           NaN                    NaN   \n\ntitle    12 Angry Men (1957)  187 (1997)  2 Days in the Valley (1996)  \\\nuser_id                                                                 \n0                        NaN         NaN                          NaN   \n1                        5.0         NaN                          NaN   \n2                        NaN         NaN                          NaN   \n3                        NaN         2.0                          NaN   \n4                        NaN         NaN                          NaN   \n\ntitle    20,000 Leagues Under the Sea (1954)  2001: A Space Odyssey (1968)  \\\nuser_id                                                                      \n0                                        NaN                           NaN   \n1                                        3.0                           4.0   \n2                                        NaN                           NaN   \n3                                        NaN                           NaN   \n4                                        NaN                           NaN   \n\ntitle    3 Ninjas: High Noon At Mega Mountain (1998)  39 Steps, The (1935)  \\\nuser_id                                                                      \n0                                                NaN                   NaN   \n1                                                NaN                   NaN   \n2                                                1.0                   NaN   \n3                                                NaN                   NaN   \n4                                                NaN                   NaN   \n\ntitle    ...  Yankee Zulu (1994)  Year of the Horse (1997)  \\\nuser_id  ...                                                 \n0        ...                 NaN                       NaN   \n1        ...                 NaN                       NaN   \n2        ...                 NaN                       NaN   \n3        ...                 NaN                       NaN   \n4        ...                 NaN                       NaN   \n\ntitle    You So Crazy (1994)  Young Frankenstein (1974)  Young Guns (1988)  \\\nuser_id                                                                      \n0                        NaN                        NaN                NaN   \n1                        NaN                        5.0                3.0   \n2                        NaN                        NaN                NaN   \n3                        NaN                        NaN                NaN   \n4                        NaN                        NaN                NaN   \n\ntitle    Young Guns II (1990)  Young Poisoner's Handbook, The (1995)  \\\nuser_id                                                                \n0                         NaN                                    NaN   \n1                         NaN                                    NaN   \n2                         NaN                                    NaN   \n3                         NaN                                    NaN   \n4                         NaN                                    NaN   \n\ntitle    Zeus and Roxanne (1997)  unknown  Á köldum klaka (Cold Fever) (1994)  \nuser_id                                                                        \n0                            NaN      NaN                                 NaN  \n1                            NaN      4.0                                 NaN  \n2                            NaN      NaN                                 NaN  \n3                            NaN      NaN                                 NaN  \n4                            NaN      NaN                                 NaN  \n\n[5 rows x 1664 columns]"
     },
     "execution_count": 50,
     "metadata": {},
     "output_type": "execute_result"
    }
   ],
   "source": [
    "userid_movieTitle_matrix.head()"
   ]
  },
  {
   "cell_type": "code",
   "execution_count": null,
   "metadata": {},
   "outputs": [],
   "source": []
  },
  {
   "cell_type": "markdown",
   "metadata": {},
   "source": [
    "## corrwith() 특정컬럼값 상관관계 분석"
   ]
  },
  {
   "cell_type": "code",
   "execution_count": 51,
   "metadata": {},
   "outputs": [
    {
     "data": {
      "text/plain": "user_id\n0      NaN\n1      4.0\n2      NaN\n3      NaN\n4      NaN\n      ... \n939    NaN\n940    NaN\n941    NaN\n942    3.0\n943    NaN\nName: 2001: A Space Odyssey (1968), Length: 944, dtype: float64"
     },
     "execution_count": 51,
     "metadata": {},
     "output_type": "execute_result"
    }
   ],
   "source": [
    "userid_movieTitle_matrix['2001: A Space Odyssey (1968)']"
   ]
  },
  {
   "cell_type": "code",
   "execution_count": 52,
   "metadata": {},
   "outputs": [
    {
     "data": {
      "text/plain": "title\n'Til There Was You (1997)               -0.426401\n1-900 (1994)                            -0.981981\n101 Dalmatians (1996)                   -0.043407\n12 Angry Men (1957)                      0.178848\n187 (1997)                              -0.554700\n                                           ...   \nYoung Guns II (1990)                    -0.154765\nYoung Poisoner's Handbook, The (1995)   -0.341753\nZeus and Roxanne (1997)                 -1.000000\nunknown                                  0.000000\nÁ köldum klaka (Cold Fever) (1994)            NaN\nLength: 1664, dtype: float64"
     },
     "execution_count": 52,
     "metadata": {},
     "output_type": "execute_result"
    }
   ],
   "source": [
    "# 특정 1컬럼 대 다수 컬럼 비교\n",
    "userid_movieTitle_matrix.corrwith(userid_movieTitle_matrix['2001: A Space Odyssey (1968)'] )"
   ]
  },
  {
   "cell_type": "code",
   "execution_count": 54,
   "metadata": {},
   "outputs": [],
   "source": [
    "# corrwith()한 결과를 저장\n",
    "a_space_odyssey_series = userid_movieTitle_matrix.corrwith(userid_movieTitle_matrix['2001: A Space Odyssey (1968)'] )\n"
   ]
  },
  {
   "cell_type": "code",
   "execution_count": 56,
   "metadata": {},
   "outputs": [
    {
     "data": {
      "text/plain": "(1664,)"
     },
     "execution_count": 56,
     "metadata": {},
     "output_type": "execute_result"
    }
   ],
   "source": [
    "a_space_odyssey_series.shape"
   ]
  },
  {
   "cell_type": "code",
   "execution_count": 57,
   "metadata": {},
   "outputs": [],
   "source": [
    "# 위의 데이터는 시리즈로 되어 있기 때문에 dataFrame으로 만들어준다\n",
    "odyssey_correlations = pd.DataFrame(data= a_space_odyssey_series, columns=['Correlation'] )"
   ]
  },
  {
   "cell_type": "code",
   "execution_count": 61,
   "metadata": {},
   "outputs": [
    {
     "data": {
      "text/html": "<div>\n<style scoped>\n    .dataframe tbody tr th:only-of-type {\n        vertical-align: middle;\n    }\n\n    .dataframe tbody tr th {\n        vertical-align: top;\n    }\n\n    .dataframe thead th {\n        text-align: right;\n    }\n</style>\n<table border=\"1\" class=\"dataframe\">\n  <thead>\n    <tr style=\"text-align: right;\">\n      <th></th>\n      <th>Correlation</th>\n    </tr>\n    <tr>\n      <th>title</th>\n      <th></th>\n    </tr>\n  </thead>\n  <tbody>\n    <tr>\n      <th>'Til There Was You (1997)</th>\n      <td>-0.426401</td>\n    </tr>\n    <tr>\n      <th>1-900 (1994)</th>\n      <td>-0.981981</td>\n    </tr>\n    <tr>\n      <th>101 Dalmatians (1996)</th>\n      <td>-0.043407</td>\n    </tr>\n    <tr>\n      <th>12 Angry Men (1957)</th>\n      <td>0.178848</td>\n    </tr>\n    <tr>\n      <th>187 (1997)</th>\n      <td>-0.554700</td>\n    </tr>\n  </tbody>\n</table>\n</div>",
      "text/plain": "                           Correlation\ntitle                                 \n'Til There Was You (1997)    -0.426401\n1-900 (1994)                 -0.981981\n101 Dalmatians (1996)        -0.043407\n12 Angry Men (1957)           0.178848\n187 (1997)                   -0.554700"
     },
     "execution_count": 61,
     "metadata": {},
     "output_type": "execute_result"
    }
   ],
   "source": [
    "odyssey_correlations.head()"
   ]
  },
  {
   "cell_type": "code",
   "execution_count": 59,
   "metadata": {},
   "outputs": [
    {
     "data": {
      "text/plain": "(1664, 1)"
     },
     "execution_count": 59,
     "metadata": {},
     "output_type": "execute_result"
    }
   ],
   "source": [
    "odyssey_correlations.shape"
   ]
  },
  {
   "cell_type": "code",
   "execution_count": null,
   "metadata": {},
   "outputs": [],
   "source": [
    "# 기존 rating_mean_count의 'count'를 가지고 와서 합쳐준다\n",
    "# 그래야지 신뢰성이 있는 dataFrame이 된다"
   ]
  },
  {
   "cell_type": "markdown",
   "metadata": {},
   "source": [
    "join() 합치기"
   ]
  },
  {
   "cell_type": "code",
   "execution_count": 63,
   "metadata": {},
   "outputs": [],
   "source": [
    "odyssey_correlations = odyssey_correlations.join( rating_mean_count['count'] )"
   ]
  },
  {
   "cell_type": "code",
   "execution_count": 65,
   "metadata": {},
   "outputs": [
    {
     "data": {
      "text/html": "<div>\n<style scoped>\n    .dataframe tbody tr th:only-of-type {\n        vertical-align: middle;\n    }\n\n    .dataframe tbody tr th {\n        vertical-align: top;\n    }\n\n    .dataframe thead th {\n        text-align: right;\n    }\n</style>\n<table border=\"1\" class=\"dataframe\">\n  <thead>\n    <tr style=\"text-align: right;\">\n      <th></th>\n      <th>Correlation</th>\n      <th>count</th>\n    </tr>\n    <tr>\n      <th>title</th>\n      <th></th>\n      <th></th>\n    </tr>\n  </thead>\n  <tbody>\n    <tr>\n      <th>'Til There Was You (1997)</th>\n      <td>-0.426401</td>\n      <td>9</td>\n    </tr>\n    <tr>\n      <th>1-900 (1994)</th>\n      <td>-0.981981</td>\n      <td>5</td>\n    </tr>\n    <tr>\n      <th>101 Dalmatians (1996)</th>\n      <td>-0.043407</td>\n      <td>109</td>\n    </tr>\n    <tr>\n      <th>12 Angry Men (1957)</th>\n      <td>0.178848</td>\n      <td>125</td>\n    </tr>\n    <tr>\n      <th>187 (1997)</th>\n      <td>-0.554700</td>\n      <td>41</td>\n    </tr>\n  </tbody>\n</table>\n</div>",
      "text/plain": "                           Correlation  count\ntitle                                        \n'Til There Was You (1997)    -0.426401      9\n1-900 (1994)                 -0.981981      5\n101 Dalmatians (1996)        -0.043407    109\n12 Angry Men (1957)           0.178848    125\n187 (1997)                   -0.554700     41"
     },
     "execution_count": 65,
     "metadata": {},
     "output_type": "execute_result"
    }
   ],
   "source": [
    "odyssey_correlations.head()"
   ]
  },
  {
   "cell_type": "code",
   "execution_count": null,
   "metadata": {},
   "outputs": [],
   "source": [
    "# NaN 제거"
   ]
  },
  {
   "cell_type": "code",
   "execution_count": 67,
   "metadata": {},
   "outputs": [],
   "source": [
    "odyssey_correlations.dropna(inplace=True)"
   ]
  },
  {
   "cell_type": "code",
   "execution_count": null,
   "metadata": {},
   "outputs": [],
   "source": [
    "# 정렬해서, 카운트가 80명 이상인 데이터만 가져오기"
   ]
  },
  {
   "cell_type": "code",
   "execution_count": 70,
   "metadata": {},
   "outputs": [],
   "source": [
    "odyssey_correlations_80 = odyssey_correlations.loc [ odyssey_correlations['count'] >= 80, ]"
   ]
  },
  {
   "cell_type": "code",
   "execution_count": 71,
   "metadata": {},
   "outputs": [
    {
     "data": {
      "text/html": "<div>\n<style scoped>\n    .dataframe tbody tr th:only-of-type {\n        vertical-align: middle;\n    }\n\n    .dataframe tbody tr th {\n        vertical-align: top;\n    }\n\n    .dataframe thead th {\n        text-align: right;\n    }\n</style>\n<table border=\"1\" class=\"dataframe\">\n  <thead>\n    <tr style=\"text-align: right;\">\n      <th></th>\n      <th>Correlation</th>\n      <th>count</th>\n    </tr>\n    <tr>\n      <th>title</th>\n      <th></th>\n      <th></th>\n    </tr>\n  </thead>\n  <tbody>\n    <tr>\n      <th>101 Dalmatians (1996)</th>\n      <td>-0.043407</td>\n      <td>109</td>\n    </tr>\n    <tr>\n      <th>12 Angry Men (1957)</th>\n      <td>0.178848</td>\n      <td>125</td>\n    </tr>\n    <tr>\n      <th>2 Days in the Valley (1996)</th>\n      <td>0.332724</td>\n      <td>93</td>\n    </tr>\n    <tr>\n      <th>2001: A Space Odyssey (1968)</th>\n      <td>1.000000</td>\n      <td>259</td>\n    </tr>\n    <tr>\n      <th>Absolute Power (1997)</th>\n      <td>-0.241580</td>\n      <td>127</td>\n    </tr>\n  </tbody>\n</table>\n</div>",
      "text/plain": "                              Correlation  count\ntitle                                           \n101 Dalmatians (1996)           -0.043407    109\n12 Angry Men (1957)              0.178848    125\n2 Days in the Valley (1996)      0.332724     93\n2001: A Space Odyssey (1968)     1.000000    259\nAbsolute Power (1997)           -0.241580    127"
     },
     "execution_count": 71,
     "metadata": {},
     "output_type": "execute_result"
    }
   ],
   "source": [
    "odyssey_correlations_80.head()"
   ]
  },
  {
   "cell_type": "code",
   "execution_count": 73,
   "metadata": {},
   "outputs": [
    {
     "data": {
      "text/html": "<div>\n<style scoped>\n    .dataframe tbody tr th:only-of-type {\n        vertical-align: middle;\n    }\n\n    .dataframe tbody tr th {\n        vertical-align: top;\n    }\n\n    .dataframe thead th {\n        text-align: right;\n    }\n</style>\n<table border=\"1\" class=\"dataframe\">\n  <thead>\n    <tr style=\"text-align: right;\">\n      <th></th>\n      <th>Correlation</th>\n      <th>count</th>\n    </tr>\n    <tr>\n      <th>title</th>\n      <th></th>\n      <th></th>\n    </tr>\n  </thead>\n  <tbody>\n    <tr>\n      <th>2001: A Space Odyssey (1968)</th>\n      <td>1.000000</td>\n      <td>259</td>\n    </tr>\n    <tr>\n      <th>True Romance (1993)</th>\n      <td>0.459189</td>\n      <td>104</td>\n    </tr>\n    <tr>\n      <th>Natural Born Killers (1994)</th>\n      <td>0.442248</td>\n      <td>128</td>\n    </tr>\n    <tr>\n      <th>Being There (1979)</th>\n      <td>0.425009</td>\n      <td>116</td>\n    </tr>\n    <tr>\n      <th>Dr. Strangelove or: How I Learned to Stop Worrying and Love the Bomb (1963)</th>\n      <td>0.392916</td>\n      <td>194</td>\n    </tr>\n    <tr>\n      <th>Clockwork Orange, A (1971)</th>\n      <td>0.388071</td>\n      <td>221</td>\n    </tr>\n  </tbody>\n</table>\n</div>",
      "text/plain": "                                                    Correlation  count\ntitle                                                                 \n2001: A Space Odyssey (1968)                           1.000000    259\nTrue Romance (1993)                                    0.459189    104\nNatural Born Killers (1994)                            0.442248    128\nBeing There (1979)                                     0.425009    116\nDr. Strangelove or: How I Learned to Stop Worry...     0.392916    194\nClockwork Orange, A (1971)                             0.388071    221"
     },
     "execution_count": 73,
     "metadata": {},
     "output_type": "execute_result"
    }
   ],
   "source": [
    "# 상관관계가 높은 순으로 정렬 5개 (상관관계1인 자신은 제외)\n",
    "odyssey_correlations_80.sort_values(by='Correlation', ascending=False).head(6)"
   ]
  },
  {
   "cell_type": "code",
   "execution_count": null,
   "metadata": {},
   "outputs": [],
   "source": []
  },
  {
   "cell_type": "markdown",
   "metadata": {},
   "source": [
    "## 특정 컬럼명 찾기 str.lower().to_frame() 이용"
   ]
  },
  {
   "cell_type": "code",
   "execution_count": null,
   "metadata": {},
   "outputs": [],
   "source": [
    "# 예를 들어 영화 star wars를 찾을려고 할 때 정확한 컬럼명은 알 수 없는 상황에서\n",
    "# 물론csv파일을 검색해봐도 되겠지만...;;; 데이터프레임에서 확인할 수 있는 방법"
   ]
  },
  {
   "cell_type": "code",
   "execution_count": 74,
   "metadata": {},
   "outputs": [
    {
     "data": {
      "text/html": "<div>\n<style scoped>\n    .dataframe tbody tr th:only-of-type {\n        vertical-align: middle;\n    }\n\n    .dataframe tbody tr th {\n        vertical-align: top;\n    }\n\n    .dataframe thead th {\n        text-align: right;\n    }\n</style>\n<table border=\"1\" class=\"dataframe\">\n  <thead>\n    <tr style=\"text-align: right;\">\n      <th>title</th>\n      <th>'Til There Was You (1997)</th>\n      <th>1-900 (1994)</th>\n      <th>101 Dalmatians (1996)</th>\n      <th>12 Angry Men (1957)</th>\n      <th>187 (1997)</th>\n      <th>2 Days in the Valley (1996)</th>\n      <th>20,000 Leagues Under the Sea (1954)</th>\n      <th>2001: A Space Odyssey (1968)</th>\n      <th>3 Ninjas: High Noon At Mega Mountain (1998)</th>\n      <th>39 Steps, The (1935)</th>\n      <th>...</th>\n      <th>Yankee Zulu (1994)</th>\n      <th>Year of the Horse (1997)</th>\n      <th>You So Crazy (1994)</th>\n      <th>Young Frankenstein (1974)</th>\n      <th>Young Guns (1988)</th>\n      <th>Young Guns II (1990)</th>\n      <th>Young Poisoner's Handbook, The (1995)</th>\n      <th>Zeus and Roxanne (1997)</th>\n      <th>unknown</th>\n      <th>Á köldum klaka (Cold Fever) (1994)</th>\n    </tr>\n    <tr>\n      <th>user_id</th>\n      <th></th>\n      <th></th>\n      <th></th>\n      <th></th>\n      <th></th>\n      <th></th>\n      <th></th>\n      <th></th>\n      <th></th>\n      <th></th>\n      <th></th>\n      <th></th>\n      <th></th>\n      <th></th>\n      <th></th>\n      <th></th>\n      <th></th>\n      <th></th>\n      <th></th>\n      <th></th>\n      <th></th>\n    </tr>\n  </thead>\n  <tbody>\n    <tr>\n      <th>0</th>\n      <td>NaN</td>\n      <td>NaN</td>\n      <td>NaN</td>\n      <td>NaN</td>\n      <td>NaN</td>\n      <td>NaN</td>\n      <td>NaN</td>\n      <td>NaN</td>\n      <td>NaN</td>\n      <td>NaN</td>\n      <td>...</td>\n      <td>NaN</td>\n      <td>NaN</td>\n      <td>NaN</td>\n      <td>NaN</td>\n      <td>NaN</td>\n      <td>NaN</td>\n      <td>NaN</td>\n      <td>NaN</td>\n      <td>NaN</td>\n      <td>NaN</td>\n    </tr>\n    <tr>\n      <th>1</th>\n      <td>NaN</td>\n      <td>NaN</td>\n      <td>2.0</td>\n      <td>5.0</td>\n      <td>NaN</td>\n      <td>NaN</td>\n      <td>3.0</td>\n      <td>4.0</td>\n      <td>NaN</td>\n      <td>NaN</td>\n      <td>...</td>\n      <td>NaN</td>\n      <td>NaN</td>\n      <td>NaN</td>\n      <td>5.0</td>\n      <td>3.0</td>\n      <td>NaN</td>\n      <td>NaN</td>\n      <td>NaN</td>\n      <td>4.0</td>\n      <td>NaN</td>\n    </tr>\n    <tr>\n      <th>2</th>\n      <td>NaN</td>\n      <td>NaN</td>\n      <td>NaN</td>\n      <td>NaN</td>\n      <td>NaN</td>\n      <td>NaN</td>\n      <td>NaN</td>\n      <td>NaN</td>\n      <td>1.0</td>\n      <td>NaN</td>\n      <td>...</td>\n      <td>NaN</td>\n      <td>NaN</td>\n      <td>NaN</td>\n      <td>NaN</td>\n      <td>NaN</td>\n      <td>NaN</td>\n      <td>NaN</td>\n      <td>NaN</td>\n      <td>NaN</td>\n      <td>NaN</td>\n    </tr>\n    <tr>\n      <th>3</th>\n      <td>NaN</td>\n      <td>NaN</td>\n      <td>NaN</td>\n      <td>NaN</td>\n      <td>2.0</td>\n      <td>NaN</td>\n      <td>NaN</td>\n      <td>NaN</td>\n      <td>NaN</td>\n      <td>NaN</td>\n      <td>...</td>\n      <td>NaN</td>\n      <td>NaN</td>\n      <td>NaN</td>\n      <td>NaN</td>\n      <td>NaN</td>\n      <td>NaN</td>\n      <td>NaN</td>\n      <td>NaN</td>\n      <td>NaN</td>\n      <td>NaN</td>\n    </tr>\n    <tr>\n      <th>4</th>\n      <td>NaN</td>\n      <td>NaN</td>\n      <td>NaN</td>\n      <td>NaN</td>\n      <td>NaN</td>\n      <td>NaN</td>\n      <td>NaN</td>\n      <td>NaN</td>\n      <td>NaN</td>\n      <td>NaN</td>\n      <td>...</td>\n      <td>NaN</td>\n      <td>NaN</td>\n      <td>NaN</td>\n      <td>NaN</td>\n      <td>NaN</td>\n      <td>NaN</td>\n      <td>NaN</td>\n      <td>NaN</td>\n      <td>NaN</td>\n      <td>NaN</td>\n    </tr>\n  </tbody>\n</table>\n<p>5 rows × 1664 columns</p>\n</div>",
      "text/plain": "title    'Til There Was You (1997)  1-900 (1994)  101 Dalmatians (1996)  \\\nuser_id                                                                   \n0                              NaN           NaN                    NaN   \n1                              NaN           NaN                    2.0   \n2                              NaN           NaN                    NaN   \n3                              NaN           NaN                    NaN   \n4                              NaN           NaN                    NaN   \n\ntitle    12 Angry Men (1957)  187 (1997)  2 Days in the Valley (1996)  \\\nuser_id                                                                 \n0                        NaN         NaN                          NaN   \n1                        5.0         NaN                          NaN   \n2                        NaN         NaN                          NaN   \n3                        NaN         2.0                          NaN   \n4                        NaN         NaN                          NaN   \n\ntitle    20,000 Leagues Under the Sea (1954)  2001: A Space Odyssey (1968)  \\\nuser_id                                                                      \n0                                        NaN                           NaN   \n1                                        3.0                           4.0   \n2                                        NaN                           NaN   \n3                                        NaN                           NaN   \n4                                        NaN                           NaN   \n\ntitle    3 Ninjas: High Noon At Mega Mountain (1998)  39 Steps, The (1935)  \\\nuser_id                                                                      \n0                                                NaN                   NaN   \n1                                                NaN                   NaN   \n2                                                1.0                   NaN   \n3                                                NaN                   NaN   \n4                                                NaN                   NaN   \n\ntitle    ...  Yankee Zulu (1994)  Year of the Horse (1997)  \\\nuser_id  ...                                                 \n0        ...                 NaN                       NaN   \n1        ...                 NaN                       NaN   \n2        ...                 NaN                       NaN   \n3        ...                 NaN                       NaN   \n4        ...                 NaN                       NaN   \n\ntitle    You So Crazy (1994)  Young Frankenstein (1974)  Young Guns (1988)  \\\nuser_id                                                                      \n0                        NaN                        NaN                NaN   \n1                        NaN                        5.0                3.0   \n2                        NaN                        NaN                NaN   \n3                        NaN                        NaN                NaN   \n4                        NaN                        NaN                NaN   \n\ntitle    Young Guns II (1990)  Young Poisoner's Handbook, The (1995)  \\\nuser_id                                                                \n0                         NaN                                    NaN   \n1                         NaN                                    NaN   \n2                         NaN                                    NaN   \n3                         NaN                                    NaN   \n4                         NaN                                    NaN   \n\ntitle    Zeus and Roxanne (1997)  unknown  Á köldum klaka (Cold Fever) (1994)  \nuser_id                                                                        \n0                            NaN      NaN                                 NaN  \n1                            NaN      4.0                                 NaN  \n2                            NaN      NaN                                 NaN  \n3                            NaN      NaN                                 NaN  \n4                            NaN      NaN                                 NaN  \n\n[5 rows x 1664 columns]"
     },
     "execution_count": 74,
     "metadata": {},
     "output_type": "execute_result"
    }
   ],
   "source": [
    "userid_movieTitle_matrix.head()"
   ]
  },
  {
   "cell_type": "code",
   "execution_count": null,
   "metadata": {},
   "outputs": [],
   "source": [
    "# userid_movieTitle_matrix 는 컬럼명으로 각 영화 타이틀로 들어가져 있어서 찾기가 곤란\n",
    "# 그래서 기존의 title이 들어간 데이터프레임으로 찾아본다"
   ]
  },
  {
   "cell_type": "code",
   "execution_count": 75,
   "metadata": {},
   "outputs": [
    {
     "data": {
      "text/html": "<div>\n<style scoped>\n    .dataframe tbody tr th:only-of-type {\n        vertical-align: middle;\n    }\n\n    .dataframe tbody tr th {\n        vertical-align: top;\n    }\n\n    .dataframe thead th {\n        text-align: right;\n    }\n</style>\n<table border=\"1\" class=\"dataframe\">\n  <thead>\n    <tr style=\"text-align: right;\">\n      <th></th>\n      <th>item_id</th>\n      <th>title</th>\n    </tr>\n  </thead>\n  <tbody>\n    <tr>\n      <th>0</th>\n      <td>1</td>\n      <td>Toy Story (1995)</td>\n    </tr>\n    <tr>\n      <th>1</th>\n      <td>2</td>\n      <td>GoldenEye (1995)</td>\n    </tr>\n    <tr>\n      <th>2</th>\n      <td>3</td>\n      <td>Four Rooms (1995)</td>\n    </tr>\n    <tr>\n      <th>3</th>\n      <td>4</td>\n      <td>Get Shorty (1995)</td>\n    </tr>\n    <tr>\n      <th>4</th>\n      <td>5</td>\n      <td>Copycat (1995)</td>\n    </tr>\n  </tbody>\n</table>\n</div>",
      "text/plain": "   item_id              title\n0        1   Toy Story (1995)\n1        2   GoldenEye (1995)\n2        3  Four Rooms (1995)\n3        4  Get Shorty (1995)\n4        5     Copycat (1995)"
     },
     "execution_count": 75,
     "metadata": {},
     "output_type": "execute_result"
    }
   ],
   "source": [
    "# 기존의 타이틀이 들어간 df를 활용\n",
    "movie_titles_df.head()"
   ]
  },
  {
   "cell_type": "code",
   "execution_count": 79,
   "metadata": {},
   "outputs": [
    {
     "data": {
      "text/plain": "0                                toy story (1995)\n1                                goldeneye (1995)\n2                               four rooms (1995)\n3                               get shorty (1995)\n4                                  copycat (1995)\n                          ...                    \n1677                            mat' i syn (1997)\n1678                             b. monkey (1998)\n1679                         sliding doors (1998)\n1680                          you so crazy (1994)\n1681    scream of stone (schrei aus stein) (1991)\nName: title, Length: 1682, dtype: object"
     },
     "execution_count": 79,
     "metadata": {},
     "output_type": "execute_result"
    }
   ],
   "source": [
    "movie_titles_df['title'].str.lower()"
   ]
  },
  {
   "cell_type": "code",
   "execution_count": 80,
   "metadata": {},
   "outputs": [],
   "source": [
    "# 위의 결과를 데이터프레임으로 보기 to_frame()\n",
    "# 이렇게 하는 이유는 시리즈 데이터에서는 contains()를 이용해서 특정 문자열 찾기가 어려워서 \n",
    "my_title_df = movie_titles_df['title'].str.lower().to_frame()"
   ]
  },
  {
   "cell_type": "code",
   "execution_count": 82,
   "metadata": {},
   "outputs": [
    {
     "data": {
      "text/plain": "0       False\n1       False\n2       False\n3       False\n4       False\n        ...  \n1677    False\n1678    False\n1679    False\n1680    False\n1681    False\nName: title, Length: 1682, dtype: bool"
     },
     "execution_count": 82,
     "metadata": {},
     "output_type": "execute_result"
    }
   ],
   "source": [
    "my_title_df['title'].str.contains('star wars')"
   ]
  },
  {
   "cell_type": "code",
   "execution_count": 83,
   "metadata": {},
   "outputs": [
    {
     "data": {
      "text/html": "<div>\n<style scoped>\n    .dataframe tbody tr th:only-of-type {\n        vertical-align: middle;\n    }\n\n    .dataframe tbody tr th {\n        vertical-align: top;\n    }\n\n    .dataframe thead th {\n        text-align: right;\n    }\n</style>\n<table border=\"1\" class=\"dataframe\">\n  <thead>\n    <tr style=\"text-align: right;\">\n      <th></th>\n      <th>title</th>\n    </tr>\n  </thead>\n  <tbody>\n    <tr>\n      <th>49</th>\n      <td>star wars (1977)</td>\n    </tr>\n  </tbody>\n</table>\n</div>",
      "text/plain": "               title\n49  star wars (1977)"
     },
     "execution_count": 83,
     "metadata": {},
     "output_type": "execute_result"
    }
   ],
   "source": [
    "my_title_df.loc [ my_title_df['title'].str.contains('star wars'), ]"
   ]
  },
  {
   "cell_type": "code",
   "execution_count": 85,
   "metadata": {},
   "outputs": [],
   "source": [
    "# 위의 흐름을 좀 더 짧게 하면 \n",
    "my_star_was_title = movie_titles_df.loc [ movie_titles_df['title'].str.lower().to_frame()\\\n",
    "    ['title'].str.contains('star wars'), ]"
   ]
  },
  {
   "cell_type": "code",
   "execution_count": 86,
   "metadata": {},
   "outputs": [
    {
     "data": {
      "text/html": "<div>\n<style scoped>\n    .dataframe tbody tr th:only-of-type {\n        vertical-align: middle;\n    }\n\n    .dataframe tbody tr th {\n        vertical-align: top;\n    }\n\n    .dataframe thead th {\n        text-align: right;\n    }\n</style>\n<table border=\"1\" class=\"dataframe\">\n  <thead>\n    <tr style=\"text-align: right;\">\n      <th></th>\n      <th>item_id</th>\n      <th>title</th>\n    </tr>\n  </thead>\n  <tbody>\n    <tr>\n      <th>49</th>\n      <td>50</td>\n      <td>Star Wars (1977)</td>\n    </tr>\n  </tbody>\n</table>\n</div>",
      "text/plain": "    item_id             title\n49       50  Star Wars (1977)"
     },
     "execution_count": 86,
     "metadata": {},
     "output_type": "execute_result"
    }
   ],
   "source": [
    "my_star_was_title"
   ]
  },
  {
   "cell_type": "code",
   "execution_count": null,
   "metadata": {},
   "outputs": [],
   "source": []
  },
  {
   "cell_type": "markdown",
   "metadata": {},
   "source": [
    "위의 찾은 결과로 다시 correlation을 df를 만들어서 하면됨"
   ]
  }
 ],
 "metadata": {
  "kernelspec": {
   "display_name": "Python 3",
   "language": "python",
   "name": "python3"
  },
  "language_info": {
   "codemirror_mode": {
    "name": "ipython",
    "version": 3
   },
   "file_extension": ".py",
   "mimetype": "text/x-python",
   "name": "python",
   "nbconvert_exporter": "python",
   "pygments_lexer": "ipython3",
   "version": "3.8.5"
  },
  "orig_nbformat": 2
 },
 "nbformat": 4,
 "nbformat_minor": 2
}