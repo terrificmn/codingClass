{
 "cells": [
  {
   "cell_type": "code",
   "execution_count": 2,
   "metadata": {},
   "outputs": [],
   "source": [
    "import numpy as np\n",
    "import pandas as pd\n",
    "import matplotlib.pyplot as plt\n",
    "%matplotlib inline"
   ]
  },
  {
   "cell_type": "code",
   "execution_count": 3,
   "metadata": {},
   "outputs": [],
   "source": [
    "df = pd.read_csv('Mall_Customers.csv')"
   ]
  },
  {
   "cell_type": "code",
   "execution_count": null,
   "metadata": {},
   "outputs": [],
   "source": [
    "# unsupervised learning 임을 기억하자\n",
    "# 지도할 수 없는 학습. 즉, 정답이 없다\n",
    "# 비교할 y가 없다, 불필요하게 됨"
   ]
  },
  {
   "cell_type": "code",
   "execution_count": 4,
   "metadata": {},
   "outputs": [
    {
     "data": {
      "text/html": "<div>\n<style scoped>\n    .dataframe tbody tr th:only-of-type {\n        vertical-align: middle;\n    }\n\n    .dataframe tbody tr th {\n        vertical-align: top;\n    }\n\n    .dataframe thead th {\n        text-align: right;\n    }\n</style>\n<table border=\"1\" class=\"dataframe\">\n  <thead>\n    <tr style=\"text-align: right;\">\n      <th></th>\n      <th>CustomerID</th>\n      <th>Genre</th>\n      <th>Age</th>\n      <th>Annual Income (k$)</th>\n      <th>Spending Score (1-100)</th>\n    </tr>\n  </thead>\n  <tbody>\n    <tr>\n      <th>0</th>\n      <td>1</td>\n      <td>Male</td>\n      <td>19</td>\n      <td>15</td>\n      <td>39</td>\n    </tr>\n    <tr>\n      <th>1</th>\n      <td>2</td>\n      <td>Male</td>\n      <td>21</td>\n      <td>15</td>\n      <td>81</td>\n    </tr>\n    <tr>\n      <th>2</th>\n      <td>3</td>\n      <td>Female</td>\n      <td>20</td>\n      <td>16</td>\n      <td>6</td>\n    </tr>\n    <tr>\n      <th>3</th>\n      <td>4</td>\n      <td>Female</td>\n      <td>23</td>\n      <td>16</td>\n      <td>77</td>\n    </tr>\n    <tr>\n      <th>4</th>\n      <td>5</td>\n      <td>Female</td>\n      <td>31</td>\n      <td>17</td>\n      <td>40</td>\n    </tr>\n  </tbody>\n</table>\n</div>",
      "text/plain": "   CustomerID   Genre  Age  Annual Income (k$)  Spending Score (1-100)\n0           1    Male   19                  15                      39\n1           2    Male   21                  15                      81\n2           3  Female   20                  16                       6\n3           4  Female   23                  16                      77\n4           5  Female   31                  17                      40"
     },
     "execution_count": 4,
     "metadata": {},
     "output_type": "execute_result"
    }
   ],
   "source": [
    "df.head()"
   ]
  },
  {
   "cell_type": "code",
   "execution_count": 8,
   "metadata": {},
   "outputs": [],
   "source": [
    "X = df.loc[:, ['Annual Income (k$)', 'Spending Score (1-100)'] ]"
   ]
  },
  {
   "cell_type": "code",
   "execution_count": 7,
   "metadata": {},
   "outputs": [
    {
     "data": {
      "text/html": "<div>\n<style scoped>\n    .dataframe tbody tr th:only-of-type {\n        vertical-align: middle;\n    }\n\n    .dataframe tbody tr th {\n        vertical-align: top;\n    }\n\n    .dataframe thead th {\n        text-align: right;\n    }\n</style>\n<table border=\"1\" class=\"dataframe\">\n  <thead>\n    <tr style=\"text-align: right;\">\n      <th></th>\n      <th>Age</th>\n      <th>Annual Income (k$)</th>\n    </tr>\n  </thead>\n  <tbody>\n    <tr>\n      <th>0</th>\n      <td>19</td>\n      <td>15</td>\n    </tr>\n    <tr>\n      <th>1</th>\n      <td>21</td>\n      <td>15</td>\n    </tr>\n    <tr>\n      <th>2</th>\n      <td>20</td>\n      <td>16</td>\n    </tr>\n    <tr>\n      <th>3</th>\n      <td>23</td>\n      <td>16</td>\n    </tr>\n    <tr>\n      <th>4</th>\n      <td>31</td>\n      <td>17</td>\n    </tr>\n  </tbody>\n</table>\n</div>",
      "text/plain": "   Age  Annual Income (k$)\n0   19                  15\n1   21                  15\n2   20                  16\n3   23                  16\n4   31                  17"
     },
     "execution_count": 7,
     "metadata": {},
     "output_type": "execute_result"
    }
   ],
   "source": [
    "X.head()"
   ]
  },
  {
   "cell_type": "code",
   "execution_count": null,
   "metadata": {},
   "outputs": [],
   "source": [
    "# unsupervised learning 이므로 trainSET과 testSet을 나눌 필요가 없다\n",
    "# 왜냐면 정답이 없으므로 맞춰볼 필요가 없다"
   ]
  },
  {
   "cell_type": "markdown",
   "metadata": {},
   "source": [
    "KMeans 불러오기"
   ]
  },
  {
   "cell_type": "code",
   "execution_count": 9,
   "metadata": {},
   "outputs": [],
   "source": [
    "from sklearn.cluster import KMeans"
   ]
  },
  {
   "cell_type": "code",
   "execution_count": 10,
   "metadata": {},
   "outputs": [],
   "source": [
    "# 인스턴스생성\n",
    "km = KMeans(n_clusters= 3, init='k-means++', random_state= 7)"
   ]
  },
  {
   "cell_type": "markdown",
   "metadata": {},
   "source": [
    "fit_predict(X)"
   ]
  },
  {
   "cell_type": "code",
   "execution_count": 12,
   "metadata": {},
   "outputs": [],
   "source": [
    "y_pred_km = km.fit_predict(X)"
   ]
  },
  {
   "cell_type": "code",
   "execution_count": 13,
   "metadata": {},
   "outputs": [
    {
     "data": {
      "text/plain": "array([1, 1, 1, 1, 1, 1, 1, 1, 1, 1, 1, 1, 1, 1, 1, 1, 1, 1, 1, 1, 1, 1,\n       1, 1, 1, 1, 1, 1, 1, 1, 1, 1, 1, 1, 1, 1, 1, 1, 1, 1, 1, 1, 1, 1,\n       1, 1, 1, 1, 1, 1, 1, 1, 1, 1, 1, 1, 1, 1, 1, 1, 1, 1, 1, 1, 1, 1,\n       1, 1, 1, 1, 1, 1, 1, 1, 1, 1, 1, 1, 1, 1, 1, 1, 1, 1, 1, 1, 1, 1,\n       1, 1, 1, 1, 1, 1, 1, 1, 1, 1, 1, 1, 1, 1, 1, 1, 1, 1, 1, 1, 1, 1,\n       1, 1, 1, 1, 1, 1, 1, 1, 1, 1, 1, 1, 1, 2, 0, 2, 0, 2, 0, 2, 0, 2,\n       0, 2, 0, 2, 0, 2, 0, 2, 0, 2, 0, 2, 0, 2, 0, 2, 0, 2, 0, 2, 0, 2,\n       0, 2, 0, 2, 0, 2, 0, 2, 0, 2, 0, 2, 0, 2, 0, 2, 0, 2, 0, 2, 0, 2,\n       0, 2, 0, 2, 0, 2, 0, 2, 0, 2, 0, 2, 0, 2, 0, 2, 0, 2, 0, 2, 0, 2,\n       0, 2], dtype=int32)"
     },
     "execution_count": 13,
     "metadata": {},
     "output_type": "execute_result"
    }
   ],
   "source": [
    "y_pred_km"
   ]
  },
  {
   "cell_type": "code",
   "execution_count": null,
   "metadata": {},
   "outputs": [],
   "source": []
  },
  {
   "cell_type": "markdown",
   "metadata": {},
   "source": [
    "wcss를 이용 최적의 결과 찾기"
   ]
  },
  {
   "cell_type": "code",
   "execution_count": 23,
   "metadata": {},
   "outputs": [],
   "source": [
    "wcss = []\n",
    "for i in np.arange(1, 10+1):\n",
    "    km = KMeans(n_clusters= i, init='k-means++', random_state= 777)\n",
    "    # 여기에서는 학습을 시킴\n",
    "    km.fit(X)\n",
    "    #inertia_ 속성을 wcss 리스트에 계속 추가, (wcss방법으로 계산 한 것)\n",
    "    wcss.append(km.inertia_)"
   ]
  },
  {
   "cell_type": "code",
   "execution_count": 25,
   "metadata": {},
   "outputs": [
    {
     "data": {
      "text/plain": "[269981.28000000014,\n 181363.59595959607,\n 106348.37306211119,\n 73679.78903948837,\n 44448.45544793369,\n 37233.81451071002,\n 30273.394312070028,\n 25011.839349156595,\n 21818.11458845217,\n 19641.456216651564]"
     },
     "execution_count": 25,
     "metadata": {},
     "output_type": "execute_result"
    }
   ],
   "source": [
    "wcss"
   ]
  },
  {
   "cell_type": "markdown",
   "metadata": {},
   "source": [
    "the Elbow Method 로 찾아내기"
   ]
  },
  {
   "cell_type": "code",
   "execution_count": 26,
   "metadata": {},
   "outputs": [
    {
     "data": {
      "image/png": "[encoded data removed]",
      "text/plain": "<Figure size 432x288 with 1 Axes>"
     },
     "metadata": {
      "needs_background": "light",
      "transient": {}
     },
     "output_type": "display_data"
    }
   ],
   "source": [
    "plt.plot (np.arange(1,10+1), wcss)\n",
    "plt.title( 'the Elbow Method')\n",
    "plt.xlabel('Nuber of Clusters')\n",
    "plt.ylabel('wcss')\n",
    "plt.show()"
   ]
  },
  {
   "cell_type": "code",
   "execution_count": null,
   "metadata": {},
   "outputs": [],
   "source": [
    "# 위의 차트를 보고 정하기\n",
    "# 선이 가파르게 떨어지면 그룹화가 늘어났을 때 제대로 그룹화가 된 것\n",
    "# 선이 완만해지면 그룹화가 더 되어도 큰 차이는 없고 세분화가 되어 지는 것\n",
    "# 그러므로 위에서는 5가 좋아보임\n",
    "# 그러면 이제 다시 K-means의 파라미터를 n_clusters=5 로 넣어주면서 인스턴스 시키자\n",
    "# fit_predict(X) 를 시키면 됨"
   ]
  },
  {
   "cell_type": "code",
   "execution_count": null,
   "metadata": {},
   "outputs": [],
   "source": []
  },
  {
   "cell_type": "markdown",
   "metadata": {},
   "source": [
    "최적 결과로 다시 KMeans(n_clusters=) 하기"
   ]
  },
  {
   "cell_type": "code",
   "execution_count": 27,
   "metadata": {},
   "outputs": [],
   "source": [
    "km = KMeans(n_clusters=5, init='k-means++', random_state=0)"
   ]
  },
  {
   "cell_type": "markdown",
   "metadata": {},
   "source": [
    ".fit_predict(X)"
   ]
  },
  {
   "cell_type": "code",
   "execution_count": 28,
   "metadata": {},
   "outputs": [],
   "source": [
    "y_km = km.fit_predict(X)"
   ]
  },
  {
   "cell_type": "code",
   "execution_count": 29,
   "metadata": {},
   "outputs": [
    {
     "data": {
      "text/plain": "array([3, 1, 3, 1, 3, 1, 3, 1, 3, 1, 3, 1, 3, 1, 3, 1, 3, 1, 3, 1, 3, 1,\n       3, 1, 3, 1, 3, 1, 3, 1, 3, 1, 3, 1, 3, 1, 3, 1, 3, 1, 3, 1, 3, 0,\n       3, 1, 0, 0, 0, 0, 0, 0, 0, 0, 0, 0, 0, 0, 0, 0, 0, 0, 0, 0, 0, 0,\n       0, 0, 0, 0, 0, 0, 0, 0, 0, 0, 0, 0, 0, 0, 0, 0, 0, 0, 0, 0, 0, 0,\n       0, 0, 0, 0, 0, 0, 0, 0, 0, 0, 0, 0, 0, 0, 0, 0, 0, 0, 0, 0, 0, 0,\n       0, 0, 0, 0, 0, 0, 0, 0, 0, 0, 0, 0, 0, 2, 4, 2, 0, 2, 4, 2, 4, 2,\n       0, 2, 4, 2, 4, 2, 4, 2, 4, 2, 0, 2, 4, 2, 4, 2, 4, 2, 4, 2, 4, 2,\n       4, 2, 4, 2, 4, 2, 4, 2, 4, 2, 4, 2, 4, 2, 4, 2, 4, 2, 4, 2, 4, 2,\n       4, 2, 4, 2, 4, 2, 4, 2, 4, 2, 4, 2, 4, 2, 4, 2, 4, 2, 4, 2, 4, 2,\n       4, 2], dtype=int32)"
     },
     "execution_count": 29,
     "metadata": {},
     "output_type": "execute_result"
    }
   ],
   "source": [
    "y_km"
   ]
  },
  {
   "cell_type": "code",
   "execution_count": 30,
   "metadata": {},
   "outputs": [],
   "source": [
    "# 클러스터링이 되었으면 df에 추가해줘야 의미가 있음\n",
    "df['Group'] = y_km"
   ]
  },
  {
   "cell_type": "code",
   "execution_count": 31,
   "metadata": {},
   "outputs": [
    {
     "data": {
      "text/html": "<div>\n<style scoped>\n    .dataframe tbody tr th:only-of-type {\n        vertical-align: middle;\n    }\n\n    .dataframe tbody tr th {\n        vertical-align: top;\n    }\n\n    .dataframe thead th {\n        text-align: right;\n    }\n</style>\n<table border=\"1\" class=\"dataframe\">\n  <thead>\n    <tr style=\"text-align: right;\">\n      <th></th>\n      <th>CustomerID</th>\n      <th>Genre</th>\n      <th>Age</th>\n      <th>Annual Income (k$)</th>\n      <th>Spending Score (1-100)</th>\n      <th>Group</th>\n    </tr>\n  </thead>\n  <tbody>\n    <tr>\n      <th>0</th>\n      <td>1</td>\n      <td>Male</td>\n      <td>19</td>\n      <td>15</td>\n      <td>39</td>\n      <td>3</td>\n    </tr>\n    <tr>\n      <th>1</th>\n      <td>2</td>\n      <td>Male</td>\n      <td>21</td>\n      <td>15</td>\n      <td>81</td>\n      <td>1</td>\n    </tr>\n    <tr>\n      <th>2</th>\n      <td>3</td>\n      <td>Female</td>\n      <td>20</td>\n      <td>16</td>\n      <td>6</td>\n      <td>3</td>\n    </tr>\n    <tr>\n      <th>3</th>\n      <td>4</td>\n      <td>Female</td>\n      <td>23</td>\n      <td>16</td>\n      <td>77</td>\n      <td>1</td>\n    </tr>\n    <tr>\n      <th>4</th>\n      <td>5</td>\n      <td>Female</td>\n      <td>31</td>\n      <td>17</td>\n      <td>40</td>\n      <td>3</td>\n    </tr>\n  </tbody>\n</table>\n</div>",
      "text/plain": "   CustomerID   Genre  Age  Annual Income (k$)  Spending Score (1-100)  Group\n0           1    Male   19                  15                      39      3\n1           2    Male   21                  15                      81      1\n2           3  Female   20                  16                       6      3\n3           4  Female   23                  16                      77      1\n4           5  Female   31                  17                      40      3"
     },
     "execution_count": 31,
     "metadata": {},
     "output_type": "execute_result"
    }
   ],
   "source": [
    "df.head()"
   ]
  },
  {
   "cell_type": "code",
   "execution_count": 22,
   "metadata": {},
   "outputs": [
    {
     "data": {
      "text/html": "<div>\n<style scoped>\n    .dataframe tbody tr th:only-of-type {\n        vertical-align: middle;\n    }\n\n    .dataframe tbody tr th {\n        vertical-align: top;\n    }\n\n    .dataframe thead th {\n        text-align: right;\n    }\n</style>\n<table border=\"1\" class=\"dataframe\">\n  <thead>\n    <tr style=\"text-align: right;\">\n      <th></th>\n      <th>CustomerID</th>\n      <th>Genre</th>\n      <th>Age</th>\n      <th>Annual Income (k$)</th>\n      <th>Spending Score (1-100)</th>\n      <th>Group</th>\n    </tr>\n  </thead>\n  <tbody>\n    <tr>\n      <th>123</th>\n      <td>124</td>\n      <td>Male</td>\n      <td>39</td>\n      <td>69</td>\n      <td>91</td>\n      <td>2</td>\n    </tr>\n    <tr>\n      <th>125</th>\n      <td>126</td>\n      <td>Female</td>\n      <td>31</td>\n      <td>70</td>\n      <td>77</td>\n      <td>2</td>\n    </tr>\n    <tr>\n      <th>127</th>\n      <td>128</td>\n      <td>Male</td>\n      <td>40</td>\n      <td>71</td>\n      <td>95</td>\n      <td>2</td>\n    </tr>\n    <tr>\n      <th>129</th>\n      <td>130</td>\n      <td>Male</td>\n      <td>38</td>\n      <td>71</td>\n      <td>75</td>\n      <td>2</td>\n    </tr>\n    <tr>\n      <th>131</th>\n      <td>132</td>\n      <td>Male</td>\n      <td>39</td>\n      <td>71</td>\n      <td>75</td>\n      <td>2</td>\n    </tr>\n    <tr>\n      <th>133</th>\n      <td>134</td>\n      <td>Female</td>\n      <td>31</td>\n      <td>72</td>\n      <td>71</td>\n      <td>2</td>\n    </tr>\n    <tr>\n      <th>135</th>\n      <td>136</td>\n      <td>Female</td>\n      <td>29</td>\n      <td>73</td>\n      <td>88</td>\n      <td>2</td>\n    </tr>\n    <tr>\n      <th>137</th>\n      <td>138</td>\n      <td>Male</td>\n      <td>32</td>\n      <td>73</td>\n      <td>73</td>\n      <td>2</td>\n    </tr>\n    <tr>\n      <th>139</th>\n      <td>140</td>\n      <td>Female</td>\n      <td>35</td>\n      <td>74</td>\n      <td>72</td>\n      <td>2</td>\n    </tr>\n    <tr>\n      <th>141</th>\n      <td>142</td>\n      <td>Male</td>\n      <td>32</td>\n      <td>75</td>\n      <td>93</td>\n      <td>2</td>\n    </tr>\n    <tr>\n      <th>143</th>\n      <td>144</td>\n      <td>Female</td>\n      <td>32</td>\n      <td>76</td>\n      <td>87</td>\n      <td>2</td>\n    </tr>\n    <tr>\n      <th>145</th>\n      <td>146</td>\n      <td>Male</td>\n      <td>28</td>\n      <td>77</td>\n      <td>97</td>\n      <td>2</td>\n    </tr>\n    <tr>\n      <th>147</th>\n      <td>148</td>\n      <td>Female</td>\n      <td>32</td>\n      <td>77</td>\n      <td>74</td>\n      <td>2</td>\n    </tr>\n    <tr>\n      <th>149</th>\n      <td>150</td>\n      <td>Male</td>\n      <td>34</td>\n      <td>78</td>\n      <td>90</td>\n      <td>2</td>\n    </tr>\n    <tr>\n      <th>151</th>\n      <td>152</td>\n      <td>Male</td>\n      <td>39</td>\n      <td>78</td>\n      <td>88</td>\n      <td>2</td>\n    </tr>\n    <tr>\n      <th>153</th>\n      <td>154</td>\n      <td>Female</td>\n      <td>38</td>\n      <td>78</td>\n      <td>76</td>\n      <td>2</td>\n    </tr>\n    <tr>\n      <th>155</th>\n      <td>156</td>\n      <td>Female</td>\n      <td>27</td>\n      <td>78</td>\n      <td>89</td>\n      <td>2</td>\n    </tr>\n    <tr>\n      <th>157</th>\n      <td>158</td>\n      <td>Female</td>\n      <td>30</td>\n      <td>78</td>\n      <td>78</td>\n      <td>2</td>\n    </tr>\n    <tr>\n      <th>159</th>\n      <td>160</td>\n      <td>Female</td>\n      <td>30</td>\n      <td>78</td>\n      <td>73</td>\n      <td>2</td>\n    </tr>\n    <tr>\n      <th>161</th>\n      <td>162</td>\n      <td>Female</td>\n      <td>29</td>\n      <td>79</td>\n      <td>83</td>\n      <td>2</td>\n    </tr>\n    <tr>\n      <th>163</th>\n      <td>164</td>\n      <td>Female</td>\n      <td>31</td>\n      <td>81</td>\n      <td>93</td>\n      <td>2</td>\n    </tr>\n    <tr>\n      <th>165</th>\n      <td>166</td>\n      <td>Female</td>\n      <td>36</td>\n      <td>85</td>\n      <td>75</td>\n      <td>2</td>\n    </tr>\n    <tr>\n      <th>167</th>\n      <td>168</td>\n      <td>Female</td>\n      <td>33</td>\n      <td>86</td>\n      <td>95</td>\n      <td>2</td>\n    </tr>\n    <tr>\n      <th>169</th>\n      <td>170</td>\n      <td>Male</td>\n      <td>32</td>\n      <td>87</td>\n      <td>63</td>\n      <td>2</td>\n    </tr>\n    <tr>\n      <th>171</th>\n      <td>172</td>\n      <td>Male</td>\n      <td>28</td>\n      <td>87</td>\n      <td>75</td>\n      <td>2</td>\n    </tr>\n    <tr>\n      <th>173</th>\n      <td>174</td>\n      <td>Male</td>\n      <td>36</td>\n      <td>87</td>\n      <td>92</td>\n      <td>2</td>\n    </tr>\n    <tr>\n      <th>175</th>\n      <td>176</td>\n      <td>Female</td>\n      <td>30</td>\n      <td>88</td>\n      <td>86</td>\n      <td>2</td>\n    </tr>\n    <tr>\n      <th>177</th>\n      <td>178</td>\n      <td>Male</td>\n      <td>27</td>\n      <td>88</td>\n      <td>69</td>\n      <td>2</td>\n    </tr>\n    <tr>\n      <th>179</th>\n      <td>180</td>\n      <td>Male</td>\n      <td>35</td>\n      <td>93</td>\n      <td>90</td>\n      <td>2</td>\n    </tr>\n    <tr>\n      <th>181</th>\n      <td>182</td>\n      <td>Female</td>\n      <td>32</td>\n      <td>97</td>\n      <td>86</td>\n      <td>2</td>\n    </tr>\n    <tr>\n      <th>183</th>\n      <td>184</td>\n      <td>Female</td>\n      <td>29</td>\n      <td>98</td>\n      <td>88</td>\n      <td>2</td>\n    </tr>\n    <tr>\n      <th>185</th>\n      <td>186</td>\n      <td>Male</td>\n      <td>30</td>\n      <td>99</td>\n      <td>97</td>\n      <td>2</td>\n    </tr>\n    <tr>\n      <th>187</th>\n      <td>188</td>\n      <td>Male</td>\n      <td>28</td>\n      <td>101</td>\n      <td>68</td>\n      <td>2</td>\n    </tr>\n    <tr>\n      <th>189</th>\n      <td>190</td>\n      <td>Female</td>\n      <td>36</td>\n      <td>103</td>\n      <td>85</td>\n      <td>2</td>\n    </tr>\n    <tr>\n      <th>191</th>\n      <td>192</td>\n      <td>Female</td>\n      <td>32</td>\n      <td>103</td>\n      <td>69</td>\n      <td>2</td>\n    </tr>\n    <tr>\n      <th>193</th>\n      <td>194</td>\n      <td>Female</td>\n      <td>38</td>\n      <td>113</td>\n      <td>91</td>\n      <td>2</td>\n    </tr>\n    <tr>\n      <th>195</th>\n      <td>196</td>\n      <td>Female</td>\n      <td>35</td>\n      <td>120</td>\n      <td>79</td>\n      <td>2</td>\n    </tr>\n    <tr>\n      <th>197</th>\n      <td>198</td>\n      <td>Male</td>\n      <td>32</td>\n      <td>126</td>\n      <td>74</td>\n      <td>2</td>\n    </tr>\n    <tr>\n      <th>199</th>\n      <td>200</td>\n      <td>Male</td>\n      <td>30</td>\n      <td>137</td>\n      <td>83</td>\n      <td>2</td>\n    </tr>\n  </tbody>\n</table>\n</div>",
      "text/plain": "     CustomerID   Genre  Age  Annual Income (k$)  Spending Score (1-100)  \\\n123         124    Male   39                  69                      91   \n125         126  Female   31                  70                      77   \n127         128    Male   40                  71                      95   \n129         130    Male   38                  71                      75   \n131         132    Male   39                  71                      75   \n133         134  Female   31                  72                      71   \n135         136  Female   29                  73                      88   \n137         138    Male   32                  73                      73   \n139         140  Female   35                  74                      72   \n141         142    Male   32                  75                      93   \n143         144  Female   32                  76                      87   \n145         146    Male   28                  77                      97   \n147         148  Female   32                  77                      74   \n149         150    Male   34                  78                      90   \n151         152    Male   39                  78                      88   \n153         154  Female   38                  78                      76   \n155         156  Female   27                  78                      89   \n157         158  Female   30                  78                      78   \n159         160  Female   30                  78                      73   \n161         162  Female   29                  79                      83   \n163         164  Female   31                  81                      93   \n165         166  Female   36                  85                      75   \n167         168  Female   33                  86                      95   \n169         170    Male   32                  87                      63   \n171         172    Male   28                  87                      75   \n173         174    Male   36                  87                      92   \n175         176  Female   30                  88                      86   \n177         178    Male   27                  88                      69   \n179         180    Male   35                  93                      90   \n181         182  Female   32                  97                      86   \n183         184  Female   29                  98                      88   \n185         186    Male   30                  99                      97   \n187         188    Male   28                 101                      68   \n189         190  Female   36                 103                      85   \n191         192  Female   32                 103                      69   \n193         194  Female   38                 113                      91   \n195         196  Female   35                 120                      79   \n197         198    Male   32                 126                      74   \n199         200    Male   30                 137                      83   \n\n     Group  \n123      2  \n125      2  \n127      2  \n129      2  \n131      2  \n133      2  \n135      2  \n137      2  \n139      2  \n141      2  \n143      2  \n145      2  \n147      2  \n149      2  \n151      2  \n153      2  \n155      2  \n157      2  \n159      2  \n161      2  \n163      2  \n165      2  \n167      2  \n169      2  \n171      2  \n173      2  \n175      2  \n177      2  \n179      2  \n181      2  \n183      2  \n185      2  \n187      2  \n189      2  \n191      2  \n193      2  \n195      2  \n197      2  \n199      2  "
     },
     "execution_count": 22,
     "metadata": {},
     "output_type": "execute_result"
    }
   ],
   "source": [
    "# 예를 들어 3번 그룹을 가져오자 하면 \n",
    "df.loc[ df['Group']== 2, ]"
   ]
  },
  {
   "cell_type": "markdown",
   "metadata": {},
   "source": [
    "scatter 차트그리기"
   ]
  },
  {
   "cell_type": "code",
   "execution_count": 41,
   "metadata": {},
   "outputs": [
    {
     "data": {
      "text/html": "<div>\n<style scoped>\n    .dataframe tbody tr th:only-of-type {\n        vertical-align: middle;\n    }\n\n    .dataframe tbody tr th {\n        vertical-align: top;\n    }\n\n    .dataframe thead th {\n        text-align: right;\n    }\n</style>\n<table border=\"1\" class=\"dataframe\">\n  <thead>\n    <tr style=\"text-align: right;\">\n      <th></th>\n      <th>Annual Income (k$)</th>\n      <th>Spending Score (1-100)</th>\n    </tr>\n  </thead>\n  <tbody>\n    <tr>\n      <th>0</th>\n      <td>15</td>\n      <td>39</td>\n    </tr>\n    <tr>\n      <th>1</th>\n      <td>15</td>\n      <td>81</td>\n    </tr>\n    <tr>\n      <th>2</th>\n      <td>16</td>\n      <td>6</td>\n    </tr>\n    <tr>\n      <th>3</th>\n      <td>16</td>\n      <td>77</td>\n    </tr>\n    <tr>\n      <th>4</th>\n      <td>17</td>\n      <td>40</td>\n    </tr>\n  </tbody>\n</table>\n</div>",
      "text/plain": "   Annual Income (k$)  Spending Score (1-100)\n0                  15                      39\n1                  15                      81\n2                  16                       6\n3                  16                      77\n4                  17                      40"
     },
     "execution_count": 41,
     "metadata": {},
     "output_type": "execute_result"
    }
   ],
   "source": [
    "X.head()"
   ]
  },
  {
   "cell_type": "code",
   "execution_count": null,
   "metadata": {},
   "outputs": [],
   "source": [
    "# 위의 X 판다스 df에서 \n",
    "# np ndarray로 바꿔줌\n",
    "# 차트그리기를 하기 위해서 "
   ]
  },
  {
   "cell_type": "code",
   "execution_count": 42,
   "metadata": {},
   "outputs": [],
   "source": [
    "X = X.values"
   ]
  },
  {
   "cell_type": "code",
   "execution_count": 44,
   "metadata": {},
   "outputs": [
    {
     "data": {
      "image/png": "[encoded data removed]",
      "text/plain": "<Figure size 936x792 with 1 Axes>"
     },
     "metadata": {
      "needs_background": "light",
      "transient": {}
     },
     "output_type": "display_data"
    }
   ],
   "source": [
    "plt.figure(figsize=(13,11))\n",
    "# kmean 0 그룹만 표시\n",
    "plt.scatter(X[y_km == 0, 0], X[y_km == 0, 1], s = 100, c = 'red', label = 'Cluster 1')\n",
    "# kmean 1 그룹만 표시\n",
    "plt.scatter(X[y_km == 1, 0], X[y_km == 1, 1], s = 100, c = 'blue', label = 'Cluster 2')\n",
    "# kmean 2 그룹만 표시\n",
    "plt.scatter(X[y_km == 2, 0], X[y_km == 2, 1], s = 100, c = 'green', label = 'Cluster 3')\n",
    "# kmean 3 그룹만 표시\n",
    "plt.scatter(X[y_km == 3, 0], X[y_km == 3, 1], s = 100, c = 'cyan', label = 'Cluster 4')\n",
    "# kmean 4 그룹만 표시\n",
    "plt.scatter(X[y_km == 4, 0], X[y_km == 4, 1], s = 100, c = 'yellow', label = 'Cluster 5')\n",
    "\n",
    "plt.title('Clusters of Customers')\n",
    "plt.xlabel('Anual Income')\n",
    "plt.ylabel('Spending Score')\n",
    "# 위의 보조 색깔표시 (색깔이 어떤 cluster인지 표시)\n",
    "plt.legend()\n",
    "plt.show()"
   ]
  },
  {
   "cell_type": "code",
   "execution_count": null,
   "metadata": {},
   "outputs": [],
   "source": []
  }
 ],
 "metadata": {
  "kernelspec": {
   "display_name": "Python 3.8.5 64-bit ('base': conda)",
   "metadata": {
    "interpreter": {
     "hash": "b0b79975b685ef0f460f0aab3ac7a902bdabc3384cbf48ecd087441c63d17a83"
    }
   },
   "name": "python3"
  },
  "language_info": {
   "codemirror_mode": {
    "name": "ipython",
    "version": 3
   },
   "file_extension": ".py",
   "mimetype": "text/x-python",
   "name": "python",
   "nbconvert_exporter": "python",
   "pygments_lexer": "ipython3",
   "version": "3.8.5"
  },
  "orig_nbformat": 2
 },
 "nbformat": 4,
 "nbformat_minor": 2
}