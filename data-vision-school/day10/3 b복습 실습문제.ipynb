{
 "cells": [
  {
   "cell_type": "code",
   "execution_count": 1,
   "metadata": {},
   "outputs": [],
   "source": [
    "import numpy as np\n",
    "import pandas as pd\n",
    "import matplotlib.pyplot as plt"
   ]
  },
  {
   "cell_type": "code",
   "execution_count": 2,
   "metadata": {},
   "outputs": [],
   "source": [
    "df = pd.read_csv('technical_support_data.csv')"
   ]
  },
  {
   "cell_type": "code",
   "execution_count": 3,
   "metadata": {},
   "outputs": [
    {
     "data": {
      "text/html": "<div>\n<style scoped>\n    .dataframe tbody tr th:only-of-type {\n        vertical-align: middle;\n    }\n\n    .dataframe tbody tr th {\n        vertical-align: top;\n    }\n\n    .dataframe thead th {\n        text-align: right;\n    }\n</style>\n<table border=\"1\" class=\"dataframe\">\n  <thead>\n    <tr style=\"text-align: right;\">\n      <th></th>\n      <th>PROBLEM_TYPE</th>\n      <th>no_of_cases</th>\n      <th>Avg_pending_calls</th>\n      <th>Avg_resol_time</th>\n      <th>recurrence_freq</th>\n      <th>Replace_percent</th>\n      <th>In_warranty_percent</th>\n      <th>Post_warranty_percent</th>\n    </tr>\n  </thead>\n  <tbody>\n    <tr>\n      <th>0</th>\n      <td>Temperature control not working</td>\n      <td>170</td>\n      <td>1.3</td>\n      <td>32</td>\n      <td>0.04</td>\n      <td>0.0</td>\n      <td>75</td>\n      <td>25</td>\n    </tr>\n    <tr>\n      <th>1</th>\n      <td>power chord does not tightly fit</td>\n      <td>12</td>\n      <td>2.0</td>\n      <td>150</td>\n      <td>0.01</td>\n      <td>0.5</td>\n      <td>5</td>\n      <td>95</td>\n    </tr>\n    <tr>\n      <th>2</th>\n      <td>Fan swing not working</td>\n      <td>5</td>\n      <td>1.0</td>\n      <td>35</td>\n      <td>0.02</td>\n      <td>0.2</td>\n      <td>90</td>\n      <td>10</td>\n    </tr>\n    <tr>\n      <th>3</th>\n      <td>Main switch does not on</td>\n      <td>3</td>\n      <td>2.0</td>\n      <td>8</td>\n      <td>0.01</td>\n      <td>0.7</td>\n      <td>5</td>\n      <td>95</td>\n    </tr>\n    <tr>\n      <th>4</th>\n      <td>Forgot mobile app password</td>\n      <td>45</td>\n      <td>2.3</td>\n      <td>54</td>\n      <td>0.15</td>\n      <td>0.0</td>\n      <td>99</td>\n      <td>1</td>\n    </tr>\n  </tbody>\n</table>\n</div>",
      "text/plain": "                       PROBLEM_TYPE  no_of_cases  Avg_pending_calls  \\\n0   Temperature control not working          170                1.3   \n1  power chord does not tightly fit           12                2.0   \n2             Fan swing not working            5                1.0   \n3           Main switch does not on            3                2.0   \n4        Forgot mobile app password           45                2.3   \n\n   Avg_resol_time  recurrence_freq  Replace_percent  In_warranty_percent  \\\n0              32             0.04              0.0                   75   \n1             150             0.01              0.5                    5   \n2              35             0.02              0.2                   90   \n3               8             0.01              0.7                    5   \n4              54             0.15              0.0                   99   \n\n   Post_warranty_percent  \n0                     25  \n1                     95  \n2                     10  \n3                     95  \n4                      1  "
     },
     "execution_count": 3,
     "metadata": {},
     "output_type": "execute_result"
    }
   ],
   "source": [
    "df.head()"
   ]
  },
  {
   "cell_type": "code",
   "execution_count": 4,
   "metadata": {},
   "outputs": [],
   "source": [
    "# PROBLEM_TYPE만 빼고 가져오기\n",
    "X = df.drop('PROBLEM_TYPE', axis=1)"
   ]
  },
  {
   "cell_type": "code",
   "execution_count": 6,
   "metadata": {},
   "outputs": [
    {
     "data": {
      "text/html": "<div>\n<style scoped>\n    .dataframe tbody tr th:only-of-type {\n        vertical-align: middle;\n    }\n\n    .dataframe tbody tr th {\n        vertical-align: top;\n    }\n\n    .dataframe thead th {\n        text-align: right;\n    }\n</style>\n<table border=\"1\" class=\"dataframe\">\n  <thead>\n    <tr style=\"text-align: right;\">\n      <th></th>\n      <th>no_of_cases</th>\n      <th>Avg_pending_calls</th>\n      <th>Avg_resol_time</th>\n      <th>recurrence_freq</th>\n      <th>Replace_percent</th>\n      <th>In_warranty_percent</th>\n      <th>Post_warranty_percent</th>\n    </tr>\n  </thead>\n  <tbody>\n    <tr>\n      <th>0</th>\n      <td>170</td>\n      <td>1.3</td>\n      <td>32</td>\n      <td>0.04</td>\n      <td>0.0</td>\n      <td>75</td>\n      <td>25</td>\n    </tr>\n    <tr>\n      <th>1</th>\n      <td>12</td>\n      <td>2.0</td>\n      <td>150</td>\n      <td>0.01</td>\n      <td>0.5</td>\n      <td>5</td>\n      <td>95</td>\n    </tr>\n    <tr>\n      <th>2</th>\n      <td>5</td>\n      <td>1.0</td>\n      <td>35</td>\n      <td>0.02</td>\n      <td>0.2</td>\n      <td>90</td>\n      <td>10</td>\n    </tr>\n    <tr>\n      <th>3</th>\n      <td>3</td>\n      <td>2.0</td>\n      <td>8</td>\n      <td>0.01</td>\n      <td>0.7</td>\n      <td>5</td>\n      <td>95</td>\n    </tr>\n    <tr>\n      <th>4</th>\n      <td>45</td>\n      <td>2.3</td>\n      <td>54</td>\n      <td>0.15</td>\n      <td>0.0</td>\n      <td>99</td>\n      <td>1</td>\n    </tr>\n  </tbody>\n</table>\n</div>",
      "text/plain": "   no_of_cases  Avg_pending_calls  Avg_resol_time  recurrence_freq  \\\n0          170                1.3              32             0.04   \n1           12                2.0             150             0.01   \n2            5                1.0              35             0.02   \n3            3                2.0               8             0.01   \n4           45                2.3              54             0.15   \n\n   Replace_percent  In_warranty_percent  Post_warranty_percent  \n0              0.0                   75                     25  \n1              0.5                    5                     95  \n2              0.2                   90                     10  \n3              0.7                    5                     95  \n4              0.0                   99                      1  "
     },
     "execution_count": 6,
     "metadata": {},
     "output_type": "execute_result"
    }
   ],
   "source": [
    "X.head()"
   ]
  },
  {
   "cell_type": "markdown",
   "metadata": {},
   "source": [
    "Kmeans import하기"
   ]
  },
  {
   "cell_type": "code",
   "execution_count": 7,
   "metadata": {},
   "outputs": [],
   "source": [
    "from sklearn.cluster import KMeans"
   ]
  },
  {
   "cell_type": "markdown",
   "metadata": {},
   "source": [
    "wcss 테스트 최적화"
   ]
  },
  {
   "cell_type": "code",
   "execution_count": 8,
   "metadata": {},
   "outputs": [],
   "source": [
    "wcss = []\n",
    "for i in np.arange(1, 10+1):\n",
    "    km = KMeans(n_clusters=i, init='k-means++', random_state=1)\n",
    "    # 여기에서는 학습, 이 결과를 토대로 아래서 fit_predict()을 한다\n",
    "    km.fit(X)\n",
    "    wcss.append(km.inertia_)"
   ]
  },
  {
   "cell_type": "markdown",
   "metadata": {},
   "source": [
    "the Elbow Method 차트 그리기"
   ]
  },
  {
   "cell_type": "code",
   "execution_count": 10,
   "metadata": {},
   "outputs": [
    {
     "data": {
      "image/png": "[encoded data removed]",
      "text/plain": "<Figure size 432x288 with 1 Axes>"
     },
     "metadata": {
      "needs_background": "light",
      "transient": {}
     },
     "output_type": "display_data"
    }
   ],
   "source": [
    "plt.plot( np.arange(1, 10+1), wcss)\n",
    "plt.xlabel('clusters')\n",
    "plt.ylabel('wcss')\n",
    "plt.show()\n"
   ]
  },
  {
   "cell_type": "code",
   "execution_count": null,
   "metadata": {},
   "outputs": [],
   "source": []
  },
  {
   "cell_type": "markdown",
   "metadata": {},
   "source": [
    "Kmean() 위의 결과로 다시 생성"
   ]
  },
  {
   "cell_type": "code",
   "execution_count": 11,
   "metadata": {},
   "outputs": [],
   "source": [
    "# 위의 결과로 n_clusters= 파라미터를 넘김, 3이나 5정도가 좋아 보임\n",
    "km = KMeans(n_clusters=3, init='k-means++', random_state=1)"
   ]
  },
  {
   "cell_type": "code",
   "execution_count": 13,
   "metadata": {},
   "outputs": [],
   "source": [
    "y_kmeans = km.fit_predict(X)"
   ]
  },
  {
   "cell_type": "code",
   "execution_count": 14,
   "metadata": {},
   "outputs": [],
   "source": [
    "df['cluster'] = y_kmeans"
   ]
  },
  {
   "cell_type": "markdown",
   "metadata": {},
   "source": [
    "차트그리기 scatter"
   ]
  },
  {
   "cell_type": "code",
   "execution_count": 16,
   "metadata": {},
   "outputs": [],
   "source": [
    "X = X.values"
   ]
  },
  {
   "cell_type": "code",
   "execution_count": 17,
   "metadata": {},
   "outputs": [
    {
     "data": {
      "image/png": "[encoded data removed]",
      "text/plain": "<Figure size 936x792 with 1 Axes>"
     },
     "metadata": {
      "needs_background": "light",
      "transient": {}
     },
     "output_type": "display_data"
    }
   ],
   "source": [
    "plt.figure(figsize=(13,11))\n",
    "# kmean 0 그룹만 표시\n",
    "#  X[y_kmeans ==0, 3] 은 y_kmeans 에서 0이면 true반환, 3번째 열 \n",
    "# 일단 scatter에서는 x, y 두 축으로만 보여줄 수 있으니깐, 다른 컬럼 수를 넣어주면 그 2개를 비교해서 그릴 수 있음\n",
    "# 컬럼들이 많지만 scatter는 2개 축만으로 비교하므로 2개씩만 선택\n",
    "plt.scatter(X[y_kmeans == 0, 3], X[y_kmeans == 0, 4], s = 100, c = 'red', label = 'Cluster 1')\n",
    "# kmean 1 그룹만 표시\n",
    "plt.scatter(X[y_kmeans == 1, 3], X[y_kmeans == 1, 4], s = 100, c = 'blue', label = 'Cluster 2')\n",
    "# kmean 2 그룹만 표시\n",
    "plt.scatter(X[y_kmeans == 2, 3], X[y_kmeans == 2, 4], s = 100, c = 'green', label = 'Cluster 3')\n",
    "\n",
    "#plt.title('Clusters of Customers')\n",
    "#plt.xlabel('Anual Income')\n",
    "#plt.ylabel('Spending Score')\n",
    "# 위의 보조 색깔표시 (색깔이 어떤 cluster인지 표시)\n",
    "plt.legend()\n",
    "plt.show()"
   ]
  },
  {
   "cell_type": "code",
   "execution_count": null,
   "metadata": {},
   "outputs": [],
   "source": []
  }
 ],
 "metadata": {
  "kernelspec": {
   "display_name": "Python 3.8.5 64-bit ('base': conda)",
   "metadata": {
    "interpreter": {
     "hash": "b0b79975b685ef0f460f0aab3ac7a902bdabc3384cbf48ecd087441c63d17a83"
    }
   },
   "name": "python3"
  },
  "language_info": {
   "codemirror_mode": {
    "name": "ipython",
    "version": 3
   },
   "file_extension": ".py",
   "mimetype": "text/x-python",
   "name": "python",
   "nbconvert_exporter": "python",
   "pygments_lexer": "ipython3",
   "version": "3.8.5"
  },
  "orig_nbformat": 2
 },
 "nbformat": 4,
 "nbformat_minor": 2
}